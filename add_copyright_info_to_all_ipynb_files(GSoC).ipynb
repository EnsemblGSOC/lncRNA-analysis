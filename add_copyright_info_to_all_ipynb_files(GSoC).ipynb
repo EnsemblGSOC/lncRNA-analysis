{
 "cells": [
  {
   "cell_type": "code",
   "execution_count": 6,
   "metadata": {},
   "outputs": [],
   "source": [
    "####################################################################################################\n",
    "\n",
    "#    Copyright 2019 Srijan Verma and EMBL-European Bioinformatics Institute\n",
    "\n",
    "#    Licensed under the Apache License, Version 2.0 (the \"License\");\n",
    "#    you may not use this file except in compliance with the License.\n",
    "#    You may obtain a copy of the License at\n",
    "\n",
    "#        http://www.apache.org/licenses/LICENSE-2.0\n",
    "\n",
    "#    Unless required by applicable law or agreed to in writing, software\n",
    "#    distributed under the License is distributed on an \"AS IS\" BASIS,\n",
    "#    WITHOUT WARRANTIES OR CONDITIONS OF ANY KIND, either express or implied.\n",
    "#    See the License for the specific language governing permissions and\n",
    "#    limitations under the License.\n",
    "\n",
    "####################################################################################################"
   ]
  },
  {
   "cell_type": "code",
   "execution_count": 1,
   "metadata": {},
   "outputs": [],
   "source": [
    "import json\n",
    "import os\n",
    "from tqdm import tqdm"
   ]
  },
  {
   "cell_type": "code",
   "execution_count": 4,
   "metadata": {},
   "outputs": [],
   "source": [
    "c = 0\n",
    "for root, dirs, files in os.walk('/Users/pankajverma/Desktop/summerInternship2k17/GSoC/Ensembl/1.lncRNA/srijan-gsoc-2019'):\n",
    "\n",
    "    for file in tqdm(files):\n",
    "        \n",
    "        if file.endswith('.ipynb'):\n",
    "            c = c + 1\n",
    "     \n",
    "            open_path = os.path.join(root, file)\n",
    "#             print(file)\n",
    "            print(open_path)\n",
    "            with open(open_path) as data:\n",
    "                ff = json.load(data)\n",
    "                \n",
    "                ff['cells'].insert(0, {'cell_type': 'code',\n",
    " 'execution_count': None,\n",
    " 'metadata': {},\n",
    " 'outputs': [],\n",
    " 'source': ['####################################################################################################\\n',\n",
    "  '\\n',\n",
    "  '#    Copyright 2019 Srijan Verma and EMBL-European Bioinformatics Institute\\n',\n",
    "  '\\n',\n",
    "  '#    Licensed under the Apache License, Version 2.0 (the \"License\");\\n',\n",
    "  '#    you may not use this file except in compliance with the License.\\n',\n",
    "  '#    You may obtain a copy of the License at\\n',\n",
    "  '\\n',\n",
    "  '#        http://www.apache.org/licenses/LICENSE-2.0\\n',\n",
    "  '\\n',\n",
    "  '#    Unless required by applicable law or agreed to in writing, software\\n',\n",
    "  '#    distributed under the License is distributed on an \"AS IS\" BASIS,\\n',\n",
    "  '#    WITHOUT WARRANTIES OR CONDITIONS OF ANY KIND, either express or implied.\\n',\n",
    "  '#    See the License for the specific language governing permissions and\\n',\n",
    "  '#    limitations under the License.\\n',\n",
    "  '\\n',\n",
    "  '####################################################################################################']})\n",
    "                \n",
    "                save_path = os.path.join(root, file)\n",
    "                print(save_path)\n",
    "                with open(save_path, 'w') as fp:\n",
    "                    json.dump(ff, fp)\n",
    "                    print(c)\n",
    "                \n",
    "#             print(file)\n",
    "#             print(root)"
   ]
  },
  {
   "cell_type": "code",
   "execution_count": 3,
   "metadata": {},
   "outputs": [
    {
     "name": "stdout",
     "output_type": "stream",
     "text": [
      "38\n"
     ]
    }
   ],
   "source": [
    "print(c)"
   ]
  },
  {
   "cell_type": "code",
   "execution_count": 5,
   "metadata": {},
   "outputs": [],
   "source": [
    "open_path = '/Users/pankajverma/Desktop/summerInternship2k17/GSoC/Ensembl/1.lncRNA/srijan-gsoc-2019/feature_selection/Inflated_ens(linc)-ens(protein)_v2/python_scripts/1kb_inflation_ens(linc)-ens(protein_coding).ipynb'\n",
    "with open(open_path) as data:\n",
    "#     data = str(data)\n",
    "#     print(data)\n",
    "    ff = json.load(data)\n",
    "#     print(ff)\n",
    "\n"
   ]
  },
  {
   "cell_type": "code",
   "execution_count": null,
   "metadata": {},
   "outputs": [],
   "source": [
    "# {'cell_type': 'code',\n",
    "#  'execution_count': None,\n",
    "#  'metadata': {},\n",
    "#  'outputs': [],\n",
    "#  'source': ['##########################################################################################\\n',\n",
    "#   '\\n',\n",
    "#   '#    Copyright 2019 Srijan Verma\\n',\n",
    "#   '\\n',\n",
    "#   '#    Licensed under the Apache License, Version 2.0 (the \"License\");\\n',\n",
    "#   '#    you may not use this file except in compliance with the License.\\n',\n",
    "#   '#    You may obtain a copy of the License at\\n',\n",
    "#   '\\n',\n",
    "#   '#        http://www.apache.org/licenses/LICENSE-2.0\\n',\n",
    "#   '\\n',\n",
    "#   '#    Unless required by applicable law or agreed to in writing, software\\n',\n",
    "#   '#    distributed under the License is distributed on an \"AS IS\" BASIS,\\n',\n",
    "#   '#    WITHOUT WARRANTIES OR CONDITIONS OF ANY KIND, either express or implied.\\n',\n",
    "#   '#    See the License for the specific language governing permissions and\\n',\n",
    "#   '#    limitations under the License.\\n',\n",
    "#   '\\n',\n",
    "#   '##########################################################################################']}"
   ]
  }
 ],
 "metadata": {
  "kernelspec": {
   "display_name": "Python [conda env:gsoc_ensembl]",
   "language": "python",
   "name": "conda-env-gsoc_ensembl-py"
  },
  "language_info": {
   "codemirror_mode": {
    "name": "ipython",
    "version": 3
   },
   "file_extension": ".py",
   "mimetype": "text/x-python",
   "name": "python",
   "nbconvert_exporter": "python",
   "pygments_lexer": "ipython3",
   "version": "3.6.5"
  }
 },
 "nbformat": 4,
 "nbformat_minor": 2
}
