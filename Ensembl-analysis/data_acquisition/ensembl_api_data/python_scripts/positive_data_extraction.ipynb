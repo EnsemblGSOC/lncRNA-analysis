{
 "cells": [
  {
   "cell_type": "markdown",
   "metadata": {},
   "source": [
    "# Ensembl numeric data extraction (positive)\n",
    "\n",
    "## Below function to get Ensembl IDs from .csv and convert to a python list in JSON format"
   ]
  },
  {
   "cell_type": "code",
   "execution_count": 1,
   "metadata": {},
   "outputs": [],
   "source": [
    "def csv_to_id(path):\n",
    "    df = pd.read_csv(path)\n",
    "    ids = df.TEST_pos.tolist()\n",
    "    \n",
    "    for loc in ids:\n",
    "        loc = str(loc)   #here 'nan' is converted to a string to compare with if\n",
    "        if loc != 'nan': \n",
    "            cleaned_ids.append(loc)\n",
    "    cleaned = json.dumps(cleaned_ids)        \n",
    "    correct_format = \"{\" +'\"ids\": ' + cleaned + \"}\"\n",
    "    return correct_format"
   ]
  },
  {
   "cell_type": "code",
   "execution_count": 2,
   "metadata": {},
   "outputs": [],
   "source": [
    "import pandas as pd\n",
    "import numpy as np\n",
    "import json\n",
    "cleaned_ids = []\n",
    "path = '/Training set.example.csv'\n",
    "\n",
    "cleaned_IDs = csv_to_id(path)\n"
   ]
  },
  {
   "cell_type": "code",
   "execution_count": 99,
   "metadata": {},
   "outputs": [],
   "source": [
    "#print(cleaned_IDs)"
   ]
  },
  {
   "cell_type": "markdown",
   "metadata": {},
   "source": [
    "## Passing the list to Ensembl REST API to get JSON response "
   ]
  },
  {
   "cell_type": "code",
   "execution_count": 2,
   "metadata": {},
   "outputs": [],
   "source": [
    "# Single request, multiple IDs\n",
    "import requests, sys\n",
    "import json, urllib\n",
    "server = \"https://rest.ensembl.org\"\n",
    "ext = '/lookup/id/?format=full;expand=1;utr=1;phenotypes=1'\n",
    "#ext = '/lookup/id/?\n",
    "headers = {'Content-Type' : 'application/json', \"Accept\" : 'application/json'}\n",
    "#'{\"ids\" : [\"ENSG00000255689\", \"ENSG00000254443\"]}'\n",
    "#cleaned_IDs = {\"ids\": [\"ENSG00000255689\", \"ENSG00000254443\"]}\n",
    "r = requests.post(server+ext,headers=headers, data='{0}'.format(cleaned_IDs))\n",
    "\n",
    "print(str(r))\n",
    "print(type(r))\n",
    "\n",
    "decoded = r.json()\n",
    "#print(repr(decoded))"
   ]
  },
  {
   "cell_type": "markdown",
   "metadata": {},
   "source": [
    "## Saving JSON response on local machine and then loading the .json file"
   ]
  },
  {
   "cell_type": "code",
   "execution_count": 15,
   "metadata": {},
   "outputs": [],
   "source": [
    "import json\n",
    "with open('/positive_data.json', 'w') as outfile:\n",
    "    json.dump(decoded, outfile, indent=4, sort_keys=True)    "
   ]
  },
  {
   "cell_type": "code",
   "execution_count": 3,
   "metadata": {},
   "outputs": [],
   "source": [
    "with open('/positive_data.json') as access_json:\n",
    "    read_content = json.load(access_json)"
   ]
  },
  {
   "cell_type": "code",
   "execution_count": 5,
   "metadata": {},
   "outputs": [],
   "source": [
    "if read_content[cleaned_ids[145]] == None: #Null gene ID present\n",
    "    print(True)"
   ]
  },
  {
   "cell_type": "markdown",
   "metadata": {},
   "source": [
    "## 'read_content' variable contains the json response received"
   ]
  },
  {
   "cell_type": "code",
   "execution_count": 6,
   "metadata": {},
   "outputs": [],
   "source": [
    "gene_display_name = []\n",
    "gene_start = []\n",
    "gene_end = []\n",
    "gene_strand = []\n",
    "gene_seq_region_name = []\n",
    "null_gene_ids = []\n",
    "gene_ids = []\n",
    "gene_biotype = []"
   ]
  },
  {
   "cell_type": "markdown",
   "metadata": {},
   "source": [
    "## Below function [get_gene_data() ] to extract 'gene' data. Data Extracted are :\n",
    "1. gene display_name\n",
    "2. gene start\n",
    "3. gene end\n",
    "4. gene strand\n",
    "5. gene seq_region_name\n",
    "6. gene biotype"
   ]
  },
  {
   "cell_type": "code",
   "execution_count": 7,
   "metadata": {},
   "outputs": [],
   "source": [
    "def get_gene_data():\n",
    "    \n",
    "    count = 0\n",
    "    for i in range(len(cleaned_ids)):\n",
    "        if read_content[cleaned_ids[i]] == None:\n",
    "            null_gene_ids.append([cleaned_ids[i]])\n",
    "            #del cleaned_ids[i]\n",
    "        else:\n",
    "            \n",
    "            gene_ids.append(cleaned_ids[i])\n",
    "            gene_display_name.append(read_content[cleaned_ids[i]]['display_name'])\n",
    "            gene_start.append(read_content[cleaned_ids[i]]['start'])\n",
    "            gene_end.append(read_content[cleaned_ids[i]]['end'])\n",
    "            gene_strand.append(read_content[cleaned_ids[i]]['strand'])\n",
    "            gene_seq_region_name.append(read_content[cleaned_ids[i]]['seq_region_name'])\n",
    "            gene_biotype.append(read_content[cleaned_ids[i]]['biotype'])\n",
    "            if cleaned_ids[i] in read_content:\n",
    "                count = count + 1\n",
    "        \n",
    "    print(count) "
   ]
  },
  {
   "cell_type": "code",
   "execution_count": 8,
   "metadata": {},
   "outputs": [],
   "source": [
    "get_gene_data()"
   ]
  },
  {
   "cell_type": "markdown",
   "metadata": {},
   "source": [
    "## 'null_gene_ids' variable contains the IDs having null values"
   ]
  },
  {
   "cell_type": "code",
   "execution_count": 9,
   "metadata": {},
   "outputs": [],
   "source": [
    "print('No. of Null IDs are {0}'.format(len(null_gene_ids)))\n",
    "print('Null IDs are :')\n",
    "for i in range(len(null_gene_ids)):\n",
    "    \n",
    "    print(null_gene_ids[i])"
   ]
  },
  {
   "cell_type": "code",
   "execution_count": 10,
   "metadata": {},
   "outputs": [],
   "source": [
    "print('No. of contents of gene_start is {0}'.format(len(gene_start)))\n",
    "print('No. of contents of gene_end is {0}'.format(len(gene_end)))\n",
    "print('No. of contents of gene_strand is {0}'.format(len(gene_strand)))\n",
    "print('No. of contents of gene_seq_region_name is {0}'.format(len(gene_seq_region_name)))\n",
    "print('No. of contents of gene_display_name is {0}'.format(len(gene_display_name)))"
   ]
  },
  {
   "cell_type": "code",
   "execution_count": 11,
   "metadata": {},
   "outputs": [],
   "source": [
    "cleaned_ids = []\n",
    "cleaned_ids = gene_ids\n",
    "print(len(cleaned_ids))"
   ]
  },
  {
   "cell_type": "code",
   "execution_count": 12,
   "metadata": {},
   "outputs": [],
   "source": [
    "no_of_transcripts = []\n",
    "gene_ids_for_transcripts = []"
   ]
  },
  {
   "cell_type": "markdown",
   "metadata": {},
   "source": [
    "## Below function [ get_no_of_transcripts() ] to calculate no. of transcripts in a particular gene"
   ]
  },
  {
   "cell_type": "code",
   "execution_count": 13,
   "metadata": {},
   "outputs": [],
   "source": [
    "def get_no_of_transcripts():\n",
    "    for i in range(len(cleaned_ids)):\n",
    "        no_of_transcripts.append(len(read_content[cleaned_ids[i]]['Transcript']))\n",
    "        \n",
    "        for k in range(len(read_content[cleaned_ids[i]]['Transcript'])):\n",
    "            gene_ids_for_transcripts.append(cleaned_ids[i])\n",
    "            \n",
    "    for j in range(len(cleaned_ids)):\n",
    "        print('No. of transcripts in gene \"{0}\" are {1}'.format(cleaned_ids[j],no_of_transcripts[j]))"
   ]
  },
  {
   "cell_type": "code",
   "execution_count": 14,
   "metadata": {},
   "outputs": [],
   "source": [
    "get_no_of_transcripts()"
   ]
  },
  {
   "cell_type": "code",
   "execution_count": 111,
   "metadata": {},
   "outputs": [],
   "source": [
    "#read_content[cleaned_ids[0]]['Transcript'][0]"
   ]
  },
  {
   "cell_type": "code",
   "execution_count": 15,
   "metadata": {},
   "outputs": [],
   "source": [
    "transcript_id = []\n",
    "transcript_start = []\n",
    "transcript_end = []\n",
    "transcript_biotype = []"
   ]
  },
  {
   "cell_type": "code",
   "execution_count": 16,
   "metadata": {},
   "outputs": [],
   "source": [
    "#gene_ids_for_transcripts"
   ]
  },
  {
   "cell_type": "markdown",
   "metadata": {},
   "source": [
    "## Below function [get_transcript_data() ] to extract 'transcript' data. Data Extracted are :\n",
    "1. transcript id\n",
    "2. transcript start\n",
    "3. transcript end\n",
    "4. transcript biotype"
   ]
  },
  {
   "cell_type": "code",
   "execution_count": 17,
   "metadata": {},
   "outputs": [],
   "source": [
    "def get_transcript_data():\n",
    "    for i in range(len(cleaned_ids)):\n",
    "        \n",
    "        for j in range(len(read_content[cleaned_ids[i]]['Transcript'])):\n",
    "            transcript_id.append(read_content[cleaned_ids[i]]['Transcript'][j]['id'])\n",
    "            transcript_start.append(read_content[cleaned_ids[i]]['Transcript'][j]['start'])\n",
    "            transcript_end.append(read_content[cleaned_ids[i]]['Transcript'][j]['end'])\n",
    "            transcript_biotype.append(read_content[cleaned_ids[i]]['Transcript'][j]['biotype'])\n",
    "            \n",
    "    for k in range(len(gene_ids_for_transcripts)):\n",
    "        print('Transcript \"{0}\" of gene ID \"{1}\" has start and end as : \"{2}\" & \"{3}\"'.format(transcript_id[k],gene_ids_for_transcripts[k],transcript_start[k],transcript_end[k]))"
   ]
  },
  {
   "cell_type": "code",
   "execution_count": 18,
   "metadata": {},
   "outputs": [],
   "source": [
    "get_transcript_data()"
   ]
  },
  {
   "cell_type": "code",
   "execution_count": null,
   "metadata": {},
   "outputs": [],
   "source": [
    "print(len(transcript_id))\n",
    "print(len(transcript_start))\n",
    "print(len(transcript_end))\n",
    "print(len(gene_ids_for_transcripts))"
   ]
  },
  {
   "cell_type": "code",
   "execution_count": null,
   "metadata": {},
   "outputs": [],
   "source": [
    "len(read_content[cleaned_ids[0]]['Transcript'][0][\"Exon\"])"
   ]
  },
  {
   "cell_type": "code",
   "execution_count": 19,
   "metadata": {},
   "outputs": [],
   "source": [
    "no_of_exons = []\n",
    "transcript_ids_for_exons = []"
   ]
  },
  {
   "cell_type": "markdown",
   "metadata": {},
   "source": [
    "## Below function [ get_no_of_exons() ] to calculate no. of exons for a particular transcript"
   ]
  },
  {
   "cell_type": "code",
   "execution_count": 20,
   "metadata": {},
   "outputs": [],
   "source": [
    "def get_no_of_exons():\n",
    "    for i in range(len(cleaned_ids)):\n",
    "        for j in range(len(read_content[cleaned_ids[i]]['Transcript'])):\n",
    "            no_of_exons.append(len(read_content[cleaned_ids[i]]['Transcript'][j][\"Exon\"]))\n",
    "        \n",
    "            for k in range(len(read_content[cleaned_ids[i]]['Transcript'][j][\"Exon\"])):\n",
    "                transcript_ids_for_exons.append(transcript_id[j])\n",
    "            \n",
    "    for l in range(len(cleaned_ids)):\n",
    "        print('No. of exons in transcript \"{0}\" are {1}'.format(transcript_id[l],no_of_exons[l]))"
   ]
  },
  {
   "cell_type": "code",
   "execution_count": null,
   "metadata": {},
   "outputs": [],
   "source": [
    "len(read_content[cleaned_ids[0]]['Transcript'][0][\"Exon\"])"
   ]
  },
  {
   "cell_type": "code",
   "execution_count": 21,
   "metadata": {},
   "outputs": [],
   "source": [
    "get_no_of_exons()"
   ]
  },
  {
   "cell_type": "code",
   "execution_count": null,
   "metadata": {},
   "outputs": [],
   "source": [
    "sum(no_of_exons)"
   ]
  },
  {
   "cell_type": "code",
   "execution_count": null,
   "metadata": {},
   "outputs": [],
   "source": [
    "len(transcript_ids_for_exons)"
   ]
  },
  {
   "cell_type": "code",
   "execution_count": null,
   "metadata": {},
   "outputs": [],
   "source": [
    "read_content[cleaned_ids[0]]['Transcript'][0][\"Exon\"][0]"
   ]
  },
  {
   "cell_type": "code",
   "execution_count": 22,
   "metadata": {},
   "outputs": [],
   "source": [
    "exon_id = []\n",
    "exon_start = []\n",
    "exon_end = []\n",
    "gene_ids_for_exons = []"
   ]
  },
  {
   "cell_type": "markdown",
   "metadata": {},
   "source": [
    "## Below function [get_exon_data() ] to extract 'exon' data. Data Extracted are :\n",
    "1. exon id\n",
    "2. exon start\n",
    "3. exon end"
   ]
  },
  {
   "cell_type": "code",
   "execution_count": 23,
   "metadata": {},
   "outputs": [],
   "source": [
    "def get_exon_data():\n",
    "    for i in range(len(cleaned_ids)):\n",
    "        \n",
    "        for j in range(len(read_content[cleaned_ids[i]]['Transcript'])):\n",
    "            for k in range(len(read_content[cleaned_ids[i]]['Transcript'][j][\"Exon\"])):\n",
    "                \n",
    "                \n",
    "                exon_id.append(read_content[cleaned_ids[i]]['Transcript'][j][\"Exon\"][k]['id'])\n",
    "                exon_start.append(read_content[cleaned_ids[i]]['Transcript'][j][\"Exon\"][k]['start'])\n",
    "                exon_end.append(read_content[cleaned_ids[i]]['Transcript'][j][\"Exon\"][k]['end'])\n",
    "                gene_ids_for_exons.append(cleaned_ids[i])\n",
    "        \n",
    "            \n",
    "    for l in range(len(transcript_ids_for_exons)):\n",
    "        \n",
    "        print('Exon \"{0}\" of Transcript ID \"{1}\" having gene ID \"{2}\" has start and end as : \"{3}\" & \"{4}\"'.format(exon_id[l],transcript_ids_for_exons[l],gene_ids_for_exons[l],exon_start[l],exon_end[l]))\n",
    "    "
   ]
  },
  {
   "cell_type": "code",
   "execution_count": 24,
   "metadata": {},
   "outputs": [],
   "source": [
    "get_exon_data()"
   ]
  },
  {
   "cell_type": "code",
   "execution_count": null,
   "metadata": {},
   "outputs": [],
   "source": [
    "len(exon_id)"
   ]
  },
  {
   "cell_type": "code",
   "execution_count": null,
   "metadata": {},
   "outputs": [],
   "source": [
    "len(gene_ids_for_exons)"
   ]
  },
  {
   "cell_type": "code",
   "execution_count": 25,
   "metadata": {},
   "outputs": [],
   "source": [
    "transcript_len = []"
   ]
  },
  {
   "cell_type": "markdown",
   "metadata": {},
   "source": [
    "## Below function[ get_transcript_length() ] to calculate length of transcript"
   ]
  },
  {
   "cell_type": "code",
   "execution_count": 26,
   "metadata": {},
   "outputs": [],
   "source": [
    "def get_transcript_length():\n",
    " #   for i in range(transcript_id):\n",
    "  #      for j in range(exon)\n",
    "\n",
    "    for i in range(len(cleaned_ids)):\n",
    "        \n",
    "        for j in range(len(read_content[cleaned_ids[i]]['Transcript'])):\n",
    "            trans_len = 0\n",
    "            start = 0\n",
    "            end = 0\n",
    "            total_exon_len = 0\n",
    "            for k in range(len(read_content[cleaned_ids[i]]['Transcript'][j][\"Exon\"])):\n",
    "                start = read_content[cleaned_ids[i]]['Transcript'][j][\"Exon\"][k]['start']\n",
    "                end = read_content[cleaned_ids[i]]['Transcript'][j][\"Exon\"][k]['end']\n",
    "                total_exon_len = total_exon_len + (end - start + 1)\n",
    "\n",
    "            transcript_len.append(total_exon_len)\n",
    "    \n",
    "    for k in range(len(transcript_id)):\n",
    "        print('Transcript ID \"{0}\" has length of {1} bps'.format(transcript_id[k], transcript_len[k]))\n",
    "                \n",
    "        "
   ]
  },
  {
   "cell_type": "code",
   "execution_count": null,
   "metadata": {},
   "outputs": [],
   "source": [
    "len(transcript_id)"
   ]
  },
  {
   "cell_type": "code",
   "execution_count": 27,
   "metadata": {},
   "outputs": [],
   "source": [
    "get_transcript_length()"
   ]
  },
  {
   "cell_type": "code",
   "execution_count": null,
   "metadata": {},
   "outputs": [],
   "source": [
    "len(transcript_len)"
   ]
  },
  {
   "cell_type": "code",
   "execution_count": null,
   "metadata": {},
   "outputs": [],
   "source": [
    "transcript_len[-1]"
   ]
  },
  {
   "cell_type": "code",
   "execution_count": null,
   "metadata": {},
   "outputs": [],
   "source": [
    "transcript_id[-1]"
   ]
  },
  {
   "cell_type": "code",
   "execution_count": 28,
   "metadata": {},
   "outputs": [],
   "source": [
    "exon_len = []"
   ]
  },
  {
   "cell_type": "markdown",
   "metadata": {},
   "source": [
    "## Below function[ get_exon_length() ] to calculate length of exon"
   ]
  },
  {
   "cell_type": "code",
   "execution_count": 29,
   "metadata": {},
   "outputs": [],
   "source": [
    "def get_exon_length():\n",
    " #   for i in range(transcript_id):\n",
    "  #      for j in range(exon)\n",
    "#exon_id\n",
    "    for i in range(len(cleaned_ids)):\n",
    "        \n",
    "        for j in range(len(read_content[cleaned_ids[i]]['Transcript'])):\n",
    "           # exon_len = 0\n",
    "           # start = 0\n",
    "           # end = 0\n",
    "           # exon_len = 0\n",
    "            for k in range(len(read_content[cleaned_ids[i]]['Transcript'][j][\"Exon\"])):\n",
    "                start = 0\n",
    "                end = 0\n",
    "                exon_len_sum = 0\n",
    "                start = read_content[cleaned_ids[i]]['Transcript'][j][\"Exon\"][k]['start']\n",
    "                end = read_content[cleaned_ids[i]]['Transcript'][j][\"Exon\"][k]['end']\n",
    "                exon_len_sum = (end - start + 1)\n",
    "\n",
    "                exon_len.append(exon_len_sum)\n",
    "    \n",
    "    for k in range(len(exon_id)):\n",
    "        print('Exon ID \"{0}\" has length of {1} bps'.format(exon_id[k], exon_len[k]))\n",
    "                \n",
    "        "
   ]
  },
  {
   "cell_type": "code",
   "execution_count": 30,
   "metadata": {},
   "outputs": [],
   "source": [
    "get_exon_length()"
   ]
  },
  {
   "cell_type": "code",
   "execution_count": null,
   "metadata": {},
   "outputs": [],
   "source": [
    "len(exon_len)"
   ]
  },
  {
   "cell_type": "code",
   "execution_count": null,
   "metadata": {},
   "outputs": [],
   "source": [
    "len(exon_id)"
   ]
  },
  {
   "cell_type": "markdown",
   "metadata": {},
   "source": [
    "## Exporting gene data to gene_data.csv file"
   ]
  },
  {
   "cell_type": "code",
   "execution_count": 31,
   "metadata": {},
   "outputs": [],
   "source": [
    "import csv \n",
    "header = ['SNO', 'Gene ID', 'Display Name', 'Biotype', 'Start', 'End', 'Strand', 'Seq region Name', 'No. of Transcripts']\n",
    "\n",
    "path = '/positive_data/gene_data.csv'\n",
    "\n",
    "with open(path, 'wt', newline ='') as file:\n",
    "    writer = csv.writer(file, delimiter=',')\n",
    "    writer.writerow(i for i in header)\n"
   ]
  },
  {
   "cell_type": "code",
   "execution_count": 32,
   "metadata": {},
   "outputs": [],
   "source": [
    "s_no = []\n",
    "for i in range(len(cleaned_ids)):\n",
    "    s_no.append(i+1)"
   ]
  },
  {
   "cell_type": "code",
   "execution_count": 33,
   "metadata": {},
   "outputs": [],
   "source": [
    "import pandas as pd\n",
    "\n",
    "df = pd.read_csv(path)\n",
    "\n",
    "df[df.columns[0]] = s_no\n",
    "df[df.columns[1]] = cleaned_ids\n",
    "df[df.columns[2]] = gene_display_name\n",
    "df[df.columns[3]] = gene_biotype\n",
    "df[df.columns[4]] = gene_start\n",
    "df[df.columns[5]] = gene_end\n",
    "df[df.columns[6]] = gene_strand\n",
    "df[df.columns[7]] = gene_seq_region_name\n",
    "df[df.columns[8]] = no_of_transcripts\n",
    "\n",
    "\n",
    "df.to_csv(path)"
   ]
  },
  {
   "cell_type": "markdown",
   "metadata": {},
   "source": [
    "## Exporting transcript data to transcript_data.csv file"
   ]
  },
  {
   "cell_type": "code",
   "execution_count": 34,
   "metadata": {},
   "outputs": [],
   "source": [
    "import csv \n",
    "header = ['SNO', 'Gene ID', 'Transcript ID', 'Biotype', 'Transcript Start', 'Transcript End', 'Transcript Length','No. of Exons']\n",
    "\n",
    "path = '/positive_data/transcript_data.csv'\n",
    "\n",
    "with open(path, 'wt', newline ='') as file:\n",
    "    writer = csv.writer(file, delimiter=',')\n",
    "    writer.writerow(i for i in header)\n"
   ]
  },
  {
   "cell_type": "code",
   "execution_count": 35,
   "metadata": {},
   "outputs": [],
   "source": [
    "s_no = []\n",
    "for i in range(len(transcript_id)):\n",
    "    s_no.append(i+1)"
   ]
  },
  {
   "cell_type": "code",
   "execution_count": 36,
   "metadata": {},
   "outputs": [],
   "source": [
    "import pandas as pd\n",
    "\n",
    "df = pd.read_csv(path)\n",
    "\n",
    "df[df.columns[0]] = s_no\n",
    "df[df.columns[1]] = gene_ids_for_transcripts\n",
    "df[df.columns[2]] = transcript_id\n",
    "df[df.columns[3]] = transcript_biotype\n",
    "df[df.columns[4]] = transcript_start\n",
    "df[df.columns[5]] = transcript_end\n",
    "df[df.columns[6]] = transcript_len\n",
    "df[df.columns[7]] = no_of_exons\n",
    "\n",
    "\n",
    "\n",
    "df.to_csv(path)"
   ]
  },
  {
   "cell_type": "markdown",
   "metadata": {},
   "source": [
    "## Exporting exon data to exon_data.csv file"
   ]
  },
  {
   "cell_type": "code",
   "execution_count": 40,
   "metadata": {},
   "outputs": [],
   "source": [
    "import csv \n",
    "header = ['SNO', 'Gene ID', 'Transcript ID', 'Exon ID', 'Exon Start', 'Exon End', 'Exon Length']\n",
    "\n",
    "path = '/positive_data/exon_data.csv'\n",
    "\n",
    "with open(path, 'wt', newline ='') as file:\n",
    "    writer = csv.writer(file, delimiter=',')\n",
    "    writer.writerow(i for i in header)\n"
   ]
  },
  {
   "cell_type": "code",
   "execution_count": 41,
   "metadata": {},
   "outputs": [],
   "source": [
    "s_no = []\n",
    "for i in range(len(exon_id)):\n",
    "    s_no.append(i+1)"
   ]
  },
  {
   "cell_type": "code",
   "execution_count": 42,
   "metadata": {},
   "outputs": [],
   "source": [
    "import pandas as pd\n",
    "\n",
    "df = pd.read_csv(path)\n",
    "\n",
    "df[df.columns[0]] = s_no\n",
    "df[df.columns[1]] = gene_ids_for_exons\n",
    "df[df.columns[2]] = transcript_ids_for_exons\n",
    "df[df.columns[3]] = exon_id\n",
    "df[df.columns[4]] = exon_start\n",
    "df[df.columns[5]] = exon_end\n",
    "df[df.columns[6]] = exon_len\n",
    "\n",
    "\n",
    "\n",
    "df.to_csv(path)"
   ]
  }
 ],
 "metadata": {
  "kernelspec": {
   "display_name": "Python [conda env:anaconda3]",
   "language": "python",
   "name": "conda-env-anaconda3-py"
  },
  "language_info": {
   "codemirror_mode": {
    "name": "ipython",
    "version": 3
   },
   "file_extension": ".py",
   "mimetype": "text/x-python",
   "name": "python",
   "nbconvert_exporter": "python",
   "pygments_lexer": "ipython3",
   "version": "3.6.5"
  }
 },
 "nbformat": 4,
 "nbformat_minor": 2
}
