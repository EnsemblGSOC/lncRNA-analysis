{
 "cells": [
  {
   "cell_type": "markdown",
   "metadata": {},
   "source": [
    "## Loading all gene IDs from the csv file"
   ]
  },
  {
   "cell_type": "code",
   "execution_count": 1,
   "metadata": {},
   "outputs": [],
   "source": [
    "import csv \n",
    "import pandas as pd\n",
    "import numpy as np\n",
    "import json"
   ]
  },
  {
   "cell_type": "code",
   "execution_count": 2,
   "metadata": {},
   "outputs": [],
   "source": [
    "path = '/Users/pankajverma/Desktop/summerInternship2k17/GSoC/Ensembl/1.lncRNA/dataset/Ensembl_numeric/all_gene_data/all_gene_ids.csv'\n",
    "\n",
    "df = pd.read_csv(path)\n",
    "gene_ids = df['All gene ID'].tolist()\n",
    "cleaned_ids = []\n",
    "cleaned_ids = gene_ids"
   ]
  },
  {
   "cell_type": "markdown",
   "metadata": {},
   "source": [
    "## calculating time taken to open 1.05GB json file"
   ]
  },
  {
   "cell_type": "markdown",
   "metadata": {},
   "source": [
    "## 'read_content' variable (given below) contains the json response received"
   ]
  },
  {
   "cell_type": "code",
   "execution_count": 3,
   "metadata": {},
   "outputs": [
    {
     "name": "stdout",
     "output_type": "stream",
     "text": [
      "CPU times: user 22.1 s, sys: 9.11 s, total: 31.3 s\n",
      "Wall time: 41 s\n"
     ]
    }
   ],
   "source": [
    "%%time\n",
    "with open(\"/Users/pankajverma/Desktop/summerInternship2k17/GSoC/Ensembl/1.lncRNA/dataset/Ensembl_numeric/merged_all_gene_data(dict).json\") as access_json:\n",
    "    read_content = json.load(access_json)"
   ]
  },
  {
   "cell_type": "code",
   "execution_count": 9,
   "metadata": {},
   "outputs": [],
   "source": [
    "from tqdm import tqdm\n",
    "gene_ids = []\n",
    "null_gene_ids = []"
   ]
  },
  {
   "cell_type": "code",
   "execution_count": 10,
   "metadata": {},
   "outputs": [],
   "source": [
    "def get_gene_data():\n",
    "    \n",
    "    count = 0\n",
    "    for i in tqdm(range(len(cleaned_ids))):\n",
    "        if read_content[cleaned_ids[i]] == None:\n",
    "            null_gene_ids.append([cleaned_ids[i]])\n",
    "            #del cleaned_ids[i]\n",
    "        else:\n",
    "            \n",
    "            gene_ids.append(cleaned_ids[i])\n",
    "#             gene_display_name.append(read_content[cleaned_ids[i]]['display_name'])\n",
    "#             gene_start.append(read_content[cleaned_ids[i]]['start'])\n",
    "#             gene_end.append(read_content[cleaned_ids[i]]['end'])\n",
    "#             gene_strand.append(read_content[cleaned_ids[i]]['strand'])\n",
    "#             gene_seq_region_name.append(read_content[cleaned_ids[i]]['seq_region_name'])\n",
    "#             gene_biotype.append(read_content[cleaned_ids[i]]['biotype'])\n",
    "            if cleaned_ids[i] in read_content:\n",
    "                count = count + 1\n",
    "        \n",
    "    #print(count) "
   ]
  },
  {
   "cell_type": "code",
   "execution_count": 11,
   "metadata": {},
   "outputs": [
    {
     "name": "stderr",
     "output_type": "stream",
     "text": [
      "100%|██████████| 58884/58884 [00:00<00:00, 767277.43it/s]"
     ]
    },
    {
     "name": "stdout",
     "output_type": "stream",
     "text": [
      "CPU times: user 76.9 ms, sys: 3.01 ms, total: 79.9 ms\n",
      "Wall time: 87.5 ms\n"
     ]
    },
    {
     "name": "stderr",
     "output_type": "stream",
     "text": [
      "\n"
     ]
    }
   ],
   "source": [
    "%%time\n",
    "get_gene_data()"
   ]
  },
  {
   "cell_type": "markdown",
   "metadata": {},
   "source": [
    "## 'null_gene_ids' variable contains the IDs having null values"
   ]
  },
  {
   "cell_type": "code",
   "execution_count": 12,
   "metadata": {},
   "outputs": [
    {
     "name": "stdout",
     "output_type": "stream",
     "text": [
      "No. of Null IDs are 0\n",
      "Null IDs are :\n"
     ]
    }
   ],
   "source": [
    "print('No. of Null IDs are {0}'.format(len(null_gene_ids)))\n",
    "print('Null IDs are :')\n",
    "for i in range(len(null_gene_ids)):\n",
    "    \n",
    "    print(null_gene_ids[i])"
   ]
  },
  {
   "cell_type": "code",
   "execution_count": 14,
   "metadata": {},
   "outputs": [
    {
     "name": "stdout",
     "output_type": "stream",
     "text": [
      "58884\n"
     ]
    }
   ],
   "source": [
    "cleaned_ids = []\n",
    "cleaned_ids = gene_ids\n",
    "print(len(cleaned_ids))"
   ]
  },
  {
   "cell_type": "code",
   "execution_count": 16,
   "metadata": {},
   "outputs": [],
   "source": [
    "transcript_strand = []\n",
    "transcript_seq_region_name = []"
   ]
  },
  {
   "cell_type": "code",
   "execution_count": 14,
   "metadata": {},
   "outputs": [],
   "source": [
    "#gene_ids_for_transcripts"
   ]
  },
  {
   "cell_type": "markdown",
   "metadata": {},
   "source": [
    "## Below function [get_transcript_data() ] to extract 'transcript' data. Data Extracted are :\n",
    "1. transcript id\n",
    "2. transcript start\n",
    "3. transcript end\n",
    "4. transcript biotype"
   ]
  },
  {
   "cell_type": "code",
   "execution_count": 17,
   "metadata": {},
   "outputs": [],
   "source": [
    "def get_transcript_data():\n",
    "    for i in range(len(cleaned_ids)):\n",
    "        \n",
    "        for j in range(len(read_content[cleaned_ids[i]]['Transcript'])):\n",
    "            transcript_strand.append(read_content[cleaned_ids[i]]['Transcript'][j]['strand'])\n",
    "            transcript_seq_region_name.append(read_content[cleaned_ids[i]]['Transcript'][j]['seq_region_name'])\n",
    "            \n",
    "#     for k in range(len(gene_ids_for_transcripts)):\n",
    "#         print('Transcript \"{0}\" of gene ID \"{1}\" has start and end as : \"{2}\" & \"{3}\"'.format(transcript_id[k],gene_ids_for_transcripts[k],transcript_start[k],transcript_end[k]))"
   ]
  },
  {
   "cell_type": "code",
   "execution_count": 18,
   "metadata": {},
   "outputs": [],
   "source": [
    "get_transcript_data()"
   ]
  },
  {
   "cell_type": "code",
   "execution_count": 19,
   "metadata": {},
   "outputs": [
    {
     "name": "stdout",
     "output_type": "stream",
     "text": [
      "208527\n",
      "208527\n"
     ]
    }
   ],
   "source": [
    "print(len(transcript_strand))\n",
    "print(len(transcript_seq_region_name))"
   ]
  },
  {
   "cell_type": "code",
   "execution_count": 22,
   "metadata": {},
   "outputs": [],
   "source": [
    "exon_strand = []\n",
    "exon_seq_region_name = []"
   ]
  },
  {
   "cell_type": "markdown",
   "metadata": {},
   "source": [
    "## Below function [get_exon_data() ] to extract 'exon' data. Data Extracted are :\n",
    "1. exon id\n",
    "2. exon start\n",
    "3. exon end"
   ]
  },
  {
   "cell_type": "code",
   "execution_count": 23,
   "metadata": {},
   "outputs": [],
   "source": [
    "def get_exon_data():\n",
    "    for i in tqdm(range(len(cleaned_ids))):\n",
    "        \n",
    "        for j in range(len(read_content[cleaned_ids[i]]['Transcript'])):\n",
    "            for k in range(len(read_content[cleaned_ids[i]]['Transcript'][j][\"Exon\"])):\n",
    "                \n",
    "                exon_strand.append(read_content[cleaned_ids[i]]['Transcript'][j][\"Exon\"][k]['strand'])\n",
    "                exon_seq_region_name.append(read_content[cleaned_ids[i]]['Transcript'][j][\"Exon\"][k]['seq_region_name'])\n",
    "                \n",
    "            \n",
    "#     for l in range(len(transcript_ids_for_exons)):\n",
    "        \n",
    "#         print('Exon \"{0}\" of Transcript ID \"{1}\" having gene ID \"{2}\" has start and end as : \"{3}\" & \"{4}\"'.format(exon_id[l],transcript_ids_for_exons[l],gene_ids_for_exons[l],exon_start[l],exon_end[l]))\n",
    "    "
   ]
  },
  {
   "cell_type": "code",
   "execution_count": 24,
   "metadata": {},
   "outputs": [
    {
     "name": "stderr",
     "output_type": "stream",
     "text": [
      "100%|██████████| 58884/58884 [00:07<00:00, 7646.01it/s] "
     ]
    },
    {
     "name": "stdout",
     "output_type": "stream",
     "text": [
      "CPU times: user 2.84 s, sys: 2.51 s, total: 5.35 s\n",
      "Wall time: 7.71 s\n"
     ]
    },
    {
     "name": "stderr",
     "output_type": "stream",
     "text": [
      "\n"
     ]
    }
   ],
   "source": [
    "%%time\n",
    "get_exon_data()"
   ]
  },
  {
   "cell_type": "code",
   "execution_count": 26,
   "metadata": {},
   "outputs": [
    {
     "name": "stdout",
     "output_type": "stream",
     "text": [
      "1279073\n",
      "1279073\n"
     ]
    }
   ],
   "source": [
    "print(len(exon_seq_region_name))\n",
    "print(len(exon_strand))"
   ]
  },
  {
   "cell_type": "markdown",
   "metadata": {},
   "source": [
    "# Transcript data correction"
   ]
  },
  {
   "cell_type": "code",
   "execution_count": 27,
   "metadata": {},
   "outputs": [],
   "source": [
    "import pandas as pd\n",
    "df = pd.read_csv('/Users/pankajverma/Desktop/summerInternship2k17/GSoC/Ensembl/1.lncRNA/dataset/Ensembl_numeric/all_gene_data/all_transcript_data.csv', index_col=0)\n"
   ]
  },
  {
   "cell_type": "code",
   "execution_count": 28,
   "metadata": {},
   "outputs": [
    {
     "data": {
      "text/html": [
       "<div>\n",
       "<style scoped>\n",
       "    .dataframe tbody tr th:only-of-type {\n",
       "        vertical-align: middle;\n",
       "    }\n",
       "\n",
       "    .dataframe tbody tr th {\n",
       "        vertical-align: top;\n",
       "    }\n",
       "\n",
       "    .dataframe thead th {\n",
       "        text-align: right;\n",
       "    }\n",
       "</style>\n",
       "<table border=\"1\" class=\"dataframe\">\n",
       "  <thead>\n",
       "    <tr style=\"text-align: right;\">\n",
       "      <th></th>\n",
       "      <th>SNO</th>\n",
       "      <th>Gene ID</th>\n",
       "      <th>Transcript ID</th>\n",
       "      <th>Biotype</th>\n",
       "      <th>Transcript Start</th>\n",
       "      <th>Transcript End</th>\n",
       "      <th>Transcript Length</th>\n",
       "      <th>No. of Exons</th>\n",
       "    </tr>\n",
       "  </thead>\n",
       "  <tbody>\n",
       "    <tr>\n",
       "      <th>0</th>\n",
       "      <td>1</td>\n",
       "      <td>ENSG00000000003</td>\n",
       "      <td>ENST00000373020</td>\n",
       "      <td>protein_coding</td>\n",
       "      <td>100628670</td>\n",
       "      <td>100636806</td>\n",
       "      <td>2206</td>\n",
       "      <td>8</td>\n",
       "    </tr>\n",
       "    <tr>\n",
       "      <th>1</th>\n",
       "      <td>2</td>\n",
       "      <td>ENSG00000000003</td>\n",
       "      <td>ENST00000496771</td>\n",
       "      <td>processed_transcript</td>\n",
       "      <td>100632541</td>\n",
       "      <td>100636689</td>\n",
       "      <td>1025</td>\n",
       "      <td>6</td>\n",
       "    </tr>\n",
       "    <tr>\n",
       "      <th>2</th>\n",
       "      <td>3</td>\n",
       "      <td>ENSG00000000003</td>\n",
       "      <td>ENST00000494424</td>\n",
       "      <td>processed_transcript</td>\n",
       "      <td>100633442</td>\n",
       "      <td>100639991</td>\n",
       "      <td>820</td>\n",
       "      <td>6</td>\n",
       "    </tr>\n",
       "  </tbody>\n",
       "</table>\n",
       "</div>"
      ],
      "text/plain": [
       "   SNO          Gene ID    Transcript ID               Biotype  \\\n",
       "0    1  ENSG00000000003  ENST00000373020        protein_coding   \n",
       "1    2  ENSG00000000003  ENST00000496771  processed_transcript   \n",
       "2    3  ENSG00000000003  ENST00000494424  processed_transcript   \n",
       "\n",
       "   Transcript Start  Transcript End  Transcript Length  No. of Exons  \n",
       "0         100628670       100636806               2206             8  \n",
       "1         100632541       100636689               1025             6  \n",
       "2         100633442       100639991                820             6  "
      ]
     },
     "execution_count": 28,
     "metadata": {},
     "output_type": "execute_result"
    }
   ],
   "source": [
    "df.head(3)"
   ]
  },
  {
   "cell_type": "code",
   "execution_count": 30,
   "metadata": {},
   "outputs": [],
   "source": [
    "df['Strand'] = transcript_strand\n",
    "df['Seq region Name'] = transcript_seq_region_name"
   ]
  },
  {
   "cell_type": "code",
   "execution_count": 31,
   "metadata": {},
   "outputs": [
    {
     "data": {
      "text/html": [
       "<div>\n",
       "<style scoped>\n",
       "    .dataframe tbody tr th:only-of-type {\n",
       "        vertical-align: middle;\n",
       "    }\n",
       "\n",
       "    .dataframe tbody tr th {\n",
       "        vertical-align: top;\n",
       "    }\n",
       "\n",
       "    .dataframe thead th {\n",
       "        text-align: right;\n",
       "    }\n",
       "</style>\n",
       "<table border=\"1\" class=\"dataframe\">\n",
       "  <thead>\n",
       "    <tr style=\"text-align: right;\">\n",
       "      <th></th>\n",
       "      <th>SNO</th>\n",
       "      <th>Gene ID</th>\n",
       "      <th>Transcript ID</th>\n",
       "      <th>Biotype</th>\n",
       "      <th>Transcript Start</th>\n",
       "      <th>Transcript End</th>\n",
       "      <th>Transcript Length</th>\n",
       "      <th>No. of Exons</th>\n",
       "      <th>Strand</th>\n",
       "      <th>Seq region Name</th>\n",
       "    </tr>\n",
       "  </thead>\n",
       "  <tbody>\n",
       "    <tr>\n",
       "      <th>0</th>\n",
       "      <td>1</td>\n",
       "      <td>ENSG00000000003</td>\n",
       "      <td>ENST00000373020</td>\n",
       "      <td>protein_coding</td>\n",
       "      <td>100628670</td>\n",
       "      <td>100636806</td>\n",
       "      <td>2206</td>\n",
       "      <td>8</td>\n",
       "      <td>-1</td>\n",
       "      <td>X</td>\n",
       "    </tr>\n",
       "    <tr>\n",
       "      <th>1</th>\n",
       "      <td>2</td>\n",
       "      <td>ENSG00000000003</td>\n",
       "      <td>ENST00000496771</td>\n",
       "      <td>processed_transcript</td>\n",
       "      <td>100632541</td>\n",
       "      <td>100636689</td>\n",
       "      <td>1025</td>\n",
       "      <td>6</td>\n",
       "      <td>-1</td>\n",
       "      <td>X</td>\n",
       "    </tr>\n",
       "    <tr>\n",
       "      <th>2</th>\n",
       "      <td>3</td>\n",
       "      <td>ENSG00000000003</td>\n",
       "      <td>ENST00000494424</td>\n",
       "      <td>processed_transcript</td>\n",
       "      <td>100633442</td>\n",
       "      <td>100639991</td>\n",
       "      <td>820</td>\n",
       "      <td>6</td>\n",
       "      <td>-1</td>\n",
       "      <td>X</td>\n",
       "    </tr>\n",
       "    <tr>\n",
       "      <th>3</th>\n",
       "      <td>4</td>\n",
       "      <td>ENSG00000000003</td>\n",
       "      <td>ENST00000612152</td>\n",
       "      <td>protein_coding</td>\n",
       "      <td>100627109</td>\n",
       "      <td>100637104</td>\n",
       "      <td>3796</td>\n",
       "      <td>7</td>\n",
       "      <td>-1</td>\n",
       "      <td>X</td>\n",
       "    </tr>\n",
       "  </tbody>\n",
       "</table>\n",
       "</div>"
      ],
      "text/plain": [
       "   SNO          Gene ID    Transcript ID               Biotype  \\\n",
       "0    1  ENSG00000000003  ENST00000373020        protein_coding   \n",
       "1    2  ENSG00000000003  ENST00000496771  processed_transcript   \n",
       "2    3  ENSG00000000003  ENST00000494424  processed_transcript   \n",
       "3    4  ENSG00000000003  ENST00000612152        protein_coding   \n",
       "\n",
       "   Transcript Start  Transcript End  Transcript Length  No. of Exons  Strand  \\\n",
       "0         100628670       100636806               2206             8      -1   \n",
       "1         100632541       100636689               1025             6      -1   \n",
       "2         100633442       100639991                820             6      -1   \n",
       "3         100627109       100637104               3796             7      -1   \n",
       "\n",
       "  Seq region Name  \n",
       "0               X  \n",
       "1               X  \n",
       "2               X  \n",
       "3               X  "
      ]
     },
     "execution_count": 31,
     "metadata": {},
     "output_type": "execute_result"
    }
   ],
   "source": [
    "df.head(4)"
   ]
  },
  {
   "cell_type": "code",
   "execution_count": 32,
   "metadata": {},
   "outputs": [],
   "source": [
    "df = df[['SNO', 'Gene ID', 'Transcript ID', 'Biotype', 'Strand', 'Seq region Name', 'Transcript Start', 'Transcript End', 'Transcript Length','No. of Exons']]     "
   ]
  },
  {
   "cell_type": "code",
   "execution_count": 33,
   "metadata": {},
   "outputs": [
    {
     "data": {
      "text/html": [
       "<div>\n",
       "<style scoped>\n",
       "    .dataframe tbody tr th:only-of-type {\n",
       "        vertical-align: middle;\n",
       "    }\n",
       "\n",
       "    .dataframe tbody tr th {\n",
       "        vertical-align: top;\n",
       "    }\n",
       "\n",
       "    .dataframe thead th {\n",
       "        text-align: right;\n",
       "    }\n",
       "</style>\n",
       "<table border=\"1\" class=\"dataframe\">\n",
       "  <thead>\n",
       "    <tr style=\"text-align: right;\">\n",
       "      <th></th>\n",
       "      <th>SNO</th>\n",
       "      <th>Gene ID</th>\n",
       "      <th>Transcript ID</th>\n",
       "      <th>Biotype</th>\n",
       "      <th>Strand</th>\n",
       "      <th>Seq region Name</th>\n",
       "      <th>Transcript Start</th>\n",
       "      <th>Transcript End</th>\n",
       "      <th>Transcript Length</th>\n",
       "      <th>No. of Exons</th>\n",
       "    </tr>\n",
       "  </thead>\n",
       "  <tbody>\n",
       "    <tr>\n",
       "      <th>0</th>\n",
       "      <td>1</td>\n",
       "      <td>ENSG00000000003</td>\n",
       "      <td>ENST00000373020</td>\n",
       "      <td>protein_coding</td>\n",
       "      <td>-1</td>\n",
       "      <td>X</td>\n",
       "      <td>100628670</td>\n",
       "      <td>100636806</td>\n",
       "      <td>2206</td>\n",
       "      <td>8</td>\n",
       "    </tr>\n",
       "    <tr>\n",
       "      <th>1</th>\n",
       "      <td>2</td>\n",
       "      <td>ENSG00000000003</td>\n",
       "      <td>ENST00000496771</td>\n",
       "      <td>processed_transcript</td>\n",
       "      <td>-1</td>\n",
       "      <td>X</td>\n",
       "      <td>100632541</td>\n",
       "      <td>100636689</td>\n",
       "      <td>1025</td>\n",
       "      <td>6</td>\n",
       "    </tr>\n",
       "    <tr>\n",
       "      <th>2</th>\n",
       "      <td>3</td>\n",
       "      <td>ENSG00000000003</td>\n",
       "      <td>ENST00000494424</td>\n",
       "      <td>processed_transcript</td>\n",
       "      <td>-1</td>\n",
       "      <td>X</td>\n",
       "      <td>100633442</td>\n",
       "      <td>100639991</td>\n",
       "      <td>820</td>\n",
       "      <td>6</td>\n",
       "    </tr>\n",
       "  </tbody>\n",
       "</table>\n",
       "</div>"
      ],
      "text/plain": [
       "   SNO          Gene ID    Transcript ID               Biotype  Strand  \\\n",
       "0    1  ENSG00000000003  ENST00000373020        protein_coding      -1   \n",
       "1    2  ENSG00000000003  ENST00000496771  processed_transcript      -1   \n",
       "2    3  ENSG00000000003  ENST00000494424  processed_transcript      -1   \n",
       "\n",
       "  Seq region Name  Transcript Start  Transcript End  Transcript Length  \\\n",
       "0               X         100628670       100636806               2206   \n",
       "1               X         100632541       100636689               1025   \n",
       "2               X         100633442       100639991                820   \n",
       "\n",
       "   No. of Exons  \n",
       "0             8  \n",
       "1             6  \n",
       "2             6  "
      ]
     },
     "execution_count": 33,
     "metadata": {},
     "output_type": "execute_result"
    }
   ],
   "source": [
    "df.head(3)"
   ]
  },
  {
   "cell_type": "code",
   "execution_count": 34,
   "metadata": {},
   "outputs": [
    {
     "data": {
      "text/plain": [
       "208527"
      ]
     },
     "execution_count": 34,
     "metadata": {},
     "output_type": "execute_result"
    }
   ],
   "source": [
    "len(df['SNO'])"
   ]
  },
  {
   "cell_type": "code",
   "execution_count": 35,
   "metadata": {},
   "outputs": [],
   "source": [
    "df.to_csv('/Users/pankajverma/Desktop/summerInternship2k17/GSoC/Ensembl/1.lncRNA/dataset/Ensembl_numeric/all_gene_data/all_transcript_data.csv')"
   ]
  },
  {
   "cell_type": "markdown",
   "metadata": {},
   "source": [
    "# Exon data correction below"
   ]
  },
  {
   "cell_type": "code",
   "execution_count": 36,
   "metadata": {},
   "outputs": [
    {
     "name": "stderr",
     "output_type": "stream",
     "text": [
      "/Users/pankajverma/anaconda3/envs/gsoc_ensembl/lib/python3.6/site-packages/numpy/lib/arraysetops.py:569: FutureWarning: elementwise comparison failed; returning scalar instead, but in the future will perform elementwise comparison\n",
      "  mask |= (ar1 == a)\n"
     ]
    }
   ],
   "source": [
    "import pandas as pd\n",
    "df = pd.read_csv('/Users/pankajverma/Desktop/summerInternship2k17/GSoC/Ensembl/1.lncRNA/dataset/Ensembl_numeric/all_gene_data/all_exon_data.csv', index_col=0)"
   ]
  },
  {
   "cell_type": "code",
   "execution_count": 38,
   "metadata": {},
   "outputs": [
    {
     "data": {
      "text/plain": [
       "1279073"
      ]
     },
     "execution_count": 38,
     "metadata": {},
     "output_type": "execute_result"
    }
   ],
   "source": [
    "len(df)"
   ]
  },
  {
   "cell_type": "code",
   "execution_count": 39,
   "metadata": {},
   "outputs": [],
   "source": [
    "df['Strand'] = exon_strand\n",
    "df['Seq region Name'] = exon_seq_region_name"
   ]
  },
  {
   "cell_type": "code",
   "execution_count": 40,
   "metadata": {},
   "outputs": [
    {
     "data": {
      "text/html": [
       "<div>\n",
       "<style scoped>\n",
       "    .dataframe tbody tr th:only-of-type {\n",
       "        vertical-align: middle;\n",
       "    }\n",
       "\n",
       "    .dataframe tbody tr th {\n",
       "        vertical-align: top;\n",
       "    }\n",
       "\n",
       "    .dataframe thead th {\n",
       "        text-align: right;\n",
       "    }\n",
       "</style>\n",
       "<table border=\"1\" class=\"dataframe\">\n",
       "  <thead>\n",
       "    <tr style=\"text-align: right;\">\n",
       "      <th></th>\n",
       "      <th>SNO</th>\n",
       "      <th>Gene ID</th>\n",
       "      <th>Transcript ID</th>\n",
       "      <th>Exon ID</th>\n",
       "      <th>Exon Start</th>\n",
       "      <th>Exon End</th>\n",
       "      <th>Exon Length</th>\n",
       "      <th>Strand</th>\n",
       "      <th>Seq region Name</th>\n",
       "    </tr>\n",
       "  </thead>\n",
       "  <tbody>\n",
       "    <tr>\n",
       "      <th>0</th>\n",
       "      <td>1</td>\n",
       "      <td>ENSG00000000003</td>\n",
       "      <td>ENST00000373020</td>\n",
       "      <td>ENSE00001855382</td>\n",
       "      <td>100636608</td>\n",
       "      <td>100636806</td>\n",
       "      <td>199</td>\n",
       "      <td>-1</td>\n",
       "      <td>X</td>\n",
       "    </tr>\n",
       "    <tr>\n",
       "      <th>1</th>\n",
       "      <td>2</td>\n",
       "      <td>ENSG00000000003</td>\n",
       "      <td>ENST00000373020</td>\n",
       "      <td>ENSE00003662440</td>\n",
       "      <td>100635558</td>\n",
       "      <td>100635746</td>\n",
       "      <td>189</td>\n",
       "      <td>-1</td>\n",
       "      <td>X</td>\n",
       "    </tr>\n",
       "    <tr>\n",
       "      <th>2</th>\n",
       "      <td>3</td>\n",
       "      <td>ENSG00000000003</td>\n",
       "      <td>ENST00000373020</td>\n",
       "      <td>ENSE00003654571</td>\n",
       "      <td>100635178</td>\n",
       "      <td>100635252</td>\n",
       "      <td>75</td>\n",
       "      <td>-1</td>\n",
       "      <td>X</td>\n",
       "    </tr>\n",
       "  </tbody>\n",
       "</table>\n",
       "</div>"
      ],
      "text/plain": [
       "   SNO          Gene ID    Transcript ID          Exon ID  Exon Start  \\\n",
       "0    1  ENSG00000000003  ENST00000373020  ENSE00001855382   100636608   \n",
       "1    2  ENSG00000000003  ENST00000373020  ENSE00003662440   100635558   \n",
       "2    3  ENSG00000000003  ENST00000373020  ENSE00003654571   100635178   \n",
       "\n",
       "    Exon End  Exon Length  Strand Seq region Name  \n",
       "0  100636806          199      -1               X  \n",
       "1  100635746          189      -1               X  \n",
       "2  100635252           75      -1               X  "
      ]
     },
     "execution_count": 40,
     "metadata": {},
     "output_type": "execute_result"
    }
   ],
   "source": [
    "df.head(3)"
   ]
  },
  {
   "cell_type": "code",
   "execution_count": 41,
   "metadata": {},
   "outputs": [],
   "source": [
    "df = df[['SNO', 'Gene ID', 'Transcript ID', 'Exon ID', 'Strand','Seq region Name','Exon Start', 'Exon End', 'Exon Length']]     "
   ]
  },
  {
   "cell_type": "code",
   "execution_count": 42,
   "metadata": {},
   "outputs": [
    {
     "data": {
      "text/html": [
       "<div>\n",
       "<style scoped>\n",
       "    .dataframe tbody tr th:only-of-type {\n",
       "        vertical-align: middle;\n",
       "    }\n",
       "\n",
       "    .dataframe tbody tr th {\n",
       "        vertical-align: top;\n",
       "    }\n",
       "\n",
       "    .dataframe thead th {\n",
       "        text-align: right;\n",
       "    }\n",
       "</style>\n",
       "<table border=\"1\" class=\"dataframe\">\n",
       "  <thead>\n",
       "    <tr style=\"text-align: right;\">\n",
       "      <th></th>\n",
       "      <th>SNO</th>\n",
       "      <th>Gene ID</th>\n",
       "      <th>Transcript ID</th>\n",
       "      <th>Exon ID</th>\n",
       "      <th>Strand</th>\n",
       "      <th>Seq region Name</th>\n",
       "      <th>Exon Start</th>\n",
       "      <th>Exon End</th>\n",
       "      <th>Exon Length</th>\n",
       "    </tr>\n",
       "  </thead>\n",
       "  <tbody>\n",
       "    <tr>\n",
       "      <th>0</th>\n",
       "      <td>1</td>\n",
       "      <td>ENSG00000000003</td>\n",
       "      <td>ENST00000373020</td>\n",
       "      <td>ENSE00001855382</td>\n",
       "      <td>-1</td>\n",
       "      <td>X</td>\n",
       "      <td>100636608</td>\n",
       "      <td>100636806</td>\n",
       "      <td>199</td>\n",
       "    </tr>\n",
       "    <tr>\n",
       "      <th>1</th>\n",
       "      <td>2</td>\n",
       "      <td>ENSG00000000003</td>\n",
       "      <td>ENST00000373020</td>\n",
       "      <td>ENSE00003662440</td>\n",
       "      <td>-1</td>\n",
       "      <td>X</td>\n",
       "      <td>100635558</td>\n",
       "      <td>100635746</td>\n",
       "      <td>189</td>\n",
       "    </tr>\n",
       "  </tbody>\n",
       "</table>\n",
       "</div>"
      ],
      "text/plain": [
       "   SNO          Gene ID    Transcript ID          Exon ID  Strand  \\\n",
       "0    1  ENSG00000000003  ENST00000373020  ENSE00001855382      -1   \n",
       "1    2  ENSG00000000003  ENST00000373020  ENSE00003662440      -1   \n",
       "\n",
       "  Seq region Name  Exon Start   Exon End  Exon Length  \n",
       "0               X   100636608  100636806          199  \n",
       "1               X   100635558  100635746          189  "
      ]
     },
     "execution_count": 42,
     "metadata": {},
     "output_type": "execute_result"
    }
   ],
   "source": [
    "df.head(2)"
   ]
  },
  {
   "cell_type": "code",
   "execution_count": 43,
   "metadata": {},
   "outputs": [],
   "source": [
    "df.to_csv('/Users/pankajverma/Desktop/summerInternship2k17/GSoC/Ensembl/1.lncRNA/dataset/Ensembl_numeric/all_gene_data/all_exon_data.csv')"
   ]
  },
  {
   "cell_type": "code",
   "execution_count": null,
   "metadata": {},
   "outputs": [],
   "source": []
  }
 ],
 "metadata": {
  "kernelspec": {
   "display_name": "Python [conda env:gsoc_ensembl]",
   "language": "python",
   "name": "conda-env-gsoc_ensembl-py"
  },
  "language_info": {
   "codemirror_mode": {
    "name": "ipython",
    "version": 3
   },
   "file_extension": ".py",
   "mimetype": "text/x-python",
   "name": "python",
   "nbconvert_exporter": "python",
   "pygments_lexer": "ipython3",
   "version": "3.6.5"
  }
 },
 "nbformat": 4,
 "nbformat_minor": 2
}
