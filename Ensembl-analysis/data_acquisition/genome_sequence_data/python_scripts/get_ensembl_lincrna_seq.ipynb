{
 "cells": [
  {
   "cell_type": "markdown",
   "metadata": {},
   "source": [
    "# Below code, for extracting fasta sequences for all lincRNA Ensembl data collected. Fasta file used - 'Homo_sapiens.GRCh38.ncrna.fa'"
   ]
  },
  {
   "cell_type": "code",
   "execution_count": 179,
   "metadata": {},
   "outputs": [],
   "source": [
    "import csv \n",
    "import pandas as pd\n",
    "import numpy as np\n",
    "import json"
   ]
  },
  {
   "cell_type": "code",
   "execution_count": 180,
   "metadata": {},
   "outputs": [],
   "source": [
    "path = '/all_lincRNA_data/all_lincrna_transcript_data.csv'"
   ]
  },
  {
   "cell_type": "markdown",
   "metadata": {},
   "source": [
    "### Getting transcript IDs and length from csv file"
   ]
  },
  {
   "cell_type": "code",
   "execution_count": 12,
   "metadata": {},
   "outputs": [],
   "source": [
    "df = pd.read_csv(path, index_col=0)\n",
    "transcript_ids = df['Transcript ID'].tolist()\n",
    "trans_len = df['Transcript Length'].tolist()\n",
    "print(len(transcript_ids))\n",
    "print(len(trans_len))"
   ]
  },
  {
   "cell_type": "code",
   "execution_count": 182,
   "metadata": {},
   "outputs": [],
   "source": [
    "test_id = []\n",
    "test_len = []\n",
    "test_id = transcript_ids[0:5]\n",
    "test_len = trans_len[0:5]\n",
    "sequences = []"
   ]
  },
  {
   "cell_type": "code",
   "execution_count": 1,
   "metadata": {},
   "outputs": [],
   "source": [
    "f = '/Homo_sapiens.GRCh38.ncrna.fa'    "
   ]
  },
  {
   "cell_type": "markdown",
   "metadata": {},
   "source": [
    "### Loading fasta file using biopython library"
   ]
  },
  {
   "cell_type": "code",
   "execution_count": 2,
   "metadata": {},
   "outputs": [],
   "source": [
    "from Bio import SeqIO\n",
    "records = list(SeqIO.parse(f, \"fasta\"))"
   ]
  },
  {
   "cell_type": "code",
   "execution_count": 13,
   "metadata": {},
   "outputs": [],
   "source": [
    "len(records)"
   ]
  },
  {
   "cell_type": "markdown",
   "metadata": {},
   "source": [
    "### Below code for getting the sequence of all those whos IDs match with that present in fasta file"
   ]
  },
  {
   "cell_type": "code",
   "execution_count": 185,
   "metadata": {},
   "outputs": [],
   "source": [
    "from tqdm import tqdm\n",
    "\n",
    "def get_lincrna_seq():\n",
    "    for i in tqdm(range(len(transcript_ids))):\n",
    "        \n",
    "        for j in range(len(records)):\n",
    "            \n",
    "            if transcript_ids[i] == records[j].id[0:15]:\n",
    "                sequences.append(str(records[j].seq)) \n",
    "            else:\n",
    "                continue"
   ]
  },
  {
   "cell_type": "code",
   "execution_count": 209,
   "metadata": {},
   "outputs": [],
   "source": [
    "get_lincrna_seq()"
   ]
  },
  {
   "cell_type": "code",
   "execution_count": 14,
   "metadata": {},
   "outputs": [],
   "source": [
    "len(sequences[7])"
   ]
  },
  {
   "cell_type": "code",
   "execution_count": 202,
   "metadata": {},
   "outputs": [],
   "source": [
    "# import pandas as pd\n",
    "# df = pd.read_csv('/all_lincRNA_data/all_lincrna_transcript_data_with_sequences.csv', index_col=0)"
   ]
  },
  {
   "cell_type": "code",
   "execution_count": 204,
   "metadata": {},
   "outputs": [],
   "source": [
    "df['Sequences'] = sequences"
   ]
  },
  {
   "cell_type": "code",
   "execution_count": 207,
   "metadata": {},
   "outputs": [],
   "source": [
    "df.to_csv('/all_lincrna_transcript_data_with_sequences.csv')"
   ]
  },
  {
   "cell_type": "code",
   "execution_count": 1,
   "metadata": {},
   "outputs": [],
   "source": [
    "import pandas as pd\n",
    "df = pd.read_csv('/all_lincRNA_data/all_lincrna_transcript_data_with_sequences.csv', index_col=0)"
   ]
  },
  {
   "cell_type": "code",
   "execution_count": 15,
   "metadata": {},
   "outputs": [],
   "source": [
    "df.head(3)"
   ]
  },
  {
   "cell_type": "code",
   "execution_count": 3,
   "metadata": {},
   "outputs": [],
   "source": [
    "sequence = df['Sequences'].tolist()\n",
    "trans_len = df['Transcript Length'].tolist()"
   ]
  },
  {
   "cell_type": "code",
   "execution_count": 4,
   "metadata": {},
   "outputs": [],
   "source": [
    "df.drop('Sequences', axis=1,inplace=True)"
   ]
  },
  {
   "cell_type": "code",
   "execution_count": 16,
   "metadata": {},
   "outputs": [],
   "source": [
    "df.head(2)"
   ]
  },
  {
   "cell_type": "markdown",
   "metadata": {},
   "source": [
    "### Below code to calculate length of sequence"
   ]
  },
  {
   "cell_type": "code",
   "execution_count": 6,
   "metadata": {},
   "outputs": [],
   "source": [
    "seq_len = []\n",
    "for i in range(len(sequence)):\n",
    "    if sequence[i] != 'NA':\n",
    "        seq_len.append(len(sequence[i]))\n",
    "    else:\n",
    "        seq_len.append('NA')"
   ]
  },
  {
   "cell_type": "markdown",
   "metadata": {},
   "source": [
    "### Below code, to check if the transcript length matches with length of sequence obtained"
   ]
  },
  {
   "cell_type": "code",
   "execution_count": 17,
   "metadata": {},
   "outputs": [],
   "source": [
    "%%time\n",
    "from tqdm import tqdm\n",
    "len_match = []\n",
    "c = 0\n",
    "na = 0\n",
    "difference = []\n",
    "for i in tqdm(range(len(seq_len))):\n",
    "    \n",
    "    if seq_len[i] == 'NA':\n",
    "        len_match.append('NA')\n",
    "        na = na + 1\n",
    "        difference.append('NA')\n",
    "        \n",
    "    elif seq_len[i] == trans_len[i]:\n",
    "        len_match.append('YES')\n",
    "        difference.append(abs(trans_len[i]-seq_len[i]))\n",
    "        \n",
    "    elif seq_len[i] != trans_len[i]:\n",
    "        len_match.append('NO')\n",
    "        difference.append(abs(trans_len[i]-seq_len[i]))\n",
    "        c = c + 1"
   ]
  },
  {
   "cell_type": "code",
   "execution_count": 8,
   "metadata": {},
   "outputs": [],
   "source": [
    "import pandas as pd\n",
    "\n",
    "df['Length of Sequences'] = seq_len\n",
    "df['| Seq_len - Trans_len |'] = difference\n",
    "df['Match ?'] = len_match\n",
    "df['Sequences'] = sequence"
   ]
  },
  {
   "cell_type": "code",
   "execution_count": 18,
   "metadata": {},
   "outputs": [],
   "source": [
    "df.head(10)"
   ]
  },
  {
   "cell_type": "code",
   "execution_count": 10,
   "metadata": {},
   "outputs": [],
   "source": [
    "for i in range(len(len_match)):\n",
    "    if len_match[i] == 'NO':\n",
    "        print(True)"
   ]
  },
  {
   "cell_type": "code",
   "execution_count": 11,
   "metadata": {},
   "outputs": [],
   "source": [
    "df.to_csv('/all_lincRNA_data/all_lincrna_transcript_data_with_sequences.csv')"
   ]
  }
 ],
 "metadata": {
  "kernelspec": {
   "display_name": "Python [conda env:gsoc_ensembl]",
   "language": "python",
   "name": "conda-env-gsoc_ensembl-py"
  },
  "language_info": {
   "codemirror_mode": {
    "name": "ipython",
    "version": 3
   },
   "file_extension": ".py",
   "mimetype": "text/x-python",
   "name": "python",
   "nbconvert_exporter": "python",
   "pygments_lexer": "ipython3",
   "version": "3.6.5"
  }
 },
 "nbformat": 4,
 "nbformat_minor": 2
}
