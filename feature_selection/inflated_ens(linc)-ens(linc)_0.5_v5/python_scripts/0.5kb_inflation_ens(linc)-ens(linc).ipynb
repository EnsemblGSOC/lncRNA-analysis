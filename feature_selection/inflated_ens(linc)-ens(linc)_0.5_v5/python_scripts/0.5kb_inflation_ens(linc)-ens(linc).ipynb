{
 "cells": [
  {
   "cell_type": "code",
   "execution_count": 3,
   "metadata": {},
   "outputs": [],
   "source": [
    "import pandas as pd\n",
    "df_ref_all_gene = pd.read_csv('/Users/pankajverma/Desktop/summerInternship2k17/GSoC/Ensembl/1.lncRNA/dataset/Ensembl_numeric/all_lincRNA_data/all_lincRNA_sorted_chr/all_lincrna_gene_data_sorted_chr.csv', index_col=0)"
   ]
  },
  {
   "cell_type": "code",
   "execution_count": 4,
   "metadata": {},
   "outputs": [
    {
     "data": {
      "text/html": [
       "<div>\n",
       "<style scoped>\n",
       "    .dataframe tbody tr th:only-of-type {\n",
       "        vertical-align: middle;\n",
       "    }\n",
       "\n",
       "    .dataframe tbody tr th {\n",
       "        vertical-align: top;\n",
       "    }\n",
       "\n",
       "    .dataframe thead th {\n",
       "        text-align: right;\n",
       "    }\n",
       "</style>\n",
       "<table border=\"1\" class=\"dataframe\">\n",
       "  <thead>\n",
       "    <tr style=\"text-align: right;\">\n",
       "      <th></th>\n",
       "      <th>SNO</th>\n",
       "      <th>Gene ID</th>\n",
       "      <th>Display Name</th>\n",
       "      <th>Biotype</th>\n",
       "      <th>Start</th>\n",
       "      <th>End</th>\n",
       "      <th>Strand</th>\n",
       "      <th>Seq region Name</th>\n",
       "      <th>No. of Transcripts</th>\n",
       "    </tr>\n",
       "  </thead>\n",
       "  <tbody>\n",
       "    <tr>\n",
       "      <th>0</th>\n",
       "      <td>6092</td>\n",
       "      <td>ENSG00000271387</td>\n",
       "      <td>AL445228.2</td>\n",
       "      <td>lincRNA</td>\n",
       "      <td>184385753</td>\n",
       "      <td>184386704</td>\n",
       "      <td>-1</td>\n",
       "      <td>1</td>\n",
       "      <td>1</td>\n",
       "    </tr>\n",
       "    <tr>\n",
       "      <th>1</th>\n",
       "      <td>2329</td>\n",
       "      <td>ENSG00000236648</td>\n",
       "      <td>AL136529.1</td>\n",
       "      <td>lincRNA</td>\n",
       "      <td>17717687</td>\n",
       "      <td>17749978</td>\n",
       "      <td>1</td>\n",
       "      <td>1</td>\n",
       "      <td>1</td>\n",
       "    </tr>\n",
       "  </tbody>\n",
       "</table>\n",
       "</div>"
      ],
      "text/plain": [
       "    SNO          Gene ID Display Name  Biotype      Start        End  Strand  \\\n",
       "0  6092  ENSG00000271387   AL445228.2  lincRNA  184385753  184386704      -1   \n",
       "1  2329  ENSG00000236648   AL136529.1  lincRNA   17717687   17749978       1   \n",
       "\n",
       "  Seq region Name  No. of Transcripts  \n",
       "0               1                   1  \n",
       "1               1                   1  "
      ]
     },
     "execution_count": 4,
     "metadata": {},
     "output_type": "execute_result"
    }
   ],
   "source": [
    "df_ref_all_gene.head(2)"
   ]
  },
  {
   "cell_type": "code",
   "execution_count": 5,
   "metadata": {},
   "outputs": [
    {
     "data": {
      "text/plain": [
       "array(['1', '2', '3', '4', '5', '6', '7', '8', '9', '10', '11', '12',\n",
       "       '13', '14', '15', '16', '17', '18', '19', '20', '21', '22', 'X',\n",
       "       'Y'], dtype=object)"
      ]
     },
     "execution_count": 5,
     "metadata": {},
     "output_type": "execute_result"
    }
   ],
   "source": [
    "df_ref_all_gene['Seq region Name'].unique()"
   ]
  },
  {
   "cell_type": "code",
   "execution_count": 6,
   "metadata": {},
   "outputs": [],
   "source": [
    "df_lncrna_gene = pd.read_csv('/Users/pankajverma/Desktop/summerInternship2k17/GSoC/Ensembl/1.lncRNA/dataset/Ensembl_numeric/all_lincRNA_data/all_lincRNA_sorted_chr/all_lincrna_gene_data_sorted_chr.csv', index_col=0)"
   ]
  },
  {
   "cell_type": "code",
   "execution_count": 7,
   "metadata": {},
   "outputs": [
    {
     "data": {
      "text/html": [
       "<div>\n",
       "<style scoped>\n",
       "    .dataframe tbody tr th:only-of-type {\n",
       "        vertical-align: middle;\n",
       "    }\n",
       "\n",
       "    .dataframe tbody tr th {\n",
       "        vertical-align: top;\n",
       "    }\n",
       "\n",
       "    .dataframe thead th {\n",
       "        text-align: right;\n",
       "    }\n",
       "</style>\n",
       "<table border=\"1\" class=\"dataframe\">\n",
       "  <thead>\n",
       "    <tr style=\"text-align: right;\">\n",
       "      <th></th>\n",
       "      <th>SNO</th>\n",
       "      <th>Gene ID</th>\n",
       "      <th>Display Name</th>\n",
       "      <th>Biotype</th>\n",
       "      <th>Start</th>\n",
       "      <th>End</th>\n",
       "      <th>Strand</th>\n",
       "      <th>Seq region Name</th>\n",
       "      <th>No. of Transcripts</th>\n",
       "    </tr>\n",
       "  </thead>\n",
       "  <tbody>\n",
       "    <tr>\n",
       "      <th>0</th>\n",
       "      <td>6092</td>\n",
       "      <td>ENSG00000271387</td>\n",
       "      <td>AL445228.2</td>\n",
       "      <td>lincRNA</td>\n",
       "      <td>184385753</td>\n",
       "      <td>184386704</td>\n",
       "      <td>-1</td>\n",
       "      <td>1</td>\n",
       "      <td>1</td>\n",
       "    </tr>\n",
       "    <tr>\n",
       "      <th>1</th>\n",
       "      <td>2329</td>\n",
       "      <td>ENSG00000236648</td>\n",
       "      <td>AL136529.1</td>\n",
       "      <td>lincRNA</td>\n",
       "      <td>17717687</td>\n",
       "      <td>17749978</td>\n",
       "      <td>1</td>\n",
       "      <td>1</td>\n",
       "      <td>1</td>\n",
       "    </tr>\n",
       "  </tbody>\n",
       "</table>\n",
       "</div>"
      ],
      "text/plain": [
       "    SNO          Gene ID Display Name  Biotype      Start        End  Strand  \\\n",
       "0  6092  ENSG00000271387   AL445228.2  lincRNA  184385753  184386704      -1   \n",
       "1  2329  ENSG00000236648   AL136529.1  lincRNA   17717687   17749978       1   \n",
       "\n",
       "  Seq region Name  No. of Transcripts  \n",
       "0               1                   1  \n",
       "1               1                   1  "
      ]
     },
     "execution_count": 7,
     "metadata": {},
     "output_type": "execute_result"
    }
   ],
   "source": [
    "df_lncrna_gene.head(2)"
   ]
  },
  {
   "cell_type": "code",
   "execution_count": 13,
   "metadata": {},
   "outputs": [
    {
     "data": {
      "text/html": [
       "<div>\n",
       "<style scoped>\n",
       "    .dataframe tbody tr th:only-of-type {\n",
       "        vertical-align: middle;\n",
       "    }\n",
       "\n",
       "    .dataframe tbody tr th {\n",
       "        vertical-align: top;\n",
       "    }\n",
       "\n",
       "    .dataframe thead th {\n",
       "        text-align: right;\n",
       "    }\n",
       "</style>\n",
       "<table border=\"1\" class=\"dataframe\">\n",
       "  <thead>\n",
       "    <tr style=\"text-align: right;\">\n",
       "      <th></th>\n",
       "      <th>SNO</th>\n",
       "      <th>Index</th>\n",
       "      <th>RefSeq Gene ID</th>\n",
       "      <th>Dbxref</th>\n",
       "      <th>Name</th>\n",
       "      <th>gbkey</th>\n",
       "      <th>Biotype</th>\n",
       "      <th>Type</th>\n",
       "      <th>Seq_id</th>\n",
       "      <th>Strand</th>\n",
       "      <th>Start</th>\n",
       "      <th>End</th>\n",
       "      <th>No. of Transcripts</th>\n",
       "    </tr>\n",
       "  </thead>\n",
       "  <tbody>\n",
       "    <tr>\n",
       "      <th>0</th>\n",
       "      <td>1</td>\n",
       "      <td>1</td>\n",
       "      <td>gene-DDX11L1</td>\n",
       "      <td>GeneID:100287102,HGNC:HGNC:37102</td>\n",
       "      <td>DDX11L1</td>\n",
       "      <td>Gene</td>\n",
       "      <td>transcribed_pseudogene</td>\n",
       "      <td>pseudogene</td>\n",
       "      <td>1</td>\n",
       "      <td>1</td>\n",
       "      <td>11874</td>\n",
       "      <td>14409</td>\n",
       "      <td>1</td>\n",
       "    </tr>\n",
       "    <tr>\n",
       "      <th>1</th>\n",
       "      <td>3411</td>\n",
       "      <td>246389</td>\n",
       "      <td>gene-USF1</td>\n",
       "      <td>GeneID:7391,HGNC:HGNC:12593,MIM:191523</td>\n",
       "      <td>USF1</td>\n",
       "      <td>Gene</td>\n",
       "      <td>protein_coding</td>\n",
       "      <td>gene</td>\n",
       "      <td>1</td>\n",
       "      <td>-1</td>\n",
       "      <td>161039251</td>\n",
       "      <td>161045979</td>\n",
       "      <td>3</td>\n",
       "    </tr>\n",
       "  </tbody>\n",
       "</table>\n",
       "</div>"
      ],
      "text/plain": [
       "    SNO   Index RefSeq Gene ID                                  Dbxref  \\\n",
       "0     1       1   gene-DDX11L1        GeneID:100287102,HGNC:HGNC:37102   \n",
       "1  3411  246389      gene-USF1  GeneID:7391,HGNC:HGNC:12593,MIM:191523   \n",
       "\n",
       "      Name gbkey                 Biotype        Type Seq_id  Strand  \\\n",
       "0  DDX11L1  Gene  transcribed_pseudogene  pseudogene      1       1   \n",
       "1     USF1  Gene          protein_coding        gene      1      -1   \n",
       "\n",
       "       Start        End  No. of Transcripts  \n",
       "0      11874      14409                   1  \n",
       "1  161039251  161045979                   3  "
      ]
     },
     "execution_count": 13,
     "metadata": {},
     "output_type": "execute_result"
    }
   ],
   "source": [
    "df_ref_all_gene.head(2)"
   ]
  },
  {
   "cell_type": "code",
   "execution_count": 8,
   "metadata": {},
   "outputs": [],
   "source": [
    "from tqdm import tqdm"
   ]
  },
  {
   "cell_type": "code",
   "execution_count": 9,
   "metadata": {},
   "outputs": [],
   "source": [
    "import pandas as pd\n",
    "df_feature_file = pd.read_csv('/Users/pankajverma/Desktop/summerInternship2k17/GSoC/Ensembl/1.lncRNA/feature_selection/inflated_ref(lnc)-ref(protein)_v4/1kb_inflation_ref-ref_v4.csv', index_col=0)"
   ]
  },
  {
   "cell_type": "code",
   "execution_count": 10,
   "metadata": {},
   "outputs": [
    {
     "data": {
      "text/html": [
       "<div>\n",
       "<style scoped>\n",
       "    .dataframe tbody tr th:only-of-type {\n",
       "        vertical-align: middle;\n",
       "    }\n",
       "\n",
       "    .dataframe tbody tr th {\n",
       "        vertical-align: top;\n",
       "    }\n",
       "\n",
       "    .dataframe thead th {\n",
       "        text-align: right;\n",
       "    }\n",
       "</style>\n",
       "<table border=\"1\" class=\"dataframe\">\n",
       "  <thead>\n",
       "    <tr style=\"text-align: right;\">\n",
       "      <th></th>\n",
       "      <th>ENS lincRNA gene ID</th>\n",
       "      <th>Ref lncRNA gene ID</th>\n",
       "      <th>Chr region</th>\n",
       "      <th>No. of transcripts in lincrna</th>\n",
       "      <th>No. of transcripts in lncrna</th>\n",
       "      <th>ENS-Ref Overlap ?</th>\n",
       "      <th>same_opp_overlap</th>\n",
       "      <th>Overlap Length</th>\n",
       "      <th>No. ENS lincrna Exons which overlap RefSeq exons</th>\n",
       "      <th>Max ORF length(ENS)</th>\n",
       "      <th>...</th>\n",
       "      <th>Max Transcript Index for ORF(REF)</th>\n",
       "      <th>GC % of trans row having Max ORF(REF)</th>\n",
       "      <th>Max ORF Sequence(REF)</th>\n",
       "      <th>HGNC ID refseq lncrna?</th>\n",
       "      <th>HGNC ID ensembl lincrna?</th>\n",
       "      <th>HGNC ID refseq lncrna?(corrected)</th>\n",
       "      <th>HGNC ID ensembl lincrna?(corrected)</th>\n",
       "      <th>Inflated overlap 1kb ens(linc)-ens(protein_coding)</th>\n",
       "      <th>is ref LOC ?</th>\n",
       "      <th>Inflated overlap 1kb ref(lnc)-ref(protein_coding)</th>\n",
       "    </tr>\n",
       "  </thead>\n",
       "  <tbody>\n",
       "    <tr>\n",
       "      <th>0</th>\n",
       "      <td>ENSG00000236648</td>\n",
       "      <td>gene-LOC107984028</td>\n",
       "      <td>1</td>\n",
       "      <td>1</td>\n",
       "      <td>4</td>\n",
       "      <td>Yes</td>\n",
       "      <td>1</td>\n",
       "      <td>17270</td>\n",
       "      <td>3</td>\n",
       "      <td>90</td>\n",
       "      <td>...</td>\n",
       "      <td>1610</td>\n",
       "      <td>49.57</td>\n",
       "      <td>ATGTCAGCGTGGCTGCCCATGGGATCCCAGCCTGGTTTGCCTTTAA...</td>\n",
       "      <td>0</td>\n",
       "      <td>0</td>\n",
       "      <td>1</td>\n",
       "      <td>1</td>\n",
       "      <td>1</td>\n",
       "      <td>1</td>\n",
       "      <td>1</td>\n",
       "    </tr>\n",
       "    <tr>\n",
       "      <th>1</th>\n",
       "      <td>ENSG00000230704</td>\n",
       "      <td>gene-LOC101928628</td>\n",
       "      <td>1</td>\n",
       "      <td>1</td>\n",
       "      <td>1</td>\n",
       "      <td>Yes</td>\n",
       "      <td>1</td>\n",
       "      <td>1720</td>\n",
       "      <td>2</td>\n",
       "      <td>36</td>\n",
       "      <td>...</td>\n",
       "      <td>37</td>\n",
       "      <td>39.04</td>\n",
       "      <td>ATGTATCAATAG</td>\n",
       "      <td>0</td>\n",
       "      <td>0</td>\n",
       "      <td>1</td>\n",
       "      <td>1</td>\n",
       "      <td>0</td>\n",
       "      <td>1</td>\n",
       "      <td>1</td>\n",
       "    </tr>\n",
       "  </tbody>\n",
       "</table>\n",
       "<p>2 rows × 26 columns</p>\n",
       "</div>"
      ],
      "text/plain": [
       "  ENS lincRNA gene ID Ref lncRNA gene ID Chr region  \\\n",
       "0     ENSG00000236648  gene-LOC107984028          1   \n",
       "1     ENSG00000230704  gene-LOC101928628          1   \n",
       "\n",
       "   No. of transcripts in lincrna  No. of transcripts in lncrna  \\\n",
       "0                              1                             4   \n",
       "1                              1                             1   \n",
       "\n",
       "  ENS-Ref Overlap ?  same_opp_overlap Overlap Length  \\\n",
       "0               Yes                 1          17270   \n",
       "1               Yes                 1           1720   \n",
       "\n",
       "   No. ENS lincrna Exons which overlap RefSeq exons  Max ORF length(ENS)  ...  \\\n",
       "0                                                 3                   90  ...   \n",
       "1                                                 2                   36  ...   \n",
       "\n",
       "   Max Transcript Index for ORF(REF)  GC % of trans row having Max ORF(REF)  \\\n",
       "0                               1610                                  49.57   \n",
       "1                                 37                                  39.04   \n",
       "\n",
       "                               Max ORF Sequence(REF) HGNC ID refseq lncrna?  \\\n",
       "0  ATGTCAGCGTGGCTGCCCATGGGATCCCAGCCTGGTTTGCCTTTAA...                      0   \n",
       "1                                       ATGTATCAATAG                      0   \n",
       "\n",
       "   HGNC ID ensembl lincrna?  HGNC ID refseq lncrna?(corrected)  \\\n",
       "0                         0                                  1   \n",
       "1                         0                                  1   \n",
       "\n",
       "   HGNC ID ensembl lincrna?(corrected)  \\\n",
       "0                                    1   \n",
       "1                                    1   \n",
       "\n",
       "   Inflated overlap 1kb ens(linc)-ens(protein_coding) is ref LOC ?  \\\n",
       "0                                                  1             1   \n",
       "1                                                  0             1   \n",
       "\n",
       "   Inflated overlap 1kb ref(lnc)-ref(protein_coding)  \n",
       "0                                                  1  \n",
       "1                                                  1  \n",
       "\n",
       "[2 rows x 26 columns]"
      ]
     },
     "execution_count": 10,
     "metadata": {},
     "output_type": "execute_result"
    }
   ],
   "source": [
    "df_feature_file.head(2)"
   ]
  },
  {
   "cell_type": "code",
   "execution_count": 11,
   "metadata": {},
   "outputs": [],
   "source": [
    "set_feature_linc_ids = set(df_feature_file['ENS lincRNA gene ID'].tolist())"
   ]
  },
  {
   "cell_type": "code",
   "execution_count": 12,
   "metadata": {},
   "outputs": [
    {
     "name": "stderr",
     "output_type": "stream",
     "text": [
      "100%|██████████| 7690/7690 [00:00<00:00, 34071.76it/s]\n"
     ]
    }
   ],
   "source": [
    "drop_index = []\n",
    "c = 0\n",
    "for i in tqdm(range(len(df_ref_all_gene))):\n",
    "    if df_ref_all_gene['Gene ID'][i] in set_feature_linc_ids:\n",
    "        continue\n",
    "    else:\n",
    "        drop_index.append(i)"
   ]
  },
  {
   "cell_type": "code",
   "execution_count": 13,
   "metadata": {},
   "outputs": [],
   "source": [
    "df_ref_all_gene.drop(drop_index, axis=0,inplace=True)\n",
    "df_ref_all_gene.reset_index(drop=True, inplace=True)"
   ]
  },
  {
   "cell_type": "code",
   "execution_count": 15,
   "metadata": {},
   "outputs": [],
   "source": [
    "df_lncrna_gene.drop(drop_index, axis=0,inplace=True)\n",
    "df_lncrna_gene.reset_index(drop=True, inplace=True)"
   ]
  },
  {
   "cell_type": "code",
   "execution_count": 16,
   "metadata": {},
   "outputs": [
    {
     "data": {
      "text/plain": [
       "4155"
      ]
     },
     "execution_count": 16,
     "metadata": {},
     "output_type": "execute_result"
    }
   ],
   "source": [
    "len(df_lncrna_gene)"
   ]
  },
  {
   "cell_type": "code",
   "execution_count": 18,
   "metadata": {},
   "outputs": [
    {
     "data": {
      "text/html": [
       "<div>\n",
       "<style scoped>\n",
       "    .dataframe tbody tr th:only-of-type {\n",
       "        vertical-align: middle;\n",
       "    }\n",
       "\n",
       "    .dataframe tbody tr th {\n",
       "        vertical-align: top;\n",
       "    }\n",
       "\n",
       "    .dataframe thead th {\n",
       "        text-align: right;\n",
       "    }\n",
       "</style>\n",
       "<table border=\"1\" class=\"dataframe\">\n",
       "  <thead>\n",
       "    <tr style=\"text-align: right;\">\n",
       "      <th></th>\n",
       "      <th>ENS lincRNA gene ID</th>\n",
       "      <th>Ref lncRNA gene ID</th>\n",
       "      <th>Chr region</th>\n",
       "      <th>No. of transcripts in lincrna</th>\n",
       "      <th>No. of transcripts in lncrna</th>\n",
       "      <th>ENS-Ref Overlap ?</th>\n",
       "      <th>same_opp_overlap</th>\n",
       "      <th>Overlap Length</th>\n",
       "      <th>No. ENS lincrna Exons which overlap RefSeq exons</th>\n",
       "      <th>Max ORF length(ENS)</th>\n",
       "      <th>...</th>\n",
       "      <th>Max No. of amino acids(REF)</th>\n",
       "      <th>Max Transcript Index for ORF(REF)</th>\n",
       "      <th>GC % of trans row having Max ORF(REF)</th>\n",
       "      <th>Max ORF Sequence(REF)</th>\n",
       "      <th>HGNC ID refseq lncrna?</th>\n",
       "      <th>HGNC ID ensembl lincrna?</th>\n",
       "      <th>HGNC ID refseq lncrna?(corrected)</th>\n",
       "      <th>HGNC ID ensembl lincrna?(corrected)</th>\n",
       "      <th>Inflated overlap 1kb ens(linc)-ens(protein_coding)</th>\n",
       "      <th>is ref LOC ?</th>\n",
       "    </tr>\n",
       "  </thead>\n",
       "  <tbody>\n",
       "    <tr>\n",
       "      <th>0</th>\n",
       "      <td>ENSG00000236648</td>\n",
       "      <td>gene-LOC107984028</td>\n",
       "      <td>1</td>\n",
       "      <td>1</td>\n",
       "      <td>4</td>\n",
       "      <td>Yes</td>\n",
       "      <td>1</td>\n",
       "      <td>17270</td>\n",
       "      <td>3</td>\n",
       "      <td>90</td>\n",
       "      <td>...</td>\n",
       "      <td>77</td>\n",
       "      <td>1610</td>\n",
       "      <td>49.57</td>\n",
       "      <td>ATGTCAGCGTGGCTGCCCATGGGATCCCAGCCTGGTTTGCCTTTAA...</td>\n",
       "      <td>0</td>\n",
       "      <td>0</td>\n",
       "      <td>1</td>\n",
       "      <td>1</td>\n",
       "      <td>1</td>\n",
       "      <td>1</td>\n",
       "    </tr>\n",
       "    <tr>\n",
       "      <th>1</th>\n",
       "      <td>ENSG00000230704</td>\n",
       "      <td>gene-LOC101928628</td>\n",
       "      <td>1</td>\n",
       "      <td>1</td>\n",
       "      <td>1</td>\n",
       "      <td>Yes</td>\n",
       "      <td>1</td>\n",
       "      <td>1720</td>\n",
       "      <td>2</td>\n",
       "      <td>36</td>\n",
       "      <td>...</td>\n",
       "      <td>3</td>\n",
       "      <td>37</td>\n",
       "      <td>39.04</td>\n",
       "      <td>ATGTATCAATAG</td>\n",
       "      <td>0</td>\n",
       "      <td>0</td>\n",
       "      <td>1</td>\n",
       "      <td>1</td>\n",
       "      <td>0</td>\n",
       "      <td>1</td>\n",
       "    </tr>\n",
       "    <tr>\n",
       "      <th>2</th>\n",
       "      <td>ENSG00000230699</td>\n",
       "      <td>gene-LOC284600</td>\n",
       "      <td>1</td>\n",
       "      <td>1</td>\n",
       "      <td>1</td>\n",
       "      <td>Yes</td>\n",
       "      <td>1</td>\n",
       "      <td>3348</td>\n",
       "      <td>1</td>\n",
       "      <td>18</td>\n",
       "      <td>...</td>\n",
       "      <td>9</td>\n",
       "      <td>1686</td>\n",
       "      <td>59.80</td>\n",
       "      <td>ATGGCTGTGATTTCAGAAAAGCGGACGTAA</td>\n",
       "      <td>0</td>\n",
       "      <td>0</td>\n",
       "      <td>1</td>\n",
       "      <td>1</td>\n",
       "      <td>1</td>\n",
       "      <td>1</td>\n",
       "    </tr>\n",
       "  </tbody>\n",
       "</table>\n",
       "<p>3 rows × 25 columns</p>\n",
       "</div>"
      ],
      "text/plain": [
       "  ENS lincRNA gene ID Ref lncRNA gene ID Chr region  \\\n",
       "0     ENSG00000236648  gene-LOC107984028          1   \n",
       "1     ENSG00000230704  gene-LOC101928628          1   \n",
       "2     ENSG00000230699     gene-LOC284600          1   \n",
       "\n",
       "   No. of transcripts in lincrna  No. of transcripts in lncrna  \\\n",
       "0                              1                             4   \n",
       "1                              1                             1   \n",
       "2                              1                             1   \n",
       "\n",
       "  ENS-Ref Overlap ?  same_opp_overlap Overlap Length  \\\n",
       "0               Yes                 1          17270   \n",
       "1               Yes                 1           1720   \n",
       "2               Yes                 1           3348   \n",
       "\n",
       "   No. ENS lincrna Exons which overlap RefSeq exons  Max ORF length(ENS)  ...  \\\n",
       "0                                                 3                   90  ...   \n",
       "1                                                 2                   36  ...   \n",
       "2                                                 1                   18  ...   \n",
       "\n",
       "   Max No. of amino acids(REF)  Max Transcript Index for ORF(REF)  \\\n",
       "0                           77                               1610   \n",
       "1                            3                                 37   \n",
       "2                            9                               1686   \n",
       "\n",
       "   GC % of trans row having Max ORF(REF)  \\\n",
       "0                                  49.57   \n",
       "1                                  39.04   \n",
       "2                                  59.80   \n",
       "\n",
       "                               Max ORF Sequence(REF)  HGNC ID refseq lncrna?  \\\n",
       "0  ATGTCAGCGTGGCTGCCCATGGGATCCCAGCCTGGTTTGCCTTTAA...                       0   \n",
       "1                                       ATGTATCAATAG                       0   \n",
       "2                     ATGGCTGTGATTTCAGAAAAGCGGACGTAA                       0   \n",
       "\n",
       "   HGNC ID ensembl lincrna?  HGNC ID refseq lncrna?(corrected)  \\\n",
       "0                         0                                  1   \n",
       "1                         0                                  1   \n",
       "2                         0                                  1   \n",
       "\n",
       "   HGNC ID ensembl lincrna?(corrected)  \\\n",
       "0                                    1   \n",
       "1                                    1   \n",
       "2                                    1   \n",
       "\n",
       "  Inflated overlap 1kb ens(linc)-ens(protein_coding)  is ref LOC ?  \n",
       "0                                                  1             1  \n",
       "1                                                  0             1  \n",
       "2                                                  1             1  \n",
       "\n",
       "[3 rows x 25 columns]"
      ]
     },
     "execution_count": 18,
     "metadata": {},
     "output_type": "execute_result"
    }
   ],
   "source": [
    "df_feature_file.head(3)"
   ]
  },
  {
   "cell_type": "code",
   "execution_count": 18,
   "metadata": {},
   "outputs": [],
   "source": [
    "len_all_gene_chr = df_ref_all_gene['Seq region Name'].value_counts()"
   ]
  },
  {
   "cell_type": "code",
   "execution_count": 19,
   "metadata": {},
   "outputs": [],
   "source": [
    "len_lnc_gene_chr = df_lncrna_gene['Seq region Name'].value_counts()"
   ]
  },
  {
   "cell_type": "code",
   "execution_count": 20,
   "metadata": {},
   "outputs": [],
   "source": [
    "lnc_gene_strand = df_lncrna_gene['Strand']\n",
    "all_gene_strand = df_ref_all_gene['Strand']"
   ]
  },
  {
   "cell_type": "code",
   "execution_count": 21,
   "metadata": {},
   "outputs": [
    {
     "name": "stdout",
     "output_type": "stream",
     "text": [
      "17717687 17749978\n"
     ]
    }
   ],
   "source": [
    "print(df_ref_all_gene['Start'][0], df_ref_all_gene['End'][0])"
   ]
  },
  {
   "cell_type": "code",
   "execution_count": 22,
   "metadata": {},
   "outputs": [],
   "source": [
    "df_ref_all_gene['Start'] = df_ref_all_gene['Start'] - 500\n",
    "df_ref_all_gene['End'] = df_ref_all_gene['End'] + 500"
   ]
  },
  {
   "cell_type": "code",
   "execution_count": 23,
   "metadata": {},
   "outputs": [
    {
     "name": "stdout",
     "output_type": "stream",
     "text": [
      "17717187 17750478\n"
     ]
    }
   ],
   "source": [
    "print(df_ref_all_gene['Start'][0], df_ref_all_gene['End'][0])"
   ]
  },
  {
   "cell_type": "code",
   "execution_count": 24,
   "metadata": {},
   "outputs": [],
   "source": [
    "lncrna_gene_coords = df_lncrna_gene[['Start','End']].to_numpy()\n",
    "all_gene_coords = df_ref_all_gene[['Start','End']].to_numpy()"
   ]
  },
  {
   "cell_type": "code",
   "execution_count": 25,
   "metadata": {},
   "outputs": [],
   "source": [
    "a = []\n",
    "for i in range(0,22,1):\n",
    "    a.append(str(i+1))"
   ]
  },
  {
   "cell_type": "code",
   "execution_count": 26,
   "metadata": {},
   "outputs": [
    {
     "data": {
      "text/plain": [
       "'1'"
      ]
     },
     "execution_count": 26,
     "metadata": {},
     "output_type": "execute_result"
    }
   ],
   "source": [
    "a.append('X')\n",
    "a.append('Y')\n",
    "a[0]"
   ]
  },
  {
   "cell_type": "code",
   "execution_count": 37,
   "metadata": {},
   "outputs": [],
   "source": [
    "inflated_overlap = []\n",
    "lncrna_gene_id = []\n",
    "all_gene_id = []\n",
    "same_ref = []\n",
    "same_opp_overlap = []\n",
    "no_transcripts_lncrna = []\n",
    "no_transcripts_all_gene = []\n",
    "chr_region = []"
   ]
  },
  {
   "cell_type": "code",
   "execution_count": 38,
   "metadata": {},
   "outputs": [],
   "source": [
    "lncrna_id = df_lncrna_gene['Gene ID']\n",
    "gene_id = df_ref_all_gene['Gene ID']\n",
    "gene_biotype = df_ref_all_gene['Biotype']\n",
    "genes_trans_no = df_ref_all_gene['No. of Transcripts']\n",
    "lncrna_trans_no = df_lncrna_gene['No. of Transcripts']"
   ]
  },
  {
   "cell_type": "code",
   "execution_count": 39,
   "metadata": {},
   "outputs": [],
   "source": [
    "def overlap(A, B):\n",
    "    if A[0] < B[1] and B[0] < A[1]:\n",
    "        return True\n",
    "    else:\n",
    "        return False"
   ]
  },
  {
   "cell_type": "code",
   "execution_count": 41,
   "metadata": {},
   "outputs": [],
   "source": [
    "from tqdm import tqdm\n",
    "def overlap_gene():\n",
    "\n",
    "    for i in tqdm(range(0,24,1)):\n",
    "        \n",
    "        if i == 0:\n",
    "            for j in range(0,len_lnc_gene_chr[a[i]]):  \n",
    "                for k in range(0, len_all_gene_chr[a[i]]):\n",
    "                    \n",
    "                    if lncrna_id[j] == gene_id[k]:\n",
    "                        continue\n",
    "\n",
    "                    if overlap(lncrna_gene_coords[j], all_gene_coords[k]):\n",
    "                        \n",
    "#                         if gene_biotype[k] == 'lincRNA':\n",
    "#                             same_lincrna_ensg[k] == 'Yes'\n",
    "                        inflated_overlap.append(0) # Here, 0 means Ruth statement becomes false!\n",
    "                        no_transcripts_lncrna.append(lncrna_trans_no[j])\n",
    "                        no_transcripts_all_gene.append(genes_trans_no[k])\n",
    "                        lncrna_gene_id.append(lncrna_id[j])\n",
    "                        all_gene_id.append(gene_id[k])\n",
    "                        same_ref.append('Yes')\n",
    "                        chr_region.append(a[i])                        \n",
    "                        \n",
    "                        if lnc_gene_strand[j] == all_gene_strand[k]:\n",
    "                            same_opp_overlap.append(1)\n",
    "                            continue\n",
    "                            \n",
    "                        elif lnc_gene_strand[j] != all_gene_strand[k]:\n",
    "                            same_opp_overlap.append(0)\n",
    "                            continue\n",
    "                            \n",
    "                    else:\n",
    "                        inflated_overlap.append(1) # 1 means Ruths statement becomes true\n",
    "                        no_transcripts_lncrna.append(lncrna_trans_no[j])\n",
    "                        no_transcripts_all_gene.append(genes_trans_no[k])\n",
    "                        lncrna_gene_id.append(lncrna_id[j])\n",
    "                        all_gene_id.append(gene_id[k])\n",
    "                        same_ref.append('Yes')\n",
    "                        chr_region.append(a[i])                        \n",
    "                        \n",
    "                        if lnc_gene_strand[j] == all_gene_strand[k]:\n",
    "                            same_opp_overlap.append(1)\n",
    "                            continue\n",
    "                            \n",
    "                        elif lnc_gene_strand[j] != all_gene_strand[k]:\n",
    "                            same_opp_overlap.append(0)\n",
    "                            continue\n",
    "            continue\n",
    "                        \n",
    "        else:\n",
    "        \n",
    "            start_index_lncrna = 0\n",
    "            start_index_all_gene = 0\n",
    "            \n",
    "            for l in range(0,i):\n",
    "                start_index_all_gene = start_index_all_gene + len_all_gene_chr[a[l]]\n",
    "                start_index_lncrna = start_index_lncrna + len_lnc_gene_chr[a[l]]\n",
    "            print('start lncrna {0}'.format(start_index_lncrna))\n",
    "            print('end lncrna {0}'.format(start_index_lncrna + len_lnc_gene_chr[a[i]]))\n",
    "            print('start all_gene {0}'.format(start_index_all_gene))\n",
    "            print('end all_gene {0}'.format(start_index_all_gene + len_all_gene_chr[a[i]]))\n",
    "            \n",
    "            \n",
    "            for j in range(start_index_lncrna, start_index_lncrna + len_lnc_gene_chr[a[i]], 1):\n",
    "                for k in range(start_index_all_gene, start_index_all_gene + len_all_gene_chr[a[i]], 1):\n",
    "                    \n",
    "                    if lncrna_id[j] == gene_id[k]:\n",
    "                        continue\n",
    "\n",
    "                    if overlap(lncrna_gene_coords[j], all_gene_coords[k]):\n",
    "        \n",
    "#                         if gene_biotype[k] == 'lincRNA':\n",
    "#                             same_lincrna_ensg[k] = 'Yes'\n",
    "                        inflated_overlap.append(0) # Here, 0 means Ruth statement becomes false!\n",
    "                        no_transcripts_lncrna.append(lncrna_trans_no[j])\n",
    "                        no_transcripts_all_gene.append(genes_trans_no[k])\n",
    "                        lncrna_gene_id.append(lncrna_id[j])\n",
    "                        all_gene_id.append(gene_id[k])\n",
    "                        same_ref.append('Yes')\n",
    "                        chr_region.append(a[i])                        \n",
    "                        \n",
    "                        if lnc_gene_strand[j] == all_gene_strand[k]:\n",
    "                            same_opp_overlap.append(1)\n",
    "                            continue\n",
    "                            \n",
    "                        elif lnc_gene_strand[j] != all_gene_strand[k]:\n",
    "                            same_opp_overlap.append(0)\n",
    "                            continue\n",
    "                            \n",
    "                    else:\n",
    "                        inflated_overlap.append(1) # 1 means Ruths statement becomes true\n",
    "                        no_transcripts_lncrna.append(lncrna_trans_no[j])\n",
    "                        no_transcripts_all_gene.append(genes_trans_no[k])\n",
    "                        lncrna_gene_id.append(lncrna_id[j])\n",
    "                        all_gene_id.append(gene_id[k])\n",
    "                        same_ref.append('Yes')\n",
    "                        chr_region.append(a[i])                        \n",
    "                        \n",
    "                        if lnc_gene_strand[j] == all_gene_strand[k]:\n",
    "                            same_opp_overlap.append(1)\n",
    "                            continue\n",
    "                            \n",
    "                        elif lnc_gene_strand[j] != all_gene_strand[k]:\n",
    "                            same_opp_overlap.append(0)\n",
    "                            continue\n",
    "            continue"
   ]
  },
  {
   "cell_type": "code",
   "execution_count": 42,
   "metadata": {},
   "outputs": [
    {
     "name": "stderr",
     "output_type": "stream",
     "text": [
      "  4%|▍         | 1/24 [00:16<06:27, 16.86s/it]"
     ]
    },
    {
     "name": "stdout",
     "output_type": "stream",
     "text": [
      "start lncrna 341\n",
      "end lncrna 686\n",
      "start all_gene 341\n",
      "end all_gene 686\n"
     ]
    },
    {
     "name": "stderr",
     "output_type": "stream",
     "text": [
      "\r",
      "  8%|▊         | 2/24 [00:30<05:52, 16.00s/it]"
     ]
    },
    {
     "name": "stdout",
     "output_type": "stream",
     "text": [
      "start lncrna 686\n",
      "end lncrna 879\n",
      "start all_gene 686\n",
      "end all_gene 879\n"
     ]
    },
    {
     "name": "stderr",
     "output_type": "stream",
     "text": [
      "\r",
      " 12%|█▎        | 3/24 [00:35<04:23, 12.53s/it]"
     ]
    },
    {
     "name": "stdout",
     "output_type": "stream",
     "text": [
      "start lncrna 879\n",
      "end lncrna 1122\n",
      "start all_gene 879\n",
      "end all_gene 1122\n"
     ]
    },
    {
     "name": "stderr",
     "output_type": "stream",
     "text": [
      "\r",
      " 17%|█▋        | 4/24 [00:42<03:36, 10.83s/it]"
     ]
    },
    {
     "name": "stdout",
     "output_type": "stream",
     "text": [
      "start lncrna 1122\n",
      "end lncrna 1376\n",
      "start all_gene 1122\n",
      "end all_gene 1376\n"
     ]
    },
    {
     "name": "stderr",
     "output_type": "stream",
     "text": [
      "\r",
      " 21%|██        | 5/24 [00:49<03:07,  9.87s/it]"
     ]
    },
    {
     "name": "stdout",
     "output_type": "stream",
     "text": [
      "start lncrna 1376\n",
      "end lncrna 1593\n",
      "start all_gene 1376\n",
      "end all_gene 1593\n"
     ]
    },
    {
     "name": "stderr",
     "output_type": "stream",
     "text": [
      "\r",
      " 25%|██▌       | 6/24 [00:55<02:34,  8.58s/it]"
     ]
    },
    {
     "name": "stdout",
     "output_type": "stream",
     "text": [
      "start lncrna 1593\n",
      "end lncrna 1758\n",
      "start all_gene 1593\n",
      "end all_gene 1758\n"
     ]
    },
    {
     "name": "stderr",
     "output_type": "stream",
     "text": [
      "\r",
      " 29%|██▉       | 7/24 [00:58<01:59,  7.03s/it]"
     ]
    },
    {
     "name": "stdout",
     "output_type": "stream",
     "text": [
      "start lncrna 1758\n",
      "end lncrna 1976\n",
      "start all_gene 1758\n",
      "end all_gene 1976\n"
     ]
    },
    {
     "name": "stderr",
     "output_type": "stream",
     "text": [
      "\r",
      " 33%|███▎      | 8/24 [01:08<02:04,  7.77s/it]"
     ]
    },
    {
     "name": "stdout",
     "output_type": "stream",
     "text": [
      "start lncrna 1976\n",
      "end lncrna 2143\n",
      "start all_gene 1976\n",
      "end all_gene 2143\n"
     ]
    },
    {
     "name": "stderr",
     "output_type": "stream",
     "text": [
      "\r",
      " 38%|███▊      | 9/24 [01:12<01:42,  6.81s/it]"
     ]
    },
    {
     "name": "stdout",
     "output_type": "stream",
     "text": [
      "start lncrna 2143\n",
      "end lncrna 2313\n",
      "start all_gene 2143\n",
      "end all_gene 2313\n"
     ]
    },
    {
     "name": "stderr",
     "output_type": "stream",
     "text": [
      "\r",
      " 42%|████▏     | 10/24 [01:18<01:30,  6.45s/it]"
     ]
    },
    {
     "name": "stdout",
     "output_type": "stream",
     "text": [
      "start lncrna 2313\n",
      "end lncrna 2492\n",
      "start all_gene 2313\n",
      "end all_gene 2492\n"
     ]
    },
    {
     "name": "stderr",
     "output_type": "stream",
     "text": [
      "\r",
      " 46%|████▌     | 11/24 [01:24<01:24,  6.46s/it]"
     ]
    },
    {
     "name": "stdout",
     "output_type": "stream",
     "text": [
      "start lncrna 2492\n",
      "end lncrna 2714\n",
      "start all_gene 2492\n",
      "end all_gene 2714\n"
     ]
    },
    {
     "name": "stderr",
     "output_type": "stream",
     "text": [
      "\r",
      " 50%|█████     | 12/24 [01:38<01:41,  8.48s/it]"
     ]
    },
    {
     "name": "stdout",
     "output_type": "stream",
     "text": [
      "start lncrna 2714\n",
      "end lncrna 2893\n",
      "start all_gene 2714\n",
      "end all_gene 2893\n"
     ]
    },
    {
     "name": "stderr",
     "output_type": "stream",
     "text": [
      "\r",
      " 54%|█████▍    | 13/24 [01:44<01:27,  7.98s/it]"
     ]
    },
    {
     "name": "stdout",
     "output_type": "stream",
     "text": [
      "start lncrna 2893\n",
      "end lncrna 3057\n",
      "start all_gene 2893\n",
      "end all_gene 3057\n"
     ]
    },
    {
     "name": "stderr",
     "output_type": "stream",
     "text": [
      "\r",
      " 58%|█████▊    | 14/24 [01:49<01:10,  7.05s/it]"
     ]
    },
    {
     "name": "stdout",
     "output_type": "stream",
     "text": [
      "start lncrna 3057\n",
      "end lncrna 3207\n",
      "start all_gene 3057\n",
      "end all_gene 3207\n"
     ]
    },
    {
     "name": "stderr",
     "output_type": "stream",
     "text": [
      "\r",
      " 62%|██████▎   | 15/24 [01:52<00:52,  5.78s/it]"
     ]
    },
    {
     "name": "stdout",
     "output_type": "stream",
     "text": [
      "start lncrna 3207\n",
      "end lncrna 3368\n",
      "start all_gene 3207\n",
      "end all_gene 3368\n"
     ]
    },
    {
     "name": "stderr",
     "output_type": "stream",
     "text": [
      "\r",
      " 67%|██████▋   | 16/24 [01:58<00:45,  5.72s/it]"
     ]
    },
    {
     "name": "stdout",
     "output_type": "stream",
     "text": [
      "start lncrna 3368\n",
      "end lncrna 3523\n",
      "start all_gene 3368\n",
      "end all_gene 3523\n"
     ]
    },
    {
     "name": "stderr",
     "output_type": "stream",
     "text": [
      "\r",
      " 71%|███████   | 17/24 [02:06<00:44,  6.38s/it]"
     ]
    },
    {
     "name": "stdout",
     "output_type": "stream",
     "text": [
      "start lncrna 3523\n",
      "end lncrna 3657\n",
      "start all_gene 3523\n",
      "end all_gene 3657\n"
     ]
    },
    {
     "name": "stderr",
     "output_type": "stream",
     "text": [
      "\r",
      " 75%|███████▌  | 18/24 [02:12<00:37,  6.30s/it]"
     ]
    },
    {
     "name": "stdout",
     "output_type": "stream",
     "text": [
      "start lncrna 3657\n",
      "end lncrna 3756\n",
      "start all_gene 3657\n",
      "end all_gene 3756\n"
     ]
    },
    {
     "name": "stderr",
     "output_type": "stream",
     "text": [
      "\r",
      " 79%|███████▉  | 19/24 [02:16<00:27,  5.58s/it]"
     ]
    },
    {
     "name": "stdout",
     "output_type": "stream",
     "text": [
      "start lncrna 3756\n",
      "end lncrna 3873\n",
      "start all_gene 3756\n",
      "end all_gene 3873\n"
     ]
    },
    {
     "name": "stderr",
     "output_type": "stream",
     "text": [
      "\r",
      " 83%|████████▎ | 20/24 [02:22<00:22,  5.71s/it]"
     ]
    },
    {
     "name": "stdout",
     "output_type": "stream",
     "text": [
      "start lncrna 3873\n",
      "end lncrna 3975\n",
      "start all_gene 3873\n",
      "end all_gene 3975\n"
     ]
    },
    {
     "name": "stderr",
     "output_type": "stream",
     "text": [
      "\r",
      " 88%|████████▊ | 21/24 [02:26<00:15,  5.22s/it]"
     ]
    },
    {
     "name": "stdout",
     "output_type": "stream",
     "text": [
      "start lncrna 3975\n",
      "end lncrna 4040\n",
      "start all_gene 3975\n",
      "end all_gene 4040\n"
     ]
    },
    {
     "name": "stderr",
     "output_type": "stream",
     "text": [
      "\r",
      " 92%|█████████▏| 22/24 [02:28<00:08,  4.24s/it]"
     ]
    },
    {
     "name": "stdout",
     "output_type": "stream",
     "text": [
      "start lncrna 4040\n",
      "end lncrna 4116\n",
      "start all_gene 4040\n",
      "end all_gene 4116\n"
     ]
    },
    {
     "name": "stderr",
     "output_type": "stream",
     "text": [
      "\r",
      " 96%|█████████▌| 23/24 [02:30<00:03,  3.61s/it]"
     ]
    },
    {
     "name": "stdout",
     "output_type": "stream",
     "text": [
      "start lncrna 4116\n",
      "end lncrna 4155\n",
      "start all_gene 4116\n",
      "end all_gene 4155\n"
     ]
    },
    {
     "name": "stderr",
     "output_type": "stream",
     "text": [
      "\r",
      "100%|██████████| 24/24 [02:31<00:00,  2.75s/it]"
     ]
    },
    {
     "name": "stdout",
     "output_type": "stream",
     "text": [
      "CPU times: user 2min 16s, sys: 2.44 s, total: 2min 19s\n",
      "Wall time: 2min 31s\n"
     ]
    },
    {
     "name": "stderr",
     "output_type": "stream",
     "text": [
      "\n"
     ]
    }
   ],
   "source": [
    "%%time\n",
    "overlap_gene()"
   ]
  },
  {
   "cell_type": "code",
   "execution_count": 43,
   "metadata": {},
   "outputs": [],
   "source": [
    "import csv \n",
    "header = ['lincRNA ID', 'Inflated lincrna', 'Chr region', 'No. of transcripts in lincrna', 'No. of transcripts in inflated linrna', 'Ens-Ens overlap ?', 'Inflated Overlap', 'same_opp_overlap']\n",
    "\n",
    "path = '/Users/pankajverma/Desktop/summerInternship2k17/GSoC/Ensembl/1.lncRNA/feature_selection/overlap/Ensembl/ens(linc)-ens(linc)_0.5_inflated_overlap.csv'\n",
    "\n",
    "with open(path, 'wt', newline ='') as file:\n",
    "    writer = csv.writer(file, delimiter=',')\n",
    "    writer.writerow(i for i in header)"
   ]
  },
  {
   "cell_type": "code",
   "execution_count": 44,
   "metadata": {},
   "outputs": [],
   "source": [
    "import pandas as pd\n",
    "\n",
    "df2 = pd.read_csv(path)\n",
    "\n",
    "df2[df2.columns[0]] = lncrna_gene_id\n",
    "df2[df2.columns[1]] = all_gene_id\n",
    "df2[df2.columns[2]] = chr_region\n",
    "df2[df2.columns[3]] = no_transcripts_lncrna\n",
    "df2[df2.columns[4]] = no_transcripts_all_gene\n",
    "df2[df2.columns[5]] = same_ref\n",
    "df2[df2.columns[6]] = inflated_overlap\n",
    "df2[df2.columns[7]] = same_opp_overlap\n",
    "\n",
    "df2.to_csv(path)"
   ]
  },
  {
   "cell_type": "code",
   "execution_count": 45,
   "metadata": {},
   "outputs": [
    {
     "name": "stderr",
     "output_type": "stream",
     "text": [
      "100%|██████████| 846672/846672 [00:37<00:00, 22529.79it/s]\n"
     ]
    }
   ],
   "source": [
    "c = 0\n",
    "drop_index = []\n",
    "for i in tqdm(range(len(df2))):\n",
    "    if df2['same_opp_overlap'][i] == 1:\n",
    "        continue\n",
    "    else:\n",
    "        drop_index.append(i)\n",
    "        c = c + 1"
   ]
  },
  {
   "cell_type": "code",
   "execution_count": 46,
   "metadata": {},
   "outputs": [],
   "source": [
    "df2.drop(drop_index, axis=0,inplace=True)\n",
    "df2.reset_index(drop=True, inplace=True)"
   ]
  },
  {
   "cell_type": "code",
   "execution_count": 47,
   "metadata": {},
   "outputs": [],
   "source": [
    "df2_index = df2.set_index(['lincRNA ID'])"
   ]
  },
  {
   "cell_type": "code",
   "execution_count": 48,
   "metadata": {},
   "outputs": [],
   "source": [
    "feature_ids_inflated_overlap = []"
   ]
  },
  {
   "cell_type": "code",
   "execution_count": 49,
   "metadata": {},
   "outputs": [
    {
     "name": "stdout",
     "output_type": "stream",
     "text": [
      "CPU times: user 4 µs, sys: 0 ns, total: 4 µs\n",
      "Wall time: 15 µs\n"
     ]
    }
   ],
   "source": [
    "%%time\n",
    "def get_inflated_overlap():\n",
    "    for i in tqdm(range(len(df_feature_file))):\n",
    "        a = set(df2_index.loc[df_feature_file['ENS lincRNA gene ID'][i]]['Inflated Overlap'])\n",
    "        if 0 in a:\n",
    "            feature_ids_inflated_overlap.append(0)\n",
    "            continue\n",
    "        \n",
    "        else:\n",
    "            feature_ids_inflated_overlap.append(1)\n",
    "            continue"
   ]
  },
  {
   "cell_type": "code",
   "execution_count": 50,
   "metadata": {},
   "outputs": [
    {
     "name": "stderr",
     "output_type": "stream",
     "text": [
      "100%|██████████| 4557/4557 [01:11<00:00, 63.30it/s]"
     ]
    },
    {
     "name": "stdout",
     "output_type": "stream",
     "text": [
      "CPU times: user 1min, sys: 1.35 s, total: 1min 1s\n",
      "Wall time: 1min 11s\n"
     ]
    },
    {
     "name": "stderr",
     "output_type": "stream",
     "text": [
      "\n"
     ]
    }
   ],
   "source": [
    "%%time\n",
    "get_inflated_overlap()"
   ]
  },
  {
   "cell_type": "code",
   "execution_count": 51,
   "metadata": {},
   "outputs": [
    {
     "data": {
      "text/html": [
       "<div>\n",
       "<style scoped>\n",
       "    .dataframe tbody tr th:only-of-type {\n",
       "        vertical-align: middle;\n",
       "    }\n",
       "\n",
       "    .dataframe tbody tr th {\n",
       "        vertical-align: top;\n",
       "    }\n",
       "\n",
       "    .dataframe thead th {\n",
       "        text-align: right;\n",
       "    }\n",
       "</style>\n",
       "<table border=\"1\" class=\"dataframe\">\n",
       "  <thead>\n",
       "    <tr style=\"text-align: right;\">\n",
       "      <th></th>\n",
       "      <th>lincRNA ID</th>\n",
       "      <th>Inflated lincrna</th>\n",
       "      <th>Chr region</th>\n",
       "      <th>No. of transcripts in lincrna</th>\n",
       "      <th>No. of transcripts in inflated linrna</th>\n",
       "      <th>Ens-Ens overlap ?</th>\n",
       "      <th>Inflated Overlap</th>\n",
       "      <th>same_opp_overlap</th>\n",
       "    </tr>\n",
       "  </thead>\n",
       "  <tbody>\n",
       "    <tr>\n",
       "      <th>0</th>\n",
       "      <td>ENSG00000236648</td>\n",
       "      <td>ENSG00000230699</td>\n",
       "      <td>1</td>\n",
       "      <td>1</td>\n",
       "      <td>1</td>\n",
       "      <td>Yes</td>\n",
       "      <td>1</td>\n",
       "      <td>1</td>\n",
       "    </tr>\n",
       "    <tr>\n",
       "      <th>1</th>\n",
       "      <td>ENSG00000236648</td>\n",
       "      <td>ENSG00000281912</td>\n",
       "      <td>1</td>\n",
       "      <td>1</td>\n",
       "      <td>1</td>\n",
       "      <td>Yes</td>\n",
       "      <td>1</td>\n",
       "      <td>1</td>\n",
       "    </tr>\n",
       "  </tbody>\n",
       "</table>\n",
       "</div>"
      ],
      "text/plain": [
       "        lincRNA ID Inflated lincrna Chr region  No. of transcripts in lincrna  \\\n",
       "0  ENSG00000236648  ENSG00000230699          1                              1   \n",
       "1  ENSG00000236648  ENSG00000281912          1                              1   \n",
       "\n",
       "   No. of transcripts in inflated linrna Ens-Ens overlap ?  Inflated Overlap  \\\n",
       "0                                      1               Yes                 1   \n",
       "1                                      1               Yes                 1   \n",
       "\n",
       "   same_opp_overlap  \n",
       "0                 1  \n",
       "1                 1  "
      ]
     },
     "execution_count": 51,
     "metadata": {},
     "output_type": "execute_result"
    }
   ],
   "source": [
    "df2.head(2)"
   ]
  },
  {
   "cell_type": "code",
   "execution_count": 52,
   "metadata": {},
   "outputs": [],
   "source": [
    "df_feature_file['Inflated overlap 0.5kb ens(linc)-ens(linc)'] = feature_ids_inflated_overlap"
   ]
  },
  {
   "cell_type": "code",
   "execution_count": 53,
   "metadata": {},
   "outputs": [
    {
     "data": {
      "text/html": [
       "<div>\n",
       "<style scoped>\n",
       "    .dataframe tbody tr th:only-of-type {\n",
       "        vertical-align: middle;\n",
       "    }\n",
       "\n",
       "    .dataframe tbody tr th {\n",
       "        vertical-align: top;\n",
       "    }\n",
       "\n",
       "    .dataframe thead th {\n",
       "        text-align: right;\n",
       "    }\n",
       "</style>\n",
       "<table border=\"1\" class=\"dataframe\">\n",
       "  <thead>\n",
       "    <tr style=\"text-align: right;\">\n",
       "      <th></th>\n",
       "      <th>ENS lincRNA gene ID</th>\n",
       "      <th>Ref lncRNA gene ID</th>\n",
       "      <th>Chr region</th>\n",
       "      <th>No. of transcripts in lincrna</th>\n",
       "      <th>No. of transcripts in lncrna</th>\n",
       "      <th>ENS-Ref Overlap ?</th>\n",
       "      <th>same_opp_overlap</th>\n",
       "      <th>Overlap Length</th>\n",
       "      <th>No. ENS lincrna Exons which overlap RefSeq exons</th>\n",
       "      <th>Max ORF length(ENS)</th>\n",
       "      <th>...</th>\n",
       "      <th>GC % of trans row having Max ORF(REF)</th>\n",
       "      <th>Max ORF Sequence(REF)</th>\n",
       "      <th>HGNC ID refseq lncrna?</th>\n",
       "      <th>HGNC ID ensembl lincrna?</th>\n",
       "      <th>HGNC ID refseq lncrna?(corrected)</th>\n",
       "      <th>HGNC ID ensembl lincrna?(corrected)</th>\n",
       "      <th>Inflated overlap 1kb ens(linc)-ens(protein_coding)</th>\n",
       "      <th>is ref LOC ?</th>\n",
       "      <th>Inflated overlap 1kb ref(lnc)-ref(protein_coding)</th>\n",
       "      <th>Inflated overlap 0.5kb ens(linc)-ens(linc)</th>\n",
       "    </tr>\n",
       "  </thead>\n",
       "  <tbody>\n",
       "    <tr>\n",
       "      <th>0</th>\n",
       "      <td>ENSG00000236648</td>\n",
       "      <td>gene-LOC107984028</td>\n",
       "      <td>1</td>\n",
       "      <td>1</td>\n",
       "      <td>4</td>\n",
       "      <td>Yes</td>\n",
       "      <td>1</td>\n",
       "      <td>17270</td>\n",
       "      <td>3</td>\n",
       "      <td>90</td>\n",
       "      <td>...</td>\n",
       "      <td>49.57</td>\n",
       "      <td>ATGTCAGCGTGGCTGCCCATGGGATCCCAGCCTGGTTTGCCTTTAA...</td>\n",
       "      <td>0</td>\n",
       "      <td>0</td>\n",
       "      <td>1</td>\n",
       "      <td>1</td>\n",
       "      <td>1</td>\n",
       "      <td>1</td>\n",
       "      <td>1</td>\n",
       "      <td>1</td>\n",
       "    </tr>\n",
       "    <tr>\n",
       "      <th>1</th>\n",
       "      <td>ENSG00000230704</td>\n",
       "      <td>gene-LOC101928628</td>\n",
       "      <td>1</td>\n",
       "      <td>1</td>\n",
       "      <td>1</td>\n",
       "      <td>Yes</td>\n",
       "      <td>1</td>\n",
       "      <td>1720</td>\n",
       "      <td>2</td>\n",
       "      <td>36</td>\n",
       "      <td>...</td>\n",
       "      <td>39.04</td>\n",
       "      <td>ATGTATCAATAG</td>\n",
       "      <td>0</td>\n",
       "      <td>0</td>\n",
       "      <td>1</td>\n",
       "      <td>1</td>\n",
       "      <td>0</td>\n",
       "      <td>1</td>\n",
       "      <td>1</td>\n",
       "      <td>1</td>\n",
       "    </tr>\n",
       "  </tbody>\n",
       "</table>\n",
       "<p>2 rows × 27 columns</p>\n",
       "</div>"
      ],
      "text/plain": [
       "  ENS lincRNA gene ID Ref lncRNA gene ID Chr region  \\\n",
       "0     ENSG00000236648  gene-LOC107984028          1   \n",
       "1     ENSG00000230704  gene-LOC101928628          1   \n",
       "\n",
       "   No. of transcripts in lincrna  No. of transcripts in lncrna  \\\n",
       "0                              1                             4   \n",
       "1                              1                             1   \n",
       "\n",
       "  ENS-Ref Overlap ?  same_opp_overlap Overlap Length  \\\n",
       "0               Yes                 1          17270   \n",
       "1               Yes                 1           1720   \n",
       "\n",
       "   No. ENS lincrna Exons which overlap RefSeq exons  Max ORF length(ENS)  ...  \\\n",
       "0                                                 3                   90  ...   \n",
       "1                                                 2                   36  ...   \n",
       "\n",
       "   GC % of trans row having Max ORF(REF)  \\\n",
       "0                                  49.57   \n",
       "1                                  39.04   \n",
       "\n",
       "                               Max ORF Sequence(REF)  HGNC ID refseq lncrna?  \\\n",
       "0  ATGTCAGCGTGGCTGCCCATGGGATCCCAGCCTGGTTTGCCTTTAA...                       0   \n",
       "1                                       ATGTATCAATAG                       0   \n",
       "\n",
       "  HGNC ID ensembl lincrna?  HGNC ID refseq lncrna?(corrected)  \\\n",
       "0                        0                                  1   \n",
       "1                        0                                  1   \n",
       "\n",
       "   HGNC ID ensembl lincrna?(corrected)  \\\n",
       "0                                    1   \n",
       "1                                    1   \n",
       "\n",
       "   Inflated overlap 1kb ens(linc)-ens(protein_coding)  is ref LOC ?  \\\n",
       "0                                                  1              1   \n",
       "1                                                  0              1   \n",
       "\n",
       "  Inflated overlap 1kb ref(lnc)-ref(protein_coding)  \\\n",
       "0                                                 1   \n",
       "1                                                 1   \n",
       "\n",
       "   Inflated overlap 0.5kb ens(linc)-ens(linc)  \n",
       "0                                           1  \n",
       "1                                           1  \n",
       "\n",
       "[2 rows x 27 columns]"
      ]
     },
     "execution_count": 53,
     "metadata": {},
     "output_type": "execute_result"
    }
   ],
   "source": [
    "df_feature_file.head(2)"
   ]
  },
  {
   "cell_type": "code",
   "execution_count": 54,
   "metadata": {},
   "outputs": [],
   "source": [
    "df_feature_file.to_csv('/Users/pankajverma/Desktop/summerInternship2k17/GSoC/Ensembl/1.lncRNA/feature_selection/inflated_ens(linc)-ens(linc)_0.5_v5/0.5kb_inflation_ens-ens_v5.csv')"
   ]
  },
  {
   "cell_type": "code",
   "execution_count": null,
   "metadata": {},
   "outputs": [],
   "source": []
  }
 ],
 "metadata": {
  "kernelspec": {
   "display_name": "Python [conda env:gsoc_ensembl]",
   "language": "python",
   "name": "conda-env-gsoc_ensembl-py"
  },
  "language_info": {
   "codemirror_mode": {
    "name": "ipython",
    "version": 3
   },
   "file_extension": ".py",
   "mimetype": "text/x-python",
   "name": "python",
   "nbconvert_exporter": "python",
   "pygments_lexer": "ipython3",
   "version": "3.6.5"
  }
 },
 "nbformat": 4,
 "nbformat_minor": 2
}
