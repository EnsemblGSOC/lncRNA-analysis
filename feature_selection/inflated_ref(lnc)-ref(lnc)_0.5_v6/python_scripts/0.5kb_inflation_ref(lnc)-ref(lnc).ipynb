{
 "cells": [
  {
   "cell_type": "code",
   "execution_count": 1,
   "metadata": {},
   "outputs": [],
   "source": [
    "import pandas as pd\n",
    "df_ref_all_gene = pd.read_csv('/Users/pankajverma/Desktop/summerInternship2k17/GSoC/Ensembl/1.lncRNA/dataset/refseq_numeric/all_type=lncRNA_data/all_lncrna_sorted_chr/all_lncrna_gene_data_sorted_chr.csv', index_col=0)"
   ]
  },
  {
   "cell_type": "code",
   "execution_count": 2,
   "metadata": {},
   "outputs": [
    {
     "data": {
      "text/html": [
       "<div>\n",
       "<style scoped>\n",
       "    .dataframe tbody tr th:only-of-type {\n",
       "        vertical-align: middle;\n",
       "    }\n",
       "\n",
       "    .dataframe tbody tr th {\n",
       "        vertical-align: top;\n",
       "    }\n",
       "\n",
       "    .dataframe thead th {\n",
       "        text-align: right;\n",
       "    }\n",
       "</style>\n",
       "<table border=\"1\" class=\"dataframe\">\n",
       "  <thead>\n",
       "    <tr style=\"text-align: right;\">\n",
       "      <th></th>\n",
       "      <th>SNO</th>\n",
       "      <th>Index</th>\n",
       "      <th>RefSeq Gene ID</th>\n",
       "      <th>Dbxref</th>\n",
       "      <th>Name</th>\n",
       "      <th>gbkey</th>\n",
       "      <th>Biotype</th>\n",
       "      <th>Type</th>\n",
       "      <th>Seq_id</th>\n",
       "      <th>Strand</th>\n",
       "      <th>Start</th>\n",
       "      <th>End</th>\n",
       "      <th>No. of Transcripts</th>\n",
       "    </tr>\n",
       "  </thead>\n",
       "  <tbody>\n",
       "    <tr>\n",
       "      <th>0</th>\n",
       "      <td>1</td>\n",
       "      <td>26</td>\n",
       "      <td>gene-MIR1302-2HG</td>\n",
       "      <td>GeneID:107985730,HGNC:HGNC:52482</td>\n",
       "      <td>MIR1302-2HG</td>\n",
       "      <td>Gene</td>\n",
       "      <td>lncRNA</td>\n",
       "      <td>gene</td>\n",
       "      <td>1</td>\n",
       "      <td>1</td>\n",
       "      <td>29926</td>\n",
       "      <td>31295</td>\n",
       "      <td>1</td>\n",
       "    </tr>\n",
       "    <tr>\n",
       "      <th>1</th>\n",
       "      <td>877</td>\n",
       "      <td>256858</td>\n",
       "      <td>gene-LINC01142</td>\n",
       "      <td>GeneID:284688,HGNC:HGNC:49456</td>\n",
       "      <td>LINC01142</td>\n",
       "      <td>Gene</td>\n",
       "      <td>lncRNA</td>\n",
       "      <td>gene</td>\n",
       "      <td>1</td>\n",
       "      <td>-1</td>\n",
       "      <td>170271405</td>\n",
       "      <td>170284208</td>\n",
       "      <td>1</td>\n",
       "    </tr>\n",
       "  </tbody>\n",
       "</table>\n",
       "</div>"
      ],
      "text/plain": [
       "   SNO   Index    RefSeq Gene ID                            Dbxref  \\\n",
       "0    1      26  gene-MIR1302-2HG  GeneID:107985730,HGNC:HGNC:52482   \n",
       "1  877  256858    gene-LINC01142     GeneID:284688,HGNC:HGNC:49456   \n",
       "\n",
       "          Name gbkey Biotype  Type Seq_id  Strand      Start        End  \\\n",
       "0  MIR1302-2HG  Gene  lncRNA  gene      1       1      29926      31295   \n",
       "1    LINC01142  Gene  lncRNA  gene      1      -1  170271405  170284208   \n",
       "\n",
       "   No. of Transcripts  \n",
       "0                   1  \n",
       "1                   1  "
      ]
     },
     "execution_count": 2,
     "metadata": {},
     "output_type": "execute_result"
    }
   ],
   "source": [
    "df_ref_all_gene.head(2)"
   ]
  },
  {
   "cell_type": "code",
   "execution_count": 3,
   "metadata": {},
   "outputs": [
    {
     "data": {
      "text/plain": [
       "array(['1', '2', '3', '4', '5', '6', '7', '8', '9', '10', '11', '12',\n",
       "       '13', '14', '15', '16', '17', '18', '19', '20', '21', '22', 'X',\n",
       "       'Y'], dtype=object)"
      ]
     },
     "execution_count": 3,
     "metadata": {},
     "output_type": "execute_result"
    }
   ],
   "source": [
    "df_ref_all_gene['Seq_id'].unique()"
   ]
  },
  {
   "cell_type": "code",
   "execution_count": 4,
   "metadata": {},
   "outputs": [],
   "source": [
    "df_lncrna_gene = pd.read_csv('/Users/pankajverma/Desktop/summerInternship2k17/GSoC/Ensembl/1.lncRNA/dataset/refseq_numeric/all_type=lncRNA_data/all_lncrna_sorted_chr/all_lncrna_gene_data_sorted_chr.csv', index_col=0)"
   ]
  },
  {
   "cell_type": "code",
   "execution_count": 5,
   "metadata": {},
   "outputs": [
    {
     "data": {
      "text/html": [
       "<div>\n",
       "<style scoped>\n",
       "    .dataframe tbody tr th:only-of-type {\n",
       "        vertical-align: middle;\n",
       "    }\n",
       "\n",
       "    .dataframe tbody tr th {\n",
       "        vertical-align: top;\n",
       "    }\n",
       "\n",
       "    .dataframe thead th {\n",
       "        text-align: right;\n",
       "    }\n",
       "</style>\n",
       "<table border=\"1\" class=\"dataframe\">\n",
       "  <thead>\n",
       "    <tr style=\"text-align: right;\">\n",
       "      <th></th>\n",
       "      <th>SNO</th>\n",
       "      <th>Index</th>\n",
       "      <th>RefSeq Gene ID</th>\n",
       "      <th>Dbxref</th>\n",
       "      <th>Name</th>\n",
       "      <th>gbkey</th>\n",
       "      <th>Biotype</th>\n",
       "      <th>Type</th>\n",
       "      <th>Seq_id</th>\n",
       "      <th>Strand</th>\n",
       "      <th>Start</th>\n",
       "      <th>End</th>\n",
       "      <th>No. of Transcripts</th>\n",
       "    </tr>\n",
       "  </thead>\n",
       "  <tbody>\n",
       "    <tr>\n",
       "      <th>0</th>\n",
       "      <td>1</td>\n",
       "      <td>26</td>\n",
       "      <td>gene-MIR1302-2HG</td>\n",
       "      <td>GeneID:107985730,HGNC:HGNC:52482</td>\n",
       "      <td>MIR1302-2HG</td>\n",
       "      <td>Gene</td>\n",
       "      <td>lncRNA</td>\n",
       "      <td>gene</td>\n",
       "      <td>1</td>\n",
       "      <td>1</td>\n",
       "      <td>29926</td>\n",
       "      <td>31295</td>\n",
       "      <td>1</td>\n",
       "    </tr>\n",
       "    <tr>\n",
       "      <th>1</th>\n",
       "      <td>877</td>\n",
       "      <td>256858</td>\n",
       "      <td>gene-LINC01142</td>\n",
       "      <td>GeneID:284688,HGNC:HGNC:49456</td>\n",
       "      <td>LINC01142</td>\n",
       "      <td>Gene</td>\n",
       "      <td>lncRNA</td>\n",
       "      <td>gene</td>\n",
       "      <td>1</td>\n",
       "      <td>-1</td>\n",
       "      <td>170271405</td>\n",
       "      <td>170284208</td>\n",
       "      <td>1</td>\n",
       "    </tr>\n",
       "  </tbody>\n",
       "</table>\n",
       "</div>"
      ],
      "text/plain": [
       "   SNO   Index    RefSeq Gene ID                            Dbxref  \\\n",
       "0    1      26  gene-MIR1302-2HG  GeneID:107985730,HGNC:HGNC:52482   \n",
       "1  877  256858    gene-LINC01142     GeneID:284688,HGNC:HGNC:49456   \n",
       "\n",
       "          Name gbkey Biotype  Type Seq_id  Strand      Start        End  \\\n",
       "0  MIR1302-2HG  Gene  lncRNA  gene      1       1      29926      31295   \n",
       "1    LINC01142  Gene  lncRNA  gene      1      -1  170271405  170284208   \n",
       "\n",
       "   No. of Transcripts  \n",
       "0                   1  \n",
       "1                   1  "
      ]
     },
     "execution_count": 5,
     "metadata": {},
     "output_type": "execute_result"
    }
   ],
   "source": [
    "df_lncrna_gene.head(2)"
   ]
  },
  {
   "cell_type": "code",
   "execution_count": 13,
   "metadata": {},
   "outputs": [
    {
     "data": {
      "text/html": [
       "<div>\n",
       "<style scoped>\n",
       "    .dataframe tbody tr th:only-of-type {\n",
       "        vertical-align: middle;\n",
       "    }\n",
       "\n",
       "    .dataframe tbody tr th {\n",
       "        vertical-align: top;\n",
       "    }\n",
       "\n",
       "    .dataframe thead th {\n",
       "        text-align: right;\n",
       "    }\n",
       "</style>\n",
       "<table border=\"1\" class=\"dataframe\">\n",
       "  <thead>\n",
       "    <tr style=\"text-align: right;\">\n",
       "      <th></th>\n",
       "      <th>SNO</th>\n",
       "      <th>Index</th>\n",
       "      <th>RefSeq Gene ID</th>\n",
       "      <th>Dbxref</th>\n",
       "      <th>Name</th>\n",
       "      <th>gbkey</th>\n",
       "      <th>Biotype</th>\n",
       "      <th>Type</th>\n",
       "      <th>Seq_id</th>\n",
       "      <th>Strand</th>\n",
       "      <th>Start</th>\n",
       "      <th>End</th>\n",
       "      <th>No. of Transcripts</th>\n",
       "    </tr>\n",
       "  </thead>\n",
       "  <tbody>\n",
       "    <tr>\n",
       "      <th>0</th>\n",
       "      <td>1</td>\n",
       "      <td>1</td>\n",
       "      <td>gene-DDX11L1</td>\n",
       "      <td>GeneID:100287102,HGNC:HGNC:37102</td>\n",
       "      <td>DDX11L1</td>\n",
       "      <td>Gene</td>\n",
       "      <td>transcribed_pseudogene</td>\n",
       "      <td>pseudogene</td>\n",
       "      <td>1</td>\n",
       "      <td>1</td>\n",
       "      <td>11874</td>\n",
       "      <td>14409</td>\n",
       "      <td>1</td>\n",
       "    </tr>\n",
       "    <tr>\n",
       "      <th>1</th>\n",
       "      <td>3411</td>\n",
       "      <td>246389</td>\n",
       "      <td>gene-USF1</td>\n",
       "      <td>GeneID:7391,HGNC:HGNC:12593,MIM:191523</td>\n",
       "      <td>USF1</td>\n",
       "      <td>Gene</td>\n",
       "      <td>protein_coding</td>\n",
       "      <td>gene</td>\n",
       "      <td>1</td>\n",
       "      <td>-1</td>\n",
       "      <td>161039251</td>\n",
       "      <td>161045979</td>\n",
       "      <td>3</td>\n",
       "    </tr>\n",
       "  </tbody>\n",
       "</table>\n",
       "</div>"
      ],
      "text/plain": [
       "    SNO   Index RefSeq Gene ID                                  Dbxref  \\\n",
       "0     1       1   gene-DDX11L1        GeneID:100287102,HGNC:HGNC:37102   \n",
       "1  3411  246389      gene-USF1  GeneID:7391,HGNC:HGNC:12593,MIM:191523   \n",
       "\n",
       "      Name gbkey                 Biotype        Type Seq_id  Strand  \\\n",
       "0  DDX11L1  Gene  transcribed_pseudogene  pseudogene      1       1   \n",
       "1     USF1  Gene          protein_coding        gene      1      -1   \n",
       "\n",
       "       Start        End  No. of Transcripts  \n",
       "0      11874      14409                   1  \n",
       "1  161039251  161045979                   3  "
      ]
     },
     "execution_count": 13,
     "metadata": {},
     "output_type": "execute_result"
    }
   ],
   "source": [
    "df_ref_all_gene.head(2)"
   ]
  },
  {
   "cell_type": "code",
   "execution_count": 10,
   "metadata": {},
   "outputs": [],
   "source": [
    "from tqdm import tqdm"
   ]
  },
  {
   "cell_type": "code",
   "execution_count": 6,
   "metadata": {},
   "outputs": [],
   "source": [
    "import pandas as pd\n",
    "df_feature_file = pd.read_csv('/Users/pankajverma/Desktop/summerInternship2k17/GSoC/Ensembl/1.lncRNA/feature_selection/inflated_ens(linc)-ens(linc)_0.5_v5/0.5kb_inflation_ens-ens_v5.csv', index_col=0)"
   ]
  },
  {
   "cell_type": "code",
   "execution_count": 7,
   "metadata": {},
   "outputs": [
    {
     "data": {
      "text/html": [
       "<div>\n",
       "<style scoped>\n",
       "    .dataframe tbody tr th:only-of-type {\n",
       "        vertical-align: middle;\n",
       "    }\n",
       "\n",
       "    .dataframe tbody tr th {\n",
       "        vertical-align: top;\n",
       "    }\n",
       "\n",
       "    .dataframe thead th {\n",
       "        text-align: right;\n",
       "    }\n",
       "</style>\n",
       "<table border=\"1\" class=\"dataframe\">\n",
       "  <thead>\n",
       "    <tr style=\"text-align: right;\">\n",
       "      <th></th>\n",
       "      <th>ENS lincRNA gene ID</th>\n",
       "      <th>Ref lncRNA gene ID</th>\n",
       "      <th>Chr region</th>\n",
       "      <th>No. of transcripts in lincrna</th>\n",
       "      <th>No. of transcripts in lncrna</th>\n",
       "      <th>ENS-Ref Overlap ?</th>\n",
       "      <th>same_opp_overlap</th>\n",
       "      <th>Overlap Length</th>\n",
       "      <th>No. ENS lincrna Exons which overlap RefSeq exons</th>\n",
       "      <th>Max ORF length(ENS)</th>\n",
       "      <th>...</th>\n",
       "      <th>GC % of trans row having Max ORF(REF)</th>\n",
       "      <th>Max ORF Sequence(REF)</th>\n",
       "      <th>HGNC ID refseq lncrna?</th>\n",
       "      <th>HGNC ID ensembl lincrna?</th>\n",
       "      <th>HGNC ID refseq lncrna?(corrected)</th>\n",
       "      <th>HGNC ID ensembl lincrna?(corrected)</th>\n",
       "      <th>Inflated overlap 1kb ens(linc)-ens(protein_coding)</th>\n",
       "      <th>is ref LOC ?</th>\n",
       "      <th>Inflated overlap 1kb ref(lnc)-ref(protein_coding)</th>\n",
       "      <th>Inflated overlap 0.5kb ens(linc)-ens(linc)</th>\n",
       "    </tr>\n",
       "  </thead>\n",
       "  <tbody>\n",
       "    <tr>\n",
       "      <th>0</th>\n",
       "      <td>ENSG00000236648</td>\n",
       "      <td>gene-LOC107984028</td>\n",
       "      <td>1</td>\n",
       "      <td>1</td>\n",
       "      <td>4</td>\n",
       "      <td>Yes</td>\n",
       "      <td>1</td>\n",
       "      <td>17270</td>\n",
       "      <td>3</td>\n",
       "      <td>90</td>\n",
       "      <td>...</td>\n",
       "      <td>49.57</td>\n",
       "      <td>ATGTCAGCGTGGCTGCCCATGGGATCCCAGCCTGGTTTGCCTTTAA...</td>\n",
       "      <td>0</td>\n",
       "      <td>0</td>\n",
       "      <td>1</td>\n",
       "      <td>1</td>\n",
       "      <td>1</td>\n",
       "      <td>1</td>\n",
       "      <td>1</td>\n",
       "      <td>1</td>\n",
       "    </tr>\n",
       "    <tr>\n",
       "      <th>1</th>\n",
       "      <td>ENSG00000230704</td>\n",
       "      <td>gene-LOC101928628</td>\n",
       "      <td>1</td>\n",
       "      <td>1</td>\n",
       "      <td>1</td>\n",
       "      <td>Yes</td>\n",
       "      <td>1</td>\n",
       "      <td>1720</td>\n",
       "      <td>2</td>\n",
       "      <td>36</td>\n",
       "      <td>...</td>\n",
       "      <td>39.04</td>\n",
       "      <td>ATGTATCAATAG</td>\n",
       "      <td>0</td>\n",
       "      <td>0</td>\n",
       "      <td>1</td>\n",
       "      <td>1</td>\n",
       "      <td>0</td>\n",
       "      <td>1</td>\n",
       "      <td>1</td>\n",
       "      <td>1</td>\n",
       "    </tr>\n",
       "  </tbody>\n",
       "</table>\n",
       "<p>2 rows × 27 columns</p>\n",
       "</div>"
      ],
      "text/plain": [
       "  ENS lincRNA gene ID Ref lncRNA gene ID Chr region  \\\n",
       "0     ENSG00000236648  gene-LOC107984028          1   \n",
       "1     ENSG00000230704  gene-LOC101928628          1   \n",
       "\n",
       "   No. of transcripts in lincrna  No. of transcripts in lncrna  \\\n",
       "0                              1                             4   \n",
       "1                              1                             1   \n",
       "\n",
       "  ENS-Ref Overlap ?  same_opp_overlap Overlap Length  \\\n",
       "0               Yes                 1          17270   \n",
       "1               Yes                 1           1720   \n",
       "\n",
       "   No. ENS lincrna Exons which overlap RefSeq exons  Max ORF length(ENS)  ...  \\\n",
       "0                                                 3                   90  ...   \n",
       "1                                                 2                   36  ...   \n",
       "\n",
       "   GC % of trans row having Max ORF(REF)  \\\n",
       "0                                  49.57   \n",
       "1                                  39.04   \n",
       "\n",
       "                               Max ORF Sequence(REF)  HGNC ID refseq lncrna?  \\\n",
       "0  ATGTCAGCGTGGCTGCCCATGGGATCCCAGCCTGGTTTGCCTTTAA...                       0   \n",
       "1                                       ATGTATCAATAG                       0   \n",
       "\n",
       "  HGNC ID ensembl lincrna?  HGNC ID refseq lncrna?(corrected)  \\\n",
       "0                        0                                  1   \n",
       "1                        0                                  1   \n",
       "\n",
       "   HGNC ID ensembl lincrna?(corrected)  \\\n",
       "0                                    1   \n",
       "1                                    1   \n",
       "\n",
       "   Inflated overlap 1kb ens(linc)-ens(protein_coding)  is ref LOC ?  \\\n",
       "0                                                  1              1   \n",
       "1                                                  0              1   \n",
       "\n",
       "  Inflated overlap 1kb ref(lnc)-ref(protein_coding)  \\\n",
       "0                                                 1   \n",
       "1                                                 1   \n",
       "\n",
       "   Inflated overlap 0.5kb ens(linc)-ens(linc)  \n",
       "0                                           1  \n",
       "1                                           1  \n",
       "\n",
       "[2 rows x 27 columns]"
      ]
     },
     "execution_count": 7,
     "metadata": {},
     "output_type": "execute_result"
    }
   ],
   "source": [
    "df_feature_file.head(2)"
   ]
  },
  {
   "cell_type": "code",
   "execution_count": 8,
   "metadata": {},
   "outputs": [],
   "source": [
    "set_feature_linc_ids = set(df_feature_file['Ref lncRNA gene ID'].tolist())"
   ]
  },
  {
   "cell_type": "code",
   "execution_count": 11,
   "metadata": {},
   "outputs": [
    {
     "name": "stderr",
     "output_type": "stream",
     "text": [
      "100%|██████████| 14642/14642 [00:00<00:00, 22403.80it/s]\n"
     ]
    }
   ],
   "source": [
    "drop_index = []\n",
    "c = 0\n",
    "for i in tqdm(range(len(df_ref_all_gene))):\n",
    "    if df_ref_all_gene['RefSeq Gene ID'][i] in set_feature_linc_ids:\n",
    "        continue\n",
    "    else:\n",
    "        drop_index.append(i)"
   ]
  },
  {
   "cell_type": "code",
   "execution_count": 12,
   "metadata": {},
   "outputs": [],
   "source": [
    "df_ref_all_gene.drop(drop_index, axis=0,inplace=True)\n",
    "df_ref_all_gene.reset_index(drop=True, inplace=True)"
   ]
  },
  {
   "cell_type": "code",
   "execution_count": 13,
   "metadata": {},
   "outputs": [],
   "source": [
    "df_lncrna_gene.drop(drop_index, axis=0,inplace=True)\n",
    "df_lncrna_gene.reset_index(drop=True, inplace=True)"
   ]
  },
  {
   "cell_type": "code",
   "execution_count": 15,
   "metadata": {},
   "outputs": [
    {
     "data": {
      "text/plain": [
       "4207"
      ]
     },
     "execution_count": 15,
     "metadata": {},
     "output_type": "execute_result"
    }
   ],
   "source": [
    "len(df_ref_all_gene)"
   ]
  },
  {
   "cell_type": "code",
   "execution_count": 16,
   "metadata": {},
   "outputs": [
    {
     "data": {
      "text/html": [
       "<div>\n",
       "<style scoped>\n",
       "    .dataframe tbody tr th:only-of-type {\n",
       "        vertical-align: middle;\n",
       "    }\n",
       "\n",
       "    .dataframe tbody tr th {\n",
       "        vertical-align: top;\n",
       "    }\n",
       "\n",
       "    .dataframe thead th {\n",
       "        text-align: right;\n",
       "    }\n",
       "</style>\n",
       "<table border=\"1\" class=\"dataframe\">\n",
       "  <thead>\n",
       "    <tr style=\"text-align: right;\">\n",
       "      <th></th>\n",
       "      <th>ENS lincRNA gene ID</th>\n",
       "      <th>Ref lncRNA gene ID</th>\n",
       "      <th>Chr region</th>\n",
       "      <th>No. of transcripts in lincrna</th>\n",
       "      <th>No. of transcripts in lncrna</th>\n",
       "      <th>ENS-Ref Overlap ?</th>\n",
       "      <th>same_opp_overlap</th>\n",
       "      <th>Overlap Length</th>\n",
       "      <th>No. ENS lincrna Exons which overlap RefSeq exons</th>\n",
       "      <th>Max ORF length(ENS)</th>\n",
       "      <th>...</th>\n",
       "      <th>GC % of trans row having Max ORF(REF)</th>\n",
       "      <th>Max ORF Sequence(REF)</th>\n",
       "      <th>HGNC ID refseq lncrna?</th>\n",
       "      <th>HGNC ID ensembl lincrna?</th>\n",
       "      <th>HGNC ID refseq lncrna?(corrected)</th>\n",
       "      <th>HGNC ID ensembl lincrna?(corrected)</th>\n",
       "      <th>Inflated overlap 1kb ens(linc)-ens(protein_coding)</th>\n",
       "      <th>is ref LOC ?</th>\n",
       "      <th>Inflated overlap 1kb ref(lnc)-ref(protein_coding)</th>\n",
       "      <th>Inflated overlap 0.5kb ens(linc)-ens(linc)</th>\n",
       "    </tr>\n",
       "  </thead>\n",
       "  <tbody>\n",
       "    <tr>\n",
       "      <th>0</th>\n",
       "      <td>ENSG00000236648</td>\n",
       "      <td>gene-LOC107984028</td>\n",
       "      <td>1</td>\n",
       "      <td>1</td>\n",
       "      <td>4</td>\n",
       "      <td>Yes</td>\n",
       "      <td>1</td>\n",
       "      <td>17270</td>\n",
       "      <td>3</td>\n",
       "      <td>90</td>\n",
       "      <td>...</td>\n",
       "      <td>49.57</td>\n",
       "      <td>ATGTCAGCGTGGCTGCCCATGGGATCCCAGCCTGGTTTGCCTTTAA...</td>\n",
       "      <td>0</td>\n",
       "      <td>0</td>\n",
       "      <td>1</td>\n",
       "      <td>1</td>\n",
       "      <td>1</td>\n",
       "      <td>1</td>\n",
       "      <td>1</td>\n",
       "      <td>1</td>\n",
       "    </tr>\n",
       "    <tr>\n",
       "      <th>1</th>\n",
       "      <td>ENSG00000230704</td>\n",
       "      <td>gene-LOC101928628</td>\n",
       "      <td>1</td>\n",
       "      <td>1</td>\n",
       "      <td>1</td>\n",
       "      <td>Yes</td>\n",
       "      <td>1</td>\n",
       "      <td>1720</td>\n",
       "      <td>2</td>\n",
       "      <td>36</td>\n",
       "      <td>...</td>\n",
       "      <td>39.04</td>\n",
       "      <td>ATGTATCAATAG</td>\n",
       "      <td>0</td>\n",
       "      <td>0</td>\n",
       "      <td>1</td>\n",
       "      <td>1</td>\n",
       "      <td>0</td>\n",
       "      <td>1</td>\n",
       "      <td>1</td>\n",
       "      <td>1</td>\n",
       "    </tr>\n",
       "    <tr>\n",
       "      <th>2</th>\n",
       "      <td>ENSG00000230699</td>\n",
       "      <td>gene-LOC284600</td>\n",
       "      <td>1</td>\n",
       "      <td>1</td>\n",
       "      <td>1</td>\n",
       "      <td>Yes</td>\n",
       "      <td>1</td>\n",
       "      <td>3348</td>\n",
       "      <td>1</td>\n",
       "      <td>18</td>\n",
       "      <td>...</td>\n",
       "      <td>59.80</td>\n",
       "      <td>ATGGCTGTGATTTCAGAAAAGCGGACGTAA</td>\n",
       "      <td>0</td>\n",
       "      <td>0</td>\n",
       "      <td>1</td>\n",
       "      <td>1</td>\n",
       "      <td>1</td>\n",
       "      <td>1</td>\n",
       "      <td>1</td>\n",
       "      <td>0</td>\n",
       "    </tr>\n",
       "  </tbody>\n",
       "</table>\n",
       "<p>3 rows × 27 columns</p>\n",
       "</div>"
      ],
      "text/plain": [
       "  ENS lincRNA gene ID Ref lncRNA gene ID Chr region  \\\n",
       "0     ENSG00000236648  gene-LOC107984028          1   \n",
       "1     ENSG00000230704  gene-LOC101928628          1   \n",
       "2     ENSG00000230699     gene-LOC284600          1   \n",
       "\n",
       "   No. of transcripts in lincrna  No. of transcripts in lncrna  \\\n",
       "0                              1                             4   \n",
       "1                              1                             1   \n",
       "2                              1                             1   \n",
       "\n",
       "  ENS-Ref Overlap ?  same_opp_overlap Overlap Length  \\\n",
       "0               Yes                 1          17270   \n",
       "1               Yes                 1           1720   \n",
       "2               Yes                 1           3348   \n",
       "\n",
       "   No. ENS lincrna Exons which overlap RefSeq exons  Max ORF length(ENS)  ...  \\\n",
       "0                                                 3                   90  ...   \n",
       "1                                                 2                   36  ...   \n",
       "2                                                 1                   18  ...   \n",
       "\n",
       "   GC % of trans row having Max ORF(REF)  \\\n",
       "0                                  49.57   \n",
       "1                                  39.04   \n",
       "2                                  59.80   \n",
       "\n",
       "                               Max ORF Sequence(REF)  HGNC ID refseq lncrna?  \\\n",
       "0  ATGTCAGCGTGGCTGCCCATGGGATCCCAGCCTGGTTTGCCTTTAA...                       0   \n",
       "1                                       ATGTATCAATAG                       0   \n",
       "2                     ATGGCTGTGATTTCAGAAAAGCGGACGTAA                       0   \n",
       "\n",
       "  HGNC ID ensembl lincrna?  HGNC ID refseq lncrna?(corrected)  \\\n",
       "0                        0                                  1   \n",
       "1                        0                                  1   \n",
       "2                        0                                  1   \n",
       "\n",
       "   HGNC ID ensembl lincrna?(corrected)  \\\n",
       "0                                    1   \n",
       "1                                    1   \n",
       "2                                    1   \n",
       "\n",
       "   Inflated overlap 1kb ens(linc)-ens(protein_coding)  is ref LOC ?  \\\n",
       "0                                                  1              1   \n",
       "1                                                  0              1   \n",
       "2                                                  1              1   \n",
       "\n",
       "  Inflated overlap 1kb ref(lnc)-ref(protein_coding)  \\\n",
       "0                                                 1   \n",
       "1                                                 1   \n",
       "2                                                 1   \n",
       "\n",
       "   Inflated overlap 0.5kb ens(linc)-ens(linc)  \n",
       "0                                           1  \n",
       "1                                           1  \n",
       "2                                           0  \n",
       "\n",
       "[3 rows x 27 columns]"
      ]
     },
     "execution_count": 16,
     "metadata": {},
     "output_type": "execute_result"
    }
   ],
   "source": [
    "df_feature_file.head(3)"
   ]
  },
  {
   "cell_type": "code",
   "execution_count": 19,
   "metadata": {},
   "outputs": [],
   "source": [
    "len_all_gene_chr = df_ref_all_gene['Seq_id'].value_counts()"
   ]
  },
  {
   "cell_type": "code",
   "execution_count": 20,
   "metadata": {},
   "outputs": [],
   "source": [
    "len_lnc_gene_chr = df_lncrna_gene['Seq_id'].value_counts()"
   ]
  },
  {
   "cell_type": "code",
   "execution_count": 21,
   "metadata": {},
   "outputs": [],
   "source": [
    "lnc_gene_strand = df_lncrna_gene['Strand']\n",
    "all_gene_strand = df_ref_all_gene['Strand']"
   ]
  },
  {
   "cell_type": "code",
   "execution_count": 22,
   "metadata": {},
   "outputs": [
    {
     "name": "stdout",
     "output_type": "stream",
     "text": [
      "29926 31295\n"
     ]
    }
   ],
   "source": [
    "print(df_ref_all_gene['Start'][0], df_ref_all_gene['End'][0])"
   ]
  },
  {
   "cell_type": "code",
   "execution_count": 23,
   "metadata": {},
   "outputs": [],
   "source": [
    "df_ref_all_gene['Start'] = df_ref_all_gene['Start'] - 500\n",
    "df_ref_all_gene['End'] = df_ref_all_gene['End'] + 500"
   ]
  },
  {
   "cell_type": "code",
   "execution_count": 24,
   "metadata": {},
   "outputs": [
    {
     "name": "stdout",
     "output_type": "stream",
     "text": [
      "29426 31795\n"
     ]
    }
   ],
   "source": [
    "print(df_ref_all_gene['Start'][0], df_ref_all_gene['End'][0])"
   ]
  },
  {
   "cell_type": "code",
   "execution_count": 25,
   "metadata": {},
   "outputs": [],
   "source": [
    "lncrna_gene_coords = df_lncrna_gene[['Start','End']].to_numpy()\n",
    "all_gene_coords = df_ref_all_gene[['Start','End']].to_numpy()"
   ]
  },
  {
   "cell_type": "code",
   "execution_count": 26,
   "metadata": {},
   "outputs": [],
   "source": [
    "a = []\n",
    "for i in range(0,22,1):\n",
    "    a.append(str(i+1))"
   ]
  },
  {
   "cell_type": "code",
   "execution_count": 27,
   "metadata": {},
   "outputs": [
    {
     "data": {
      "text/plain": [
       "'1'"
      ]
     },
     "execution_count": 27,
     "metadata": {},
     "output_type": "execute_result"
    }
   ],
   "source": [
    "a.append('X')\n",
    "a.append('Y')\n",
    "a[0]"
   ]
  },
  {
   "cell_type": "code",
   "execution_count": 29,
   "metadata": {},
   "outputs": [],
   "source": [
    "inflated_overlap = []\n",
    "lncrna_gene_id = []\n",
    "all_gene_id = []\n",
    "same_ref = []\n",
    "same_opp_overlap = []\n",
    "no_transcripts_lncrna = []\n",
    "no_transcripts_all_gene = []\n",
    "chr_region = []"
   ]
  },
  {
   "cell_type": "code",
   "execution_count": 30,
   "metadata": {},
   "outputs": [],
   "source": [
    "lncrna_id = df_lncrna_gene['RefSeq Gene ID']\n",
    "gene_id = df_ref_all_gene['RefSeq Gene ID']\n",
    "gene_biotype = df_ref_all_gene['Biotype']\n",
    "genes_trans_no = df_ref_all_gene['No. of Transcripts']\n",
    "lncrna_trans_no = df_lncrna_gene['No. of Transcripts']"
   ]
  },
  {
   "cell_type": "code",
   "execution_count": 31,
   "metadata": {},
   "outputs": [],
   "source": [
    "def overlap(A, B):\n",
    "    if A[0] < B[1] and B[0] < A[1]:\n",
    "        return True\n",
    "    else:\n",
    "        return False"
   ]
  },
  {
   "cell_type": "code",
   "execution_count": 32,
   "metadata": {},
   "outputs": [],
   "source": [
    "from tqdm import tqdm\n",
    "def overlap_gene():\n",
    "\n",
    "    for i in tqdm(range(0,24,1)):\n",
    "        \n",
    "        if i == 0:\n",
    "            for j in range(0,len_lnc_gene_chr[a[i]]):  \n",
    "                for k in range(0, len_all_gene_chr[a[i]]):\n",
    "                    \n",
    "                    if lncrna_id[j] == gene_id[k]:\n",
    "                        continue\n",
    "\n",
    "                    if overlap(lncrna_gene_coords[j], all_gene_coords[k]):\n",
    "                        \n",
    "#                         if gene_biotype[k] == 'lincRNA':\n",
    "#                             same_lincrna_ensg[k] == 'Yes'\n",
    "                        inflated_overlap.append(0) # Here, 0 means Ruth statement becomes false!\n",
    "                        no_transcripts_lncrna.append(lncrna_trans_no[j])\n",
    "                        no_transcripts_all_gene.append(genes_trans_no[k])\n",
    "                        lncrna_gene_id.append(lncrna_id[j])\n",
    "                        all_gene_id.append(gene_id[k])\n",
    "                        same_ref.append('Yes')\n",
    "                        chr_region.append(a[i])                        \n",
    "                        \n",
    "                        if lnc_gene_strand[j] == all_gene_strand[k]:\n",
    "                            same_opp_overlap.append(1)\n",
    "                            continue\n",
    "                            \n",
    "                        elif lnc_gene_strand[j] != all_gene_strand[k]:\n",
    "                            same_opp_overlap.append(0)\n",
    "                            continue\n",
    "                            \n",
    "                    else:\n",
    "                        inflated_overlap.append(1) # 1 means Ruths statement becomes true\n",
    "                        no_transcripts_lncrna.append(lncrna_trans_no[j])\n",
    "                        no_transcripts_all_gene.append(genes_trans_no[k])\n",
    "                        lncrna_gene_id.append(lncrna_id[j])\n",
    "                        all_gene_id.append(gene_id[k])\n",
    "                        same_ref.append('Yes')\n",
    "                        chr_region.append(a[i])                        \n",
    "                        \n",
    "                        if lnc_gene_strand[j] == all_gene_strand[k]:\n",
    "                            same_opp_overlap.append(1)\n",
    "                            continue\n",
    "                            \n",
    "                        elif lnc_gene_strand[j] != all_gene_strand[k]:\n",
    "                            same_opp_overlap.append(0)\n",
    "                            continue\n",
    "            continue\n",
    "                        \n",
    "        else:\n",
    "        \n",
    "            start_index_lncrna = 0\n",
    "            start_index_all_gene = 0\n",
    "            \n",
    "            for l in range(0,i):\n",
    "                start_index_all_gene = start_index_all_gene + len_all_gene_chr[a[l]]\n",
    "                start_index_lncrna = start_index_lncrna + len_lnc_gene_chr[a[l]]\n",
    "            print('start lncrna {0}'.format(start_index_lncrna))\n",
    "            print('end lncrna {0}'.format(start_index_lncrna + len_lnc_gene_chr[a[i]]))\n",
    "            print('start all_gene {0}'.format(start_index_all_gene))\n",
    "            print('end all_gene {0}'.format(start_index_all_gene + len_all_gene_chr[a[i]]))\n",
    "            \n",
    "            \n",
    "            for j in range(start_index_lncrna, start_index_lncrna + len_lnc_gene_chr[a[i]], 1):\n",
    "                for k in range(start_index_all_gene, start_index_all_gene + len_all_gene_chr[a[i]], 1):\n",
    "                    \n",
    "                    if lncrna_id[j] == gene_id[k]:\n",
    "                        continue\n",
    "\n",
    "                    if overlap(lncrna_gene_coords[j], all_gene_coords[k]):\n",
    "        \n",
    "#                         if gene_biotype[k] == 'lincRNA':\n",
    "#                             same_lincrna_ensg[k] = 'Yes'\n",
    "                        inflated_overlap.append(0) # Here, 0 means Ruth statement becomes false!\n",
    "                        no_transcripts_lncrna.append(lncrna_trans_no[j])\n",
    "                        no_transcripts_all_gene.append(genes_trans_no[k])\n",
    "                        lncrna_gene_id.append(lncrna_id[j])\n",
    "                        all_gene_id.append(gene_id[k])\n",
    "                        same_ref.append('Yes')\n",
    "                        chr_region.append(a[i])                        \n",
    "                        \n",
    "                        if lnc_gene_strand[j] == all_gene_strand[k]:\n",
    "                            same_opp_overlap.append(1)\n",
    "                            continue\n",
    "                            \n",
    "                        elif lnc_gene_strand[j] != all_gene_strand[k]:\n",
    "                            same_opp_overlap.append(0)\n",
    "                            continue\n",
    "                            \n",
    "                    else:\n",
    "                        inflated_overlap.append(1) # 1 means Ruths statement becomes true\n",
    "                        no_transcripts_lncrna.append(lncrna_trans_no[j])\n",
    "                        no_transcripts_all_gene.append(genes_trans_no[k])\n",
    "                        lncrna_gene_id.append(lncrna_id[j])\n",
    "                        all_gene_id.append(gene_id[k])\n",
    "                        same_ref.append('Yes')\n",
    "                        chr_region.append(a[i])                        \n",
    "                        \n",
    "                        if lnc_gene_strand[j] == all_gene_strand[k]:\n",
    "                            same_opp_overlap.append(1)\n",
    "                            continue\n",
    "                            \n",
    "                        elif lnc_gene_strand[j] != all_gene_strand[k]:\n",
    "                            same_opp_overlap.append(0)\n",
    "                            continue\n",
    "            continue"
   ]
  },
  {
   "cell_type": "code",
   "execution_count": 33,
   "metadata": {},
   "outputs": [
    {
     "name": "stderr",
     "output_type": "stream",
     "text": [
      "  4%|▍         | 1/24 [00:15<06:00, 15.69s/it]"
     ]
    },
    {
     "name": "stdout",
     "output_type": "stream",
     "text": [
      "start lncrna 351\n",
      "end lncrna 700\n",
      "start all_gene 351\n",
      "end all_gene 700\n"
     ]
    },
    {
     "name": "stderr",
     "output_type": "stream",
     "text": [
      "\r",
      "  8%|▊         | 2/24 [00:30<05:41, 15.51s/it]"
     ]
    },
    {
     "name": "stdout",
     "output_type": "stream",
     "text": [
      "start lncrna 700\n",
      "end lncrna 896\n",
      "start all_gene 700\n",
      "end all_gene 896\n"
     ]
    },
    {
     "name": "stderr",
     "output_type": "stream",
     "text": [
      "\r",
      " 12%|█▎        | 3/24 [00:41<04:56, 14.11s/it]"
     ]
    },
    {
     "name": "stdout",
     "output_type": "stream",
     "text": [
      "start lncrna 896\n",
      "end lncrna 1137\n",
      "start all_gene 896\n",
      "end all_gene 1137\n"
     ]
    },
    {
     "name": "stderr",
     "output_type": "stream",
     "text": [
      "\r",
      " 17%|█▋        | 4/24 [00:52<04:21, 13.06s/it]"
     ]
    },
    {
     "name": "stdout",
     "output_type": "stream",
     "text": [
      "start lncrna 1137\n",
      "end lncrna 1395\n",
      "start all_gene 1137\n",
      "end all_gene 1395\n"
     ]
    },
    {
     "name": "stderr",
     "output_type": "stream",
     "text": [
      "\r",
      " 21%|██        | 5/24 [01:10<04:35, 14.49s/it]"
     ]
    },
    {
     "name": "stdout",
     "output_type": "stream",
     "text": [
      "start lncrna 1395\n",
      "end lncrna 1613\n",
      "start all_gene 1395\n",
      "end all_gene 1613\n"
     ]
    },
    {
     "name": "stderr",
     "output_type": "stream",
     "text": [
      "\r",
      " 25%|██▌       | 6/24 [01:26<04:29, 14.99s/it]"
     ]
    },
    {
     "name": "stdout",
     "output_type": "stream",
     "text": [
      "start lncrna 1613\n",
      "end lncrna 1781\n",
      "start all_gene 1613\n",
      "end all_gene 1781\n"
     ]
    },
    {
     "name": "stderr",
     "output_type": "stream",
     "text": [
      "\r",
      " 29%|██▉       | 7/24 [01:33<03:35, 12.70s/it]"
     ]
    },
    {
     "name": "stdout",
     "output_type": "stream",
     "text": [
      "start lncrna 1781\n",
      "end lncrna 2006\n",
      "start all_gene 1781\n",
      "end all_gene 2006\n"
     ]
    },
    {
     "name": "stderr",
     "output_type": "stream",
     "text": [
      "\r",
      " 33%|███▎      | 8/24 [01:47<03:30, 13.14s/it]"
     ]
    },
    {
     "name": "stdout",
     "output_type": "stream",
     "text": [
      "start lncrna 2006\n",
      "end lncrna 2167\n",
      "start all_gene 2006\n",
      "end all_gene 2167\n"
     ]
    },
    {
     "name": "stderr",
     "output_type": "stream",
     "text": [
      "\r",
      " 38%|███▊      | 9/24 [01:51<02:36, 10.45s/it]"
     ]
    },
    {
     "name": "stdout",
     "output_type": "stream",
     "text": [
      "start lncrna 2167\n",
      "end lncrna 2344\n",
      "start all_gene 2167\n",
      "end all_gene 2344\n"
     ]
    },
    {
     "name": "stderr",
     "output_type": "stream",
     "text": [
      "\r",
      " 42%|████▏     | 10/24 [01:59<02:14,  9.62s/it]"
     ]
    },
    {
     "name": "stdout",
     "output_type": "stream",
     "text": [
      "start lncrna 2344\n",
      "end lncrna 2520\n",
      "start all_gene 2344\n",
      "end all_gene 2520\n"
     ]
    },
    {
     "name": "stderr",
     "output_type": "stream",
     "text": [
      "\r",
      " 46%|████▌     | 11/24 [02:10<02:08,  9.88s/it]"
     ]
    },
    {
     "name": "stdout",
     "output_type": "stream",
     "text": [
      "start lncrna 2520\n",
      "end lncrna 2741\n",
      "start all_gene 2520\n",
      "end all_gene 2741\n"
     ]
    },
    {
     "name": "stderr",
     "output_type": "stream",
     "text": [
      "\r",
      " 50%|█████     | 12/24 [02:24<02:13, 11.15s/it]"
     ]
    },
    {
     "name": "stdout",
     "output_type": "stream",
     "text": [
      "start lncrna 2741\n",
      "end lncrna 2926\n",
      "start all_gene 2741\n",
      "end all_gene 2926\n"
     ]
    },
    {
     "name": "stderr",
     "output_type": "stream",
     "text": [
      "\r",
      " 54%|█████▍    | 13/24 [02:33<01:57, 10.73s/it]"
     ]
    },
    {
     "name": "stdout",
     "output_type": "stream",
     "text": [
      "start lncrna 2926\n",
      "end lncrna 3092\n",
      "start all_gene 2926\n",
      "end all_gene 3092\n"
     ]
    },
    {
     "name": "stderr",
     "output_type": "stream",
     "text": [
      "\r",
      " 58%|█████▊    | 14/24 [02:38<01:28,  8.87s/it]"
     ]
    },
    {
     "name": "stdout",
     "output_type": "stream",
     "text": [
      "start lncrna 3092\n",
      "end lncrna 3247\n",
      "start all_gene 3092\n",
      "end all_gene 3247\n"
     ]
    },
    {
     "name": "stderr",
     "output_type": "stream",
     "text": [
      "\r",
      " 62%|██████▎   | 15/24 [02:41<01:03,  7.11s/it]"
     ]
    },
    {
     "name": "stdout",
     "output_type": "stream",
     "text": [
      "start lncrna 3247\n",
      "end lncrna 3411\n",
      "start all_gene 3247\n",
      "end all_gene 3411\n"
     ]
    },
    {
     "name": "stderr",
     "output_type": "stream",
     "text": [
      "\r",
      " 67%|██████▋   | 16/24 [02:45<00:48,  6.07s/it]"
     ]
    },
    {
     "name": "stdout",
     "output_type": "stream",
     "text": [
      "start lncrna 3411\n",
      "end lncrna 3567\n",
      "start all_gene 3411\n",
      "end all_gene 3567\n"
     ]
    },
    {
     "name": "stderr",
     "output_type": "stream",
     "text": [
      "\r",
      " 71%|███████   | 17/24 [02:51<00:42,  6.02s/it]"
     ]
    },
    {
     "name": "stdout",
     "output_type": "stream",
     "text": [
      "start lncrna 3567\n",
      "end lncrna 3701\n",
      "start all_gene 3567\n",
      "end all_gene 3701\n"
     ]
    },
    {
     "name": "stderr",
     "output_type": "stream",
     "text": [
      "\r",
      " 75%|███████▌  | 18/24 [02:56<00:35,  5.87s/it]"
     ]
    },
    {
     "name": "stdout",
     "output_type": "stream",
     "text": [
      "start lncrna 3701\n",
      "end lncrna 3798\n",
      "start all_gene 3701\n",
      "end all_gene 3798\n"
     ]
    },
    {
     "name": "stderr",
     "output_type": "stream",
     "text": [
      "\r",
      " 79%|███████▉  | 19/24 [03:00<00:25,  5.16s/it]"
     ]
    },
    {
     "name": "stdout",
     "output_type": "stream",
     "text": [
      "start lncrna 3798\n",
      "end lncrna 3920\n",
      "start all_gene 3798\n",
      "end all_gene 3920\n"
     ]
    },
    {
     "name": "stderr",
     "output_type": "stream",
     "text": [
      "\r",
      " 83%|████████▎ | 20/24 [03:04<00:20,  5.04s/it]"
     ]
    },
    {
     "name": "stdout",
     "output_type": "stream",
     "text": [
      "start lncrna 3920\n",
      "end lncrna 4021\n",
      "start all_gene 3920\n",
      "end all_gene 4021\n"
     ]
    },
    {
     "name": "stderr",
     "output_type": "stream",
     "text": [
      "\r",
      " 88%|████████▊ | 21/24 [03:08<00:13,  4.56s/it]"
     ]
    },
    {
     "name": "stdout",
     "output_type": "stream",
     "text": [
      "start lncrna 4021\n",
      "end lncrna 4087\n",
      "start all_gene 4021\n",
      "end all_gene 4087\n"
     ]
    },
    {
     "name": "stderr",
     "output_type": "stream",
     "text": [
      "\r",
      " 92%|█████████▏| 22/24 [03:09<00:07,  3.66s/it]"
     ]
    },
    {
     "name": "stdout",
     "output_type": "stream",
     "text": [
      "start lncrna 4087\n",
      "end lncrna 4162\n",
      "start all_gene 4087\n",
      "end all_gene 4162\n"
     ]
    },
    {
     "name": "stderr",
     "output_type": "stream",
     "text": [
      "\r",
      " 96%|█████████▌| 23/24 [03:11<00:03,  3.20s/it]"
     ]
    },
    {
     "name": "stdout",
     "output_type": "stream",
     "text": [
      "start lncrna 4162\n",
      "end lncrna 4207\n",
      "start all_gene 4162\n",
      "end all_gene 4207\n"
     ]
    },
    {
     "name": "stderr",
     "output_type": "stream",
     "text": [
      "\r",
      "100%|██████████| 24/24 [03:12<00:00,  2.44s/it]"
     ]
    },
    {
     "name": "stdout",
     "output_type": "stream",
     "text": [
      "CPU times: user 2min 35s, sys: 3.4 s, total: 2min 38s\n",
      "Wall time: 3min 12s\n"
     ]
    },
    {
     "name": "stderr",
     "output_type": "stream",
     "text": [
      "\n"
     ]
    }
   ],
   "source": [
    "%%time\n",
    "overlap_gene()"
   ]
  },
  {
   "cell_type": "code",
   "execution_count": 34,
   "metadata": {},
   "outputs": [],
   "source": [
    "import csv \n",
    "header = ['lncRNA ID', 'Inflated lncrna', 'Chr region', 'No. of transcripts in lncrna', 'No. of transcripts in inflated lnrna', 'Ref-Ref overlap ?', 'Inflated Overlap', 'same_opp_overlap']\n",
    "\n",
    "path = '/Users/pankajverma/Desktop/summerInternship2k17/GSoC/Ensembl/1.lncRNA/feature_selection/overlap/Refseq/ref(lnc)-ref(lnc)_0.5_inflated_overlap.csv'\n",
    "\n",
    "with open(path, 'wt', newline ='') as file:\n",
    "    writer = csv.writer(file, delimiter=',')\n",
    "    writer.writerow(i for i in header)"
   ]
  },
  {
   "cell_type": "code",
   "execution_count": 35,
   "metadata": {},
   "outputs": [],
   "source": [
    "import pandas as pd\n",
    "\n",
    "df2 = pd.read_csv(path)\n",
    "\n",
    "df2[df2.columns[0]] = lncrna_gene_id\n",
    "df2[df2.columns[1]] = all_gene_id\n",
    "df2[df2.columns[2]] = chr_region\n",
    "df2[df2.columns[3]] = no_transcripts_lncrna\n",
    "df2[df2.columns[4]] = no_transcripts_all_gene\n",
    "df2[df2.columns[5]] = same_ref\n",
    "df2[df2.columns[6]] = inflated_overlap\n",
    "df2[df2.columns[7]] = same_opp_overlap\n",
    "\n",
    "df2.to_csv(path)"
   ]
  },
  {
   "cell_type": "code",
   "execution_count": 36,
   "metadata": {},
   "outputs": [
    {
     "name": "stderr",
     "output_type": "stream",
     "text": [
      "100%|██████████| 868790/868790 [00:44<00:00, 19386.10it/s]\n"
     ]
    }
   ],
   "source": [
    "c = 0\n",
    "drop_index = []\n",
    "for i in tqdm(range(len(df2))):\n",
    "    if df2['same_opp_overlap'][i] == 1:\n",
    "        continue\n",
    "    else:\n",
    "        drop_index.append(i)\n",
    "        c = c + 1"
   ]
  },
  {
   "cell_type": "code",
   "execution_count": 46,
   "metadata": {},
   "outputs": [],
   "source": [
    "df2.drop(drop_index, axis=0,inplace=True)\n",
    "df2.reset_index(drop=True, inplace=True)"
   ]
  },
  {
   "cell_type": "code",
   "execution_count": 37,
   "metadata": {},
   "outputs": [],
   "source": [
    "df2_index = df2.set_index(['lncRNA ID'])"
   ]
  },
  {
   "cell_type": "code",
   "execution_count": 38,
   "metadata": {},
   "outputs": [],
   "source": [
    "feature_ids_inflated_overlap = []"
   ]
  },
  {
   "cell_type": "code",
   "execution_count": 39,
   "metadata": {},
   "outputs": [
    {
     "name": "stdout",
     "output_type": "stream",
     "text": [
      "CPU times: user 3 µs, sys: 0 ns, total: 3 µs\n",
      "Wall time: 5.96 µs\n"
     ]
    }
   ],
   "source": [
    "%%time\n",
    "def get_inflated_overlap():\n",
    "    for i in tqdm(range(len(df_feature_file))):\n",
    "        a = set(df2_index.loc[df_feature_file['Ref lncRNA gene ID'][i]]['Inflated Overlap'])\n",
    "        if 0 in a:\n",
    "            feature_ids_inflated_overlap.append(0)\n",
    "            continue\n",
    "        \n",
    "        else:\n",
    "            feature_ids_inflated_overlap.append(1)\n",
    "            continue"
   ]
  },
  {
   "cell_type": "code",
   "execution_count": 40,
   "metadata": {},
   "outputs": [
    {
     "name": "stderr",
     "output_type": "stream",
     "text": [
      "100%|██████████| 4557/4557 [02:21<00:00, 32.24it/s]"
     ]
    },
    {
     "name": "stdout",
     "output_type": "stream",
     "text": [
      "CPU times: user 1min 47s, sys: 3.21 s, total: 1min 50s\n",
      "Wall time: 2min 21s\n"
     ]
    },
    {
     "name": "stderr",
     "output_type": "stream",
     "text": [
      "\n"
     ]
    }
   ],
   "source": [
    "%%time\n",
    "get_inflated_overlap()"
   ]
  },
  {
   "cell_type": "code",
   "execution_count": 41,
   "metadata": {},
   "outputs": [
    {
     "data": {
      "text/html": [
       "<div>\n",
       "<style scoped>\n",
       "    .dataframe tbody tr th:only-of-type {\n",
       "        vertical-align: middle;\n",
       "    }\n",
       "\n",
       "    .dataframe tbody tr th {\n",
       "        vertical-align: top;\n",
       "    }\n",
       "\n",
       "    .dataframe thead th {\n",
       "        text-align: right;\n",
       "    }\n",
       "</style>\n",
       "<table border=\"1\" class=\"dataframe\">\n",
       "  <thead>\n",
       "    <tr style=\"text-align: right;\">\n",
       "      <th></th>\n",
       "      <th>lncRNA ID</th>\n",
       "      <th>Inflated lncrna</th>\n",
       "      <th>Chr region</th>\n",
       "      <th>No. of transcripts in lncrna</th>\n",
       "      <th>No. of transcripts in inflated lnrna</th>\n",
       "      <th>Ref-Ref overlap ?</th>\n",
       "      <th>Inflated Overlap</th>\n",
       "      <th>same_opp_overlap</th>\n",
       "    </tr>\n",
       "  </thead>\n",
       "  <tbody>\n",
       "    <tr>\n",
       "      <th>0</th>\n",
       "      <td>gene-MIR1302-2HG</td>\n",
       "      <td>gene-LINC01142</td>\n",
       "      <td>1</td>\n",
       "      <td>1</td>\n",
       "      <td>1</td>\n",
       "      <td>Yes</td>\n",
       "      <td>1</td>\n",
       "      <td>0</td>\n",
       "    </tr>\n",
       "    <tr>\n",
       "      <th>1</th>\n",
       "      <td>gene-MIR1302-2HG</td>\n",
       "      <td>gene-LINC01681</td>\n",
       "      <td>1</td>\n",
       "      <td>1</td>\n",
       "      <td>1</td>\n",
       "      <td>Yes</td>\n",
       "      <td>1</td>\n",
       "      <td>1</td>\n",
       "    </tr>\n",
       "  </tbody>\n",
       "</table>\n",
       "</div>"
      ],
      "text/plain": [
       "          lncRNA ID Inflated lncrna Chr region  No. of transcripts in lncrna  \\\n",
       "0  gene-MIR1302-2HG  gene-LINC01142          1                             1   \n",
       "1  gene-MIR1302-2HG  gene-LINC01681          1                             1   \n",
       "\n",
       "   No. of transcripts in inflated lnrna Ref-Ref overlap ?  Inflated Overlap  \\\n",
       "0                                     1               Yes                 1   \n",
       "1                                     1               Yes                 1   \n",
       "\n",
       "   same_opp_overlap  \n",
       "0                 0  \n",
       "1                 1  "
      ]
     },
     "execution_count": 41,
     "metadata": {},
     "output_type": "execute_result"
    }
   ],
   "source": [
    "df2.head(2)"
   ]
  },
  {
   "cell_type": "code",
   "execution_count": 42,
   "metadata": {},
   "outputs": [],
   "source": [
    "df_feature_file['Inflated overlap 0.5kb ref(lnc)-ref(lnc)'] = feature_ids_inflated_overlap"
   ]
  },
  {
   "cell_type": "code",
   "execution_count": 43,
   "metadata": {},
   "outputs": [
    {
     "data": {
      "text/html": [
       "<div>\n",
       "<style scoped>\n",
       "    .dataframe tbody tr th:only-of-type {\n",
       "        vertical-align: middle;\n",
       "    }\n",
       "\n",
       "    .dataframe tbody tr th {\n",
       "        vertical-align: top;\n",
       "    }\n",
       "\n",
       "    .dataframe thead th {\n",
       "        text-align: right;\n",
       "    }\n",
       "</style>\n",
       "<table border=\"1\" class=\"dataframe\">\n",
       "  <thead>\n",
       "    <tr style=\"text-align: right;\">\n",
       "      <th></th>\n",
       "      <th>ENS lincRNA gene ID</th>\n",
       "      <th>Ref lncRNA gene ID</th>\n",
       "      <th>Chr region</th>\n",
       "      <th>No. of transcripts in lincrna</th>\n",
       "      <th>No. of transcripts in lncrna</th>\n",
       "      <th>ENS-Ref Overlap ?</th>\n",
       "      <th>same_opp_overlap</th>\n",
       "      <th>Overlap Length</th>\n",
       "      <th>No. ENS lincrna Exons which overlap RefSeq exons</th>\n",
       "      <th>Max ORF length(ENS)</th>\n",
       "      <th>...</th>\n",
       "      <th>Max ORF Sequence(REF)</th>\n",
       "      <th>HGNC ID refseq lncrna?</th>\n",
       "      <th>HGNC ID ensembl lincrna?</th>\n",
       "      <th>HGNC ID refseq lncrna?(corrected)</th>\n",
       "      <th>HGNC ID ensembl lincrna?(corrected)</th>\n",
       "      <th>Inflated overlap 1kb ens(linc)-ens(protein_coding)</th>\n",
       "      <th>is ref LOC ?</th>\n",
       "      <th>Inflated overlap 1kb ref(lnc)-ref(protein_coding)</th>\n",
       "      <th>Inflated overlap 0.5kb ens(linc)-ens(linc)</th>\n",
       "      <th>Inflated overlap 0.5kb ref(lnc)-ref(lnc)</th>\n",
       "    </tr>\n",
       "  </thead>\n",
       "  <tbody>\n",
       "    <tr>\n",
       "      <th>0</th>\n",
       "      <td>ENSG00000236648</td>\n",
       "      <td>gene-LOC107984028</td>\n",
       "      <td>1</td>\n",
       "      <td>1</td>\n",
       "      <td>4</td>\n",
       "      <td>Yes</td>\n",
       "      <td>1</td>\n",
       "      <td>17270</td>\n",
       "      <td>3</td>\n",
       "      <td>90</td>\n",
       "      <td>...</td>\n",
       "      <td>ATGTCAGCGTGGCTGCCCATGGGATCCCAGCCTGGTTTGCCTTTAA...</td>\n",
       "      <td>0</td>\n",
       "      <td>0</td>\n",
       "      <td>1</td>\n",
       "      <td>1</td>\n",
       "      <td>1</td>\n",
       "      <td>1</td>\n",
       "      <td>1</td>\n",
       "      <td>1</td>\n",
       "      <td>1</td>\n",
       "    </tr>\n",
       "    <tr>\n",
       "      <th>1</th>\n",
       "      <td>ENSG00000230704</td>\n",
       "      <td>gene-LOC101928628</td>\n",
       "      <td>1</td>\n",
       "      <td>1</td>\n",
       "      <td>1</td>\n",
       "      <td>Yes</td>\n",
       "      <td>1</td>\n",
       "      <td>1720</td>\n",
       "      <td>2</td>\n",
       "      <td>36</td>\n",
       "      <td>...</td>\n",
       "      <td>ATGTATCAATAG</td>\n",
       "      <td>0</td>\n",
       "      <td>0</td>\n",
       "      <td>1</td>\n",
       "      <td>1</td>\n",
       "      <td>0</td>\n",
       "      <td>1</td>\n",
       "      <td>1</td>\n",
       "      <td>1</td>\n",
       "      <td>1</td>\n",
       "    </tr>\n",
       "  </tbody>\n",
       "</table>\n",
       "<p>2 rows × 28 columns</p>\n",
       "</div>"
      ],
      "text/plain": [
       "  ENS lincRNA gene ID Ref lncRNA gene ID Chr region  \\\n",
       "0     ENSG00000236648  gene-LOC107984028          1   \n",
       "1     ENSG00000230704  gene-LOC101928628          1   \n",
       "\n",
       "   No. of transcripts in lincrna  No. of transcripts in lncrna  \\\n",
       "0                              1                             4   \n",
       "1                              1                             1   \n",
       "\n",
       "  ENS-Ref Overlap ?  same_opp_overlap Overlap Length  \\\n",
       "0               Yes                 1          17270   \n",
       "1               Yes                 1           1720   \n",
       "\n",
       "   No. ENS lincrna Exons which overlap RefSeq exons  Max ORF length(ENS)  ...  \\\n",
       "0                                                 3                   90  ...   \n",
       "1                                                 2                   36  ...   \n",
       "\n",
       "                               Max ORF Sequence(REF)  HGNC ID refseq lncrna?  \\\n",
       "0  ATGTCAGCGTGGCTGCCCATGGGATCCCAGCCTGGTTTGCCTTTAA...                       0   \n",
       "1                                       ATGTATCAATAG                       0   \n",
       "\n",
       "   HGNC ID ensembl lincrna? HGNC ID refseq lncrna?(corrected)  \\\n",
       "0                         0                                 1   \n",
       "1                         0                                 1   \n",
       "\n",
       "   HGNC ID ensembl lincrna?(corrected)  \\\n",
       "0                                    1   \n",
       "1                                    1   \n",
       "\n",
       "   Inflated overlap 1kb ens(linc)-ens(protein_coding)  is ref LOC ?  \\\n",
       "0                                                  1              1   \n",
       "1                                                  0              1   \n",
       "\n",
       "   Inflated overlap 1kb ref(lnc)-ref(protein_coding)  \\\n",
       "0                                                  1   \n",
       "1                                                  1   \n",
       "\n",
       "  Inflated overlap 0.5kb ens(linc)-ens(linc)  \\\n",
       "0                                          1   \n",
       "1                                          1   \n",
       "\n",
       "   Inflated overlap 0.5kb ref(lnc)-ref(lnc)  \n",
       "0                                         1  \n",
       "1                                         1  \n",
       "\n",
       "[2 rows x 28 columns]"
      ]
     },
     "execution_count": 43,
     "metadata": {},
     "output_type": "execute_result"
    }
   ],
   "source": [
    "df_feature_file.head(2)"
   ]
  },
  {
   "cell_type": "code",
   "execution_count": 44,
   "metadata": {},
   "outputs": [],
   "source": [
    "df_feature_file.to_csv('/Users/pankajverma/Desktop/summerInternship2k17/GSoC/Ensembl/1.lncRNA/feature_selection/inflated_ref(lnc)-ref(lnc)_0.5_v6/0.5kb_inflation_ref-ref_v6.csv')"
   ]
  },
  {
   "cell_type": "code",
   "execution_count": null,
   "metadata": {},
   "outputs": [],
   "source": []
  }
 ],
 "metadata": {
  "kernelspec": {
   "display_name": "Python [conda env:gsoc_ensembl]",
   "language": "python",
   "name": "conda-env-gsoc_ensembl-py"
  },
  "language_info": {
   "codemirror_mode": {
    "name": "ipython",
    "version": 3
   },
   "file_extension": ".py",
   "mimetype": "text/x-python",
   "name": "python",
   "nbconvert_exporter": "python",
   "pygments_lexer": "ipython3",
   "version": "3.6.5"
  }
 },
 "nbformat": 4,
 "nbformat_minor": 2
}
