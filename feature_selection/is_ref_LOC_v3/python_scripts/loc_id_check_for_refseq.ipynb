{
 "cells": [
   
     {
   "cell_type": "code",
   "execution_count": 2,
   "metadata": {},
   "outputs": [],
   "source": [
    "#import pandas as pd\n",
    "\n",
    "#df_ref_lnc_genes = pd.read_csv('/dataset/refseq_numeric/all_type=lncRNA_data/all_lncrna_sorted_chr/all_lncrna_gene_data_sorted_chr.csv', index_col=0)"
   ]
  },
   
  {
   "cell_type": "code",
   "execution_count": 2,
   "metadata": {},
   "outputs": [],
   "source": [
    "import pandas as pd\n",
    "df_ref_lnc_genes = pd.read_csv('/dataset/refseq_numeric/all_type=lncRNA_data/all_lncrna_sorted_chr/all_lncrna_gene_data_sorted_chr.csv', index_col=0)"
   ]
  },
  {
   "cell_type": "code",
   "execution_count": 3,
   "metadata": {},
   "outputs": [
    {
     "data": {
      "text/html": [
       "<div>\n",
       "<style scoped>\n",
       "    .dataframe tbody tr th:only-of-type {\n",
       "        vertical-align: middle;\n",
       "    }\n",
       "\n",
       "    .dataframe tbody tr th {\n",
       "        vertical-align: top;\n",
       "    }\n",
       "\n",
       "    .dataframe thead th {\n",
       "        text-align: right;\n",
       "    }\n",
       "</style>\n",
       "<table border=\"1\" class=\"dataframe\">\n",
       "  <thead>\n",
       "    <tr style=\"text-align: right;\">\n",
       "      <th></th>\n",
       "      <th>SNO</th>\n",
       "      <th>Index</th>\n",
       "      <th>RefSeq Gene ID</th>\n",
       "      <th>Dbxref</th>\n",
       "      <th>Name</th>\n",
       "      <th>gbkey</th>\n",
       "      <th>Biotype</th>\n",
       "      <th>Type</th>\n",
       "      <th>Seq_id</th>\n",
       "      <th>Strand</th>\n",
       "      <th>Start</th>\n",
       "      <th>End</th>\n",
       "      <th>No. of Transcripts</th>\n",
       "    </tr>\n",
       "  </thead>\n",
       "  <tbody>\n",
       "    <tr>\n",
       "      <th>0</th>\n",
       "      <td>1</td>\n",
       "      <td>26</td>\n",
       "      <td>gene-MIR1302-2HG</td>\n",
       "      <td>GeneID:107985730,HGNC:HGNC:52482</td>\n",
       "      <td>MIR1302-2HG</td>\n",
       "      <td>Gene</td>\n",
       "      <td>lncRNA</td>\n",
       "      <td>gene</td>\n",
       "      <td>1</td>\n",
       "      <td>1</td>\n",
       "      <td>29926</td>\n",
       "      <td>31295</td>\n",
       "      <td>1</td>\n",
       "    </tr>\n",
       "    <tr>\n",
       "      <th>1</th>\n",
       "      <td>877</td>\n",
       "      <td>256858</td>\n",
       "      <td>gene-LINC01142</td>\n",
       "      <td>GeneID:284688,HGNC:HGNC:49456</td>\n",
       "      <td>LINC01142</td>\n",
       "      <td>Gene</td>\n",
       "      <td>lncRNA</td>\n",
       "      <td>gene</td>\n",
       "      <td>1</td>\n",
       "      <td>-1</td>\n",
       "      <td>170271405</td>\n",
       "      <td>170284208</td>\n",
       "      <td>1</td>\n",
       "    </tr>\n",
       "  </tbody>\n",
       "</table>\n",
       "</div>"
      ],
      "text/plain": [
       "   SNO   Index    RefSeq Gene ID                            Dbxref  \\\n",
       "0    1      26  gene-MIR1302-2HG  GeneID:107985730,HGNC:HGNC:52482   \n",
       "1  877  256858    gene-LINC01142     GeneID:284688,HGNC:HGNC:49456   \n",
       "\n",
       "          Name gbkey Biotype  Type Seq_id  Strand      Start        End  \\\n",
       "0  MIR1302-2HG  Gene  lncRNA  gene      1       1      29926      31295   \n",
       "1    LINC01142  Gene  lncRNA  gene      1      -1  170271405  170284208   \n",
       "\n",
       "   No. of Transcripts  \n",
       "0                   1  \n",
       "1                   1  "
      ]
     },
     "execution_count": 3,
     "metadata": {},
     "output_type": "execute_result"
    }
   ],
   "source": [
    "df_ref_lnc_genes.head(2)"
   ]
  },
  {
   "cell_type": "code",
   "execution_count": 4,
   "metadata": {},
   "outputs": [],
   "source": [
    "df_feature_file = pd.read_csv('/feature_selection/Inflated_ens(linc)-ens(protein)_2/1kb_inflation_ens-ens_v2.csv', index_col=0)"
   ]
  },
  {
   "cell_type": "code",
   "execution_count": 5,
   "metadata": {},
   "outputs": [
    {
     "data": {
      "text/html": [
       "<div>\n",
       "<style scoped>\n",
       "    .dataframe tbody tr th:only-of-type {\n",
       "        vertical-align: middle;\n",
       "    }\n",
       "\n",
       "    .dataframe tbody tr th {\n",
       "        vertical-align: top;\n",
       "    }\n",
       "\n",
       "    .dataframe thead th {\n",
       "        text-align: right;\n",
       "    }\n",
       "</style>\n",
       "<table border=\"1\" class=\"dataframe\">\n",
       "  <thead>\n",
       "    <tr style=\"text-align: right;\">\n",
       "      <th></th>\n",
       "      <th>ENS lincRNA gene ID</th>\n",
       "      <th>Ref lncRNA gene ID</th>\n",
       "      <th>Chr region</th>\n",
       "      <th>No. of transcripts in lincrna</th>\n",
       "      <th>No. of transcripts in lncrna</th>\n",
       "      <th>ENS-Ref Overlap ?</th>\n",
       "      <th>same_opp_overlap</th>\n",
       "      <th>Overlap Length</th>\n",
       "      <th>No. ENS lincrna Exons which overlap RefSeq exons</th>\n",
       "      <th>Max ORF length(ENS)</th>\n",
       "      <th>...</th>\n",
       "      <th>Max ORF length(REF)</th>\n",
       "      <th>Max No. of amino acids(REF)</th>\n",
       "      <th>Max Transcript Index for ORF(REF)</th>\n",
       "      <th>GC % of trans row having Max ORF(REF)</th>\n",
       "      <th>Max ORF Sequence(REF)</th>\n",
       "      <th>HGNC ID refseq lncrna?</th>\n",
       "      <th>HGNC ID ensembl lincrna?</th>\n",
       "      <th>HGNC ID refseq lncrna?(corrected)</th>\n",
       "      <th>HGNC ID ensembl lincrna?(corrected)</th>\n",
       "      <th>Inflated overlap 1kb ens(linc)-ens(protein_coding)</th>\n",
       "    </tr>\n",
       "  </thead>\n",
       "  <tbody>\n",
       "    <tr>\n",
       "      <th>0</th>\n",
       "      <td>ENSG00000236648</td>\n",
       "      <td>gene-LOC107984028</td>\n",
       "      <td>1</td>\n",
       "      <td>1</td>\n",
       "      <td>4</td>\n",
       "      <td>Yes</td>\n",
       "      <td>1</td>\n",
       "      <td>17270</td>\n",
       "      <td>3</td>\n",
       "      <td>90</td>\n",
       "      <td>...</td>\n",
       "      <td>231</td>\n",
       "      <td>77</td>\n",
       "      <td>1610</td>\n",
       "      <td>49.57</td>\n",
       "      <td>ATGTCAGCGTGGCTGCCCATGGGATCCCAGCCTGGTTTGCCTTTAA...</td>\n",
       "      <td>0</td>\n",
       "      <td>0</td>\n",
       "      <td>1</td>\n",
       "      <td>1</td>\n",
       "      <td>1</td>\n",
       "    </tr>\n",
       "    <tr>\n",
       "      <th>1</th>\n",
       "      <td>ENSG00000230704</td>\n",
       "      <td>gene-LOC101928628</td>\n",
       "      <td>1</td>\n",
       "      <td>1</td>\n",
       "      <td>1</td>\n",
       "      <td>Yes</td>\n",
       "      <td>1</td>\n",
       "      <td>1720</td>\n",
       "      <td>2</td>\n",
       "      <td>36</td>\n",
       "      <td>...</td>\n",
       "      <td>9</td>\n",
       "      <td>3</td>\n",
       "      <td>37</td>\n",
       "      <td>39.04</td>\n",
       "      <td>ATGTATCAATAG</td>\n",
       "      <td>0</td>\n",
       "      <td>0</td>\n",
       "      <td>1</td>\n",
       "      <td>1</td>\n",
       "      <td>0</td>\n",
       "    </tr>\n",
       "  </tbody>\n",
       "</table>\n",
       "<p>2 rows × 24 columns</p>\n",
       "</div>"
      ],
      "text/plain": [
       "  ENS lincRNA gene ID Ref lncRNA gene ID Chr region  \\\n",
       "0     ENSG00000236648  gene-LOC107984028          1   \n",
       "1     ENSG00000230704  gene-LOC101928628          1   \n",
       "\n",
       "   No. of transcripts in lincrna  No. of transcripts in lncrna  \\\n",
       "0                              1                             4   \n",
       "1                              1                             1   \n",
       "\n",
       "  ENS-Ref Overlap ?  same_opp_overlap Overlap Length  \\\n",
       "0               Yes                 1          17270   \n",
       "1               Yes                 1           1720   \n",
       "\n",
       "   No. ENS lincrna Exons which overlap RefSeq exons  Max ORF length(ENS)  ...  \\\n",
       "0                                                 3                   90  ...   \n",
       "1                                                 2                   36  ...   \n",
       "\n",
       "   Max ORF length(REF)  Max No. of amino acids(REF)  \\\n",
       "0                  231                           77   \n",
       "1                    9                            3   \n",
       "\n",
       "   Max Transcript Index for ORF(REF) GC % of trans row having Max ORF(REF)  \\\n",
       "0                               1610                                 49.57   \n",
       "1                                 37                                 39.04   \n",
       "\n",
       "                               Max ORF Sequence(REF)  HGNC ID refseq lncrna?  \\\n",
       "0  ATGTCAGCGTGGCTGCCCATGGGATCCCAGCCTGGTTTGCCTTTAA...                       0   \n",
       "1                                       ATGTATCAATAG                       0   \n",
       "\n",
       "   HGNC ID ensembl lincrna?  HGNC ID refseq lncrna?(corrected)  \\\n",
       "0                         0                                  1   \n",
       "1                         0                                  1   \n",
       "\n",
       "  HGNC ID ensembl lincrna?(corrected)  \\\n",
       "0                                   1   \n",
       "1                                   1   \n",
       "\n",
       "   Inflated overlap 1kb ens(linc)-ens(protein_coding)  \n",
       "0                                                  1   \n",
       "1                                                  0   \n",
       "\n",
       "[2 rows x 24 columns]"
      ]
     },
     "execution_count": 5,
     "metadata": {},
     "output_type": "execute_result"
    }
   ],
   "source": [
    "df_feature_file.head(2)"
   ]
  },
  {
   "cell_type": "code",
   "execution_count": 6,
   "metadata": {},
   "outputs": [],
   "source": [
    "df_ref_lnc_index = df_ref_lnc_genes.set_index(['RefSeq Gene ID'])"
   ]
  },
  {
   "cell_type": "code",
   "execution_count": 7,
   "metadata": {},
   "outputs": [],
   "source": [
    "ref_lnc_gene_ids = df_feature_file['Ref lncRNA gene ID'].tolist()"
   ]
  },
  {
   "cell_type": "code",
   "execution_count": 9,
   "metadata": {},
   "outputs": [
    {
     "data": {
      "text/plain": [
       "'MIR'"
      ]
     },
     "execution_count": 9,
     "metadata": {},
     "output_type": "execute_result"
    }
   ],
   "source": [
    "df_ref_lnc_index.loc['gene-MIR1302-2HG']['Name'][0:3]"
   ]
  },
  {
   "cell_type": "code",
   "execution_count": 13,
   "metadata": {},
   "outputs": [],
   "source": [
    "ref_lnc_loc = []"
   ]
  },
  {
   "cell_type": "code",
   "execution_count": 12,
   "metadata": {},
   "outputs": [],
   "source": [
    "from tqdm import tqdm"
   ]
  },
  {
   "cell_type": "code",
   "execution_count": 14,
   "metadata": {},
   "outputs": [
    {
     "name": "stdout",
     "output_type": "stream",
     "text": [
      "CPU times: user 3 µs, sys: 0 ns, total: 3 µs\n",
      "Wall time: 5.72 µs\n"
     ]
    }
   ],
   "source": [
    "%%time\n",
    "def is_ref_lnc_loc():\n",
    "    for i in tqdm(range(len(ref_lnc_gene_ids))):\n",
    "        if df_ref_lnc_index.loc[ref_lnc_gene_ids[i]]['Name'][0:3] == 'LOC':\n",
    "            ref_lnc_loc.append(1)\n",
    "        else:\n",
    "            ref_lnc_loc.append(0)"
   ]
  },
  {
   "cell_type": "code",
   "execution_count": 15,
   "metadata": {},
   "outputs": [
    {
     "name": "stderr",
     "output_type": "stream",
     "text": [
      "100%|██████████| 4557/4557 [00:04<00:00, 1099.46it/s]"
     ]
    },
    {
     "name": "stdout",
     "output_type": "stream",
     "text": [
      "CPU times: user 2.99 s, sys: 105 ms, total: 3.09 s\n",
      "Wall time: 4.15 s\n"
     ]
    },
    {
     "name": "stderr",
     "output_type": "stream",
     "text": [
      "\n"
     ]
    }
   ],
   "source": [
    "%%time\n",
    "is_ref_lnc_loc()"
   ]
  },
  {
   "cell_type": "code",
   "execution_count": 16,
   "metadata": {},
   "outputs": [],
   "source": [
    "df_feature_file['is ref LOC ?'] = ref_lnc_loc"
   ]
  },
  {
   "cell_type": "code",
   "execution_count": 17,
   "metadata": {},
   "outputs": [
    {
     "data": {
      "text/html": [
       "<div>\n",
       "<style scoped>\n",
       "    .dataframe tbody tr th:only-of-type {\n",
       "        vertical-align: middle;\n",
       "    }\n",
       "\n",
       "    .dataframe tbody tr th {\n",
       "        vertical-align: top;\n",
       "    }\n",
       "\n",
       "    .dataframe thead th {\n",
       "        text-align: right;\n",
       "    }\n",
       "</style>\n",
       "<table border=\"1\" class=\"dataframe\">\n",
       "  <thead>\n",
       "    <tr style=\"text-align: right;\">\n",
       "      <th></th>\n",
       "      <th>ENS lincRNA gene ID</th>\n",
       "      <th>Ref lncRNA gene ID</th>\n",
       "      <th>Chr region</th>\n",
       "      <th>No. of transcripts in lincrna</th>\n",
       "      <th>No. of transcripts in lncrna</th>\n",
       "      <th>ENS-Ref Overlap ?</th>\n",
       "      <th>same_opp_overlap</th>\n",
       "      <th>Overlap Length</th>\n",
       "      <th>No. ENS lincrna Exons which overlap RefSeq exons</th>\n",
       "      <th>Max ORF length(ENS)</th>\n",
       "      <th>...</th>\n",
       "      <th>Max No. of amino acids(REF)</th>\n",
       "      <th>Max Transcript Index for ORF(REF)</th>\n",
       "      <th>GC % of trans row having Max ORF(REF)</th>\n",
       "      <th>Max ORF Sequence(REF)</th>\n",
       "      <th>HGNC ID refseq lncrna?</th>\n",
       "      <th>HGNC ID ensembl lincrna?</th>\n",
       "      <th>HGNC ID refseq lncrna?(corrected)</th>\n",
       "      <th>HGNC ID ensembl lincrna?(corrected)</th>\n",
       "      <th>Inflated overlap 1kb ens(linc)-ens(protein_coding)</th>\n",
       "      <th>is ref LOC ?</th>\n",
       "    </tr>\n",
       "  </thead>\n",
       "  <tbody>\n",
       "    <tr>\n",
       "      <th>0</th>\n",
       "      <td>ENSG00000236648</td>\n",
       "      <td>gene-LOC107984028</td>\n",
       "      <td>1</td>\n",
       "      <td>1</td>\n",
       "      <td>4</td>\n",
       "      <td>Yes</td>\n",
       "      <td>1</td>\n",
       "      <td>17270</td>\n",
       "      <td>3</td>\n",
       "      <td>90</td>\n",
       "      <td>...</td>\n",
       "      <td>77</td>\n",
       "      <td>1610</td>\n",
       "      <td>49.57</td>\n",
       "      <td>ATGTCAGCGTGGCTGCCCATGGGATCCCAGCCTGGTTTGCCTTTAA...</td>\n",
       "      <td>0</td>\n",
       "      <td>0</td>\n",
       "      <td>1</td>\n",
       "      <td>1</td>\n",
       "      <td>1</td>\n",
       "      <td>1</td>\n",
       "    </tr>\n",
       "    <tr>\n",
       "      <th>1</th>\n",
       "      <td>ENSG00000230704</td>\n",
       "      <td>gene-LOC101928628</td>\n",
       "      <td>1</td>\n",
       "      <td>1</td>\n",
       "      <td>1</td>\n",
       "      <td>Yes</td>\n",
       "      <td>1</td>\n",
       "      <td>1720</td>\n",
       "      <td>2</td>\n",
       "      <td>36</td>\n",
       "      <td>...</td>\n",
       "      <td>3</td>\n",
       "      <td>37</td>\n",
       "      <td>39.04</td>\n",
       "      <td>ATGTATCAATAG</td>\n",
       "      <td>0</td>\n",
       "      <td>0</td>\n",
       "      <td>1</td>\n",
       "      <td>1</td>\n",
       "      <td>0</td>\n",
       "      <td>1</td>\n",
       "    </tr>\n",
       "  </tbody>\n",
       "</table>\n",
       "<p>2 rows × 25 columns</p>\n",
       "</div>"
      ],
      "text/plain": [
       "  ENS lincRNA gene ID Ref lncRNA gene ID Chr region  \\\n",
       "0     ENSG00000236648  gene-LOC107984028          1   \n",
       "1     ENSG00000230704  gene-LOC101928628          1   \n",
       "\n",
       "   No. of transcripts in lincrna  No. of transcripts in lncrna  \\\n",
       "0                              1                             4   \n",
       "1                              1                             1   \n",
       "\n",
       "  ENS-Ref Overlap ?  same_opp_overlap Overlap Length  \\\n",
       "0               Yes                 1          17270   \n",
       "1               Yes                 1           1720   \n",
       "\n",
       "   No. ENS lincrna Exons which overlap RefSeq exons  Max ORF length(ENS)  ...  \\\n",
       "0                                                 3                   90  ...   \n",
       "1                                                 2                   36  ...   \n",
       "\n",
       "   Max No. of amino acids(REF)  Max Transcript Index for ORF(REF)  \\\n",
       "0                           77                               1610   \n",
       "1                            3                                 37   \n",
       "\n",
       "   GC % of trans row having Max ORF(REF)  \\\n",
       "0                                  49.57   \n",
       "1                                  39.04   \n",
       "\n",
       "                               Max ORF Sequence(REF)  HGNC ID refseq lncrna?  \\\n",
       "0  ATGTCAGCGTGGCTGCCCATGGGATCCCAGCCTGGTTTGCCTTTAA...                       0   \n",
       "1                                       ATGTATCAATAG                       0   \n",
       "\n",
       "   HGNC ID ensembl lincrna?  HGNC ID refseq lncrna?(corrected)  \\\n",
       "0                         0                                  1   \n",
       "1                         0                                  1   \n",
       "\n",
       "   HGNC ID ensembl lincrna?(corrected)  \\\n",
       "0                                    1   \n",
       "1                                    1   \n",
       "\n",
       "  Inflated overlap 1kb ens(linc)-ens(protein_coding)  is ref LOC ?  \n",
       "0                                                  1             1  \n",
       "1                                                  0             1  \n",
       "\n",
       "[2 rows x 25 columns]"
      ]
     },
     "execution_count": 17,
     "metadata": {},
     "output_type": "execute_result"
    }
   ],
   "source": [
    "df_feature_file.head(2)"
   ]
  },
  {
   "cell_type": "code",
   "execution_count": 18,
   "metadata": {},
   "outputs": [],
   "source": [
    "df_feature_file.to_csv('/feature_selection/is_ref_LOC_3/is_ref_LOC_added_v3.csv')"
   ]
  },
  {
   "cell_type": "code",
   "execution_count": null,
   "metadata": {},
   "outputs": [],
   "source": []
  }
 ],
 "metadata": {
  "kernelspec": {
   "display_name": "Python [conda env:gsoc_ensembl]",
   "language": "python",
   "name": "conda-env-gsoc_ensembl-py"
  },
  "language_info": {
   "codemirror_mode": {
    "name": "ipython",
    "version": 3
   },
   "file_extension": ".py",
   "mimetype": "text/x-python",
   "name": "python",
   "nbconvert_exporter": "python",
   "pygments_lexer": "ipython3",
   "version": "3.6.5"
  }
 },
 "nbformat": 4,
 "nbformat_minor": 2
}
