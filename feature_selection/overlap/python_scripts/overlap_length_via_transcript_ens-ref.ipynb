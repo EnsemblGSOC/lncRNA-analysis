{
 "cells": [
  {
   "cell_type": "code",
   "execution_count": 10,
   "metadata": {},
   "outputs": [
    {
     "name": "stdout",
     "output_type": "stream",
     "text": [
      "Available Themes: \r\n",
      "   chesterish\r\n",
      "   grade3\r\n",
      "   gruvboxd\r\n",
      "   gruvboxl\r\n",
      "   monokai\r\n",
      "   oceans16\r\n",
      "   onedork\r\n",
      "   solarizedd\r\n",
      "   solarizedl\r\n"
     ]
    }
   ],
   "source": [
    "!jt -l"
   ]
  },
  {
   "cell_type": "code",
   "execution_count": 12,
   "metadata": {},
   "outputs": [
    {
     "name": "stdout",
     "output_type": "stream",
     "text": [
      "Reset css and font defaults in:\r\n",
      "/.jupyter/custom &\r\n",
      "/Library/Jupyter/nbextensions\r\n"
     ]
    }
   ],
   "source": [
    "!jt -r"
   ]
  },
  {
   "cell_type": "code",
   "execution_count": 5,
   "metadata": {},
   "outputs": [],
   "source": [
    "import pandas as pd\n",
    "df_overlap = pd.read_csv('/feature_selection/overlap/Ens-Ref/ens_ref_gene_overlap.csv', index_col=0)"
   ]
  },
  {
   "cell_type": "code",
   "execution_count": 6,
   "metadata": {},
   "outputs": [
    {
     "data": {
      "text/html": [
       "<div>\n",
       "<style scoped>\n",
       "    .dataframe tbody tr th:only-of-type {\n",
       "        vertical-align: middle;\n",
       "    }\n",
       "\n",
       "    .dataframe tbody tr th {\n",
       "        vertical-align: top;\n",
       "    }\n",
       "\n",
       "    .dataframe thead th {\n",
       "        text-align: right;\n",
       "    }\n",
       "</style>\n",
       "<table border=\"1\" class=\"dataframe\">\n",
       "  <thead>\n",
       "    <tr style=\"text-align: right;\">\n",
       "      <th></th>\n",
       "      <th>ENS lincRNA gene ID</th>\n",
       "      <th>Ref lncRNA gene ID</th>\n",
       "      <th>Chr region</th>\n",
       "      <th>No. of transcripts in lincrna</th>\n",
       "      <th>No. of transcripts in lncrna</th>\n",
       "      <th>ENS-Ref Overlap ?</th>\n",
       "      <th>same_opp_overlap</th>\n",
       "    </tr>\n",
       "  </thead>\n",
       "  <tbody>\n",
       "    <tr>\n",
       "      <th>0</th>\n",
       "      <td>ENSG00000236648</td>\n",
       "      <td>gene-LOC107984028</td>\n",
       "      <td>1</td>\n",
       "      <td>1</td>\n",
       "      <td>4</td>\n",
       "      <td>Yes</td>\n",
       "      <td>1</td>\n",
       "    </tr>\n",
       "    <tr>\n",
       "      <th>1</th>\n",
       "      <td>ENSG00000230714</td>\n",
       "      <td>gene-LOC105372922</td>\n",
       "      <td>1</td>\n",
       "      <td>1</td>\n",
       "      <td>1</td>\n",
       "      <td>Yes</td>\n",
       "      <td>0</td>\n",
       "    </tr>\n",
       "  </tbody>\n",
       "</table>\n",
       "</div>"
      ],
      "text/plain": [
       "  ENS lincRNA gene ID Ref lncRNA gene ID Chr region  \\\n",
       "0     ENSG00000236648  gene-LOC107984028          1   \n",
       "1     ENSG00000230714  gene-LOC105372922          1   \n",
       "\n",
       "   No. of transcripts in lincrna  No. of transcripts in lncrna  \\\n",
       "0                              1                             4   \n",
       "1                              1                             1   \n",
       "\n",
       "  ENS-Ref Overlap ?  same_opp_overlap  \n",
       "0               Yes                 1  \n",
       "1               Yes                 0  "
      ]
     },
     "execution_count": 6,
     "metadata": {},
     "output_type": "execute_result"
    }
   ],
   "source": [
    "df_overlap.head(2)"
   ]
  },
  {
   "cell_type": "code",
   "execution_count": 7,
   "metadata": {},
   "outputs": [
    {
     "name": "stderr",
     "output_type": "stream",
     "text": [
      "100%|██████████| 6252/6252 [00:00<00:00, 9317.91it/s] \n"
     ]
    }
   ],
   "source": [
    "from tqdm import tqdm\n",
    "l_id = []\n",
    "r_id = []\n",
    "for i in tqdm(range(len(df_overlap['ENS lincRNA gene ID']))):\n",
    "    if df_overlap['same_opp_overlap'][i] == 1:\n",
    "        l_id.append(df_overlap['ENS lincRNA gene ID'][i])\n",
    "        r_id.append(df_overlap['Ref lncRNA gene ID'][i])"
   ]
  },
  {
   "cell_type": "code",
   "execution_count": 8,
   "metadata": {},
   "outputs": [],
   "source": [
    "set_lincrna_id = set(l_id)\n",
    "set_ref_id = set(r_id)"
   ]
  },
  {
   "cell_type": "code",
   "execution_count": 9,
   "metadata": {},
   "outputs": [],
   "source": [
    "df_linc_transcript_data = pd.read_csv('/dataset/Ensembl_numeric/all_lincRNA_data/all_lincRNA_sorted_chr/all_lincrna_transcript_data_sorted_chr.csv', index_col=0)"
   ]
  },
  {
   "cell_type": "code",
   "execution_count": 10,
   "metadata": {},
   "outputs": [
    {
     "data": {
      "text/html": [
       "<div>\n",
       "<style scoped>\n",
       "    .dataframe tbody tr th:only-of-type {\n",
       "        vertical-align: middle;\n",
       "    }\n",
       "\n",
       "    .dataframe tbody tr th {\n",
       "        vertical-align: top;\n",
       "    }\n",
       "\n",
       "    .dataframe thead th {\n",
       "        text-align: right;\n",
       "    }\n",
       "</style>\n",
       "<table border=\"1\" class=\"dataframe\">\n",
       "  <thead>\n",
       "    <tr style=\"text-align: right;\">\n",
       "      <th></th>\n",
       "      <th>SNO</th>\n",
       "      <th>Gene ID</th>\n",
       "      <th>Transcript ID</th>\n",
       "      <th>Biotype</th>\n",
       "      <th>Strand</th>\n",
       "      <th>Seq region Name</th>\n",
       "      <th>Transcript Start</th>\n",
       "      <th>Transcript End</th>\n",
       "      <th>Transcript Length</th>\n",
       "      <th>No. of Exons</th>\n",
       "    </tr>\n",
       "  </thead>\n",
       "  <tbody>\n",
       "    <tr>\n",
       "      <th>0</th>\n",
       "      <td>4916</td>\n",
       "      <td>ENSG00000236423</td>\n",
       "      <td>ENST00000413332</td>\n",
       "      <td>lincRNA</td>\n",
       "      <td>1</td>\n",
       "      <td>1</td>\n",
       "      <td>3900372</td>\n",
       "      <td>3905532</td>\n",
       "      <td>634</td>\n",
       "      <td>3</td>\n",
       "    </tr>\n",
       "    <tr>\n",
       "      <th>1</th>\n",
       "      <td>11412</td>\n",
       "      <td>ENSG00000270035</td>\n",
       "      <td>ENST00000602973</td>\n",
       "      <td>lincRNA</td>\n",
       "      <td>-1</td>\n",
       "      <td>1</td>\n",
       "      <td>7698303</td>\n",
       "      <td>7698872</td>\n",
       "      <td>570</td>\n",
       "      <td>1</td>\n",
       "    </tr>\n",
       "  </tbody>\n",
       "</table>\n",
       "</div>"
      ],
      "text/plain": [
       "     SNO          Gene ID    Transcript ID  Biotype  Strand Seq region Name  \\\n",
       "0   4916  ENSG00000236423  ENST00000413332  lincRNA       1               1   \n",
       "1  11412  ENSG00000270035  ENST00000602973  lincRNA      -1               1   \n",
       "\n",
       "   Transcript Start  Transcript End  Transcript Length  No. of Exons  \n",
       "0           3900372         3905532                634             3  \n",
       "1           7698303         7698872                570             1  "
      ]
     },
     "execution_count": 10,
     "metadata": {},
     "output_type": "execute_result"
    }
   ],
   "source": [
    "df_linc_transcript_data.head(2)"
   ]
  },
  {
   "cell_type": "code",
   "execution_count": 11,
   "metadata": {},
   "outputs": [],
   "source": [
    "df_ref_transcript_data = pd.read_csv('/dataset/refseq_numeric/all_type=lncRNA_data/all_lncrna_sorted_chr/all_lncrna_transcript_data_sorted_chr.csv', index_col=0)"
   ]
  },
  {
   "cell_type": "code",
   "execution_count": 12,
   "metadata": {},
   "outputs": [
    {
     "data": {
      "text/html": [
       "<div>\n",
       "<style scoped>\n",
       "    .dataframe tbody tr th:only-of-type {\n",
       "        vertical-align: middle;\n",
       "    }\n",
       "\n",
       "    .dataframe tbody tr th {\n",
       "        vertical-align: top;\n",
       "    }\n",
       "\n",
       "    .dataframe thead th {\n",
       "        text-align: right;\n",
       "    }\n",
       "</style>\n",
       "<table border=\"1\" class=\"dataframe\">\n",
       "  <thead>\n",
       "    <tr style=\"text-align: right;\">\n",
       "      <th></th>\n",
       "      <th>SNO</th>\n",
       "      <th>Index</th>\n",
       "      <th>RefSeq Gene ID</th>\n",
       "      <th>RefSeq Transcript ID</th>\n",
       "      <th>Dbxref</th>\n",
       "      <th>Parent</th>\n",
       "      <th>gbkey</th>\n",
       "      <th>Type</th>\n",
       "      <th>Seq_id</th>\n",
       "      <th>Strand</th>\n",
       "      <th>Start</th>\n",
       "      <th>End</th>\n",
       "      <th>No. of Exons</th>\n",
       "      <th>Transcript Length</th>\n",
       "    </tr>\n",
       "  </thead>\n",
       "  <tbody>\n",
       "    <tr>\n",
       "      <th>0</th>\n",
       "      <td>1</td>\n",
       "      <td>27</td>\n",
       "      <td>gene-MIR1302-2HG</td>\n",
       "      <td>rna-XR_001737835.1</td>\n",
       "      <td>GeneID:107985730,Genbank:XR_001737835.1,HGNC:H...</td>\n",
       "      <td>gene-MIR1302-2HG</td>\n",
       "      <td>ncRNA</td>\n",
       "      <td>lnc_RNA</td>\n",
       "      <td>1</td>\n",
       "      <td>1</td>\n",
       "      <td>29926</td>\n",
       "      <td>31295</td>\n",
       "      <td>3</td>\n",
       "      <td>538</td>\n",
       "    </tr>\n",
       "    <tr>\n",
       "      <th>1</th>\n",
       "      <td>1508</td>\n",
       "      <td>251564</td>\n",
       "      <td>gene-LOC107985451</td>\n",
       "      <td>rna-XR_001737807.1</td>\n",
       "      <td>GeneID:107985451,Genbank:XR_001737807.1</td>\n",
       "      <td>gene-LOC107985451</td>\n",
       "      <td>ncRNA</td>\n",
       "      <td>lnc_RNA</td>\n",
       "      <td>1</td>\n",
       "      <td>-1</td>\n",
       "      <td>164909668</td>\n",
       "      <td>164912572</td>\n",
       "      <td>3</td>\n",
       "      <td>603</td>\n",
       "    </tr>\n",
       "  </tbody>\n",
       "</table>\n",
       "</div>"
      ],
      "text/plain": [
       "    SNO   Index     RefSeq Gene ID RefSeq Transcript ID  \\\n",
       "0     1      27   gene-MIR1302-2HG   rna-XR_001737835.1   \n",
       "1  1508  251564  gene-LOC107985451   rna-XR_001737807.1   \n",
       "\n",
       "                                              Dbxref             Parent  \\\n",
       "0  GeneID:107985730,Genbank:XR_001737835.1,HGNC:H...   gene-MIR1302-2HG   \n",
       "1            GeneID:107985451,Genbank:XR_001737807.1  gene-LOC107985451   \n",
       "\n",
       "   gbkey     Type Seq_id  Strand      Start        End  No. of Exons  \\\n",
       "0  ncRNA  lnc_RNA      1       1      29926      31295             3   \n",
       "1  ncRNA  lnc_RNA      1      -1  164909668  164912572             3   \n",
       "\n",
       "   Transcript Length  \n",
       "0                538  \n",
       "1                603  "
      ]
     },
     "execution_count": 12,
     "metadata": {},
     "output_type": "execute_result"
    }
   ],
   "source": [
    "df_ref_transcript_data.head(2)"
   ]
  },
  {
   "cell_type": "code",
   "execution_count": 13,
   "metadata": {},
   "outputs": [
    {
     "name": "stderr",
     "output_type": "stream",
     "text": [
      "100%|██████████| 13666/13666 [00:00<00:00, 23614.60it/s]\n"
     ]
    }
   ],
   "source": [
    "drop_index = []\n",
    "for i in tqdm(range(len(df_linc_transcript_data))):\n",
    "    if df_linc_transcript_data['Gene ID'][i] in set_lincrna_id:\n",
    "        continue\n",
    "    else:\n",
    "        drop_index.append(i)"
   ]
  },
  {
   "cell_type": "code",
   "execution_count": 14,
   "metadata": {},
   "outputs": [
    {
     "name": "stdout",
     "output_type": "stream",
     "text": [
      "CPU times: user 4.6 ms, sys: 1.78 ms, total: 6.38 ms\n",
      "Wall time: 15.8 ms\n"
     ]
    }
   ],
   "source": [
    "%%time\n",
    "df_linc_transcript_data.drop(drop_index, axis=0,inplace=True)"
   ]
  },
  {
   "cell_type": "code",
   "execution_count": 15,
   "metadata": {},
   "outputs": [],
   "source": [
    "df_linc_transcript_data.reset_index(drop=True, inplace=True)"
   ]
  },
  {
   "cell_type": "code",
   "execution_count": 16,
   "metadata": {},
   "outputs": [
    {
     "name": "stderr",
     "output_type": "stream",
     "text": [
      "100%|██████████| 25715/25715 [00:01<00:00, 14234.50it/s]\n"
     ]
    }
   ],
   "source": [
    "drop_index = []\n",
    "for i in tqdm(range(len(df_ref_transcript_data))):\n",
    "    if df_ref_transcript_data['RefSeq Gene ID'][i] in set_ref_id:\n",
    "        continue\n",
    "    else:\n",
    "        drop_index.append(i)"
   ]
  },
  {
   "cell_type": "code",
   "execution_count": 17,
   "metadata": {},
   "outputs": [
    {
     "name": "stdout",
     "output_type": "stream",
     "text": [
      "CPU times: user 7.34 ms, sys: 675 µs, total: 8.01 ms\n",
      "Wall time: 10.2 ms\n"
     ]
    }
   ],
   "source": [
    "%%time\n",
    "df_ref_transcript_data.drop(drop_index, axis=0,inplace=True)"
   ]
  },
  {
   "cell_type": "code",
   "execution_count": 18,
   "metadata": {},
   "outputs": [],
   "source": [
    "df_ref_transcript_data.reset_index(drop=True, inplace=True)"
   ]
  },
  {
   "cell_type": "code",
   "execution_count": 19,
   "metadata": {},
   "outputs": [
    {
     "data": {
      "text/plain": [
       "array(['1', '2', '3', '4', '5', '6', '7', '8', '9', '10', '11', '12',\n",
       "       '13', '14', '15', '16', '17', '18', '19', '20', '21', '22', 'X',\n",
       "       'Y'], dtype=object)"
      ]
     },
     "execution_count": 19,
     "metadata": {},
     "output_type": "execute_result"
    }
   ],
   "source": [
    "df_linc_transcript_data['Seq region Name'].unique()"
   ]
  },
  {
   "cell_type": "code",
   "execution_count": 20,
   "metadata": {},
   "outputs": [
    {
     "data": {
      "text/plain": [
       "array(['1', '2', '3', '4', '5', '6', '7', '8', '9', '10', '11', '12',\n",
       "       '13', '14', '15', '16', '17', '18', '19', '20', '21', '22', 'X',\n",
       "       'Y'], dtype=object)"
      ]
     },
     "execution_count": 20,
     "metadata": {},
     "output_type": "execute_result"
    }
   ],
   "source": [
    "df_ref_transcript_data['Seq_id'].unique()"
   ]
  },
  {
   "cell_type": "code",
   "execution_count": 22,
   "metadata": {},
   "outputs": [],
   "source": [
    "len_linc_chr = df_linc_transcript_data['Seq region Name'].value_counts()"
   ]
  },
  {
   "cell_type": "code",
   "execution_count": 23,
   "metadata": {},
   "outputs": [],
   "source": [
    "len_ref_chr = df_ref_transcript_data['Seq_id'].value_counts()"
   ]
  },
  {
   "cell_type": "code",
   "execution_count": 28,
   "metadata": {},
   "outputs": [
    {
     "data": {
      "text/plain": [
       "625"
      ]
     },
     "execution_count": 28,
     "metadata": {},
     "output_type": "execute_result"
    }
   ],
   "source": [
    "len_ref_chr['2']"
   ]
  },
  {
   "cell_type": "code",
   "execution_count": 29,
   "metadata": {},
   "outputs": [],
   "source": [
    "lincrna_coords = df_linc_transcript_data[['Transcript Start','Transcript End']].to_numpy()\n",
    "ref_coords = df_ref_transcript_data[['Start','End']].to_numpy()"
   ]
  },
  {
   "cell_type": "code",
   "execution_count": 30,
   "metadata": {},
   "outputs": [],
   "source": [
    "a = []\n",
    "for i in range(0,22,1):\n",
    "    a.append(str(i+1))"
   ]
  },
  {
   "cell_type": "code",
   "execution_count": 31,
   "metadata": {},
   "outputs": [
    {
     "data": {
      "text/plain": [
       "'1'"
      ]
     },
     "execution_count": 31,
     "metadata": {},
     "output_type": "execute_result"
    }
   ],
   "source": [
    "a.append('X')\n",
    "a.append('Y')\n",
    "a[0]"
   ]
  },
  {
   "cell_type": "code",
   "execution_count": 36,
   "metadata": {},
   "outputs": [],
   "source": [
    "lincrna_gene_id = []\n",
    "ref_gene_id = []\n",
    "lincrna_trans_id = []\n",
    "ref_trans_id = []\n",
    "no_exons_lincrna = []\n",
    "no_exons_ref = []\n",
    "chr_region = []\n",
    "overlap_len = []"
   ]
  },
  {
   "cell_type": "code",
   "execution_count": 37,
   "metadata": {},
   "outputs": [],
   "source": [
    "lincrna_id = df_linc_transcript_data['Gene ID']\n",
    "ref_id = df_ref_transcript_data['RefSeq Gene ID']\n",
    "l_t_id = df_linc_transcript_data['Transcript ID']\n",
    "r_t_id = df_ref_transcript_data['RefSeq Transcript ID']\n",
    "linc_exon_no = df_linc_transcript_data['No. of Exons']\n",
    "r_exon_no = df_ref_transcript_data['No. of Exons']"
   ]
  },
  {
   "cell_type": "code",
   "execution_count": 38,
   "metadata": {},
   "outputs": [],
   "source": [
    "def overlap(A, B):\n",
    "    if A[0] < B[1] and B[0] < A[1]:\n",
    "        return True\n",
    "    else:\n",
    "        return False"
   ]
  },
  {
   "cell_type": "code",
   "execution_count": 39,
   "metadata": {},
   "outputs": [],
   "source": [
    "def overlap_length(A, B):\n",
    "    return(min(A[1], B[1]) - max(A[0], B[0]) + 1) "
   ]
  },
  {
   "cell_type": "code",
   "execution_count": 40,
   "metadata": {},
   "outputs": [],
   "source": [
    "from tqdm import tqdm\n",
    "def overlap_transcript():\n",
    "\n",
    "    for i in tqdm(range(0,24,1)):\n",
    "        \n",
    "        if i == 0:\n",
    "            for j in range(0,len_linc_chr[a[i]]):  \n",
    "                for k in range(0, len_ref_chr[a[i]]):\n",
    "\n",
    "                    if overlap(lincrna_coords[j], ref_coords[k]):\n",
    "                        \n",
    "                        overlap_len.append(overlap_length(lincrna_coords[j], ref_coords[k]))\n",
    "                        lincrna_gene_id.append(lincrna_id[j])\n",
    "                        lincrna_trans_id.append(l_t_id[j])\n",
    "                        no_exons_lincrna.append(linc_exon_no[j])\n",
    "                        no_exons_ref.append(r_exon_no[k])\n",
    "                        ref_gene_id.append(ref_id[k])\n",
    "                        ref_trans_id.append(r_t_id[k])\n",
    "                        chr_region.append(a[i])\n",
    "                            \n",
    "                    else:\n",
    "                        \n",
    "                        continue\n",
    "\n",
    "        else:\n",
    "        \n",
    "            start_index_lincrna = 0\n",
    "            start_index_ref = 0\n",
    "            \n",
    "            for l in range(0,i):\n",
    "                start_index_ref = start_index_ref + len_ref_chr[a[l]]\n",
    "                start_index_lincrna = start_index_lincrna + len_linc_chr[a[l]]\n",
    "            print('start lincrna {0}'.format(start_index_lincrna))\n",
    "            print('end lincrna {0}'.format(start_index_lincrna + len_linc_chr[a[i]]))\n",
    "            print('start ref {0}'.format(start_index_ref))\n",
    "            print('end ref {0}'.format(start_index_ref + len_ref_chr[a[i]]))\n",
    "            \n",
    "            \n",
    "            for j in range(start_index_lincrna, start_index_lincrna + len_linc_chr[a[i]], 1):\n",
    "                for k in range(start_index_ref, start_index_ref + len_ref_chr[a[i]], 1):\n",
    "                    \n",
    "                    if overlap(lincrna_coords[j], ref_coords[k]):\n",
    "                        \n",
    "                        overlap_len.append(overlap_length(lincrna_coords[j], ref_coords[k]))\n",
    "                        lincrna_gene_id.append(lincrna_id[j])\n",
    "                        lincrna_trans_id.append(l_t_id[j])\n",
    "                        no_exons_lincrna.append(linc_exon_no[j])\n",
    "                        no_exons_ref.append(r_exon_no[k])\n",
    "                        ref_gene_id.append(ref_id[k])\n",
    "                        ref_trans_id.append(r_t_id[k])\n",
    "                        chr_region.append(a[i])\n",
    "                            \n",
    "                    else:\n",
    "                        \n",
    "                        continue"
   ]
  },
  {
   "cell_type": "code",
   "execution_count": 41,
   "metadata": {},
   "outputs": [
    {
     "name": "stderr",
     "output_type": "stream",
     "text": [
      "  4%|▍         | 1/24 [00:01<00:37,  1.65s/it]"
     ]
    },
    {
     "name": "stdout",
     "output_type": "stream",
     "text": [
      "start lincrna 760\n",
      "end lincrna 1730\n",
      "start ref 599\n",
      "end ref 1224\n"
     ]
    },
    {
     "name": "stderr",
     "output_type": "stream",
     "text": [
      "\r",
      "  8%|▊         | 2/24 [00:04<00:42,  1.92s/it]"
     ]
    },
    {
     "name": "stdout",
     "output_type": "stream",
     "text": [
      "start lincrna 1730\n",
      "end lincrna 2316\n",
      "start ref 1224\n",
      "end ref 1567\n"
     ]
    },
    {
     "name": "stderr",
     "output_type": "stream",
     "text": [
      "\r",
      " 12%|█▎        | 3/24 [00:05<00:34,  1.63s/it]"
     ]
    },
    {
     "name": "stdout",
     "output_type": "stream",
     "text": [
      "start lincrna 2316\n",
      "end lincrna 2739\n",
      "start ref 1567\n",
      "end ref 2022\n"
     ]
    },
    {
     "name": "stderr",
     "output_type": "stream",
     "text": [
      "\r",
      " 17%|█▋        | 4/24 [00:06<00:28,  1.42s/it]"
     ]
    },
    {
     "name": "stdout",
     "output_type": "stream",
     "text": [
      "start lincrna 2739\n",
      "end lincrna 3247\n",
      "start ref 2022\n",
      "end ref 2486\n"
     ]
    },
    {
     "name": "stderr",
     "output_type": "stream",
     "text": [
      "\r",
      " 21%|██        | 5/24 [00:07<00:27,  1.43s/it]"
     ]
    },
    {
     "name": "stdout",
     "output_type": "stream",
     "text": [
      "start lincrna 3247\n",
      "end lincrna 3685\n",
      "start ref 2486\n",
      "end ref 2939\n"
     ]
    },
    {
     "name": "stderr",
     "output_type": "stream",
     "text": [
      "\r",
      " 25%|██▌       | 6/24 [00:08<00:21,  1.21s/it]"
     ]
    },
    {
     "name": "stdout",
     "output_type": "stream",
     "text": [
      "start lincrna 3685\n",
      "end lincrna 4009\n",
      "start ref 2939\n",
      "end ref 3274\n"
     ]
    },
    {
     "name": "stderr",
     "output_type": "stream",
     "text": [
      "\r",
      " 29%|██▉       | 7/24 [00:09<00:19,  1.14s/it]"
     ]
    },
    {
     "name": "stdout",
     "output_type": "stream",
     "text": [
      "start lincrna 4009\n",
      "end lincrna 4551\n",
      "start ref 3274\n",
      "end ref 3679\n"
     ]
    },
    {
     "name": "stderr",
     "output_type": "stream",
     "text": [
      "\r",
      " 33%|███▎      | 8/24 [00:09<00:14,  1.07it/s]"
     ]
    },
    {
     "name": "stdout",
     "output_type": "stream",
     "text": [
      "start lincrna 4551\n",
      "end lincrna 4870\n",
      "start ref 3679\n",
      "end ref 3998\n"
     ]
    },
    {
     "name": "stderr",
     "output_type": "stream",
     "text": [
      "\r",
      " 38%|███▊      | 9/24 [00:09<00:10,  1.39it/s]"
     ]
    },
    {
     "name": "stdout",
     "output_type": "stream",
     "text": [
      "start lincrna 4870\n",
      "end lincrna 5204\n",
      "start ref 3998\n",
      "end ref 4324\n"
     ]
    },
    {
     "name": "stderr",
     "output_type": "stream",
     "text": [
      "\r",
      " 42%|████▏     | 10/24 [00:10<00:08,  1.63it/s]"
     ]
    },
    {
     "name": "stdout",
     "output_type": "stream",
     "text": [
      "start lincrna 5204\n",
      "end lincrna 5539\n",
      "start ref 4324\n",
      "end ref 4695\n"
     ]
    },
    {
     "name": "stderr",
     "output_type": "stream",
     "text": [
      "\r",
      " 46%|████▌     | 11/24 [00:10<00:06,  1.93it/s]"
     ]
    },
    {
     "name": "stdout",
     "output_type": "stream",
     "text": [
      "start lincrna 5539\n",
      "end lincrna 5989\n",
      "start ref 4695\n",
      "end ref 5074\n"
     ]
    },
    {
     "name": "stderr",
     "output_type": "stream",
     "text": [
      " 54%|█████▍    | 13/24 [00:11<00:04,  2.74it/s]"
     ]
    },
    {
     "name": "stdout",
     "output_type": "stream",
     "text": [
      "start lincrna 5989\n",
      "end lincrna 6310\n",
      "start ref 5074\n",
      "end ref 5319\n",
      "start lincrna 6310\n",
      "end lincrna 6726\n",
      "start ref 5319\n",
      "end ref 5672\n"
     ]
    },
    {
     "name": "stderr",
     "output_type": "stream",
     "text": [
      "\r",
      " 58%|█████▊    | 14/24 [00:11<00:04,  2.17it/s]"
     ]
    },
    {
     "name": "stdout",
     "output_type": "stream",
     "text": [
      "start lincrna 6726\n",
      "end lincrna 7085\n",
      "start ref 5672\n",
      "end ref 5959\n"
     ]
    },
    {
     "name": "stderr",
     "output_type": "stream",
     "text": [
      "\r",
      " 62%|██████▎   | 15/24 [00:11<00:03,  2.57it/s]"
     ]
    },
    {
     "name": "stdout",
     "output_type": "stream",
     "text": [
      "start lincrna 7085\n",
      "end lincrna 7493\n",
      "start ref 5959\n",
      "end ref 6253\n"
     ]
    },
    {
     "name": "stderr",
     "output_type": "stream",
     "text": [
      " 71%|███████   | 17/24 [00:12<00:01,  3.56it/s]"
     ]
    },
    {
     "name": "stdout",
     "output_type": "stream",
     "text": [
      "start lincrna 7493\n",
      "end lincrna 7799\n",
      "start ref 6253\n",
      "end ref 6534\n",
      "start lincrna 7799\n",
      "end lincrna 8093\n",
      "start ref 6534\n",
      "end ref 6758\n"
     ]
    },
    {
     "name": "stderr",
     "output_type": "stream",
     "text": [
      " 79%|███████▉  | 19/24 [00:12<00:01,  4.38it/s]"
     ]
    },
    {
     "name": "stdout",
     "output_type": "stream",
     "text": [
      "start lincrna 8093\n",
      "end lincrna 8416\n",
      "start ref 6758\n",
      "end ref 6962\n",
      "start lincrna 8416\n",
      "end lincrna 8652\n",
      "start ref 6962\n",
      "end ref 7177\n"
     ]
    },
    {
     "name": "stderr",
     "output_type": "stream",
     "text": [
      " 88%|████████▊ | 21/24 [00:12<00:00,  5.48it/s]"
     ]
    },
    {
     "name": "stdout",
     "output_type": "stream",
     "text": [
      "start lincrna 8652\n",
      "end lincrna 8922\n",
      "start ref 7177\n",
      "end ref 7385\n",
      "start lincrna 8922\n",
      "end lincrna 9135\n",
      "start ref 7385\n",
      "end ref 7492\n"
     ]
    },
    {
     "name": "stderr",
     "output_type": "stream",
     "text": [
      "100%|██████████| 24/24 [00:13<00:00,  1.84it/s]"
     ]
    },
    {
     "name": "stdout",
     "output_type": "stream",
     "text": [
      "start lincrna 9135\n",
      "end lincrna 9346\n",
      "start ref 7492\n",
      "end ref 7626\n",
      "start lincrna 9346\n",
      "end lincrna 9424\n",
      "start ref 7626\n",
      "end ref 7678\n",
      "CPU times: user 10.2 s, sys: 234 ms, total: 10.4 s\n",
      "Wall time: 13.1 s\n"
     ]
    },
    {
     "name": "stderr",
     "output_type": "stream",
     "text": [
      "\n"
     ]
    }
   ],
   "source": [
    "%%time\n",
    "overlap_transcript()"
   ]
  },
  {
   "cell_type": "code",
   "execution_count": 42,
   "metadata": {},
   "outputs": [],
   "source": [
    "import csv \n",
    "header = ['lincRNA gene ID', 'Ref gene ID', 'lincRNA trans ID', 'Ref trans ID', 'No. of exons lincRNA', 'No. of exons Ref', 'Chr region', 'overlap length']\n",
    "\n",
    "path = '/feature_selection/overlap/Ens-Ref/trans_overlap.csv'\n",
    "\n",
    "with open(path, 'wt', newline ='') as file:\n",
    "    writer = csv.writer(file, delimiter=',')\n",
    "    writer.writerow(i for i in header)"
   ]
  },
  {
   "cell_type": "code",
   "execution_count": null,
   "metadata": {},
   "outputs": [],
   "source": [
    "# lincrna_gene_id = []\n",
    "# ref_gene_id = []\n",
    "# lincrna_trans_id = []\n",
    "# ref_trans_id = []\n",
    "# no_exons_lincrna = []\n",
    "# no_exons_ref = []\n",
    "# chr_region = []\n",
    "# overlap_len = []"
   ]
  },
  {
   "cell_type": "code",
   "execution_count": 43,
   "metadata": {},
   "outputs": [],
   "source": [
    "import pandas as pd\n",
    "\n",
    "df2 = pd.read_csv(path)\n",
    "\n",
    "df2[df2.columns[0]] = lincrna_gene_id\n",
    "df2[df2.columns[1]] = ref_gene_id\n",
    "df2[df2.columns[2]] = lincrna_trans_id\n",
    "df2[df2.columns[3]] = ref_trans_id\n",
    "df2[df2.columns[4]] = no_exons_lincrna\n",
    "df2[df2.columns[5]] = no_exons_ref\n",
    "df2[df2.columns[6]] = chr_region\n",
    "df2[df2.columns[7]] = overlap_len\n",
    "\n",
    "df2.to_csv(path)"
   ]
  },
  {
   "cell_type": "code",
   "execution_count": 49,
   "metadata": {},
   "outputs": [
    {
     "data": {
      "text/html": [
       "<div>\n",
       "<style scoped>\n",
       "    .dataframe tbody tr th:only-of-type {\n",
       "        vertical-align: middle;\n",
       "    }\n",
       "\n",
       "    .dataframe tbody tr th {\n",
       "        vertical-align: top;\n",
       "    }\n",
       "\n",
       "    .dataframe thead th {\n",
       "        text-align: right;\n",
       "    }\n",
       "</style>\n",
       "<table border=\"1\" class=\"dataframe\">\n",
       "  <thead>\n",
       "    <tr style=\"text-align: right;\">\n",
       "      <th></th>\n",
       "      <th>lincRNA gene ID</th>\n",
       "      <th>Ref gene ID</th>\n",
       "      <th>lincRNA trans ID</th>\n",
       "      <th>Ref trans ID</th>\n",
       "      <th>No. of exons lincRNA</th>\n",
       "      <th>No. of exons Ref</th>\n",
       "      <th>Chr region</th>\n",
       "      <th>overlap length</th>\n",
       "    </tr>\n",
       "  </thead>\n",
       "  <tbody>\n",
       "    <tr>\n",
       "      <th>0</th>\n",
       "      <td>ENSG00000236423</td>\n",
       "      <td>gene-LINC01134</td>\n",
       "      <td>ENST00000413332</td>\n",
       "      <td>rna-NR_024455.1</td>\n",
       "      <td>3</td>\n",
       "      <td>4</td>\n",
       "      <td>1</td>\n",
       "      <td>5129</td>\n",
       "    </tr>\n",
       "    <tr>\n",
       "      <th>1</th>\n",
       "      <td>ENSG00000270035</td>\n",
       "      <td>gene-LOC105376689</td>\n",
       "      <td>ENST00000602973</td>\n",
       "      <td>rna-XR_002958251.1</td>\n",
       "      <td>1</td>\n",
       "      <td>3</td>\n",
       "      <td>1</td>\n",
       "      <td>570</td>\n",
       "    </tr>\n",
       "  </tbody>\n",
       "</table>\n",
       "</div>"
      ],
      "text/plain": [
       "   lincRNA gene ID        Ref gene ID lincRNA trans ID        Ref trans ID  \\\n",
       "0  ENSG00000236423     gene-LINC01134  ENST00000413332     rna-NR_024455.1   \n",
       "1  ENSG00000270035  gene-LOC105376689  ENST00000602973  rna-XR_002958251.1   \n",
       "\n",
       "   No. of exons lincRNA  No. of exons Ref Chr region  overlap length  \n",
       "0                     3                 4          1            5129  \n",
       "1                     1                 3          1             570  "
      ]
     },
     "execution_count": 49,
     "metadata": {},
     "output_type": "execute_result"
    }
   ],
   "source": [
    "df2.head(2)"
   ]
  },
  {
   "cell_type": "code",
   "execution_count": 52,
   "metadata": {},
   "outputs": [],
   "source": [
    "df_trans_index = df2.set_index(['lincRNA gene ID','Ref gene ID'])"
   ]
  },
  {
   "cell_type": "code",
   "execution_count": 54,
   "metadata": {},
   "outputs": [
    {
     "data": {
      "text/html": [
       "<div>\n",
       "<style scoped>\n",
       "    .dataframe tbody tr th:only-of-type {\n",
       "        vertical-align: middle;\n",
       "    }\n",
       "\n",
       "    .dataframe tbody tr th {\n",
       "        vertical-align: top;\n",
       "    }\n",
       "\n",
       "    .dataframe thead th {\n",
       "        text-align: right;\n",
       "    }\n",
       "</style>\n",
       "<table border=\"1\" class=\"dataframe\">\n",
       "  <thead>\n",
       "    <tr style=\"text-align: right;\">\n",
       "      <th></th>\n",
       "      <th></th>\n",
       "      <th>lincRNA trans ID</th>\n",
       "      <th>Ref trans ID</th>\n",
       "      <th>No. of exons lincRNA</th>\n",
       "      <th>No. of exons Ref</th>\n",
       "      <th>Chr region</th>\n",
       "      <th>overlap length</th>\n",
       "    </tr>\n",
       "    <tr>\n",
       "      <th>lincRNA gene ID</th>\n",
       "      <th>Ref gene ID</th>\n",
       "      <th></th>\n",
       "      <th></th>\n",
       "      <th></th>\n",
       "      <th></th>\n",
       "      <th></th>\n",
       "      <th></th>\n",
       "    </tr>\n",
       "  </thead>\n",
       "  <tbody>\n",
       "    <tr>\n",
       "      <th>ENSG00000236423</th>\n",
       "      <th>gene-LINC01134</th>\n",
       "      <td>ENST00000413332</td>\n",
       "      <td>rna-NR_024455.1</td>\n",
       "      <td>3</td>\n",
       "      <td>4</td>\n",
       "      <td>1</td>\n",
       "      <td>5129</td>\n",
       "    </tr>\n",
       "    <tr>\n",
       "      <th>ENSG00000270035</th>\n",
       "      <th>gene-LOC105376689</th>\n",
       "      <td>ENST00000602973</td>\n",
       "      <td>rna-XR_002958251.1</td>\n",
       "      <td>1</td>\n",
       "      <td>3</td>\n",
       "      <td>1</td>\n",
       "      <td>570</td>\n",
       "    </tr>\n",
       "  </tbody>\n",
       "</table>\n",
       "</div>"
      ],
      "text/plain": [
       "                                  lincRNA trans ID        Ref trans ID  \\\n",
       "lincRNA gene ID Ref gene ID                                              \n",
       "ENSG00000236423 gene-LINC01134     ENST00000413332     rna-NR_024455.1   \n",
       "ENSG00000270035 gene-LOC105376689  ENST00000602973  rna-XR_002958251.1   \n",
       "\n",
       "                                   No. of exons lincRNA  No. of exons Ref  \\\n",
       "lincRNA gene ID Ref gene ID                                                 \n",
       "ENSG00000236423 gene-LINC01134                        3                 4   \n",
       "ENSG00000270035 gene-LOC105376689                     1                 3   \n",
       "\n",
       "                                  Chr region  overlap length  \n",
       "lincRNA gene ID Ref gene ID                                   \n",
       "ENSG00000236423 gene-LINC01134             1            5129  \n",
       "ENSG00000270035 gene-LOC105376689          1             570  "
      ]
     },
     "execution_count": 54,
     "metadata": {},
     "output_type": "execute_result"
    }
   ],
   "source": [
    "df_trans_index.head(2)"
   ]
  },
  {
   "cell_type": "code",
   "execution_count": 3,
   "metadata": {},
   "outputs": [],
   "source": [
    "(df_trans_index.loc['ENSG00000236423','gene-LINC01134']['overlap length'])"
   ]
  },
  {
   "cell_type": "code",
   "execution_count": 86,
   "metadata": {},
   "outputs": [],
   "source": [
    "tot_ov_len = []"
   ]
  },
  {
   "cell_type": "code",
   "execution_count": 87,
   "metadata": {},
   "outputs": [],
   "source": [
    "set_linc_gene_id = set(lincrna_gene_id)\n",
    "set_ref_gene_id = set(ref_gene_id)"
   ]
  },
  {
   "cell_type": "code",
   "execution_count": 88,
   "metadata": {},
   "outputs": [
    {
     "name": "stderr",
     "output_type": "stream",
     "text": [
      "\n",
      "  0%|          | 0/4557 [00:00<?, ?it/s]\u001b[A/Users/gsoc_ensembl/lib/python3.6/site-packages/ipykernel/__main__.py:5: PerformanceWarning: indexing past lexsort depth may impact performance.\n",
      "\n",
      "  2%|▏         | 70/4557 [00:00<00:06, 686.50it/s]\u001b[A\n",
      "  2%|▏         | 105/4557 [00:00<00:08, 529.52it/s]\u001b[A\n",
      "  3%|▎         | 154/4557 [00:00<00:09, 483.98it/s]\u001b[A\n",
      "  4%|▍         | 193/4557 [00:00<00:09, 445.36it/s]\u001b[A\n",
      "  5%|▍         | 225/4557 [00:00<00:11, 370.18it/s]\u001b[A\n",
      "  6%|▌         | 257/4557 [00:00<00:12, 352.30it/s]\u001b[A\n",
      "  6%|▋         | 288/4557 [00:00<00:13, 325.71it/s]\u001b[A\n",
      "  7%|▋         | 318/4557 [00:00<00:13, 307.04it/s]\u001b[A\n",
      "  8%|▊         | 347/4557 [00:00<00:14, 283.49it/s]\u001b[A\n",
      "  8%|▊         | 379/4557 [00:01<00:14, 281.38it/s]\u001b[A\n",
      "  9%|▉         | 407/4557 [00:01<00:16, 246.37it/s]\u001b[A\n",
      " 10%|▉         | 433/4557 [00:01<00:17, 237.88it/s]\u001b[A\n",
      " 10%|█         | 462/4557 [00:01<00:16, 249.45it/s]\u001b[A\n",
      " 11%|█         | 501/4557 [00:01<00:14, 279.13it/s]\u001b[A\n",
      " 12%|█▏        | 531/4557 [00:01<00:16, 250.09it/s]\u001b[A\n",
      " 12%|█▏        | 566/4557 [00:01<00:14, 272.94it/s]\u001b[A\n",
      " 13%|█▎        | 598/4557 [00:01<00:13, 284.69it/s]\u001b[A\n",
      " 14%|█▍        | 634/4557 [00:02<00:13, 300.98it/s]\u001b[A\n",
      " 15%|█▍        | 667/4557 [00:02<00:12, 308.54it/s]\u001b[A\n",
      " 15%|█▌        | 699/4557 [00:02<00:12, 306.00it/s]\u001b[A\n",
      " 16%|█▌        | 731/4557 [00:02<00:14, 263.00it/s]\u001b[A\n",
      " 17%|█▋        | 759/4557 [00:02<00:16, 228.79it/s]\u001b[A\n",
      " 18%|█▊        | 800/4557 [00:02<00:14, 262.65it/s]\u001b[A\n",
      " 18%|█▊        | 830/4557 [00:02<00:14, 256.34it/s]\u001b[A\n",
      " 19%|█▉        | 858/4557 [00:02<00:16, 225.46it/s]\u001b[A\n",
      " 19%|█▉        | 885/4557 [00:03<00:15, 236.98it/s]\u001b[A\n",
      " 20%|█▉        | 911/4557 [00:03<00:15, 241.32it/s]\u001b[A\n",
      " 21%|██        | 937/4557 [00:03<00:15, 238.65it/s]\u001b[A\n",
      " 21%|██        | 962/4557 [00:03<00:20, 177.48it/s]\u001b[A\n",
      " 22%|██▏       | 983/4557 [00:03<00:19, 184.74it/s]\u001b[A\n",
      " 22%|██▏       | 1004/4557 [00:03<00:18, 187.47it/s]\u001b[A\n",
      " 22%|██▏       | 1025/4557 [00:03<00:19, 179.60it/s]\u001b[A\n",
      " 23%|██▎       | 1045/4557 [00:03<00:21, 159.95it/s]\u001b[A\n",
      " 23%|██▎       | 1069/4557 [00:04<00:19, 177.60it/s]\u001b[A\n",
      " 24%|██▍       | 1089/4557 [00:04<00:20, 165.32it/s]\u001b[A\n",
      " 24%|██▍       | 1107/4557 [00:04<00:21, 162.29it/s]\u001b[A\n",
      " 25%|██▍       | 1125/4557 [00:04<00:23, 145.33it/s]\u001b[A\n",
      " 25%|██▌       | 1141/4557 [00:04<00:27, 123.81it/s]\u001b[A\n",
      " 25%|██▌       | 1155/4557 [00:04<00:28, 120.69it/s]\u001b[A\n",
      " 26%|██▌       | 1168/4557 [00:04<00:29, 116.49it/s]\u001b[A\n",
      " 26%|██▌       | 1181/4557 [00:05<00:28, 118.22it/s]\u001b[A\n",
      " 26%|██▋       | 1198/4557 [00:05<00:25, 129.77it/s]\u001b[A\n",
      " 27%|██▋       | 1221/4557 [00:05<00:22, 146.37it/s]\u001b[A\n",
      " 27%|██▋       | 1237/4557 [00:05<00:24, 135.51it/s]\u001b[A\n",
      " 27%|██▋       | 1252/4557 [00:05<00:24, 135.39it/s]\u001b[A\n",
      " 28%|██▊       | 1277/4557 [00:05<00:20, 156.75it/s]\u001b[A\n",
      " 29%|██▊       | 1303/4557 [00:05<00:18, 173.39it/s]\u001b[A\n",
      " 29%|██▉       | 1326/4557 [00:05<00:17, 186.73it/s]\u001b[A\n",
      " 30%|██▉       | 1359/4557 [00:05<00:14, 214.23it/s]\u001b[A\n",
      " 30%|███       | 1388/4557 [00:05<00:13, 231.93it/s]\u001b[A\n",
      " 31%|███       | 1415/4557 [00:06<00:13, 238.84it/s]\u001b[A\n",
      " 32%|███▏      | 1441/4557 [00:06<00:14, 213.01it/s]\u001b[A\n",
      " 32%|███▏      | 1464/4557 [00:06<00:16, 193.14it/s]\u001b[A\n",
      " 33%|███▎      | 1487/4557 [00:06<00:15, 202.08it/s]\u001b[A\n",
      " 33%|███▎      | 1509/4557 [00:06<00:15, 192.52it/s]\u001b[A\n",
      " 34%|███▎      | 1532/4557 [00:06<00:15, 201.58it/s]\u001b[A\n",
      " 34%|███▍      | 1553/4557 [00:06<00:15, 191.68it/s]\u001b[A\n",
      " 35%|███▍      | 1576/4557 [00:06<00:14, 201.43it/s]\u001b[A\n",
      " 35%|███▌      | 1597/4557 [00:07<00:15, 194.83it/s]\u001b[A\n",
      " 35%|███▌      | 1617/4557 [00:07<00:15, 185.54it/s]\u001b[A\n",
      " 36%|███▌      | 1636/4557 [00:07<00:17, 163.53it/s]\u001b[A\n",
      " 36%|███▋      | 1658/4557 [00:07<00:16, 177.12it/s]\u001b[A\n",
      " 37%|███▋      | 1677/4557 [00:07<00:18, 154.20it/s]\u001b[A\n",
      " 38%|███▊      | 1710/4557 [00:07<00:15, 180.55it/s]\u001b[A\n",
      " 38%|███▊      | 1731/4557 [00:07<00:15, 187.96it/s]\u001b[A\n",
      " 38%|███▊      | 1753/4557 [00:07<00:15, 175.82it/s]\u001b[A\n",
      " 39%|███▉      | 1781/4557 [00:08<00:14, 195.00it/s]\u001b[A\n",
      " 40%|███▉      | 1803/4557 [00:08<00:14, 190.27it/s]\u001b[A\n",
      " 40%|████      | 1824/4557 [00:08<00:14, 183.59it/s]\u001b[A"
     ]
    },
    {
     "name": "stdout",
     "output_type": "stream",
     "text": [
      "1796\n"
     ]
    },
    {
     "name": "stderr",
     "output_type": "stream",
     "text": [
      "\n",
      " 40%|████      | 1844/4557 [00:08<00:15, 170.78it/s]\u001b[A\n",
      " 41%|████      | 1869/4557 [00:08<00:15, 170.12it/s]\u001b[A\n",
      " 42%|████▏     | 1896/4557 [00:08<00:14, 189.19it/s]\u001b[A\n",
      " 42%|████▏     | 1916/4557 [00:08<00:14, 182.84it/s]\u001b[A\n",
      " 42%|████▏     | 1936/4557 [00:08<00:14, 175.58it/s]\u001b[A\n",
      " 43%|████▎     | 1959/4557 [00:09<00:13, 188.01it/s]\u001b[A\n",
      " 43%|████▎     | 1979/4557 [00:09<00:14, 172.82it/s]\u001b[A\n",
      " 44%|████▍     | 2001/4557 [00:09<00:13, 184.34it/s]\u001b[A\n",
      " 44%|████▍     | 2021/4557 [00:09<00:14, 179.46it/s]\u001b[A\n",
      " 45%|████▍     | 2040/4557 [00:09<00:13, 179.91it/s]\u001b[A\n",
      " 45%|████▌     | 2065/4557 [00:09<00:12, 193.82it/s]\u001b[A\n",
      " 46%|████▌     | 2095/4557 [00:09<00:11, 215.90it/s]\u001b[A\n",
      " 47%|████▋     | 2120/4557 [00:09<00:11, 218.73it/s]\u001b[A\n",
      " 47%|████▋     | 2143/4557 [00:09<00:11, 213.61it/s]\u001b[A\n",
      " 48%|████▊     | 2167/4557 [00:10<00:11, 211.42it/s]\u001b[A\n",
      " 48%|████▊     | 2201/4557 [00:10<00:10, 235.19it/s]\u001b[A\n",
      " 49%|████▉     | 2226/4557 [00:10<00:09, 236.45it/s]\u001b[A\n",
      " 49%|████▉     | 2251/4557 [00:10<00:10, 212.10it/s]\u001b[A\n",
      " 50%|████▉     | 2274/4557 [00:10<00:11, 205.34it/s]\u001b[A\n",
      " 50%|█████     | 2296/4557 [00:10<00:10, 207.32it/s]\u001b[A\n",
      " 51%|█████     | 2321/4557 [00:10<00:10, 218.26it/s]\u001b[A\n",
      " 51%|█████▏    | 2344/4557 [00:10<00:10, 206.96it/s]\u001b[A\n",
      " 52%|█████▏    | 2367/4557 [00:10<00:10, 212.61it/s]\u001b[A\n",
      " 52%|█████▏    | 2389/4557 [00:11<00:11, 182.68it/s]\u001b[A\n",
      " 53%|█████▎    | 2409/4557 [00:11<00:11, 187.49it/s]\u001b[A\n",
      " 53%|█████▎    | 2429/4557 [00:11<00:11, 186.08it/s]\u001b[A\n",
      " 54%|█████▍    | 2461/4557 [00:11<00:09, 211.02it/s]\u001b[A\n",
      " 55%|█████▍    | 2484/4557 [00:11<00:10, 202.62it/s]\u001b[A\n",
      " 55%|█████▍    | 2506/4557 [00:11<00:10, 192.83it/s]\u001b[A\n",
      " 55%|█████▌    | 2527/4557 [00:11<00:12, 159.32it/s]\u001b[A\n",
      " 56%|█████▌    | 2545/4557 [00:12<00:14, 143.69it/s]\u001b[A\n",
      " 57%|█████▋    | 2575/4557 [00:12<00:11, 169.67it/s]\u001b[A\n",
      " 57%|█████▋    | 2595/4557 [00:12<00:12, 159.56it/s]\u001b[A\n",
      " 57%|█████▋    | 2614/4557 [00:12<00:11, 164.14it/s]\u001b[A\n",
      " 58%|█████▊    | 2632/4557 [00:12<00:11, 166.53it/s]\u001b[A\n",
      " 58%|█████▊    | 2652/4557 [00:12<00:10, 173.43it/s]\u001b[A\n",
      " 59%|█████▊    | 2671/4557 [00:12<00:12, 148.89it/s]\u001b[A\n",
      " 59%|█████▉    | 2688/4557 [00:12<00:13, 135.23it/s]\u001b[A\n",
      " 60%|█████▉    | 2717/4557 [00:13<00:11, 160.92it/s]\u001b[A\n",
      " 60%|██████    | 2736/4557 [00:13<00:12, 150.96it/s]\u001b[A\n",
      " 60%|██████    | 2754/4557 [00:13<00:16, 111.13it/s]\u001b[A\n",
      " 61%|██████    | 2774/4557 [00:13<00:14, 121.76it/s]\u001b[A\n",
      " 61%|██████▏   | 2799/4557 [00:13<00:12, 142.54it/s]\u001b[A\n",
      " 62%|██████▏   | 2817/4557 [00:13<00:11, 149.93it/s]\u001b[A\n",
      " 62%|██████▏   | 2835/4557 [00:13<00:12, 141.10it/s]\u001b[A\n",
      " 63%|██████▎   | 2870/4557 [00:13<00:09, 171.61it/s]\u001b[A\n",
      " 64%|██████▎   | 2902/4557 [00:14<00:08, 198.15it/s]\u001b[A\n",
      " 64%|██████▍   | 2927/4557 [00:14<00:08, 193.01it/s]\u001b[A\n",
      " 65%|██████▍   | 2950/4557 [00:14<00:08, 179.61it/s]\u001b[A\n",
      " 65%|██████▌   | 2971/4557 [00:14<00:08, 187.48it/s]\u001b[A\n",
      " 66%|██████▌   | 3000/4557 [00:14<00:07, 207.27it/s]\u001b[A\n",
      " 66%|██████▋   | 3023/4557 [00:14<00:08, 190.50it/s]\u001b[A\n",
      " 67%|██████▋   | 3048/4557 [00:14<00:07, 204.69it/s]\u001b[A\n",
      " 67%|██████▋   | 3070/4557 [00:14<00:08, 178.58it/s]\u001b[A\n",
      " 68%|██████▊   | 3112/4557 [00:15<00:06, 213.68it/s]\u001b[A\n",
      " 69%|██████▉   | 3157/4557 [00:15<00:05, 253.45it/s]\u001b[A\n",
      " 70%|███████   | 3196/4557 [00:15<00:04, 282.89it/s]\u001b[A\n",
      " 71%|███████   | 3236/4557 [00:15<00:04, 310.05it/s]\u001b[A\n",
      " 72%|███████▏  | 3274/4557 [00:15<00:03, 328.02it/s]\u001b[A\n",
      " 73%|███████▎  | 3325/4557 [00:15<00:03, 366.38it/s]\u001b[A\n",
      " 74%|███████▍  | 3366/4557 [00:15<00:03, 360.06it/s]\u001b[A\n",
      " 75%|███████▍  | 3405/4557 [00:15<00:04, 270.68it/s]\u001b[A\n",
      " 75%|███████▌  | 3438/4557 [00:16<00:04, 272.88it/s]\u001b[A\n",
      " 77%|███████▋  | 3509/4557 [00:16<00:03, 334.70it/s]\u001b[A\n",
      " 79%|███████▉  | 3593/4557 [00:16<00:02, 408.22it/s]\u001b[A\n",
      " 80%|████████  | 3664/4557 [00:16<00:01, 467.25it/s]\u001b[A\n",
      " 82%|████████▏ | 3724/4557 [00:16<00:01, 466.85it/s]\u001b[A\n",
      " 83%|████████▎ | 3780/4557 [00:16<00:01, 483.73it/s]\u001b[A\n",
      " 84%|████████▍ | 3835/4557 [00:16<00:01, 394.02it/s]\u001b[A\n",
      " 85%|████████▌ | 3882/4557 [00:16<00:01, 342.18it/s]\u001b[A\n",
      " 86%|████████▌ | 3923/4557 [00:17<00:01, 327.42it/s]\u001b[A\n",
      " 87%|████████▋ | 3961/4557 [00:17<00:01, 308.39it/s]\u001b[A\n",
      " 88%|████████▊ | 3996/4557 [00:17<00:01, 319.43it/s]\u001b[A\n",
      " 89%|████████▊ | 4035/4557 [00:17<00:01, 333.40it/s]\u001b[A\n",
      " 89%|████████▉ | 4071/4557 [00:17<00:01, 276.83it/s]\u001b[A\n",
      " 90%|█████████ | 4102/4557 [00:17<00:01, 256.52it/s]\u001b[A\n",
      " 91%|█████████ | 4131/4557 [00:17<00:01, 254.91it/s]\u001b[A\n",
      " 91%|█████████▏| 4159/4557 [00:18<00:01, 237.08it/s]\u001b[A\n",
      " 92%|█████████▏| 4185/4557 [00:18<00:01, 234.38it/s]\u001b[A\n",
      " 92%|█████████▏| 4210/4557 [00:18<00:01, 219.44it/s]\u001b[A\n",
      " 93%|█████████▎| 4237/4557 [00:18<00:01, 231.86it/s]\u001b[A\n",
      " 94%|█████████▎| 4261/4557 [00:18<00:01, 212.42it/s]\u001b[A\n",
      " 94%|█████████▍| 4286/4557 [00:18<00:01, 219.65it/s]\u001b[A\n",
      " 95%|█████████▍| 4310/4557 [00:18<00:01, 223.96it/s]\u001b[A\n",
      " 96%|█████████▌| 4352/4557 [00:18<00:00, 257.56it/s]\u001b[A\n",
      " 96%|█████████▋| 4394/4557 [00:18<00:00, 290.92it/s]\u001b[A\n",
      " 97%|█████████▋| 4427/4557 [00:19<00:00, 288.10it/s]\u001b[A\n",
      " 98%|█████████▊| 4479/4557 [00:19<00:00, 332.21it/s]\u001b[A\n",
      " 99%|█████████▉| 4517/4557 [00:19<00:00, 311.77it/s]\u001b[A\n",
      "100%|█████████▉| 4552/4557 [00:19<00:00, 318.91it/s]\u001b[A\n",
      "100%|██████████| 4557/4557 [00:19<00:00, 234.71it/s]\u001b[A"
     ]
    }
   ],
   "source": [
    "c = 0\n",
    "for i in tqdm(range(len(l_id))):\n",
    "    \n",
    "    if l_id[i] in set_linc_gene_id and r_id[i] in set_ref_gene_id:\n",
    "        tot_ov_len.append(sum(df_trans_index.loc[l_id[i],r_id[i]]['overlap length']))\n",
    "        \n",
    "    else:\n",
    "        print(i)\n",
    "        c = c + 1\n",
    "        tot_ov_len.append('Not Found!')"
   ]
  },
  {
   "cell_type": "code",
   "execution_count": 83,
   "metadata": {},
   "outputs": [
    {
     "data": {
      "text/plain": [
       "4557"
      ]
     },
     "execution_count": 83,
     "metadata": {},
     "output_type": "execute_result"
    }
   ],
   "source": [
    "len(tot_ov_len)"
   ]
  },
  {
   "cell_type": "code",
   "execution_count": 89,
   "metadata": {},
   "outputs": [],
   "source": [
    "ov_len_for_df = []"
   ]
  },
  {
   "cell_type": "code",
   "execution_count": 90,
   "metadata": {},
   "outputs": [
    {
     "name": "stderr",
     "output_type": "stream",
     "text": [
      "\n",
      "  0%|          | 0/6252 [00:00<?, ?it/s]\u001b[A\n",
      " 57%|█████▋    | 3537/6252 [00:00<00:00, 34636.80it/s]\u001b[A\n",
      " 87%|████████▋ | 5437/6252 [00:00<00:00, 27778.27it/s]\u001b[A\n",
      "100%|██████████| 6252/6252 [00:00<00:00, 25734.55it/s]\u001b[A"
     ]
    }
   ],
   "source": [
    "count = 0\n",
    "for i in tqdm(range(len(df_overlap))):\n",
    "    if df_overlap['same_opp_overlap'][i] == 1:\n",
    "        ov_len_for_df.append(tot_ov_len[count])\n",
    "        count = count + 1\n",
    "    else:\n",
    "        ov_len_for_df.append('-')"
   ]
  },
  {
   "cell_type": "code",
   "execution_count": 93,
   "metadata": {},
   "outputs": [
    {
     "data": {
      "text/plain": [
       "6252"
      ]
     },
     "execution_count": 93,
     "metadata": {},
     "output_type": "execute_result"
    }
   ],
   "source": [
    "len(ov_len_for_df)"
   ]
  },
  {
   "cell_type": "code",
   "execution_count": 94,
   "metadata": {},
   "outputs": [],
   "source": [
    "df_overlap['Overlap Length'] = ov_len_for_df"
   ]
  },
  {
   "cell_type": "code",
   "execution_count": 95,
   "metadata": {},
   "outputs": [
    {
     "data": {
      "text/html": [
       "<div>\n",
       "<style scoped>\n",
       "    .dataframe tbody tr th:only-of-type {\n",
       "        vertical-align: middle;\n",
       "    }\n",
       "\n",
       "    .dataframe tbody tr th {\n",
       "        vertical-align: top;\n",
       "    }\n",
       "\n",
       "    .dataframe thead th {\n",
       "        text-align: right;\n",
       "    }\n",
       "</style>\n",
       "<table border=\"1\" class=\"dataframe\">\n",
       "  <thead>\n",
       "    <tr style=\"text-align: right;\">\n",
       "      <th></th>\n",
       "      <th>ENS lincRNA gene ID</th>\n",
       "      <th>Ref lncRNA gene ID</th>\n",
       "      <th>Chr region</th>\n",
       "      <th>No. of transcripts in lincrna</th>\n",
       "      <th>No. of transcripts in lncrna</th>\n",
       "      <th>ENS-Ref Overlap ?</th>\n",
       "      <th>same_opp_overlap</th>\n",
       "      <th>Overlap Length</th>\n",
       "    </tr>\n",
       "  </thead>\n",
       "  <tbody>\n",
       "    <tr>\n",
       "      <th>0</th>\n",
       "      <td>ENSG00000236648</td>\n",
       "      <td>gene-LOC107984028</td>\n",
       "      <td>1</td>\n",
       "      <td>1</td>\n",
       "      <td>4</td>\n",
       "      <td>Yes</td>\n",
       "      <td>1</td>\n",
       "      <td>17270</td>\n",
       "    </tr>\n",
       "    <tr>\n",
       "      <th>1</th>\n",
       "      <td>ENSG00000230714</td>\n",
       "      <td>gene-LOC105372922</td>\n",
       "      <td>1</td>\n",
       "      <td>1</td>\n",
       "      <td>1</td>\n",
       "      <td>Yes</td>\n",
       "      <td>0</td>\n",
       "      <td>-</td>\n",
       "    </tr>\n",
       "  </tbody>\n",
       "</table>\n",
       "</div>"
      ],
      "text/plain": [
       "  ENS lincRNA gene ID Ref lncRNA gene ID Chr region  \\\n",
       "0     ENSG00000236648  gene-LOC107984028          1   \n",
       "1     ENSG00000230714  gene-LOC105372922          1   \n",
       "\n",
       "   No. of transcripts in lincrna  No. of transcripts in lncrna  \\\n",
       "0                              1                             4   \n",
       "1                              1                             1   \n",
       "\n",
       "  ENS-Ref Overlap ?  same_opp_overlap Overlap Length  \n",
       "0               Yes                 1          17270  \n",
       "1               Yes                 0              -  "
      ]
     },
     "execution_count": 95,
     "metadata": {},
     "output_type": "execute_result"
    }
   ],
   "source": [
    "df_overlap.head(2)"
   ]
  },
  {
   "cell_type": "code",
   "execution_count": 96,
   "metadata": {},
   "outputs": [],
   "source": [
    "df_overlap.to_csv('/feature_selection/overlap/Ens-Ref/ens_ref_gene_overlap_with_ov_len.csv')"
   ]
  },
  {
   "cell_type": "code",
   "execution_count": 92,
   "metadata": {},
   "outputs": [
    {
     "name": "stdout",
     "output_type": "stream",
     "text": [
      "4557\n"
     ]
    }
   ],
   "source": [
    "print(count)"
   ]
  },
  {
   "cell_type": "code",
   "execution_count": 84,
   "metadata": {},
   "outputs": [
    {
     "data": {
      "text/plain": [
       "4557"
      ]
     },
     "execution_count": 84,
     "metadata": {},
     "output_type": "execute_result"
    }
   ],
   "source": [
    "len(l_id)"
   ]
  },
  {
   "cell_type": "code",
   "execution_count": 75,
   "metadata": {},
   "outputs": [
    {
     "data": {
      "text/plain": [
       "22764"
      ]
     },
     "execution_count": 75,
     "metadata": {},
     "output_type": "execute_result"
    }
   ],
   "source": [
    "len(lincrna_gene_id)"
   ]
  },
  {
   "cell_type": "code",
   "execution_count": 76,
   "metadata": {},
   "outputs": [
    {
     "name": "stdout",
     "output_type": "stream",
     "text": [
      "1\n"
     ]
    }
   ],
   "source": [
    "print(c)"
   ]
  },
  {
   "cell_type": "code",
   "execution_count": 77,
   "metadata": {},
   "outputs": [
    {
     "name": "stdout",
     "output_type": "stream",
     "text": [
      "[17270, 1720, 3348, 1710, 15088, 26858, 9807, 14592, 12197, 10303, 23966, 16688, 3428, 1906, 3141, 11622, 7544, 98234, 15462, 353633, 881, 8267, 182905, 89392, 39375, 1623, 382238, 1317, 4180, 9844, 14596, 58710, 300988, 1289, 2509, 2509, 466915, 14209, 1067, 4340, 3222, 7830, 1578, 61912, 7316, 5946, 16060, 20495, 2854, 8277, 190324, 18819, 2091, 1712, 134380, 1323118, 9535, 16764, 13565, 4320, 19094, 6963, 1200, 9533, 110098, 1230, 848, 53464, 8718, 19772, 21057, 1958, 31095, 330, 58251, 726, 28842, 32421, 4276, 437634, 129106, 531, 1903, 1859, 5122, 3825, 563, 4921, 19929, 489790, 293873, 6579, 45356, 5470, 24643, 339, 1167, 14687, 477, 7059, 633, 35205, 32634, 46155, 1662, 17983, 1856, 176769, 59987, 32750, 5624, 4992, 5792, 12967, 3122, 19436, 26980, 2613, 19398, 85793, 16355, 831148, 838937, 94492, 64184, 150312, 16078, 793, 55734, 110310, 37368, 4497, 7336, 612, 35289, 28548, 44604, 31087, 6531, 80016, 321920, 30074, 147480, 33360, 150653, 1683, 18132, 2150, 41635, 8249, 35562, 13047, 2276, 13001, 1561, 3077, 14886, 10372, 4433, 17022, 29143, 12038, 43082, 3542, 15988, 13078, 474, 654, 547, 105854, 2032, 126344, 4906, 314719, 13145, 2015, 19591, 5336, 41022, 17159, 91260, 1253, 410517, 13844, 5492, 1996, 2155, 34308, 2219, 24778, 950, 167, 11451, 57303, 435, 21144, 4874, 2098, 187586, 2300, 6545, 64196, 8780, 21314, 15481, 1576, 67, 476, 1063020, 2480, 9668, 154, 60800, 13947, 129916, 41626, 69941, 879, 5153, 3175, 2377, 128528, 11510, 1911785, 61416, 2091, 39046, 1156, 34805, 1283, 722, 640, 2974, 165067, 888, 16868, 56920, 8180, 15636, 25557, 61209, 24744, 5185, 8799, 24077, 300360, 5523, 267086, 39450, 1095, 8866, 5325, 801, 1889, 54586, 48448, 71328, 180667, 670356, 3579, 6516, 2864, 23661, 131, 408, 184455, 471652, 89604, 21438, 21436, 183101, 11170, 1710, 120057, 6791, 33713, 68567, 10065, 40002, 12094, 7053, 8756, 25054, 14629, 17703, 1376, 64796, 30495, 42621, 12492, 20686, 4497, 17141, 3700, 27786, 2167, 2167, 1345, 100949, 8755, 4363, 95574, 45468, 13198, 204840, 432290, 369126, 14246, 686991, 125723, 5033, 1450, 1800, 1066, 158465, 181, 371282, 9499, 16751, 21899, 5500, 36297, 1158, 2924, 2924, 5093, 1940, 9519, 228384, 25817, 107082, 25780, 9141, 66885, 244710, 25480, 8698, 2968, 60603, 79390, 2395, 107969, 151651, 29095, 943754, 16226, 24232, 2582, 2940, 23731, 29362, 7040, 7309, 124966, 1690, 8729, 1022, 44482, 1091, 3771, 10833, 2987, 4620, 13632, 14268, 40750, 6427, 1686, 85494, 7152, 2070, 2464, 2579, 5713, 296, 27905, 12925, 2217, 4314, 8636, 17810, 39077, 12813, 16757, 3581, 662, 107001, 422771, 37556, 3292, 1646, 246503, 23190, 2826, 1248, 244205, 2965186, 22380, 2184, 9435, 159604, 3504677, 25491, 4082, 59906, 25690, 1752, 1604, 1056, 1755, 1871, 19304, 5386, 139895, 41148, 108706, 230979, 154030, 15095, 15304, 3148, 35, 53382, 84992, 5050, 67110, 64724, 5889, 2325, 1052935, 572702, 1907, 1905, 89264, 6476, 39157, 80502, 1879, 839, 13068, 23586, 2577, 12714, 20457, 3113, 43924, 28085, 48937, 7780, 110620, 449, 5728, 222, 2814, 242663, 5964, 77513, 813, 1810, 366, 104361, 7944, 2076, 455, 9037, 345123, 302001, 11855, 25043, 7473, 10374, 156863, 61842, 50164, 44073, 84946, 194966, 85854, 11895, 38512, 109906, 6977, 139633, 1548, 1458, 128135, 36444, 289796, 496388, 2714, 4896, 193168, 4436, 2413, 1382, 20450, 65990, 43628, 1891, 129984, 446324, 1375317, 19423, 1320, 899, 1070, 93501, 601483, 22116, 3061900, 6388, 933848, 341256, 107051, 11173, 1766, 737, 162866, 9810, 2632, 67154, 42646, 376478, 96829, 1281, 15760, 15670, 5839, 4242, 1465, 180732, 79619, 2203, 3894, 109748, 3556, 459966, 10006, 85550, 19690, 35889, 94174, 3500, 814704, 543, 5757, 24030, 21972, 21206, 13000, 70138, 88007, 482830, 50706, 669, 689, 10126, 1460163, 2143, 977882, 1701, 39258, 899497, 30841, 82366, 14157, 1643, 40229, 22052, 1634, 1653, 23527, 8627, 2728, 652116, 147211, 17497, 7326, 518, 20562, 92556, 2325, 2325, 225397, 12966, 948, 2349, 2089, 8256, 4458, 506482, 3298, 1888, 24001, 643, 2280, 104254, 21290, 31936, 8722, 9145, 8920, 4700, 904, 3837, 58255, 22660, 129658, 786515, 10507, 15321, 49863, 63922, 2567, 4439, 1956, 65383, 36358, 6506, 1058323, 10633, 10633, 6850, 22873, 1898, 1697, 4170, 29509, 344170, 125517, 980350, 650263, 16895, 16895, 44365, 239570, 4656, 4678, 1782, 7748, 1573852, 6254, 20211, 863, 35097, 1566, 20672, 39731, 36410, 17676, 104095, 27264, 110, 22952, 62670, 5988, 10246, 31596, 10165, 2597, 28855, 5064, 12786887, 191854, 20939533, 83921, 36295, 7887, 2541, 90772, 17049, 31977, 4174, 1477, 1645, 9609, 7509, 299, 843, 93849, 22384, 3281566, 22673, 21213, 3183, 2942, 12591, 28014, 355711, 31132, 15634, 168001, 95028, 45687, 26424, 59981, 49413, 9947, 112349, 896166, 5914, 64985, 61210, 72667, 132908, 15384, 6883, 24995384, 17248, 12468, 17383, 4435, 2037, 93632, 45358, 42745, 20598, 1405, 15619, 14552, 868, 2604, 3418, 28166, 122058, 10560, 17022, 1172, 9236, 45511, 18502, 7536, 2127644, 37608, 4022, 4724, 10158, 8583, 48874, 27572, 2789, 57416, 61693, 4939, 2117, 2117, 7564086, 5328, 9413, 3449, 6968, 14024, 106314, 105315, 17162, 108684, 11752, 3892, 1419, 13400, 27074, 3435, 8134, 2940, 3753, 15461, 697008, 3287, 151510, 6515, 20528, 15852, 78454, 620917, 42848, 18252, 3361, 73716, 36496, 135208, 5476, 21324, 12871, 70949, 2847, 73416, 745, 299745, 14541, 7624, 353082, 14277, 504451, 15992, 690812, 3154, 2639, 18255, 3160, 41586, 31480, 20392, 38662, 67567, 42623, 9871, 2399, 39393, 12555, 80906, 31730, 22233, 3414, 10350, 1686, 1686, 968, 73192, 32983, 7068, 70378, 978557, 106774, 27092, 10775, 3936, 830444, 9003, 230270, 18631, 23370, 4537, 15724, 1064602, 134322, 2368, 3392, 4251, 97757, 97194, 8, 5054, 5925, 23240, 12084, 16497, 661328, 28977, 4788, 502, 4118, 25900, 38572, 39299, 48068, 57068, 29607, 8444, 1725, 324443, 1860, 939628, 710036, 4357, 119080, 289260, 15054, 70554, 14642, 4888, 7690, 132556, 12165, 24389, 6707, 20983, 19117, 561, 749, 33833, 67477, 1180, 9157, 75581, 2393, 2624, 3401, 43940, 2833, 1882, 4872, 25382, 2039, 101780, 3100, 8057, 86900, 127692, 26824, 285248, 3093, 16767, 2441, 46603, 98515, 7596, 21816, 10125, 387159, 57180, 38174, 85220, 14370, 237, 6203, 17079, 28200, 19927, 39537, 3738, 33201, 8090, 606, 78978, 24406, 114314, 4078, 13021, 3885956, 209939, 136608, 87030, 897817, 772497, 68364, 4255, 8835, 18984, 7748, 84848, 1096, 113311, 90997, 3472, 21962, 926, 53481, 8107, 5805, 216837, 693837, 3500, 5836, 17644, 7485, 292360, 3631, 87877, 11043, 29311, 197735, 462, 3249, 2649, 277055, 12233, 62606, 56086, 41336, 8421, 479, 41649, 3099, 1644, 25580, 15597, 111282, 19991, 303, 64412, 2179, 4396, 1881, 3921, 75891, 193006, 2434, 56389, 30773, 205956, 300571, 222876, 2158, 5711, 8491, 6402, 82886, 87415, 10805, 4263, 561754, 387169, 42764, 5600, 273143, 632, 3354, 11918, 4322, 86135, 12477, 13674, 29223, 110397, 33985, 2115, 162835, 1733, 30453, 20443, 40532, 52462, 2534, 209160, 4473, 165082, 8947, 158010, 16591, 9690, 69061, 5592, 1108, 12030, 25212, 8660, 6465, 105634, 27753, 10243, 256860, 1274, 71490, 10011, 4643, 223268, 2183, 1250, 19583, 287099, 12075, 9955, 14301, 1415846, 2594, 941986, 1172, 3869, 14241, 182584, 12767, 24878, 53794, 1249309, 5117, 40115, 552279, 1992, 78140, 58142, 111815, 6765, 8775, 56475, 57700, 1333710, 3225, 53650, 304754, 110424, 84630, 112376, 19825, 13734, 6669, 102519, 1177298, 40686, 561434, 44061, 61828, 37360, 39378, 16444, 6235, 102920, 37112, 52016, 944458, 2093, 16465, 565823, 34985, 40, 6565, 53550, 2323, 27870, 7396, 15840, 69476, 47985, 8309, 22330, 872471, 659, 19883, 226802, 56154, 10429, 2194, 11871, 586329, 7487, 1321, 1274, 74, 173403, 28561, 13352, 732520, 45, 12880, 56068, 11529, 18706, 157420, 89190, 18441, 24754, 1292, 15436, 4612, 11814, 28610, 167734, 24865, 9161, 4899, 1979, 66757, 1876, 17811, 2034, 8290, 2615, 230500, 23063, 2137, 88727, 95061, 123829, 324419, 8943, 18846, 238062, 3721, 5022, 64747, 28518, 94932, 8855, 3072, 89737, 975, 70670, 103243, 109691, 20600, 139440, 8995, 974430, 1243, 205336, 35014, 10493, 69106, 148502, 1070634, 261994, 65217, 7699, 4813, 57198, 54048, 5094, 35548, 18895, 6396, 1152892, 116986, 19170, 1728, 432, 1173, 33509, 18192, 3363, 4432, 49950, 15928, 14236, 3402, 9848, 46043, 1462, 4226, 511307, 4664, 5157, 610, 827, 2067, 4662, 16570, 6612, 93594, 12781, 33866, 427, 20832, 8629, 4711, 1662, 6112867, 35116, 864, 17956, 4146, 3593, 203948, 28523, 3832, 7255, 25307, 64992, 13552, 63855, 20653, 69974, 8532, 3235, 667, 23210, 434096, 6125, 5199, 31905, 255339, 3720, 16220, 74934, 5304, 17106, 111393, 30650, 7463, 18374, 4446, 4446, 8832, 3042, 4210, 1385, 20235, 89236, 895595, 2141, 21733, 9750, 36834, 62409, 698, 81359, 28792, 568, 16917, 29736, 24274, 8483, 112599, 744, 16706, 620456, 80829, 283, 1619, 17556, 40735, 10021, 15676, 9434323, 13641, 2358, 17413, 17721, 18981, 563, 16174, 14374, 6434, 22252, 66721, 200, 618, 495130, 1188, 118943, 7633, 6961, 14274, 14260, 436, 3468, 2164, 920, 2534, 38335, 89091, 1805, 51789, 2835, 124076, 229794, 3337, 6470548, 38234, 7041, 2427, 92733, 27390, 16391, 2271, 59602, 541, 6561, 65843, 1839, 1026, 120750, 110144, 32412, 12486, 2647, 2490, 6870, 28992, 167601, 154893, 1231, 22510, 38298, 807, 290493, 14710, 94051, 16569, 90735, 555297, 40315, 27462, 1778, 118819, 8973, 22518, 175017, 2464, 74813, 38184, 587, 12714, 57395, 992632, 992, 76432, 7776, 7633, 730, 37191, 6212, 6015, 16432, 5997, 7400, 7967, 59172, 2565, 110161, 5413, 8405, 6422, 9677, 5664, 165405, 165405, 5603, 599, 4052, 1702, 374670, 50688, 21186, 10438, 161486, 166351, 4061, 6298, 198772, 14440, 9120, 3930, 628, 26906, 2203, 591, 171404, 96485, 718, 1031, 36222, 9242, 18908, 6286, 193056, 854, 65741, 515650, 201991, 23782, 600, 46063, 25819, 63632, 61867, 3394, 5304, 191133, 6754, 108967, 13902, 24524, 5253, 361483, 23380, 1518, 77670, 58812, 344976, 500280, 1838, 1236, 270627, 11560, 2678, 6298, 90, 1075, 2060434, 7885, 299646, 1805, 2615, 4016, 526, 3408, 21149, 720, 1695, 43151, 89652, 2059, 1160658, 40321, 34308, 52631, 15147, 912093, 2475, 394500, 106719, 14524, 257583, 19812, 6028, 849428, 411724, 14004, 2554, 52213, 360533, 1570, 20010, 3398, 8845, 127426, 209262, 521552, 3913, 33513, 30976, 20179, 751456, 767, 14097, 16677, 127739, 244018, 3411, 7908, 7392, 5080, 1016, 9264, 164705, 1363, 22134, 18889, 9619, 734697, 264888, 102928, 10244, 13357, 14852, 9706, 45866, 45300, 1055, 16912, 7846, 2386784, 1157, 10942, 12691, 98443, 152915, 22350, 1889, 21012, 92011, 3114, 5375, 12243, 5685, 8039, 2065, 170910, 80717, 5335, 13623, 621277, 18509, 16234, 166044, 35719, 25757, 378555, 24476, 1201, 21170, 98651, 15974, 219272, 7258, 2722, 2373, 43038, 1602, 1459, 827, 1807, 5196, 28269, 872, 661, 3540, 68008, 35588, 16528, 37422, 60514, 2075, 20139, 46228, 1659, 51664, 36314, 5152, 2540, 50277, 165479, 18170, 577, 34655, 1864, 2313, 6642, 8351, 12646, 26284, 44759, 9183, 5152, 365469, 198558, 68826, 1268896, 107682, 12410, 198599, 1560, 94649, 7233, 22068, 5075, 1506, 4210, 1308, 172539, 3917, 4026, 20813, 4416, 7786, 7063, 1496, 5307, 19530, 3996, 4531, 19308, 40471, 7730, 4817, 52343, 21314, 5268, 25826, 51742, 17548, 3514, 3315, 3125, 5782, 15239, 1953, 324397, 111834, 26877, 229736, 453684, 5911, 641398, 5950, 2192, 7437, 19979, 1239, 6645, 137190, 3561480, 425362, 1079, 4854, 1143, 1446, 782, 2414, 4460, 76851, 1409280, 8631, 1486, 157658, 15994, 3643, 3745, 16012, 1987146, 36570, 259380, 8889, 92535, 154952, 781, 279690, 132750, 1464, 886, 3970, 566, 465177, 65913, 12553, 469, 1160916, 48200, 52992, 2719, 147134, 102, 2264, 8973, 13506, 2897, 38292, 132611, 958, 1319, 2580, 61817, 5214, 57020, 71173, 10094, 529604, 441715, 36328, 1649, 3957, 14618, 2538, 48510, 2490, 126083, 3999, 40372, 383034, 11994, 12237, 26096, 16916, 13136, 87, 1156, 5936, 20594, 3963, 64566, 12384, 5602, 2632, 650, 95793, 37702, 3309, 2180, 472, 8541, 56895, 600058, 63050, 41588, 82178, 1224, 11486, 2291, 337494, 12481, 2178, 395503, 9690, 1624, 1094, 16482, 1230, 589080, 6492, 147460, 75936, 12438, 1485, 157002, 662, 4123, 1734, 2348, 7748, 61826, 49059, 4842, 433606, 24886, 2316, 190, 36057, 'NA', 27091, 5668, 14151, 138880, 31898, 8792, 2731, 20856, 1748, 44306, 3288, 3779, 255878, 5764, 4551, 4476, 7955, 2103, 19818, 156196, 80155, 145487, 23650, 3435710, 2286, 7114, 15028, 5488, 4731, 94824, 14152, 330125, 313, 85692, 231063, 6613, 459554, 145090, 11173, 1224, 154548, 69426, 107757, 2091, 611, 4406, 281899, 3274, 161040, 1422, 964, 44722, 62998, 14742, 41494, 67198, 23339, 4625, 1062, 3901, 4035, 74373, 14483, 264516, 1629880, 64752, 108791, 4473, 33486, 32978, 3330, 10203, 12951, 543180, 23400, 1764, 1997, 14281, 8443, 8483, 14429, 20926, 92740, 35608, 26671, 2481, 81567, 4171, 12945, 1163, 1120, 21070, 1975767, 7668, 1138, 2262, 8771, 31786, 26319, 5568, 4283, 2628, 23465, 16973, 2256, 96576, 2241, 13824, 4453, 220542, 6159, 1438, 1272738, 1198, 2646, 1099, 15262, 28014, 8532734, 40002, 32374, 2337, 204976, 3402, 8922, 187718, 17200, 87300, 3592, 35284, 9697, 10153, 38598, 925, 63435, 1903, 526348, 15040, 6310, 109412, 180475, 72686, 25580, 31808, 24049, 282481, 2491, 932, 14220, 2339, 3936, 3428, 4301, 3807, 3155, 4147, 12904, 36533, 12506, 4438, 136050, 1628, 3158, 21147, 486958, 23125, 10010, 117703, 1322, 133905, 476801, 96152, 5004, 661, 49821, 10849, 2233, 49967, 22286, 51270, 463, 45549, 5386, 506, 2236, 15912, 22178, 36258, 59270, 5211, 7832, 526, 686, 3466, 3479, 62916, 6169, 2146, 76955, 23561, 5048, 9293, 58665, 5771, 1363, 1080, 5895, 38454, 12439, 1752, 404510, 2069, 5855, 374316, 14795, 31804, 53772, 49264, 180104, 1964, 4569, 6574, 10930, 133541, 87295, 136477, 220506, 242037, 222604, 3431, 3431, 3532, 889, 82347, 680, 544, 50349, 3613, 33749, 41712, 5936, 242358, 778, 9368, 22769, 19990, 1911574, 4652, 28988, 5122, 8028, 665802, 175669, 11301, 15418, 108684, 14686, 16072, 14360, 1978, 29786, 2088, 116830, 2692, 1190, 1595, 573884, 14554, 1727, 1699, 16269, 190123, 883, 5944, 59350, 3400, 32093, 718, 13289, 55775, 4049, 19204, 207808, 497, 21840, 4368, 35659, 570666, 14036, 6763, 2928, 485, 591, 20048, 7402980, 17472, 18374, 1666233, 5782, 12722, 23722, 2476, 61263, 13260, 292, 7214, 18040, 2226, 41920, 112934, 1268, 49052, 6618, 216077, 261, 209580, 85458, 960, 1802, 8356149, 7118, 14315, 23865, 54000, 223114, 54236, 199071, 24108, 3298, 265, 17776, 11241, 14964, 5143, 1827, 28750, 14787, 41761, 274, 2623473, 47943, 4221, 658234, 81816, 9389, 28167, 153535, 11143, 27002, 24198, 325236, 455547, 184891, 1712631, 63734, 99096, 5661924, 4041, 32512, 103015, 11526, 102758, 20011, 291909, 13370, 11746, 225754, 89366, 6752, 279561, 7445, 374549, 13707, 10658, 5189, 40816, 90544, 4807, 8761, 31965, 130759, 54708, 54189, 100668, 26784, 850218, 127361, 121312, 1052, 2943, 45470, 87762, 57215, 4178, 3348, 1053, 3393, 12302, 8477, 3121, 18108, 578, 1210, 7954, 4362, 41694, 47908, 8937, 3003, 13886, 171697, 163405, 4696, 39581, 22925, 104155, 21282, 3944, 5334, 5334, 9299, 456182, 6730, 88456, 3262, 72366, 1164, 18277, 7980, 1467, 18871, 3310, 1142, 144174, 1335, 16929, 6702, 47895, 133, 13529, 10904, 1714, 19410, 18419, 7215, 239129, 1681, 20559, 3917, 53335, 20747, 183172, 103236, 57618, 1512, 94215, 16068, 5989, 3360, 24288, 1185, 11682, 38060, 4750, 59860, 8134, 14378, 704530, 3970, 279348, 5792, 499, 1229, 12000, 1935, 30084, 869, 31135, 31900, 7068, 19520, 619152, 20846, 24946, 5125, 1493, 234104, 212440, 40659, 9880, 10664, 58735, 54219, 1988, 2318, 3407, 3007, 6014, 57266, 612, 4217, 43398, 4308, 94698, 30702, 28473, 36672, 21039, 17637, 744596, 8422, 20475, 129927, 903, 3610, 2773, 37039, 89272, 47932, 27125, 6907, 5884, 7937, 6828, 2100, 137873, 1865, 25002, 1588, 1818, 10516, 127486, 15528, 214640, 5293, 22778, 715, 5447, 6233, 2746, 9205, 1107, 3744, 5625, 1346, 182468, 18358, 13548, 135462, 39881, 1245, 4008, 7273, 2573, 12524, 15049, 10420, 10928, 46929, 110308, 1673, 4864, 977, 9992, 40832, 133154, 18639, 40689, 165779, 2842, 16608, 14513, 21321, 936, 1262, 14919, 14763, 51815, 5861, 261144, 1789, 1482, 3034, 682, 2051, 5379, 70108, 6882, 1693, 20800, 7267, 315625, 3114, 10143, 3295, 1938369, 172484, 51244, 258864, 10730, 2491, 85624, 10423, 23685, 6849, 73670, 1397, 67488, 9960, 11225, 4922, 42405, 3936, 19279, 490, 55144, 1041226, 779, 60494, 164558, 33391, 164603, 14670, 137699, 1680, 48176, 1233066, 1972, 1701, 15822, 10449, 3377, 24653, 898, 1266953, 21317, 46597, 21410, 1883, 763, 2582, 5922, 22658, 961, 419431, 2168, 25981, 1338, 36909, 15725, 12946, 31705, 51694, 63330, 2382, 8560, 1937, 1128, 2447, 118899, 3393, 10821, 1131, 361644, 4268, 4268, 22326, 1870600, 198104, 43978, 138285, 7974, 919, 4781, 23383, 16094, 65128, 9139, 898, 898, 68544, 5204, 17825, 6232, 51107, 22354, 54945, 9076, 524, 21681, 20262, 9439, 15266, 65527, 37288, 3587, 62806, 573, 19226, 1918, 14305, 175932, 351256, 6281, 1558, 44192, 18310, 4849, 14974, 1522, 61115, 39503, 311272, 5336, 4874, 8011, 52011, 11719, 4658, 100304, 22619, 4335, 8968, 17802, 739100, 6631, 3285, 754, 87858, 2540, 26523, 20298, 6264, 8308, 8090, 16352, 27468, 8042, 25772, 22005, 41885, 11888, 5750, 63299, 48504, 83649, 36792, 259388, 27494, 5430, 78059, 3305, 7178, 1426, 1090, 60669, 1333, 5154, 11345, 95278, 10544, 13020, 71336, 1095, 1459, 494, 69640, 27960, 1050, 459, 32227, 24335, 24840, 1419, 2105, 2374, 9519, 993, 119844, 5739, 60451, 7248, 5855, 27866, 257791, 163874, 2584, 2273, 3879, 109045, 6251, 19053, 460549, 74088, 106959, 6245, 592, 3051, 1490, 376, 4247, 1686, 34541, 62368, 10661, 31850, 32197, 1516, 1516, 19474, 44191, 89730, 21364, 13344, 15678, 11423, 1047974, 22308, 927, 23551, 62326, 7800, 6369, 3414, 1351, 570471, 1558, 1479, 9813, 7244, 239585, 53892, 21583, 5492, 3994, 453692, 27304, 59695, 24771, 104752, 6149, 25755, 25755, 33532, 81404, 96804, 2272, 116490, 9556, 133338, 7030, 34758, 101892, 7073, 3107, 28063, 7195, 4006, 1362, 1879, 20848, 26706, 9212, 11604, 112161, 369295, 1438, 33666, 922, 222204, 14319, 1058, 89654, 39862, 126227, 4313, 437458, 50970, 2878, 101194, 9330, 84728, 2464, 10716, 17112, 58, 861, 48021, 17876, 15453, 100621, 20605, 142966, 27994, 1381, 213264, 771, 320514, 60611, 5551, 2297, 760, 22074, 16122, 4127, 122395, 420550, 201908, 20330, 6686, 90299, 106831, 90855, 19658, 517, 696, 880, 54970, 16063, 720, 30911, 15502, 20756, 3139, 6324, 57534, 2563, 4324, 183489, 210078, 40286, 21324, 368285, 25568, 373442, 17205, 7068, 30647, 73119, 40082, 2056, 3498, 4507, 4805, 12654, 6917, 20418, 30154, 9971, 88774, 3383, 4973, 318026, 5200, 125614, 16355, 3198, 24579, 421050, 20086, 1592, 2464, 14070, 354, 2994, 21311, 79926, 18389, 15866, 327119, 10289, 1652, 50230, 134342, 18192, 2763, 8531, 1696, 2482, 575245, 48965, 123177, 1776, 334, 145, 1660, 14852, 17269, 388389, 17062, 296122, 7196, 5821, 963, 20211, 44, 43226, 35033, 5274, 25142, 40556, 976, 5041, 5471, 11558, 501048, 136095, 148821, 25746, 2856940, 65370, 42009, 1716, 88158, 785, 63192, 267468, 33918, 64754, 510, 1562, 3239, 2961, 2100, 9566, 3736, 15918, 5302, 404677, 8869, 23626, 15940, 1202, 8416, 20744, 669, 165487, 12954, 264840, 1351, 7796, 108191, 4701, 11080, 24904, 13041, 25438, 11072, 530, 17121, 25666, 3141, 153262, 103988, 12306, 49128, 8817, 19334, 13745, 3303, 11596, 2800, 30996, 13947, 15117, 3342, 259403, 7467, 1706017, 34240, 4062, 24462, 383670, 25259, 24853, 262862, 20030, 9766, 3942, 22426, 9817, 28518, 826226, 18371, 3379, 5872, 115596, 266802, 4068, 104864, 4236, 23446, 3900, 9614, 33067, 3214, 168, 466221, 84089, 5162, 39415, 3489, 22887, 27348, 3595, 61680, 44469, 42906, 33530, 1360, 25268, 9223, 10344, 2915, 59955, 14610, 9342, 131802, 3262, 20429, 166037, 38953, 26248, 3221729, 14858, 7373, 5458, 1860, 536056, 55783, 98870, 49458, 25573, 6922, 1038, 9795, 101386, 896, 14733, 75779, 2034, 2034, 10125, 71118, 278336, 2907, 102165, 20725, 2068, 4269, 260922, 25244, 48546, 286188, 10161, 3083, 37034, 13386, 3361, 22048, 4737, 3410, 61878, 29941, 25165, 6922, 27377, 79329, 491, 4851, 37050, 7256, 96225, 6296, 19686, 19485, 1009, 25052, 2306, 118561, 18248, 3545, 20215, 65595, 303658, 1074, 946, 836, 7590, 1270, 2656, 5672, 2818, 2197, 37371, 21421, 16597, 1838, 94757, 756, 1028, 873, 4144, 444129, 3249, 2084, 3799, 21714, 5177, 46997, 17336, 224182, 266128, 1279, 7220, 552, 1265, 45359, 637, 1328, 2331, 773, 1115, 1400, 1400, 2832, 7509, 9899, 26024, 7589, 93216, 8136, 13550, 2887, 3503, 3303, 474, 8051, 51902, 3047, 15533, 2355, 4868, 7166, 60396, 97916, 976, 340849, 2735, 7154, 11690, 30859, 15793, 80318, 231672, 6968, 4361, 11957, 1275, 834, 84339, 643474, 2567, 536, 530, 5011, 30907, 27708, 30848, 7440, 2811, 1266141, 91303, 46071, 49205, 1189, 4905, 2340, 4242, 7266, 8659, 107701, 1849, 5270, 1533, 1701, 1794, 197135, 253553, 5558, 134276, 2719, 3258, 5906, 13834, 91943, 72412, 12046, 31974, 43657, 513, 566, 180968, 18475, 2372, 18620, 23259, 205741, 18200, 12100, 2354, 4989, 14268, 38427, 28520, 15587, 5729, 19986, 5346, 622, 6265, 180334, 7260, 10127, 22902, 17482, 25791, 35644, 1421, 34220, 8292, 2210, 4282, 41793, 84702, 18636, 265428, 8362, 1668, 556, 7038, 1923, 58448, 3257, 179282, 4242, 3230, 13986, 7174, 1094, 144994, 3651, 60701, 1119, 153277, 21534, 6159, 12854, 8813, 2486, 1110, 3409, 23636, 46071, 5840, 4940, 2470, 595, 5903, 376857, 22570, 1933, 380690, 23622, 166468, 9455, 28440, 166357, 34000, 83222, 32501, 56620, 17768, 2236, 154376, 795652, 6491, 8343, 409602, 2086, 42802, 20096, 1776, 9110, 672, 16831, 34093, 23672, 3169, 104543, 300, 64090, 12124, 3386, 24441, 6803, 17606, 263288, 11496415, 63812, 158712, 508626, 579930, 1352, 29124, 38163, 38271, 71505, 346187, 289391, 364649, 57546, 2896, 16567095, 8179, 174874, 627544, 305349, 11674, 225529, 5557, 1786, 1313064, 7012, 2835265, 112039, 78408, 18024, 5442, 8891, 10047, 35208, 1260, 2597, 147908, 748110, 4388, 1067, 219953, 6639, 4875, 371800, 30046, 19793, 2352, 24836, 13243, 2297, 77743, 177768, 15416, 14142, 1491, 3099, 20916, 11815, 14783, 303076, 55973, 221286, 4118, 28844, 2911, 36979, 16978, 5007, 182970, 1808, 26417, 3741, 322419, 49692, 1936, 2687, 2343, 19673, 25265, 17715, 3729, 53717, 277445, 23970, 1201, 544, 749, 98846, 64513, 752, 2101, 23390, 8677, 299377, 10573, 82088, 5825, 6407, 103613, 9424, 9079, 10836, 32407, 3880, 104566, 40361, 3151, 10520, 266281, 20728, 2240, 747745, 133090, 326130, 14376, 42101, 4826, 56014, 220417, 67984, 20766, 5921, 94862, 5810, 88526, 4439, 2518, 8171, 4958, 2051, 35540, 13456, 1944710, 673, 10848, 100587, 373611, 33625, 1662, 46613, 3068, 681545, 10329, 7577, 886667, 6042, 6165, 47755, 2993, 17652, 7365, 5111, 184777, 113841, 3448, 256425, 18090, 119887, 8516, 1472, 24979, 1321, 62153, 11372, 89255, 103605, 2022, 2916, 422352, 276890, 17612, 9309, 5754, 1113, 19466, 2758, 6728, 1113, 13334, 14922, 54486, 59807, 39814, 61731, 17733, 83280, 30238, 13125, 14946, 490417, 2300, 7410, 67827, 13039, 17977, 2066, 1135, 1135, 144536, 4915, 6848, 15649, 1788, 180249, 11896, 63024, 816303, 4630, 11453, 7707, 6444, 10744, 626554, 37409, 5775, 42032, 369566, 7131, 19974, 3485, 260560, 981, 444389, 22543, 6721, 20287, 399864, 35207, 443382, 30952, 36665, 1314, 435, 1021, 73739, 2484, 97680, 39602, 4771, 17981, 64461, 141272, 84034, 90940, 5760, 262626, 44931, 181081, 12620, 2541, 18337, 17747, 17338, 15351, 19396, 4445, 236762, 8247, 51584, 181818, 19503, 868, 5902, 261, 664, 4570, 20121, 34082, 1223054, 86142, 2903, 132394, 75587, 358, 6154, 302926, 53049, 3199235, 3063, 151441, 90, 2621, 117592, 3966, 30797, 23288, 36490, 7158, 8694, 32148, 257176, 41520, 25497, 15629, 139686, 143249, 50900, 252226, 13143, 2762, 10892, 4245, 48897, 6188, 5683, 744216, 1236, 413543, 1219, 15374, 3265, 82736, 113382, 1047904, 7196, 545, 1519, 116096, 218989, 16398, 151018, 1510, 4377, 561, 1269, 6612, 3216, 12294, 6208, 5145, 580, 212365, 2424, 2495, 4377, 121336, 4377, 6959, 2199, 943, 5672, 3128, 64671, 2955, 39686, 26479, 246830, 14309, 3275, 9493, 4218, 2765, 7620, 173886, 41150, 97740, 3861, 66109, 24752, 54870, 530404, 90730, 1828, 2484, 71540, 298435, 6267, 1101, 867626, 39440, 83124, 37817, 5514, 30464, 10877, 57110, 1110799, 4285, 37777, 199752, 49635, 4390, 30900, 2849, 13418, 2025046, 2204, 16024, 958, 540, 60048, 293517, 51295, 64636, 36034, 8712, 3674, 3770, 4014, 52506, 105012, 865334, 2198, 10402, 198621, 33, 16571, 23080, 1160, 13787, 9708, 269265, 71074, 349747, 3603, 3789, 30282, 138851, 3692, 135199, 2378, 2989, 2542, 22338, 3399, 3041, 4425, 4886, 7158, 5896, 3006, 22318, 17819, 2849, 2393, 218550, 7093, 20030, 937, 4090, 14757, 1116, 1321, 5999, 26321, 11718, 181018, 22380, 1200, 2611, 980, 1577, 224807, 51520, 11620, 2543, 7182, 14629, 562, 8320, 252216, 274143, 14838, 54576, 11211, 13357, 2967, 1436, 366, 27236, 477554, 575141, 20991, 7515, 120927, 13197, 10877, 29761, 50465, 3163, 16098, 11299, 657, 9641, 420035, 10338, 77054, 202835, 127949, 35241, 1752, 317371, 92095, 23481, 2690, 1528482, 5323, 44676, 15138, 3428, 983, 104403, 16414, 232, 281044, 1762, 1762, 24286, 3889, 7880, 1454, 8258, 2736, 840, 120027, 172136, 1450, 20257, 3402, 446, 350088, 488, 58718, 41854, 41984, 12936, 27468, 597, 203372, 7199, 680, 3663, 30116, 8684, 376, 1652, 6001, 1553, 3692, 51251, 2350, 3986, 1180, 28571, 727007, 130764, 55898, 3222, 1317, 983, 922, 2769, 13712, 7723, 11501, 48804, 1802, 6314, 158463, 2927, 5249, 5540, 396, 396, 8059, 1371, 5688, 2921, 34004, 2476, 1200, 1533, 17867, 45983, 544, 22459, 11692, 24893, 22074, 2746, 8394, 762, 388, 1525, 65866, 5918, 5052, 1275, 37468, 2064, 1241, 6491, 622034, 152243, 236588, 76836, 55898, 9387, 10459, 12394, 2729, 28068, 148710, 182438, 21149, 3813, 224142, 138796, 423, 125468, 4890, 145180, 2346, 4797, 868, 5103, 8657, 17144, 254646, 5391, 5061, 5280, 12622, 164455, 5355, 1269, 57658, 21870, 548, 27574, 3541, 2656, 7790, 9291, 1848, 4253, 11474, 289150, 46972, 798, 191978, 6291, 47014, 21072, 4732, 951, 27870, 1215, 124, 148232, 11106, 12197, 11274, 65917, 62359, 5671, 10410, 662, 586, 88109, 1556473, 437250, 3244496, 268113, 108362, 96749, 3207, 2533, 144555, 40818, 2668, 5063, 2393, 36732, 2072, 407, 4610, 48909, 15558, 50088, 1580, 235364, 3107, 218567, 437134, 31683, 341568, 16563, 1329, 610829, 1736, 135, 27564, 6727, 6193, 358510, 7269, 7780, 23500, 11576, 116834, 32540, 283770, 18913, 4739, 16303, 389885, 8200, 16234, 1201, 29046, 11562, 678084, 125521, 32948, 2526, 20485, 3962, 413472, 10800918, 1970, 12407, 45573, 3114, 62542, 2144, 11519, 106067, 24977, 100976, 42390, 106260, 3953, 376821, 19290, 57212, 38512, 129805, 271488, 254735, 58926, 1161, 12001, 17305, 1013, 19212, 29312, 52434, 2310, 15132, 199725, 32693, 2612, 40139, 855, 4452, 29691, 12131, 1382, 16006, 434, 31640, 2859, 16018, 2606, 71396, 2784, 15120, 18813, 383074, 6316, 4448, 7767, 1149, 1911, 9959, 2186, 126838, 6267, 37068, 41319, 21447, 20503, 21302, 79238, 697, 4188, 223150, 50790, 88100, 3580, 3591, 9937, 4590, 87655, 9933, 991, 1306, 6520, 4942, 93887, 5398, 7211, 100593, 6474, 10365, 18662, 7592, 461, 576, 15830, 12118, 4430, 1291, 1405923, 1957, 15376, 13629, 3980, 7050, 459, 3019, 27057, 17460, 40148, 12078, 63835, 8220, 508, 16768, 1298, 1983, 1947160, 929, 307840, 941, 560, 22, 2907, 1659, 10171, 3595, 10594, 6858, 764, 53976, 37840, 96465, 97172, 3249, 989, 14902, 2957, 12656, 3806, 29886, 3829, 10949, 3552, 12886, 25514, 8623, 38790, 64235, 14190974, 322, 37940, 21918, 4438, 935, 9059, 9934, 656, 8862, 8969, 20374, 19216, 674, 171455, 5016, 225135, 8094, 200789, 34273, 239864, 2980, 4652, 28832, 6098, 41734, 55579, 2874, 4036, 4015, 5553, 2096, 7683, 188552, 51138, 861, 3831, 6915, 101658, 46367, 7979, 8476, 6882, 5486, 36288, 829, 40717, 16358, 269278, 3514, 175022, 55018, 81737, 40283, 422066, 8984, 34623, 2310, 2118, 19131, 1040, 31706, 150440, 938, 584, 910, 7554, 2128, 1608, 1095, 121462, 44824, 7024, 22297, 10968, 66624, 43439, 18564, 3822, 42827, 555, 7015, 35607, 9852, 5834, 8257, 24822, 8902, 32338, 26237, 2128, 19892, 66438, 4427, 8257, 41018, 5310, 19996, 20565, 56130, 307360, 38, 21939, 5343, 1288, 11082, 15853, 15853, 31116, 7236, 29842, 14698, 127940, 6963, 1607, 5680, 3243, 15630, 5224, 15289, 122, 34200, 10044, 1537, 206417, 1965, 9505, 5908, 7048, 34205, 2288, 84483, 107736, 59148, 20166, 3689, 16802, 7632, 6862, 20784, 831819, 240696, 7436, 121864, 4879, 3492, 29566, 39348, 91345, 2994, 3128, 13477, 59844, 749, 33940, 513, 2730, 745, 4883, 13905, 11390, 10632, 5344, 4518, 75239, 8722, 4395, 2087, 87316, 967, 92799, 1797, 3941, 789, 3996, 6325, 1287919, 55493, 23241, 6230, 2182, 68066, 9557, 29940, 3212, 11997, 37380, 18035, 1990, 111497, 100329, 335885, 12828, 188005, 187563, 43274, 9847, 537705, 2212, 318, 828, 12429, 90636, 6480, 1759490, 75578, 32220, 63075168, 3401, 41090, 2633, 9623, 4203, 7155, 43927, 14069, 165289, 42282, 2501, 4353, 1186, 4133, 1327, 8325, 17912, 608, 4152, 374175, 15555, 776, 217197, 85470, 26751, 14027, 49604, 1122, 71698, 5520, 274482, 5753, 2616265, 719665, 15655, 1202656, 19440, 3653, 22173, 2176, 18468, 8429, 3346, 11630, 1938, 99826, 84126, 13024, 49937, 25431, 24000, 9393, 12954, 40202, 510516, 68730, 62002, 14330, 11502, 976510, 465, 1222180, 12410, 12817, 9673, 100862, 14536, 1824, 7024, 2602, 4976, 9788, 23732, 2011, 17717, 193158, 162767, 103593, 3578, 34848, 4810, 2316, 1679, 11951, 135291, 25528, 15513, 19868, 31617, 649802, 117880, 34656, 171988, 4654, 2464, 18481, 7182, 105236, 9875, 558, 24895, 10240, 29487, 124544, 1462, 14738, 7680, 1824, 2536, 6806, 13889, 42780, 2069, 10684, 2036, 4407, 22094, 841, 1204, 19359, 81151, 710, 1570, 473, 8584, 14532, 921756, 18165, 44219, 132962, 19267, 3975, 5267, 2160, 20865, 7766, 5660, 36262, 41510, 1070, 9055477, 198, 1405, 5576, 23676, 1122, 49435, 1880483, 1878, 27971, 4908, 2735, 1623, 7588, 9351, 19786, 75557, 44082, 86264, 2357, 3363257, 733, 5287, 6567, 1421, 29427, 17520, 5962, 415891, 586, 546088, 134139, 39240, 106492, 169460, 121701, 413997, 3085, 12834, 2518, 62668, 13170, 2059, 695, 6373, 41700, 29061, 2109, 13753, 3834, 82840, 3417, 19459, 6211, 691287, 8584, 74256, 276849, 103638, 49605, 30368, 2702, 99000, 862, 116186, 2708034, 4860, 1854, 1040, 220440, 5801, 32318, 4312, 1722, 36428, 11067, 20038, 44135, 147079, 5352, 4100, 1708155, 7050, 19046, 2491, 1421, 770, 7934, 145602, 22029812, 2052, 134448, 54092, 2079, 20880, 812, 1684, 33893, 3644, 1218, 20880, 4899, 36830, 21134, 34877, 1132, 17893, 5200, 22134, 4295, 4694, 1165, 21134, 1131, 1866, 106615, 3644, 36824, 3231, 5047, 49953, 14061, 68440, 36810, 1132, 11520, 1963, 509, 14053, 5200, 2017, 14362420, 812, 4896, 4292, 4695, 24186, 3218, 49971, 392051]\n"
     ]
    }
   ],
   "source": [
    "print(tot_ov_len)"
   ]
  },
  {
   "cell_type": "code",
   "execution_count": null,
   "metadata": {},
   "outputs": [],
   "source": []
  }
 ],
 "metadata": {
  "kernelspec": {
   "display_name": "Python [conda env:gsoc_ensembl]",
   "language": "python",
   "name": "conda-env-gsoc_ensembl-py"
  },
  "language_info": {
   "codemirror_mode": {
    "name": "ipython",
    "version": 3
   },
   "file_extension": ".py",
   "mimetype": "text/x-python",
   "name": "python",
   "nbconvert_exporter": "python",
   "pygments_lexer": "ipython3",
   "version": "3.6.5"
  }
 },
 "nbformat": 4,
 "nbformat_minor": 2
}
