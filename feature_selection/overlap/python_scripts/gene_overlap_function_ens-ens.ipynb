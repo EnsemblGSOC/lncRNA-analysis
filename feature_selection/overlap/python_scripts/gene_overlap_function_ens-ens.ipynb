{
 "cells": [
  {
   "cell_type": "code",
   "execution_count": 1,
   "metadata": {},
   "outputs": [],
   "source": [
    "import pandas as pd\n",
    "df_all_gene = pd.read_csv('/dataset/Ensembl_numeric/all_gene_data/all_gene_sorted_chr/all_gene_data_sorted_chr.csv', index_col=0)"
   ]
  },
  {
   "cell_type": "code",
   "execution_count": 2,
   "metadata": {},
   "outputs": [
    {
     "data": {
      "text/plain": [
       "array(['1', '2', '3', '4', '5', '6', '7', '8', '9', '10', '11', '12',\n",
       "       '13', '14', '15', '16', '17', '18', '19', '20', '21', '22', 'X',\n",
       "       'Y'], dtype=object)"
      ]
     },
     "execution_count": 2,
     "metadata": {},
     "output_type": "execute_result"
    }
   ],
   "source": [
    "df_all_gene['Seq region Name'].unique()"
   ]
  },
  {
   "cell_type": "code",
   "execution_count": 7,
   "metadata": {},
   "outputs": [],
   "source": [
    "df_lincrna_gene = pd.read_csv('/dataset/Ensembl_numeric/all_lincRNA_data/all_lincRNA_sorted_chr/all_lincrna_gene_data_sorted_chr.csv', index_col=0)"
   ]
  },
  {
   "cell_type": "code",
   "execution_count": 8,
   "metadata": {},
   "outputs": [
    {
     "data": {
      "text/plain": [
       "array(['1', '2', '3', '4', '5', '6', '7', '8', '9', '10', '11', '12',\n",
       "       '13', '14', '15', '16', '17', '18', '19', '20', '21', '22', 'X',\n",
       "       'Y'], dtype=object)"
      ]
     },
     "execution_count": 8,
     "metadata": {},
     "output_type": "execute_result"
    }
   ],
   "source": [
    "df_lincrna_gene['Seq region Name'].unique()"
   ]
  },
  {
   "cell_type": "code",
   "execution_count": 9,
   "metadata": {},
   "outputs": [
    {
     "data": {
      "text/html": [
       "<div>\n",
       "<style scoped>\n",
       "    .dataframe tbody tr th:only-of-type {\n",
       "        vertical-align: middle;\n",
       "    }\n",
       "\n",
       "    .dataframe tbody tr th {\n",
       "        vertical-align: top;\n",
       "    }\n",
       "\n",
       "    .dataframe thead th {\n",
       "        text-align: right;\n",
       "    }\n",
       "</style>\n",
       "<table border=\"1\" class=\"dataframe\">\n",
       "  <thead>\n",
       "    <tr style=\"text-align: right;\">\n",
       "      <th></th>\n",
       "      <th>SNO</th>\n",
       "      <th>Gene ID</th>\n",
       "      <th>Display Name</th>\n",
       "      <th>Biotype</th>\n",
       "      <th>Start</th>\n",
       "      <th>End</th>\n",
       "      <th>Strand</th>\n",
       "      <th>Seq region Name</th>\n",
       "      <th>No. of Transcripts</th>\n",
       "    </tr>\n",
       "  </thead>\n",
       "  <tbody>\n",
       "    <tr>\n",
       "      <th>0</th>\n",
       "      <td>16136</td>\n",
       "      <td>ENSG00000186063</td>\n",
       "      <td>AIDA</td>\n",
       "      <td>protein_coding</td>\n",
       "      <td>222668013</td>\n",
       "      <td>222713210</td>\n",
       "      <td>-1</td>\n",
       "      <td>1</td>\n",
       "      <td>6</td>\n",
       "    </tr>\n",
       "    <tr>\n",
       "      <th>1</th>\n",
       "      <td>19376</td>\n",
       "      <td>ENSG00000202222</td>\n",
       "      <td>RF00019</td>\n",
       "      <td>misc_RNA</td>\n",
       "      <td>39881566</td>\n",
       "      <td>39881678</td>\n",
       "      <td>-1</td>\n",
       "      <td>1</td>\n",
       "      <td>1</td>\n",
       "    </tr>\n",
       "  </tbody>\n",
       "</table>\n",
       "</div>"
      ],
      "text/plain": [
       "     SNO          Gene ID Display Name         Biotype      Start        End  \\\n",
       "0  16136  ENSG00000186063         AIDA  protein_coding  222668013  222713210   \n",
       "1  19376  ENSG00000202222      RF00019        misc_RNA   39881566   39881678   \n",
       "\n",
       "   Strand Seq region Name  No. of Transcripts  \n",
       "0      -1               1                   6  \n",
       "1      -1               1                   1  "
      ]
     },
     "execution_count": 9,
     "metadata": {},
     "output_type": "execute_result"
    }
   ],
   "source": [
    "df_all_gene.head(2)"
   ]
  },
  {
   "cell_type": "code",
   "execution_count": 10,
   "metadata": {},
   "outputs": [
    {
     "data": {
      "text/html": [
       "<div>\n",
       "<style scoped>\n",
       "    .dataframe tbody tr th:only-of-type {\n",
       "        vertical-align: middle;\n",
       "    }\n",
       "\n",
       "    .dataframe tbody tr th {\n",
       "        vertical-align: top;\n",
       "    }\n",
       "\n",
       "    .dataframe thead th {\n",
       "        text-align: right;\n",
       "    }\n",
       "</style>\n",
       "<table border=\"1\" class=\"dataframe\">\n",
       "  <thead>\n",
       "    <tr style=\"text-align: right;\">\n",
       "      <th></th>\n",
       "      <th>SNO</th>\n",
       "      <th>Gene ID</th>\n",
       "      <th>Display Name</th>\n",
       "      <th>Biotype</th>\n",
       "      <th>Start</th>\n",
       "      <th>End</th>\n",
       "      <th>Strand</th>\n",
       "      <th>Seq region Name</th>\n",
       "      <th>No. of Transcripts</th>\n",
       "    </tr>\n",
       "  </thead>\n",
       "  <tbody>\n",
       "    <tr>\n",
       "      <th>0</th>\n",
       "      <td>6092</td>\n",
       "      <td>ENSG00000271387</td>\n",
       "      <td>AL445228.2</td>\n",
       "      <td>lincRNA</td>\n",
       "      <td>184385753</td>\n",
       "      <td>184386704</td>\n",
       "      <td>-1</td>\n",
       "      <td>1</td>\n",
       "      <td>1</td>\n",
       "    </tr>\n",
       "    <tr>\n",
       "      <th>1</th>\n",
       "      <td>2329</td>\n",
       "      <td>ENSG00000236648</td>\n",
       "      <td>AL136529.1</td>\n",
       "      <td>lincRNA</td>\n",
       "      <td>17717687</td>\n",
       "      <td>17749978</td>\n",
       "      <td>1</td>\n",
       "      <td>1</td>\n",
       "      <td>1</td>\n",
       "    </tr>\n",
       "  </tbody>\n",
       "</table>\n",
       "</div>"
      ],
      "text/plain": [
       "    SNO          Gene ID Display Name  Biotype      Start        End  Strand  \\\n",
       "0  6092  ENSG00000271387   AL445228.2  lincRNA  184385753  184386704      -1   \n",
       "1  2329  ENSG00000236648   AL136529.1  lincRNA   17717687   17749978       1   \n",
       "\n",
       "  Seq region Name  No. of Transcripts  \n",
       "0               1                   1  \n",
       "1               1                   1  "
      ]
     },
     "execution_count": 10,
     "metadata": {},
     "output_type": "execute_result"
    }
   ],
   "source": [
    "df_lincrna_gene.head(2)"
   ]
  },
  {
   "cell_type": "code",
   "execution_count": 154,
   "metadata": {},
   "outputs": [
    {
     "data": {
      "text/plain": [
       "58788"
      ]
     },
     "execution_count": 154,
     "metadata": {},
     "output_type": "execute_result"
    }
   ],
   "source": [
    "len(df_all_gene)"
   ]
  },
  {
   "cell_type": "code",
   "execution_count": 11,
   "metadata": {},
   "outputs": [],
   "source": [
    "len_all_gene_chr = df_all_gene[df_all_gene.columns[7]].value_counts()"
   ]
  },
  {
   "cell_type": "code",
   "execution_count": 70,
   "metadata": {},
   "outputs": [
    {
     "data": {
      "text/plain": [
       "4040"
      ]
     },
     "execution_count": 70,
     "metadata": {},
     "output_type": "execute_result"
    }
   ],
   "source": [
    "len_all_gene_chr['2']"
   ]
  },
  {
   "cell_type": "code",
   "execution_count": 14,
   "metadata": {},
   "outputs": [],
   "source": [
    "len_lincrna_gene_chr = df_lincrna_gene[df_lincrna_gene.columns[7]].value_counts()"
   ]
  },
  {
   "cell_type": "code",
   "execution_count": 88,
   "metadata": {},
   "outputs": [
    {
     "data": {
      "text/plain": [
       "349"
      ]
     },
     "execution_count": 88,
     "metadata": {},
     "output_type": "execute_result"
    }
   ],
   "source": [
    "len_lincrna_gene_chr[str('3')]"
   ]
  },
  {
   "cell_type": "code",
   "execution_count": 17,
   "metadata": {},
   "outputs": [],
   "source": [
    "# len_lincrna_gene_chr"
   ]
  },
  {
   "cell_type": "code",
   "execution_count": 18,
   "metadata": {},
   "outputs": [],
   "source": [
    "lincrna_gene_strand = df_lincrna_gene['Strand']\n",
    "all_gene_strand = df_all_gene['Strand']"
   ]
  },
  {
   "cell_type": "code",
   "execution_count": 21,
   "metadata": {},
   "outputs": [],
   "source": [
    "lincrna_gene_coords = df_lincrna_gene[['Start','End']].to_numpy()\n",
    "all_gene_coords = df_all_gene[['Start','End']].to_numpy()"
   ]
  },
  {
   "cell_type": "code",
   "execution_count": 52,
   "metadata": {},
   "outputs": [],
   "source": [
    "a = []\n",
    "for i in range(0,22,1):\n",
    "    a.append(str(i+1))"
   ]
  },
  {
   "cell_type": "code",
   "execution_count": 55,
   "metadata": {},
   "outputs": [
    {
     "data": {
      "text/plain": [
       "'1'"
      ]
     },
     "execution_count": 55,
     "metadata": {},
     "output_type": "execute_result"
    }
   ],
   "source": [
    "a.append('X')\n",
    "a.append('Y')\n",
    "a[0]"
   ]
  },
  {
   "cell_type": "code",
   "execution_count": 183,
   "metadata": {},
   "outputs": [],
   "source": [
    "lincrna_gene_id = []\n",
    "all_gene_id = []\n",
    "same_ensg = []\n",
    "same_lincrna_ensg = []\n",
    "same_opp_overlap = []\n",
    "no_transcripts_lincrna = []\n",
    "no_transcripts_all_gene = []\n",
    "chr_region = []"
   ]
  },
  {
   "cell_type": "code",
   "execution_count": 184,
   "metadata": {},
   "outputs": [],
   "source": [
    "for i in range(len(df_all_gene)):\n",
    "    same_lincrna_ensg.append('No')"
   ]
  },
  {
   "cell_type": "code",
   "execution_count": 185,
   "metadata": {},
   "outputs": [
    {
     "data": {
      "text/plain": [
       "'No'"
      ]
     },
     "execution_count": 185,
     "metadata": {},
     "output_type": "execute_result"
    }
   ],
   "source": [
    "same_lincrna_ensg[0]"
   ]
  },
  {
   "cell_type": "code",
   "execution_count": 3,
   "metadata": {},
   "outputs": [],
   "source": [
    "lincrna_id = df_lincrna_gene['Gene ID']\n",
    "gene_id = df_all_gene['Gene ID']\n",
    "gene_biotype = df_all_gene['Biotype']\n",
    "genes_trans_no = df_all_gene['No. of Transcripts']\n",
    "lincrna_trans_no = df_lincrna_gene['No. of Transcripts']"
   ]
  },
  {
   "cell_type": "code",
   "execution_count": 187,
   "metadata": {},
   "outputs": [],
   "source": [
    "# df_all_gene['No. of Transcripts']"
   ]
  },
  {
   "cell_type": "code",
   "execution_count": 5,
   "metadata": {},
   "outputs": [],
   "source": [
    "gene_biotype = df_all_gene['Biotype']\n",
    "gene_id = df_all_gene['Gene ID']"
   ]
  },
  {
   "cell_type": "code",
   "execution_count": 7,
   "metadata": {},
   "outputs": [],
   "source": [
    "for i in range(len(gene_id)):\n",
    "    if gene_id[i] == 'ENSG00000241180':\n",
    "        break"
   ]
  },
  {
   "cell_type": "code",
   "execution_count": 8,
   "metadata": {},
   "outputs": [
    {
     "data": {
      "text/plain": [
       "834"
      ]
     },
     "execution_count": 8,
     "metadata": {},
     "output_type": "execute_result"
    }
   ],
   "source": [
    "i"
   ]
  },
  {
   "cell_type": "code",
   "execution_count": 9,
   "metadata": {},
   "outputs": [
    {
     "data": {
      "text/plain": [
       "'lincRNA'"
      ]
     },
     "execution_count": 9,
     "metadata": {},
     "output_type": "execute_result"
    }
   ],
   "source": [
    "gene_biotype[i]"
   ]
  },
  {
   "cell_type": "code",
   "execution_count": 188,
   "metadata": {},
   "outputs": [],
   "source": [
    "def overlap(A, B):\n",
    "    if A[0] < B[1] and B[0] < A[1]:\n",
    "        return True\n",
    "    else:\n",
    "        return False"
   ]
  },
  {
   "cell_type": "code",
   "execution_count": 189,
   "metadata": {},
   "outputs": [],
   "source": [
    "from tqdm import tqdm\n",
    "def overlap_gene():\n",
    "\n",
    "    for i in tqdm(range(0,24,1)):\n",
    "        \n",
    "        if i == 0:\n",
    "            for j in range(0,len_lincrna_gene_chr[a[i]]):  \n",
    "                for k in range(0, len_all_gene_chr[a[i]]):\n",
    "                    \n",
    "                    if lincrna_id[j] == gene_id[k]:\n",
    "                        continue\n",
    "\n",
    "                    if overlap(lincrna_gene_coords[j], all_gene_coords[k]):\n",
    "                        \n",
    "                        if gene_biotype[k] == 'lincRNA':\n",
    "                            same_lincrna_ensg[k] = 'Yes'\n",
    "                        \n",
    "                        no_transcripts_lincrna.append(lincrna_trans_no[j])\n",
    "                        no_transcripts_all_gene.append(genes_trans_no[k])\n",
    "                        lincrna_gene_id.append(lincrna_id[j])\n",
    "                        all_gene_id.append(gene_id[k])\n",
    "                        same_ensg.append('Yes')\n",
    "                        chr_region.append(a[i])\n",
    "                        \n",
    "                        \n",
    "                        if lincrna_gene_strand[j] == all_gene_strand[k]:\n",
    "                            same_opp_overlap.append(1)\n",
    "                            \n",
    "                        elif lincrna_gene_strand[j] != all_gene_strand[k]:\n",
    "                            same_opp_overlap.append(0)\n",
    "                            \n",
    "                    else:\n",
    "                        continue\n",
    "\n",
    "        else:\n",
    "        \n",
    "            start_index_lincrna = 0\n",
    "            start_index_all_gene = 0\n",
    "            \n",
    "            for l in range(0,i):\n",
    "                start_index_all_gene = start_index_all_gene + len_all_gene_chr[a[l]]\n",
    "                start_index_lincrna = start_index_lincrna + len_lincrna_gene_chr[a[l]]\n",
    "            print('start lincrna {0}'.format(start_index_lincrna))\n",
    "            print('end lincrna {0}'.format(start_index_lincrna + len_lincrna_gene_chr[a[i]]))\n",
    "            print('start all_gene {0}'.format(start_index_all_gene))\n",
    "            print('end all_gene {0}'.format(start_index_all_gene + len_all_gene_chr[a[i]]))\n",
    "            \n",
    "            \n",
    "            for j in range(start_index_lincrna, start_index_lincrna + len_lincrna_gene_chr[a[i]], 1):\n",
    "                for k in range(start_index_all_gene, start_index_all_gene + len_all_gene_chr[a[i]], 1):\n",
    "                    \n",
    "                    if lincrna_id[j] == gene_id[k]:\n",
    "                        continue\n",
    "                        \n",
    "                    if overlap(lincrna_gene_coords[j], all_gene_coords[k]):   \n",
    "        \n",
    "                        if gene_biotype[k] == 'lincRNA':\n",
    "                            same_lincrna_ensg[k] = 'Yes'\n",
    "                        \n",
    "                        no_transcripts_lincrna.append(lincrna_trans_no[j])\n",
    "                        no_transcripts_all_gene.append(genes_trans_no[k])\n",
    "                        lincrna_gene_id.append(lincrna_id[j])\n",
    "                        all_gene_id.append(gene_id[k])\n",
    "                        same_ensg.append('Yes')\n",
    "                        chr_region.append(a[i])\n",
    "                        \n",
    "                        if lincrna_gene_strand[j] == all_gene_strand[k]:\n",
    "                            same_opp_overlap.append(1)\n",
    "                            \n",
    "                        elif lincrna_gene_strand[j] != all_gene_strand[k]:\n",
    "                            same_opp_overlap.append(0)\n",
    "                            \n",
    "                    else:\n",
    "                        continue"
   ]
  },
  {
   "cell_type": "code",
   "execution_count": 190,
   "metadata": {},
   "outputs": [
    {
     "name": "stderr",
     "output_type": "stream",
     "text": [
      "\n",
      "\n",
      "\n",
      "\n",
      "  0%|          | 0/24 [00:00<?, ?it/s]\u001b[A\u001b[A\u001b[A\u001b[A\n",
      "\n",
      "\n",
      "\n",
      "  4%|▍         | 1/24 [03:11<1:13:33, 191.89s/it]\u001b[A\u001b[A\u001b[A\u001b[A"
     ]
    },
    {
     "name": "stdout",
     "output_type": "stream",
     "text": [
      "start lincrna 636\n",
      "end lincrna 1229\n",
      "start all_gene 5333\n",
      "end all_gene 9373\n"
     ]
    },
    {
     "name": "stderr",
     "output_type": "stream",
     "text": [
      "\n",
      "\n",
      "\n",
      "\n",
      "  8%|▊         | 2/24 [05:36<1:05:11, 177.80s/it]\u001b[A\u001b[A\u001b[A\u001b[A"
     ]
    },
    {
     "name": "stdout",
     "output_type": "stream",
     "text": [
      "start lincrna 1229\n",
      "end lincrna 1578\n",
      "start all_gene 9373\n",
      "end all_gene 12424\n"
     ]
    },
    {
     "name": "stderr",
     "output_type": "stream",
     "text": [
      "\n",
      "\n",
      "\n",
      "\n",
      " 12%|█▎        | 3/24 [06:30<49:13, 140.62s/it]  \u001b[A\u001b[A\u001b[A\u001b[A"
     ]
    },
    {
     "name": "stdout",
     "output_type": "stream",
     "text": [
      "start lincrna 1578\n",
      "end lincrna 1994\n",
      "start all_gene 12424\n",
      "end all_gene 14957\n"
     ]
    },
    {
     "name": "stderr",
     "output_type": "stream",
     "text": [
      "\n",
      "\n",
      "\n",
      "\n",
      " 17%|█▋        | 4/24 [07:19<37:39, 112.99s/it]\u001b[A\u001b[A\u001b[A\u001b[A"
     ]
    },
    {
     "name": "stdout",
     "output_type": "stream",
     "text": [
      "start lincrna 1994\n",
      "end lincrna 2484\n",
      "start all_gene 14957\n",
      "end all_gene 17846\n"
     ]
    },
    {
     "name": "stderr",
     "output_type": "stream",
     "text": [
      "\n",
      "\n",
      "\n",
      "\n",
      " 21%|██        | 5/24 [08:24<31:16, 98.79s/it] \u001b[A\u001b[A\u001b[A\u001b[A"
     ]
    },
    {
     "name": "stdout",
     "output_type": "stream",
     "text": [
      "start lincrna 2484\n",
      "end lincrna 2863\n",
      "start all_gene 17846\n",
      "end all_gene 20751\n"
     ]
    },
    {
     "name": "stderr",
     "output_type": "stream",
     "text": [
      "\n",
      "\n",
      "\n",
      "\n",
      " 25%|██▌       | 6/24 [09:17<25:28, 84.94s/it]\u001b[A\u001b[A\u001b[A\u001b[A"
     ]
    },
    {
     "name": "stdout",
     "output_type": "stream",
     "text": [
      "start lincrna 2863\n",
      "end lincrna 3157\n",
      "start all_gene 20751\n",
      "end all_gene 23672\n"
     ]
    },
    {
     "name": "stderr",
     "output_type": "stream",
     "text": [
      "\n",
      "\n",
      "\n",
      "\n",
      " 29%|██▉       | 7/24 [09:57<20:15, 71.50s/it]\u001b[A\u001b[A\u001b[A\u001b[A"
     ]
    },
    {
     "name": "stdout",
     "output_type": "stream",
     "text": [
      "start lincrna 3157\n",
      "end lincrna 3561\n",
      "start all_gene 23672\n",
      "end all_gene 26061\n"
     ]
    },
    {
     "name": "stderr",
     "output_type": "stream",
     "text": [
      "\n",
      "\n",
      "\n",
      "\n",
      " 33%|███▎      | 8/24 [10:42<16:54, 63.42s/it]\u001b[A\u001b[A\u001b[A\u001b[A"
     ]
    },
    {
     "name": "stdout",
     "output_type": "stream",
     "text": [
      "start lincrna 3561\n",
      "end lincrna 3841\n",
      "start all_gene 26061\n",
      "end all_gene 28328\n"
     ]
    },
    {
     "name": "stderr",
     "output_type": "stream",
     "text": [
      "\n",
      "\n",
      "\n",
      "\n",
      " 38%|███▊      | 9/24 [11:12<13:22, 53.47s/it]\u001b[A\u001b[A\u001b[A\u001b[A"
     ]
    },
    {
     "name": "stdout",
     "output_type": "stream",
     "text": [
      "start lincrna 3841\n",
      "end lincrna 4132\n",
      "start all_gene 28328\n",
      "end all_gene 30572\n"
     ]
    },
    {
     "name": "stderr",
     "output_type": "stream",
     "text": [
      "\n",
      "\n",
      "\n",
      "\n",
      " 42%|████▏     | 10/24 [11:46<11:06, 47.64s/it]\u001b[A\u001b[A\u001b[A\u001b[A"
     ]
    },
    {
     "name": "stdout",
     "output_type": "stream",
     "text": [
      "start lincrna 4132\n",
      "end lincrna 4446\n",
      "start all_gene 30572\n",
      "end all_gene 33861\n"
     ]
    },
    {
     "name": "stderr",
     "output_type": "stream",
     "text": [
      "\n",
      "\n",
      "\n",
      "\n",
      " 46%|████▌     | 11/24 [12:40<10:43, 49.48s/it]\u001b[A\u001b[A\u001b[A\u001b[A"
     ]
    },
    {
     "name": "stdout",
     "output_type": "stream",
     "text": [
      "start lincrna 4446\n",
      "end lincrna 4883\n",
      "start all_gene 33861\n",
      "end all_gene 36838\n"
     ]
    },
    {
     "name": "stderr",
     "output_type": "stream",
     "text": [
      "\n",
      "\n",
      "\n",
      "\n",
      " 50%|█████     | 12/24 [13:48<11:00, 55.04s/it]\u001b[A\u001b[A\u001b[A\u001b[A"
     ]
    },
    {
     "name": "stdout",
     "output_type": "stream",
     "text": [
      "start lincrna 4883\n",
      "end lincrna 5137\n",
      "start all_gene 36838\n",
      "end all_gene 38172\n"
     ]
    },
    {
     "name": "stderr",
     "output_type": "stream",
     "text": [
      "\n",
      "\n",
      "\n",
      "\n",
      " 54%|█████▍    | 13/24 [14:06<08:04, 44.08s/it]\u001b[A\u001b[A\u001b[A\u001b[A"
     ]
    },
    {
     "name": "stdout",
     "output_type": "stream",
     "text": [
      "start lincrna 5137\n",
      "end lincrna 5438\n",
      "start all_gene 38172\n",
      "end all_gene 40402\n"
     ]
    },
    {
     "name": "stderr",
     "output_type": "stream",
     "text": [
      "\n",
      "\n",
      "\n",
      "\n",
      " 58%|█████▊    | 14/24 [14:42<06:54, 41.50s/it]\u001b[A\u001b[A\u001b[A\u001b[A"
     ]
    },
    {
     "name": "stdout",
     "output_type": "stream",
     "text": [
      "start lincrna 5438\n",
      "end lincrna 5734\n",
      "start all_gene 40402\n",
      "end all_gene 42572\n"
     ]
    },
    {
     "name": "stderr",
     "output_type": "stream",
     "text": [
      "\n",
      "\n",
      "\n",
      "\n",
      " 62%|██████▎   | 15/24 [15:18<05:58, 39.79s/it]\u001b[A\u001b[A\u001b[A\u001b[A"
     ]
    },
    {
     "name": "stdout",
     "output_type": "stream",
     "text": [
      "start lincrna 5734\n",
      "end lincrna 6093\n",
      "start all_gene 42572\n",
      "end all_gene 45086\n"
     ]
    },
    {
     "name": "stderr",
     "output_type": "stream",
     "text": [
      "\n",
      "\n",
      "\n",
      "\n",
      " 67%|██████▋   | 16/24 [16:05<05:37, 42.17s/it]\u001b[A\u001b[A\u001b[A\u001b[A"
     ]
    },
    {
     "name": "stdout",
     "output_type": "stream",
     "text": [
      "start lincrna 6093\n",
      "end lincrna 6432\n",
      "start all_gene 45086\n",
      "end all_gene 48110\n"
     ]
    },
    {
     "name": "stderr",
     "output_type": "stream",
     "text": [
      "\n",
      "\n",
      "\n",
      "\n",
      " 71%|███████   | 17/24 [17:00<05:20, 45.82s/it]\u001b[A\u001b[A\u001b[A\u001b[A"
     ]
    },
    {
     "name": "stdout",
     "output_type": "stream",
     "text": [
      "start lincrna 6432\n",
      "end lincrna 6682\n",
      "start all_gene 48110\n",
      "end all_gene 49296\n"
     ]
    },
    {
     "name": "stderr",
     "output_type": "stream",
     "text": [
      "\n",
      "\n",
      "\n",
      "\n",
      " 75%|███████▌  | 18/24 [17:16<03:41, 36.85s/it]\u001b[A\u001b[A\u001b[A\u001b[A"
     ]
    },
    {
     "name": "stdout",
     "output_type": "stream",
     "text": [
      "start lincrna 6682\n",
      "end lincrna 6912\n",
      "start all_gene 49296\n",
      "end all_gene 52261\n"
     ]
    },
    {
     "name": "stderr",
     "output_type": "stream",
     "text": [
      "\n",
      "\n",
      "\n",
      "\n",
      " 79%|███████▉  | 19/24 [17:52<03:02, 36.60s/it]\u001b[A\u001b[A\u001b[A\u001b[A"
     ]
    },
    {
     "name": "stdout",
     "output_type": "stream",
     "text": [
      "start lincrna 6912\n",
      "end lincrna 7135\n",
      "start all_gene 52261\n",
      "end all_gene 53675\n"
     ]
    },
    {
     "name": "stderr",
     "output_type": "stream",
     "text": [
      "\n",
      "\n",
      "\n",
      "\n",
      " 83%|████████▎ | 20/24 [18:08<02:02, 30.56s/it]\u001b[A\u001b[A\u001b[A\u001b[A"
     ]
    },
    {
     "name": "stdout",
     "output_type": "stream",
     "text": [
      "start lincrna 7135\n",
      "end lincrna 7332\n",
      "start all_gene 53675\n",
      "end all_gene 54527\n"
     ]
    },
    {
     "name": "stderr",
     "output_type": "stream",
     "text": [
      "\n",
      "\n",
      "\n",
      "\n",
      " 88%|████████▊ | 21/24 [18:17<01:12, 24.21s/it]\u001b[A\u001b[A\u001b[A\u001b[A"
     ]
    },
    {
     "name": "stdout",
     "output_type": "stream",
     "text": [
      "start lincrna 7332\n",
      "end lincrna 7501\n",
      "start all_gene 54527\n",
      "end all_gene 55883\n"
     ]
    },
    {
     "name": "stderr",
     "output_type": "stream",
     "text": [
      "\n",
      "\n",
      "\n",
      "\n",
      " 92%|█████████▏| 22/24 [18:30<00:41, 20.63s/it]\u001b[A\u001b[A\u001b[A\u001b[A"
     ]
    },
    {
     "name": "stdout",
     "output_type": "stream",
     "text": [
      "start lincrna 7501\n",
      "end lincrna 7638\n",
      "start all_gene 55883\n",
      "end all_gene 58269\n"
     ]
    },
    {
     "name": "stderr",
     "output_type": "stream",
     "text": [
      "\n",
      "\n",
      "\n",
      "\n",
      " 96%|█████████▌| 23/24 [18:47<00:19, 19.62s/it]\u001b[A\u001b[A\u001b[A\u001b[A"
     ]
    },
    {
     "name": "stdout",
     "output_type": "stream",
     "text": [
      "start lincrna 7638\n",
      "end lincrna 7690\n",
      "start all_gene 58269\n",
      "end all_gene 58788\n"
     ]
    },
    {
     "name": "stderr",
     "output_type": "stream",
     "text": [
      "\n",
      "\n",
      "\n",
      "\n",
      "100%|██████████| 24/24 [18:48<00:00, 14.17s/it]\u001b[A\u001b[A\u001b[A\u001b[A"
     ]
    },
    {
     "name": "stdout",
     "output_type": "stream",
     "text": [
      "CPU times: user 15min 56s, sys: 25.9 s, total: 16min 22s\n",
      "Wall time: 18min 48s\n"
     ]
    }
   ],
   "source": [
    "%%time\n",
    "overlap_gene()"
   ]
  },
  {
   "cell_type": "code",
   "execution_count": 191,
   "metadata": {},
   "outputs": [
    {
     "data": {
      "text/plain": [
       "5509"
      ]
     },
     "execution_count": 191,
     "metadata": {},
     "output_type": "execute_result"
    }
   ],
   "source": [
    "len(lincrna_gene_id)"
   ]
  },
  {
   "cell_type": "code",
   "execution_count": 192,
   "metadata": {},
   "outputs": [],
   "source": [
    "correct_same_lincrna_ensg = []\n",
    "for i in range(len(lincrna_gene_id)):\n",
    "    correct_same_lincrna_ensg.append(same_lincrna_ensg[i])"
   ]
  },
  {
   "cell_type": "code",
   "execution_count": 193,
   "metadata": {},
   "outputs": [
    {
     "data": {
      "text/plain": [
       "5509"
      ]
     },
     "execution_count": 193,
     "metadata": {},
     "output_type": "execute_result"
    }
   ],
   "source": [
    "len(correct_same_lincrna_ensg)"
   ]
  },
  {
   "cell_type": "code",
   "execution_count": 194,
   "metadata": {},
   "outputs": [
    {
     "data": {
      "text/plain": [
       "5509"
      ]
     },
     "execution_count": 194,
     "metadata": {},
     "output_type": "execute_result"
    }
   ],
   "source": [
    "len(no_transcripts_all_gene)"
   ]
  },
  {
   "cell_type": "code",
   "execution_count": 196,
   "metadata": {},
   "outputs": [],
   "source": [
    "import csv \n",
    "header = ['lincRNA ID', 'all gene ID', 'Chr region', 'No. of transcripts in lincrna', 'No. of transcripts in all gene', 'Ensembl-Ensembl overlap ?', 'Ensembl-linc_Ensembl overlap?', 'same_opp_overlap']\n",
    "\n",
    "path = '/overlap/Ensembl/all_gene_overlap.csv'\n",
    "\n",
    "with open(path, 'wt', newline ='') as file:\n",
    "    writer = csv.writer(file, delimiter=',')\n",
    "    writer.writerow(i for i in header)"
   ]
  },
  {
   "cell_type": "code",
   "execution_count": 197,
   "metadata": {},
   "outputs": [],
   "source": [
    "import pandas as pd\n",
    "\n",
    "df2 = pd.read_csv(path)\n",
    "\n",
    "df2[df2.columns[0]] = lincrna_gene_id\n",
    "df2[df2.columns[1]] = all_gene_id\n",
    "df2[df2.columns[2]] = chr_region\n",
    "df2[df2.columns[3]] = no_transcripts_lincrna\n",
    "df2[df2.columns[4]] = no_transcripts_all_gene\n",
    "df2[df2.columns[5]] = same_ensg\n",
    "df2[df2.columns[6]] = correct_same_lincrna_ensg\n",
    "df2[df2.columns[7]] = same_opp_overlap\n",
    "\n",
    "df2.to_csv(path)"
   ]
  },
  {
   "cell_type": "code",
   "execution_count": 198,
   "metadata": {},
   "outputs": [],
   "source": [
    "c = 0\n",
    "index_ok = []\n",
    "for i in range(len(same_lincrna_ensg)):\n",
    "    if same_lincrna_ensg[i] == 'Yes':\n",
    "        \n",
    "        index_ok.append(i)\n",
    "        c = c + 1"
   ]
  },
  {
   "cell_type": "code",
   "execution_count": 2,
   "metadata": {},
   "outputs": [],
   "source": [
    "c"
   ]
  },
  {
   "cell_type": "markdown",
   "metadata": {},
   "source": [
    "## for getting all gene biotype (below code)"
   ]
  },
  {
   "cell_type": "code",
   "execution_count": 3,
   "metadata": {},
   "outputs": [],
   "source": [
    "import pandas as pd\n",
    "df_all_gene = pd.read_csv('/dataset/Ensembl_numeric/all_gene_data/all_gene_sorted_chr/all_gene_data_sorted_chr.csv', index_col=0)"
   ]
  },
  {
   "cell_type": "code",
   "execution_count": 5,
   "metadata": {},
   "outputs": [
    {
     "data": {
      "text/html": [
       "<div>\n",
       "<style scoped>\n",
       "    .dataframe tbody tr th:only-of-type {\n",
       "        vertical-align: middle;\n",
       "    }\n",
       "\n",
       "    .dataframe tbody tr th {\n",
       "        vertical-align: top;\n",
       "    }\n",
       "\n",
       "    .dataframe thead th {\n",
       "        text-align: right;\n",
       "    }\n",
       "</style>\n",
       "<table border=\"1\" class=\"dataframe\">\n",
       "  <thead>\n",
       "    <tr style=\"text-align: right;\">\n",
       "      <th></th>\n",
       "      <th>SNO</th>\n",
       "      <th>Gene ID</th>\n",
       "      <th>Display Name</th>\n",
       "      <th>Biotype</th>\n",
       "      <th>Start</th>\n",
       "      <th>End</th>\n",
       "      <th>Strand</th>\n",
       "      <th>Seq region Name</th>\n",
       "      <th>No. of Transcripts</th>\n",
       "    </tr>\n",
       "  </thead>\n",
       "  <tbody>\n",
       "    <tr>\n",
       "      <th>0</th>\n",
       "      <td>16136</td>\n",
       "      <td>ENSG00000186063</td>\n",
       "      <td>AIDA</td>\n",
       "      <td>protein_coding</td>\n",
       "      <td>222668013</td>\n",
       "      <td>222713210</td>\n",
       "      <td>-1</td>\n",
       "      <td>1</td>\n",
       "      <td>6</td>\n",
       "    </tr>\n",
       "    <tr>\n",
       "      <th>1</th>\n",
       "      <td>19376</td>\n",
       "      <td>ENSG00000202222</td>\n",
       "      <td>RF00019</td>\n",
       "      <td>misc_RNA</td>\n",
       "      <td>39881566</td>\n",
       "      <td>39881678</td>\n",
       "      <td>-1</td>\n",
       "      <td>1</td>\n",
       "      <td>1</td>\n",
       "    </tr>\n",
       "  </tbody>\n",
       "</table>\n",
       "</div>"
      ],
      "text/plain": [
       "     SNO          Gene ID Display Name         Biotype      Start        End  \\\n",
       "0  16136  ENSG00000186063         AIDA  protein_coding  222668013  222713210   \n",
       "1  19376  ENSG00000202222      RF00019        misc_RNA   39881566   39881678   \n",
       "\n",
       "   Strand Seq region Name  No. of Transcripts  \n",
       "0      -1               1                   6  \n",
       "1      -1               1                   1  "
      ]
     },
     "execution_count": 5,
     "metadata": {},
     "output_type": "execute_result"
    }
   ],
   "source": [
    "df_all_gene.head(2)"
   ]
  },
  {
   "cell_type": "code",
   "execution_count": 4,
   "metadata": {},
   "outputs": [],
   "source": [
    "import pandas as pd\n",
    "df_all_gene_overlap = pd.read_csv('/feature_selection/overlap/Ensembl/all_gene_overlap.csv', index_col=0)"
   ]
  },
  {
   "cell_type": "code",
   "execution_count": 6,
   "metadata": {},
   "outputs": [
    {
     "data": {
      "text/html": [
       "<div>\n",
       "<style scoped>\n",
       "    .dataframe tbody tr th:only-of-type {\n",
       "        vertical-align: middle;\n",
       "    }\n",
       "\n",
       "    .dataframe tbody tr th {\n",
       "        vertical-align: top;\n",
       "    }\n",
       "\n",
       "    .dataframe thead th {\n",
       "        text-align: right;\n",
       "    }\n",
       "</style>\n",
       "<table border=\"1\" class=\"dataframe\">\n",
       "  <thead>\n",
       "    <tr style=\"text-align: right;\">\n",
       "      <th></th>\n",
       "      <th>lincRNA ID</th>\n",
       "      <th>all gene ID</th>\n",
       "      <th>Chr region</th>\n",
       "      <th>No. of transcripts in lincrna</th>\n",
       "      <th>No. of transcripts in all gene</th>\n",
       "      <th>Ensembl-Ensembl overlap ?</th>\n",
       "      <th>Ensembl-linc_Ensembl overlap?</th>\n",
       "      <th>same_opp_overlap</th>\n",
       "    </tr>\n",
       "  </thead>\n",
       "  <tbody>\n",
       "    <tr>\n",
       "      <th>0</th>\n",
       "      <td>ENSG00000230704</td>\n",
       "      <td>ENSG00000000460</td>\n",
       "      <td>1</td>\n",
       "      <td>1</td>\n",
       "      <td>9</td>\n",
       "      <td>Yes</td>\n",
       "      <td>No</td>\n",
       "      <td>0</td>\n",
       "    </tr>\n",
       "    <tr>\n",
       "      <th>1</th>\n",
       "      <td>ENSG00000230704</td>\n",
       "      <td>ENSG00000007908</td>\n",
       "      <td>1</td>\n",
       "      <td>1</td>\n",
       "      <td>7</td>\n",
       "      <td>Yes</td>\n",
       "      <td>No</td>\n",
       "      <td>1</td>\n",
       "    </tr>\n",
       "  </tbody>\n",
       "</table>\n",
       "</div>"
      ],
      "text/plain": [
       "        lincRNA ID      all gene ID Chr region  No. of transcripts in lincrna  \\\n",
       "0  ENSG00000230704  ENSG00000000460          1                              1   \n",
       "1  ENSG00000230704  ENSG00000007908          1                              1   \n",
       "\n",
       "   No. of transcripts in all gene Ensembl-Ensembl overlap ?  \\\n",
       "0                               9                       Yes   \n",
       "1                               7                       Yes   \n",
       "\n",
       "  Ensembl-linc_Ensembl overlap?  same_opp_overlap  \n",
       "0                            No                 0  \n",
       "1                            No                 1  "
      ]
     },
     "execution_count": 6,
     "metadata": {},
     "output_type": "execute_result"
    }
   ],
   "source": [
    "df_all_gene_overlap.head(2)"
   ]
  },
  {
   "cell_type": "code",
   "execution_count": 7,
   "metadata": {},
   "outputs": [],
   "source": [
    "all_gene_id = df_all_gene['Gene ID']\n",
    "overlap_all_gene_id = df_all_gene_overlap['all gene ID']"
   ]
  },
  {
   "cell_type": "code",
   "execution_count": 9,
   "metadata": {},
   "outputs": [],
   "source": [
    "df_all_gene_with_index = df_all_gene.set_index(['Gene ID'])\n"
   ]
  },
  {
   "cell_type": "code",
   "execution_count": 23,
   "metadata": {},
   "outputs": [
    {
     "data": {
      "text/html": [
       "<div>\n",
       "<style scoped>\n",
       "    .dataframe tbody tr th:only-of-type {\n",
       "        vertical-align: middle;\n",
       "    }\n",
       "\n",
       "    .dataframe tbody tr th {\n",
       "        vertical-align: top;\n",
       "    }\n",
       "\n",
       "    .dataframe thead th {\n",
       "        text-align: right;\n",
       "    }\n",
       "</style>\n",
       "<table border=\"1\" class=\"dataframe\">\n",
       "  <thead>\n",
       "    <tr style=\"text-align: right;\">\n",
       "      <th></th>\n",
       "      <th>SNO</th>\n",
       "      <th>Display Name</th>\n",
       "      <th>Biotype</th>\n",
       "      <th>Start</th>\n",
       "      <th>End</th>\n",
       "      <th>Strand</th>\n",
       "      <th>Seq region Name</th>\n",
       "      <th>No. of Transcripts</th>\n",
       "    </tr>\n",
       "    <tr>\n",
       "      <th>Gene ID</th>\n",
       "      <th></th>\n",
       "      <th></th>\n",
       "      <th></th>\n",
       "      <th></th>\n",
       "      <th></th>\n",
       "      <th></th>\n",
       "      <th></th>\n",
       "      <th></th>\n",
       "    </tr>\n",
       "  </thead>\n",
       "  <tbody>\n",
       "    <tr>\n",
       "      <th>ENSG00000186063</th>\n",
       "      <td>16136</td>\n",
       "      <td>AIDA</td>\n",
       "      <td>protein_coding</td>\n",
       "      <td>222668013</td>\n",
       "      <td>222713210</td>\n",
       "      <td>-1</td>\n",
       "      <td>1</td>\n",
       "      <td>6</td>\n",
       "    </tr>\n",
       "    <tr>\n",
       "      <th>ENSG00000202222</th>\n",
       "      <td>19376</td>\n",
       "      <td>RF00019</td>\n",
       "      <td>misc_RNA</td>\n",
       "      <td>39881566</td>\n",
       "      <td>39881678</td>\n",
       "      <td>-1</td>\n",
       "      <td>1</td>\n",
       "      <td>1</td>\n",
       "    </tr>\n",
       "    <tr>\n",
       "      <th>ENSG00000202254</th>\n",
       "      <td>19393</td>\n",
       "      <td>RF00019</td>\n",
       "      <td>misc_RNA</td>\n",
       "      <td>99791662</td>\n",
       "      <td>99791753</td>\n",
       "      <td>1</td>\n",
       "      <td>1</td>\n",
       "      <td>1</td>\n",
       "    </tr>\n",
       "  </tbody>\n",
       "</table>\n",
       "</div>"
      ],
      "text/plain": [
       "                   SNO Display Name         Biotype      Start        End  \\\n",
       "Gene ID                                                                     \n",
       "ENSG00000186063  16136         AIDA  protein_coding  222668013  222713210   \n",
       "ENSG00000202222  19376      RF00019        misc_RNA   39881566   39881678   \n",
       "ENSG00000202254  19393      RF00019        misc_RNA   99791662   99791753   \n",
       "\n",
       "                 Strand Seq region Name  No. of Transcripts  \n",
       "Gene ID                                                      \n",
       "ENSG00000186063      -1               1                   6  \n",
       "ENSG00000202222      -1               1                   1  \n",
       "ENSG00000202254       1               1                   1  "
      ]
     },
     "execution_count": 23,
     "metadata": {},
     "output_type": "execute_result"
    }
   ],
   "source": [
    "df_all_gene_with_index.head(3)"
   ]
  },
  {
   "cell_type": "code",
   "execution_count": 27,
   "metadata": {},
   "outputs": [
    {
     "data": {
      "text/plain": [
       "'AIDA'"
      ]
     },
     "execution_count": 27,
     "metadata": {},
     "output_type": "execute_result"
    }
   ],
   "source": [
    "df_all_gene_with_index[df_all_gene_with_index.columns[1]][0]"
   ]
  },
  {
   "cell_type": "code",
   "execution_count": 31,
   "metadata": {},
   "outputs": [
    {
     "data": {
      "text/plain": [
       "16136"
      ]
     },
     "execution_count": 31,
     "metadata": {},
     "output_type": "execute_result"
    }
   ],
   "source": [
    "df_all_gene_with_index.loc['ENSG00000186063']['SNO']"
   ]
  },
  {
   "cell_type": "code",
   "execution_count": 36,
   "metadata": {},
   "outputs": [],
   "source": [
    "overlap_gene_biotype = []\n",
    "from tqdm import tqdm"
   ]
  },
  {
   "cell_type": "code",
   "execution_count": 37,
   "metadata": {},
   "outputs": [],
   "source": [
    "def get_gene_biotype():\n",
    "    for i in tqdm(range((len(df_all_gene_overlap)))):\n",
    "        overlap_gene_biotype.append(df_all_gene_with_index.loc[df_all_gene_overlap['all gene ID'][i]]['Biotype'])"
   ]
  },
  {
   "cell_type": "code",
   "execution_count": 38,
   "metadata": {},
   "outputs": [
    {
     "name": "stderr",
     "output_type": "stream",
     "text": [
      "100%|██████████| 5509/5509 [00:03<00:00, 1704.79it/s]\n"
     ]
    }
   ],
   "source": [
    "get_gene_biotype()"
   ]
  },
  {
   "cell_type": "code",
   "execution_count": 46,
   "metadata": {},
   "outputs": [],
   "source": [
    "df_all_gene_overlap['All Gene biotype'] = overlap_gene_biotype"
   ]
  },
  {
   "cell_type": "code",
   "execution_count": 47,
   "metadata": {},
   "outputs": [
    {
     "data": {
      "text/html": [
       "<div>\n",
       "<style scoped>\n",
       "    .dataframe tbody tr th:only-of-type {\n",
       "        vertical-align: middle;\n",
       "    }\n",
       "\n",
       "    .dataframe tbody tr th {\n",
       "        vertical-align: top;\n",
       "    }\n",
       "\n",
       "    .dataframe thead th {\n",
       "        text-align: right;\n",
       "    }\n",
       "</style>\n",
       "<table border=\"1\" class=\"dataframe\">\n",
       "  <thead>\n",
       "    <tr style=\"text-align: right;\">\n",
       "      <th></th>\n",
       "      <th>lincRNA ID</th>\n",
       "      <th>all gene ID</th>\n",
       "      <th>Chr region</th>\n",
       "      <th>No. of transcripts in lincrna</th>\n",
       "      <th>No. of transcripts in all gene</th>\n",
       "      <th>Ensembl-Ensembl overlap ?</th>\n",
       "      <th>Ensembl-linc_Ensembl overlap?</th>\n",
       "      <th>same_opp_overlap</th>\n",
       "      <th>All Gene biotype</th>\n",
       "    </tr>\n",
       "  </thead>\n",
       "  <tbody>\n",
       "    <tr>\n",
       "      <th>0</th>\n",
       "      <td>ENSG00000230704</td>\n",
       "      <td>ENSG00000000460</td>\n",
       "      <td>1</td>\n",
       "      <td>1</td>\n",
       "      <td>9</td>\n",
       "      <td>Yes</td>\n",
       "      <td>No</td>\n",
       "      <td>0</td>\n",
       "      <td>protein_coding</td>\n",
       "    </tr>\n",
       "    <tr>\n",
       "      <th>1</th>\n",
       "      <td>ENSG00000230704</td>\n",
       "      <td>ENSG00000007908</td>\n",
       "      <td>1</td>\n",
       "      <td>1</td>\n",
       "      <td>7</td>\n",
       "      <td>Yes</td>\n",
       "      <td>No</td>\n",
       "      <td>1</td>\n",
       "      <td>protein_coding</td>\n",
       "    </tr>\n",
       "  </tbody>\n",
       "</table>\n",
       "</div>"
      ],
      "text/plain": [
       "        lincRNA ID      all gene ID Chr region  No. of transcripts in lincrna  \\\n",
       "0  ENSG00000230704  ENSG00000000460          1                              1   \n",
       "1  ENSG00000230704  ENSG00000007908          1                              1   \n",
       "\n",
       "   No. of transcripts in all gene Ensembl-Ensembl overlap ?  \\\n",
       "0                               9                       Yes   \n",
       "1                               7                       Yes   \n",
       "\n",
       "  Ensembl-linc_Ensembl overlap?  same_opp_overlap All Gene biotype  \n",
       "0                            No                 0   protein_coding  \n",
       "1                            No                 1   protein_coding  "
      ]
     },
     "execution_count": 47,
     "metadata": {},
     "output_type": "execute_result"
    }
   ],
   "source": [
    "df_all_gene_overlap.head(2)"
   ]
  },
  {
   "cell_type": "code",
   "execution_count": 48,
   "metadata": {},
   "outputs": [],
   "source": [
    "df_all_gene_overlap = df_all_gene_overlap[['lincRNA ID', 'all gene ID', 'All Gene biotype', 'Chr region', 'No. of transcripts in lincrna', 'No. of transcripts in all gene', 'Ensembl-Ensembl overlap ?', 'Ensembl-linc_Ensembl overlap?', 'same_opp_overlap']]"
   ]
  },
  {
   "cell_type": "code",
   "execution_count": 49,
   "metadata": {},
   "outputs": [
    {
     "data": {
      "text/html": [
       "<div>\n",
       "<style scoped>\n",
       "    .dataframe tbody tr th:only-of-type {\n",
       "        vertical-align: middle;\n",
       "    }\n",
       "\n",
       "    .dataframe tbody tr th {\n",
       "        vertical-align: top;\n",
       "    }\n",
       "\n",
       "    .dataframe thead th {\n",
       "        text-align: right;\n",
       "    }\n",
       "</style>\n",
       "<table border=\"1\" class=\"dataframe\">\n",
       "  <thead>\n",
       "    <tr style=\"text-align: right;\">\n",
       "      <th></th>\n",
       "      <th>lincRNA ID</th>\n",
       "      <th>all gene ID</th>\n",
       "      <th>All Gene biotype</th>\n",
       "      <th>Chr region</th>\n",
       "      <th>No. of transcripts in lincrna</th>\n",
       "      <th>No. of transcripts in all gene</th>\n",
       "      <th>Ensembl-Ensembl overlap ?</th>\n",
       "      <th>Ensembl-linc_Ensembl overlap?</th>\n",
       "      <th>same_opp_overlap</th>\n",
       "    </tr>\n",
       "  </thead>\n",
       "  <tbody>\n",
       "    <tr>\n",
       "      <th>0</th>\n",
       "      <td>ENSG00000230704</td>\n",
       "      <td>ENSG00000000460</td>\n",
       "      <td>protein_coding</td>\n",
       "      <td>1</td>\n",
       "      <td>1</td>\n",
       "      <td>9</td>\n",
       "      <td>Yes</td>\n",
       "      <td>No</td>\n",
       "      <td>0</td>\n",
       "    </tr>\n",
       "    <tr>\n",
       "      <th>1</th>\n",
       "      <td>ENSG00000230704</td>\n",
       "      <td>ENSG00000007908</td>\n",
       "      <td>protein_coding</td>\n",
       "      <td>1</td>\n",
       "      <td>1</td>\n",
       "      <td>7</td>\n",
       "      <td>Yes</td>\n",
       "      <td>No</td>\n",
       "      <td>1</td>\n",
       "    </tr>\n",
       "  </tbody>\n",
       "</table>\n",
       "</div>"
      ],
      "text/plain": [
       "        lincRNA ID      all gene ID All Gene biotype Chr region  \\\n",
       "0  ENSG00000230704  ENSG00000000460   protein_coding          1   \n",
       "1  ENSG00000230704  ENSG00000007908   protein_coding          1   \n",
       "\n",
       "   No. of transcripts in lincrna  No. of transcripts in all gene  \\\n",
       "0                              1                               9   \n",
       "1                              1                               7   \n",
       "\n",
       "  Ensembl-Ensembl overlap ? Ensembl-linc_Ensembl overlap?  same_opp_overlap  \n",
       "0                       Yes                            No                 0  \n",
       "1                       Yes                            No                 1  "
      ]
     },
     "execution_count": 49,
     "metadata": {},
     "output_type": "execute_result"
    }
   ],
   "source": [
    "df_all_gene_overlap.head(2)"
   ]
  },
  {
   "cell_type": "code",
   "execution_count": 50,
   "metadata": {},
   "outputs": [],
   "source": [
    "df_all_gene_overlap.to_csv('/feature_selection/overlap/Ensembl/all_gene_overlap.csv')"
   ]
  },
  {
   "cell_type": "markdown",
   "metadata": {},
   "source": [
    "## Ens(linc) vs Ens(linc) overlap [yes/no ?] wrongly calculated. \n",
    "### Correcting it below"
   ]
  },
  {
   "cell_type": "code",
   "execution_count": 10,
   "metadata": {},
   "outputs": [],
   "source": [
    "df_linc_all_gene_overlap = pd.read_csv('/feature_selection/overlap/Ensembl/all_gene_overlap.csv', index_col=0)"
   ]
  },
  {
   "cell_type": "code",
   "execution_count": 11,
   "metadata": {},
   "outputs": [
    {
     "data": {
      "text/html": [
       "<div>\n",
       "<style scoped>\n",
       "    .dataframe tbody tr th:only-of-type {\n",
       "        vertical-align: middle;\n",
       "    }\n",
       "\n",
       "    .dataframe tbody tr th {\n",
       "        vertical-align: top;\n",
       "    }\n",
       "\n",
       "    .dataframe thead th {\n",
       "        text-align: right;\n",
       "    }\n",
       "</style>\n",
       "<table border=\"1\" class=\"dataframe\">\n",
       "  <thead>\n",
       "    <tr style=\"text-align: right;\">\n",
       "      <th></th>\n",
       "      <th>lincRNA ID</th>\n",
       "      <th>all gene ID</th>\n",
       "      <th>All Gene biotype</th>\n",
       "      <th>Chr region</th>\n",
       "      <th>No. of transcripts in lincrna</th>\n",
       "      <th>No. of transcripts in all gene</th>\n",
       "      <th>Ensembl-Ensembl overlap ?</th>\n",
       "      <th>Ensembl-linc_Ensembl overlap?</th>\n",
       "      <th>same_opp_overlap</th>\n",
       "    </tr>\n",
       "  </thead>\n",
       "  <tbody>\n",
       "    <tr>\n",
       "      <th>0</th>\n",
       "      <td>ENSG00000230704</td>\n",
       "      <td>ENSG00000000460</td>\n",
       "      <td>protein_coding</td>\n",
       "      <td>1</td>\n",
       "      <td>1</td>\n",
       "      <td>9</td>\n",
       "      <td>Yes</td>\n",
       "      <td>No</td>\n",
       "      <td>0</td>\n",
       "    </tr>\n",
       "    <tr>\n",
       "      <th>1</th>\n",
       "      <td>ENSG00000230704</td>\n",
       "      <td>ENSG00000007908</td>\n",
       "      <td>protein_coding</td>\n",
       "      <td>1</td>\n",
       "      <td>1</td>\n",
       "      <td>7</td>\n",
       "      <td>Yes</td>\n",
       "      <td>No</td>\n",
       "      <td>1</td>\n",
       "    </tr>\n",
       "    <tr>\n",
       "      <th>2</th>\n",
       "      <td>ENSG00000230699</td>\n",
       "      <td>ENSG00000241180</td>\n",
       "      <td>lincRNA</td>\n",
       "      <td>1</td>\n",
       "      <td>1</td>\n",
       "      <td>1</td>\n",
       "      <td>Yes</td>\n",
       "      <td>No</td>\n",
       "      <td>1</td>\n",
       "    </tr>\n",
       "  </tbody>\n",
       "</table>\n",
       "</div>"
      ],
      "text/plain": [
       "        lincRNA ID      all gene ID All Gene biotype Chr region  \\\n",
       "0  ENSG00000230704  ENSG00000000460   protein_coding          1   \n",
       "1  ENSG00000230704  ENSG00000007908   protein_coding          1   \n",
       "2  ENSG00000230699  ENSG00000241180          lincRNA          1   \n",
       "\n",
       "   No. of transcripts in lincrna  No. of transcripts in all gene  \\\n",
       "0                              1                               9   \n",
       "1                              1                               7   \n",
       "2                              1                               1   \n",
       "\n",
       "  Ensembl-Ensembl overlap ? Ensembl-linc_Ensembl overlap?  same_opp_overlap  \n",
       "0                       Yes                            No                 0  \n",
       "1                       Yes                            No                 1  \n",
       "2                       Yes                            No                 1  "
      ]
     },
     "execution_count": 11,
     "metadata": {},
     "output_type": "execute_result"
    }
   ],
   "source": [
    "df_linc_all_gene_overlap.head(3)"
   ]
  },
  {
   "cell_type": "code",
   "execution_count": 12,
   "metadata": {},
   "outputs": [],
   "source": [
    "df_linc_all_gene_overlap.drop('Ensembl-linc_Ensembl overlap?', axis=1, inplace=True)"
   ]
  },
  {
   "cell_type": "code",
   "execution_count": 25,
   "metadata": {},
   "outputs": [],
   "source": [
    "same_lincrna_ensg = []"
   ]
  },
  {
   "cell_type": "code",
   "execution_count": 26,
   "metadata": {},
   "outputs": [],
   "source": [
    "from tqdm import tqdm"
   ]
  },
  {
   "cell_type": "code",
   "execution_count": 35,
   "metadata": {},
   "outputs": [],
   "source": [
    "df_ens_all_gene_index = df_all_gene.set_index(['Gene ID'])"
   ]
  },
  {
   "cell_type": "code",
   "execution_count": 34,
   "metadata": {},
   "outputs": [],
   "source": [
    "df_ens_linc_overlap_index = df_linc_all_gene_overlap.set_index(['all gene ID'])"
   ]
  },
  {
   "cell_type": "code",
   "execution_count": 27,
   "metadata": {},
   "outputs": [
    {
     "name": "stderr",
     "output_type": "stream",
     "text": [
      "100%|██████████| 5509/5509 [00:04<00:00, 1287.25it/s]\n"
     ]
    }
   ],
   "source": [
    "for i in tqdm(range(len(df_linc_all_gene_overlap))):\n",
    "    if df_ens_all_gene_index.loc[df_linc_all_gene_overlap['all gene ID'][i]]['Biotype'] == 'lincRNA':\n",
    "        same_lincrna_ensg.append('Yes')\n",
    "    else:\n",
    "        same_lincrna_ensg.append('No')"
   ]
  },
  {
   "cell_type": "code",
   "execution_count": 29,
   "metadata": {},
   "outputs": [
    {
     "data": {
      "text/plain": [
       "5509"
      ]
     },
     "execution_count": 29,
     "metadata": {},
     "output_type": "execute_result"
    }
   ],
   "source": [
    "len(same_lincrna_ensg)"
   ]
  },
  {
   "cell_type": "code",
   "execution_count": 30,
   "metadata": {},
   "outputs": [],
   "source": [
    "df_linc_all_gene_overlap['Ensembl-linc_Ensembl overlap?'] = same_lincrna_ensg"
   ]
  },
  {
   "cell_type": "code",
   "execution_count": 32,
   "metadata": {},
   "outputs": [],
   "source": [
    "df_linc_all_gene_overlap.to_csv('/feature_selection/overlap/Ensembl/all_gene_overlap.csv')"
   ]
  },
  {
   "cell_type": "code",
   "execution_count": null,
   "metadata": {},
   "outputs": [],
   "source": []
  }
 ],
 "metadata": {
  "kernelspec": {
   "display_name": "Python [conda env:gsoc_ensembl]",
   "language": "python",
   "name": "conda-env-gsoc_ensembl-py"
  },
  "language_info": {
   "codemirror_mode": {
    "name": "ipython",
    "version": 3
   },
   "file_extension": ".py",
   "mimetype": "text/x-python",
   "name": "python",
   "nbconvert_exporter": "python",
   "pygments_lexer": "ipython3",
   "version": "3.6.5"
  }
 },
 "nbformat": 4,
 "nbformat_minor": 2
}
