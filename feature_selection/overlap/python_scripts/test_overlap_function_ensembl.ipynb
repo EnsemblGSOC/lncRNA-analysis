{
 "cells": [
  {
   "cell_type": "code",
   "execution_count": 25,
   "metadata": {},
   "outputs": [],
   "source": [
    "import pandas as pd"
   ]
  },
  {
   "cell_type": "code",
   "execution_count": null,
   "metadata": {},
   "outputs": [],
   "source": [
    "def sort_file_via_chr(path):\n",
    "    df = pd.read_csv(path, index_col=0)\n",
    "    df_sorted = df.sort_values(by=[\"Seq region Name\"], ascending=True)\n",
    "    df_sorted.reset_index(drop=True, inplace=True)"
   ]
  },
  {
   "cell_type": "code",
   "execution_count": 42,
   "metadata": {},
   "outputs": [],
   "source": [
    "import pandas as pd\n",
    "df = pd.read_csv('/dataset/Ensembl_numeric/all_lincRNA_data/all_lincrna_transcript_data.csv', index_col=0)"
   ]
  },
  {
   "cell_type": "code",
   "execution_count": 43,
   "metadata": {},
   "outputs": [
    {
     "data": {
      "text/html": [
       "<div>\n",
       "<style scoped>\n",
       "    .dataframe tbody tr th:only-of-type {\n",
       "        vertical-align: middle;\n",
       "    }\n",
       "\n",
       "    .dataframe tbody tr th {\n",
       "        vertical-align: top;\n",
       "    }\n",
       "\n",
       "    .dataframe thead th {\n",
       "        text-align: right;\n",
       "    }\n",
       "</style>\n",
       "<table border=\"1\" class=\"dataframe\">\n",
       "  <thead>\n",
       "    <tr style=\"text-align: right;\">\n",
       "      <th></th>\n",
       "      <th>SNO</th>\n",
       "      <th>Gene ID</th>\n",
       "      <th>Transcript ID</th>\n",
       "      <th>Biotype</th>\n",
       "      <th>Strand</th>\n",
       "      <th>Seq region Name</th>\n",
       "      <th>Transcript Start</th>\n",
       "      <th>Transcript End</th>\n",
       "      <th>Transcript Length</th>\n",
       "      <th>No. of Exons</th>\n",
       "    </tr>\n",
       "  </thead>\n",
       "  <tbody>\n",
       "    <tr>\n",
       "      <th>0</th>\n",
       "      <td>1</td>\n",
       "      <td>ENSG00000115934</td>\n",
       "      <td>ENST00000538297</td>\n",
       "      <td>lincRNA</td>\n",
       "      <td>-1</td>\n",
       "      <td>12</td>\n",
       "      <td>23181334</td>\n",
       "      <td>23251499</td>\n",
       "      <td>1329</td>\n",
       "      <td>2</td>\n",
       "    </tr>\n",
       "    <tr>\n",
       "      <th>1</th>\n",
       "      <td>2</td>\n",
       "      <td>ENSG00000122043</td>\n",
       "      <td>ENST00000400540</td>\n",
       "      <td>lincRNA</td>\n",
       "      <td>1</td>\n",
       "      <td>13</td>\n",
       "      <td>29935905</td>\n",
       "      <td>29950488</td>\n",
       "      <td>1031</td>\n",
       "      <td>6</td>\n",
       "    </tr>\n",
       "    <tr>\n",
       "      <th>2</th>\n",
       "      <td>3</td>\n",
       "      <td>ENSG00000122043</td>\n",
       "      <td>ENST00000481738</td>\n",
       "      <td>lincRNA</td>\n",
       "      <td>1</td>\n",
       "      <td>13</td>\n",
       "      <td>29937906</td>\n",
       "      <td>29942567</td>\n",
       "      <td>575</td>\n",
       "      <td>2</td>\n",
       "    </tr>\n",
       "  </tbody>\n",
       "</table>\n",
       "</div>"
      ],
      "text/plain": [
       "   SNO          Gene ID    Transcript ID  Biotype  Strand Seq region Name  \\\n",
       "0    1  ENSG00000115934  ENST00000538297  lincRNA      -1              12   \n",
       "1    2  ENSG00000122043  ENST00000400540  lincRNA       1              13   \n",
       "2    3  ENSG00000122043  ENST00000481738  lincRNA       1              13   \n",
       "\n",
       "   Transcript Start  Transcript End  Transcript Length  No. of Exons  \n",
       "0          23181334        23251499               1329             2  \n",
       "1          29935905        29950488               1031             6  \n",
       "2          29937906        29942567                575             2  "
      ]
     },
     "execution_count": 43,
     "metadata": {},
     "output_type": "execute_result"
    }
   ],
   "source": [
    "df.head(3)"
   ]
  },
  {
   "cell_type": "code",
   "execution_count": 44,
   "metadata": {},
   "outputs": [],
   "source": [
    "df_sorted = df.sort_values(by=[\"Seq region Name\"], ascending=True)"
   ]
  },
  {
   "cell_type": "code",
   "execution_count": 46,
   "metadata": {},
   "outputs": [],
   "source": [
    "df_sorted.reset_index(inplace=True, drop=True)"
   ]
  },
  {
   "cell_type": "code",
   "execution_count": null,
   "metadata": {},
   "outputs": [],
   "source": []
  },
  {
   "cell_type": "code",
   "execution_count": 47,
   "metadata": {},
   "outputs": [
    {
     "data": {
      "text/html": [
       "<div>\n",
       "<style scoped>\n",
       "    .dataframe tbody tr th:only-of-type {\n",
       "        vertical-align: middle;\n",
       "    }\n",
       "\n",
       "    .dataframe tbody tr th {\n",
       "        vertical-align: top;\n",
       "    }\n",
       "\n",
       "    .dataframe thead th {\n",
       "        text-align: right;\n",
       "    }\n",
       "</style>\n",
       "<table border=\"1\" class=\"dataframe\">\n",
       "  <thead>\n",
       "    <tr style=\"text-align: right;\">\n",
       "      <th></th>\n",
       "      <th>SNO</th>\n",
       "      <th>Gene ID</th>\n",
       "      <th>Transcript ID</th>\n",
       "      <th>Biotype</th>\n",
       "      <th>Strand</th>\n",
       "      <th>Seq region Name</th>\n",
       "      <th>Transcript Start</th>\n",
       "      <th>Transcript End</th>\n",
       "      <th>Transcript Length</th>\n",
       "      <th>No. of Exons</th>\n",
       "    </tr>\n",
       "  </thead>\n",
       "  <tbody>\n",
       "    <tr>\n",
       "      <th>0</th>\n",
       "      <td>3308</td>\n",
       "      <td>ENSG00000230768</td>\n",
       "      <td>ENST00000624083</td>\n",
       "      <td>lincRNA</td>\n",
       "      <td>-1</td>\n",
       "      <td>1</td>\n",
       "      <td>105589693</td>\n",
       "      <td>105606007</td>\n",
       "      <td>385</td>\n",
       "      <td>4</td>\n",
       "    </tr>\n",
       "    <tr>\n",
       "      <th>1</th>\n",
       "      <td>11779</td>\n",
       "      <td>ENSG00000272432</td>\n",
       "      <td>ENST00000607698</td>\n",
       "      <td>lincRNA</td>\n",
       "      <td>1</td>\n",
       "      <td>1</td>\n",
       "      <td>25247837</td>\n",
       "      <td>25248321</td>\n",
       "      <td>485</td>\n",
       "      <td>1</td>\n",
       "    </tr>\n",
       "    <tr>\n",
       "      <th>2</th>\n",
       "      <td>11780</td>\n",
       "      <td>ENSG00000272438</td>\n",
       "      <td>ENST00000607769</td>\n",
       "      <td>lincRNA</td>\n",
       "      <td>1</td>\n",
       "      <td>1</td>\n",
       "      <td>904834</td>\n",
       "      <td>915976</td>\n",
       "      <td>351</td>\n",
       "      <td>2</td>\n",
       "    </tr>\n",
       "    <tr>\n",
       "      <th>3</th>\n",
       "      <td>4983</td>\n",
       "      <td>ENSG00000236719</td>\n",
       "      <td>ENST00000442621</td>\n",
       "      <td>lincRNA</td>\n",
       "      <td>1</td>\n",
       "      <td>1</td>\n",
       "      <td>180558976</td>\n",
       "      <td>180566518</td>\n",
       "      <td>1489</td>\n",
       "      <td>3</td>\n",
       "    </tr>\n",
       "    <tr>\n",
       "      <th>4</th>\n",
       "      <td>11784</td>\n",
       "      <td>ENSG00000272449</td>\n",
       "      <td>ENST00000644246</td>\n",
       "      <td>lincRNA</td>\n",
       "      <td>1</td>\n",
       "      <td>1</td>\n",
       "      <td>2530064</td>\n",
       "      <td>2547460</td>\n",
       "      <td>1531</td>\n",
       "      <td>2</td>\n",
       "    </tr>\n",
       "  </tbody>\n",
       "</table>\n",
       "</div>"
      ],
      "text/plain": [
       "     SNO          Gene ID    Transcript ID  Biotype  Strand Seq region Name  \\\n",
       "0   3308  ENSG00000230768  ENST00000624083  lincRNA      -1               1   \n",
       "1  11779  ENSG00000272432  ENST00000607698  lincRNA       1               1   \n",
       "2  11780  ENSG00000272438  ENST00000607769  lincRNA       1               1   \n",
       "3   4983  ENSG00000236719  ENST00000442621  lincRNA       1               1   \n",
       "4  11784  ENSG00000272449  ENST00000644246  lincRNA       1               1   \n",
       "\n",
       "   Transcript Start  Transcript End  Transcript Length  No. of Exons  \n",
       "0         105589693       105606007                385             4  \n",
       "1          25247837        25248321                485             1  \n",
       "2            904834          915976                351             2  \n",
       "3         180558976       180566518               1489             3  \n",
       "4           2530064         2547460               1531             2  "
      ]
     },
     "execution_count": 47,
     "metadata": {},
     "output_type": "execute_result"
    }
   ],
   "source": [
    "df_sorted.iloc[0:5]"
   ]
  },
  {
   "cell_type": "code",
   "execution_count": 3,
   "metadata": {},
   "outputs": [],
   "source": [
    "seq_region_name = df['Seq region Name'].tolist()"
   ]
  },
  {
   "cell_type": "code",
   "execution_count": 7,
   "metadata": {},
   "outputs": [
    {
     "name": "stdout",
     "output_type": "stream",
     "text": [
      "['1', '10', '11', '12', '13', '14', '15', '16', '17', '18', '19', '2', '20', '21', '22', '3', '4', '5', '6', '7', '8', '9', 'X', 'Y']\n"
     ]
    }
   ],
   "source": [
    "unique_region = set(seq_region_name)\n",
    "print(sorted(unique_region))"
   ]
  },
  {
   "cell_type": "code",
   "execution_count": 8,
   "metadata": {},
   "outputs": [],
   "source": [
    "import pandas as pd\n",
    "df1 = pd.read_csv('/dataset/refseq_numeric/all_type=lncRNA_data/all_lncrna_transcript_data_corrected.csv', index_col=0)\n"
   ]
  },
  {
   "cell_type": "code",
   "execution_count": 9,
   "metadata": {},
   "outputs": [
    {
     "data": {
      "text/html": [
       "<div>\n",
       "<style scoped>\n",
       "    .dataframe tbody tr th:only-of-type {\n",
       "        vertical-align: middle;\n",
       "    }\n",
       "\n",
       "    .dataframe tbody tr th {\n",
       "        vertical-align: top;\n",
       "    }\n",
       "\n",
       "    .dataframe thead th {\n",
       "        text-align: right;\n",
       "    }\n",
       "</style>\n",
       "<table border=\"1\" class=\"dataframe\">\n",
       "  <thead>\n",
       "    <tr style=\"text-align: right;\">\n",
       "      <th></th>\n",
       "      <th>SNO</th>\n",
       "      <th>Index</th>\n",
       "      <th>RefSeq Gene ID</th>\n",
       "      <th>RefSeq Transcript ID</th>\n",
       "      <th>Dbxref</th>\n",
       "      <th>Parent</th>\n",
       "      <th>gbkey</th>\n",
       "      <th>Type</th>\n",
       "      <th>Seq_id</th>\n",
       "      <th>Strand</th>\n",
       "      <th>Start</th>\n",
       "      <th>End</th>\n",
       "      <th>No. of Exons</th>\n",
       "      <th>Transcript Length</th>\n",
       "    </tr>\n",
       "  </thead>\n",
       "  <tbody>\n",
       "    <tr>\n",
       "      <th>0</th>\n",
       "      <td>1</td>\n",
       "      <td>27</td>\n",
       "      <td>gene-MIR1302-2HG</td>\n",
       "      <td>rna-XR_001737835.1</td>\n",
       "      <td>GeneID:107985730,Genbank:XR_001737835.1,HGNC:H...</td>\n",
       "      <td>gene-MIR1302-2HG</td>\n",
       "      <td>ncRNA</td>\n",
       "      <td>lnc_RNA</td>\n",
       "      <td>NC_000001.11</td>\n",
       "      <td>1</td>\n",
       "      <td>29926</td>\n",
       "      <td>31295</td>\n",
       "      <td>3</td>\n",
       "      <td>538</td>\n",
       "    </tr>\n",
       "    <tr>\n",
       "      <th>1</th>\n",
       "      <td>2</td>\n",
       "      <td>37</td>\n",
       "      <td>gene-FAM138A</td>\n",
       "      <td>rna-NR_026818.1</td>\n",
       "      <td>GeneID:645520,Genbank:NR_026818.1,HGNC:HGNC:32334</td>\n",
       "      <td>gene-FAM138A</td>\n",
       "      <td>ncRNA</td>\n",
       "      <td>lnc_RNA</td>\n",
       "      <td>NC_000001.11</td>\n",
       "      <td>-1</td>\n",
       "      <td>34611</td>\n",
       "      <td>36081</td>\n",
       "      <td>3</td>\n",
       "      <td>1130</td>\n",
       "    </tr>\n",
       "    <tr>\n",
       "      <th>2</th>\n",
       "      <td>3</td>\n",
       "      <td>142</td>\n",
       "      <td>gene-LOC729737</td>\n",
       "      <td>rna-NR_039983.2</td>\n",
       "      <td>GeneID:729737,Genbank:NR_039983.2</td>\n",
       "      <td>gene-LOC729737</td>\n",
       "      <td>ncRNA</td>\n",
       "      <td>lnc_RNA</td>\n",
       "      <td>NC_000001.11</td>\n",
       "      <td>-1</td>\n",
       "      <td>134773</td>\n",
       "      <td>140566</td>\n",
       "      <td>3</td>\n",
       "      <td>5474</td>\n",
       "    </tr>\n",
       "    <tr>\n",
       "      <th>3</th>\n",
       "      <td>4</td>\n",
       "      <td>174</td>\n",
       "      <td>gene-LOC107985721</td>\n",
       "      <td>rna-XR_001737606.1</td>\n",
       "      <td>GeneID:107985721,Genbank:XR_001737606.1</td>\n",
       "      <td>gene-LOC107985721</td>\n",
       "      <td>ncRNA</td>\n",
       "      <td>lnc_RNA</td>\n",
       "      <td>NC_000001.11</td>\n",
       "      <td>1</td>\n",
       "      <td>200442</td>\n",
       "      <td>203983</td>\n",
       "      <td>3</td>\n",
       "      <td>2706</td>\n",
       "    </tr>\n",
       "  </tbody>\n",
       "</table>\n",
       "</div>"
      ],
      "text/plain": [
       "   SNO  Index     RefSeq Gene ID RefSeq Transcript ID  \\\n",
       "0    1     27   gene-MIR1302-2HG   rna-XR_001737835.1   \n",
       "1    2     37       gene-FAM138A      rna-NR_026818.1   \n",
       "2    3    142     gene-LOC729737      rna-NR_039983.2   \n",
       "3    4    174  gene-LOC107985721   rna-XR_001737606.1   \n",
       "\n",
       "                                              Dbxref             Parent  \\\n",
       "0  GeneID:107985730,Genbank:XR_001737835.1,HGNC:H...   gene-MIR1302-2HG   \n",
       "1  GeneID:645520,Genbank:NR_026818.1,HGNC:HGNC:32334       gene-FAM138A   \n",
       "2                  GeneID:729737,Genbank:NR_039983.2     gene-LOC729737   \n",
       "3            GeneID:107985721,Genbank:XR_001737606.1  gene-LOC107985721   \n",
       "\n",
       "   gbkey     Type        Seq_id  Strand   Start     End  No. of Exons  \\\n",
       "0  ncRNA  lnc_RNA  NC_000001.11       1   29926   31295             3   \n",
       "1  ncRNA  lnc_RNA  NC_000001.11      -1   34611   36081             3   \n",
       "2  ncRNA  lnc_RNA  NC_000001.11      -1  134773  140566             3   \n",
       "3  ncRNA  lnc_RNA  NC_000001.11       1  200442  203983             3   \n",
       "\n",
       "   Transcript Length  \n",
       "0                538  \n",
       "1               1130  \n",
       "2               5474  \n",
       "3               2706  "
      ]
     },
     "execution_count": 9,
     "metadata": {},
     "output_type": "execute_result"
    }
   ],
   "source": [
    "df1.head(4)"
   ]
  },
  {
   "cell_type": "code",
   "execution_count": 10,
   "metadata": {},
   "outputs": [],
   "source": [
    "seq_region_name1 = df1['Seq_id'].tolist()"
   ]
  },
  {
   "cell_type": "code",
   "execution_count": 11,
   "metadata": {},
   "outputs": [
    {
     "name": "stdout",
     "output_type": "stream",
     "text": [
      "['NC_000001.11', 'NC_000002.12', 'NC_000003.12', 'NC_000004.12', 'NC_000005.10', 'NC_000006.12', 'NC_000007.14', 'NC_000008.11', 'NC_000009.12', 'NC_000010.11', 'NC_000011.10', 'NC_000012.12', 'NC_000013.11', 'NC_000014.9', 'NC_000015.10', 'NC_000016.10', 'NC_000017.11', 'NC_000018.10', 'NC_000019.10', 'NC_000020.11', 'NC_000021.9', 'NC_000022.11', 'NC_000023.11', 'NC_000024.10', 'NT_113796.3', 'NT_113888.1', 'NT_113889.1', 'NT_113891.3', 'NT_113901.1', 'NT_113930.2', 'NT_167208.1', 'NT_167213.1', 'NT_167214.1', 'NT_167215.1', 'NT_167218.1', 'NT_167244.2', 'NT_167245.2', 'NT_167246.2', 'NT_167247.2', 'NT_167248.2', 'NT_167249.2', 'NT_167251.2', 'NT_187361.1', 'NT_187367.1', 'NT_187368.1', 'NT_187373.1', 'NT_187374.1', 'NT_187376.1', 'NT_187381.1', 'NT_187382.1', 'NT_187383.1', 'NT_187386.1', 'NT_187388.1', 'NT_187389.1', 'NT_187420.1', 'NT_187497.1', 'NT_187498.1', 'NT_187499.1', 'NT_187500.1', 'NT_187501.1', 'NT_187505.1', 'NT_187506.1', 'NT_187508.1', 'NT_187509.1', 'NT_187510.1', 'NT_187513.1', 'NT_187514.1', 'NT_187515.1', 'NT_187516.1', 'NT_187518.1', 'NT_187519.1', 'NT_187520.1', 'NT_187523.1', 'NT_187525.1', 'NT_187527.1', 'NT_187532.1', 'NT_187533.1', 'NT_187534.1', 'NT_187535.1', 'NT_187537.1', 'NT_187538.1', 'NT_187539.1', 'NT_187540.1', 'NT_187542.1', 'NT_187543.1', 'NT_187545.1', 'NT_187546.1', 'NT_187547.1', 'NT_187548.1', 'NT_187549.1', 'NT_187550.1', 'NT_187552.1', 'NT_187553.1', 'NT_187556.1', 'NT_187557.1', 'NT_187558.1', 'NT_187559.1', 'NT_187560.1', 'NT_187561.1', 'NT_187562.1', 'NT_187565.1', 'NT_187566.1', 'NT_187567.1', 'NT_187569.1', 'NT_187570.1', 'NT_187571.1', 'NT_187572.1', 'NT_187573.1', 'NT_187574.1', 'NT_187576.1', 'NT_187577.1', 'NT_187578.1', 'NT_187579.1', 'NT_187580.1', 'NT_187581.1', 'NT_187582.1', 'NT_187583.1', 'NT_187584.1', 'NT_187585.1', 'NT_187586.1', 'NT_187587.1', 'NT_187589.1', 'NT_187592.1', 'NT_187594.1', 'NT_187596.1', 'NT_187598.1', 'NT_187600.1', 'NT_187601.1', 'NT_187602.1', 'NT_187604.1', 'NT_187605.1', 'NT_187606.1', 'NT_187607.1', 'NT_187608.1', 'NT_187609.1', 'NT_187610.1', 'NT_187611.1', 'NT_187613.1', 'NT_187614.1', 'NT_187617.1', 'NT_187620.1', 'NT_187624.1', 'NT_187625.1', 'NT_187627.1', 'NT_187628.1', 'NT_187629.1', 'NT_187631.1', 'NT_187632.1', 'NT_187633.1', 'NT_187634.1', 'NT_187636.1', 'NT_187637.1', 'NT_187639.1', 'NT_187640.1', 'NT_187641.1', 'NT_187643.1', 'NT_187645.1', 'NT_187646.1', 'NT_187647.1', 'NT_187648.1', 'NT_187649.1', 'NT_187650.1', 'NT_187651.1', 'NT_187652.1', 'NT_187653.1', 'NT_187654.1', 'NT_187655.1', 'NT_187657.1', 'NT_187658.1', 'NT_187660.1', 'NT_187661.1', 'NT_187663.1', 'NT_187664.1', 'NT_187665.1', 'NT_187666.1', 'NT_187667.1', 'NT_187668.1', 'NT_187669.1', 'NT_187671.1', 'NT_187672.1', 'NT_187673.1', 'NT_187674.1', 'NT_187675.1', 'NT_187676.1', 'NT_187678.1', 'NT_187679.1', 'NT_187680.1', 'NT_187681.1', 'NT_187682.1', 'NT_187683.1', 'NT_187684.1', 'NT_187685.1', 'NT_187686.1', 'NT_187687.1', 'NT_187688.1', 'NT_187689.1', 'NT_187690.1', 'NT_187691.1', 'NT_187692.1', 'NT_187693.1', 'NW_003315907.2', 'NW_003315908.1', 'NW_003315913.1', 'NW_003315914.1', 'NW_003315915.1', 'NW_003315917.2', 'NW_003315918.1', 'NW_003315919.1', 'NW_003315920.1', 'NW_003315921.1', 'NW_003315922.2', 'NW_003315929.1', 'NW_003315930.1', 'NW_003315934.1', 'NW_003315935.1', 'NW_003315939.2', 'NW_003315940.1', 'NW_003315941.1', 'NW_003315943.1', 'NW_003315944.2', 'NW_003315952.3', 'NW_003315953.2', 'NW_003315955.1', 'NW_003315956.1', 'NW_003315958.1', 'NW_003315961.1', 'NW_003315962.1', 'NW_003315965.1', 'NW_003315966.2', 'NW_003315968.2', 'NW_003315969.2', 'NW_003315971.2', 'NW_003315972.2', 'NW_003571036.1', 'NW_003571049.1', 'NW_003571050.1', 'NW_003571054.1', 'NW_003571055.2', 'NW_003571056.2', 'NW_003571057.2', 'NW_003571058.2', 'NW_003571059.2', 'NW_003571060.1', 'NW_003571061.2', 'NW_003871074.1', 'NW_003871091.1', 'NW_004166862.2', 'NW_004504305.1', 'NW_009646194.1', 'NW_009646196.1', 'NW_009646197.1', 'NW_009646198.1', 'NW_009646199.1', 'NW_009646201.1', 'NW_009646202.1', 'NW_009646203.1', 'NW_009646207.1', 'NW_009646208.1', 'NW_009646209.1', 'NW_011332687.1', 'NW_011332688.1', 'NW_011332689.1', 'NW_011332691.1', 'NW_011332693.1', 'NW_011332695.1', 'NW_011332696.1', 'NW_011332697.1', 'NW_011332698.1', 'NW_011332699.1', 'NW_011332700.1', 'NW_011332701.1', 'NW_012132914.1', 'NW_012132915.1', 'NW_012132916.1', 'NW_012132919.1', 'NW_012132920.1', 'NW_013171799.1', 'NW_013171800.1', 'NW_013171801.1', 'NW_013171802.1', 'NW_013171806.1', 'NW_013171812.1', 'NW_013171813.1', 'NW_013171814.1', 'NW_014040926.1', 'NW_014040929.1', 'NW_014040930.1', 'NW_014040931.1', 'NW_015148967.1', 'NW_015148968.1', 'NW_015148969.1', 'NW_015495299.1', 'NW_015495300.1', 'NW_015495301.1', 'NW_016107297.1', 'NW_016107298.1', 'NW_016107299.1', 'NW_016107300.1', 'NW_016107301.1', 'NW_016107302.1', 'NW_016107303.1', 'NW_016107304.1', 'NW_016107305.1', 'NW_016107306.1', 'NW_016107307.1', 'NW_016107308.1', 'NW_016107309.1', 'NW_016107310.1', 'NW_016107311.1', 'NW_016107313.1', 'NW_017363813.1', 'NW_017363814.1', 'NW_017363816.1', 'NW_017363817.1', 'NW_017363818.1', 'NW_017363819.1', 'NW_017852928.1', 'NW_017852929.1', 'NW_017852931.1', 'NW_017852932.1', 'NW_017852933.1', 'NW_018654708.1', 'NW_018654710.1', 'NW_018654711.1', 'NW_018654712.1', 'NW_018654713.1', 'NW_018654714.1', 'NW_018654715.1', 'NW_018654716.1', 'NW_018654717.1', 'NW_018654718.1', 'NW_018654720.1', 'NW_018654722.1', 'NW_018654723.1', 'NW_018654724.1', 'NW_018654726.1', 'NW_019805491.1', 'NW_019805499.1', 'NW_019805500.1', 'NW_019805502.1', 'NW_019805503.1']\n"
     ]
    }
   ],
   "source": [
    "unique_region1 = set(seq_region_name1)\n",
    "print(sorted(unique_region1))"
   ]
  },
  {
   "cell_type": "code",
   "execution_count": 53,
   "metadata": {},
   "outputs": [],
   "source": [
    "def isWithin(query, coords):\n",
    "    start = coords[0]\n",
    "    end = coords[1]\n",
    "    if query >= start and query <= end:\n",
    "        return True\n",
    "    else:\n",
    "        return False\n"
   ]
  },
  {
   "cell_type": "code",
   "execution_count": 59,
   "metadata": {},
   "outputs": [],
   "source": [
    "def overlap(coordA, coordB):\n",
    "    overlapLength = -1\n",
    "    if coordA[0] < coordB[1] and coordB[0] < coordA[1]: #WOW !!!! This is Daniels logic\n",
    "#     if isWithin(coordA[0], coordB) or isWithin(coordA[1], coordB) or isWithin(coordB[0], coordA) or isWithin(coordB[1], coordA):\n",
    "        overlapLength = min(coordA[1], coordB[1]) - max(coordA[0], coordB[0]) + 1\n",
    "        o = True\n",
    "    else:\n",
    "        o = False\n",
    "    return overlapLength,o"
   ]
  },
  {
   "cell_type": "code",
   "execution_count": 60,
   "metadata": {},
   "outputs": [],
   "source": [
    "a = [18,25]\n",
    "b = [17,22]\n",
    "ov_len = overlap(a,b)"
   ]
  },
  {
   "cell_type": "code",
   "execution_count": 61,
   "metadata": {},
   "outputs": [
    {
     "name": "stdout",
     "output_type": "stream",
     "text": [
      "(5, True)\n"
     ]
    }
   ],
   "source": [
    "print(ov_len)"
   ]
  },
  {
   "cell_type": "code",
   "execution_count": 30,
   "metadata": {},
   "outputs": [
    {
     "data": {
      "text/plain": [
       "True"
      ]
     },
     "execution_count": 30,
     "metadata": {},
     "output_type": "execute_result"
    }
   ],
   "source": [
    "o"
   ]
  },
  {
   "cell_type": "code",
   "execution_count": 1,
   "metadata": {},
   "outputs": [
    {
     "name": "stdout",
     "output_type": "stream",
     "text": [
      "{'ATGATCCGCGACGTGGAACTGGCAGAAGAGGCACTCCCCCAAAAGATGGGGGGCTTCCAGAACTCCAGGCGGTGCCTATGTCTCAGCCTCTTCTCATTCCTGCTTGTGGCAGGGGCCACCACGCTCTTCTGTCTACTGAACTTCGGGGTGATCGGTCCCCAAAGGGATGAGAAGTTCCCAAATGGCCTCCCTCTCATCAGTTCTATGGCCCAGACCCTCACACTCAGATCATCTTCTCAAAATTCGAGTGACAAGCCTGTAGCCCACGTCGTAGCAAACCACCAAGTGGAGGAGCAGCTGGAGTGGCTGAGCCAGCGCGCCAACGCCCTCCTGGCCAACGGCATGGATCTCAAAGACAACCAACTAGTGGTGCCAGCCGATGGGTTGTACCTTGTCTACTCCCAGGTTCTCTTCAAGGGACAAGGCTGCCCCGACTACGTGCTCCTCACCCACACCGTCAGCCGATTTGCTATCTCATACCAGGAGAAAGTCAACCTCCTCTCTGCCGTCAAGAGCCCCTGCCCCAAGGACACCCCTGAGGGGGCTGAGCTCAAACCCTGGTATGAGCCCATATACCTGGGAGGAGTCTTCCAGCTGGAGAAGGGGGACCAACTCAGCGCTGAGGTCAATCTGCCCAAGTACTTAGACTTTGCGGAGTCCGGGCAGGTCTACTTTGGAGTCATTGCTCTG', 'ATGCACCACCATCAAGGACTCAAATGGGCTTTCCGAATTCACTGGAGCCTCGAATGTCCATTCCTGAGTTCTGCAAAGGGAGAGTGGTCAGGTTGCCTCTGTCTCAGAATGAGGCTGGATAAGATCTCAGGCCTTCCTACCTTCAGACCTTTCCAGATTCTTCCC', 'ATGTTTTCTGTGAAAACGGAGCTGAGCTGTCCCCACCTGGCCTCTCTACCTTGTTGCCTCCTCTTTTGCTTATGTTTAAAACAAAATATTTATCTAACCCAATTGTCT', 'ATGAGAAGTTCCCAAATGGCCTCCCTCTCATCAGTTCTATGGCCCAGACCCTCACACTCAGATCATCTTCTCAAAATTCGAGTGACAAGCCTG', 'ATGAATGTATTTATTTGGAAGGCCGGGGTGTCCTGGAGGACCCAGTGTGGGAAGCTGTCTTCAGACAGACATGTTTTCTGTGAAAACGGAGCTGAGCTGTCCCCACCTGGCCTCTCTACCTTGTTGCCTCCTCTTTTGCTTATGTTTAAAACAAAATATTTATCTAACCCAATTGTCTTAATAACGCTGATTTGG', 'ATGCACAGCCTTCCTCACAGAGCCAGCCCCCCTCTATTTATATTTGCACTTATTATTTATTATTTATTTATTATTTATTTATTTGCTTATGAATGTATTTATTTGGAAGGCCGGGGTGTCCTGGAGGACCCAGTGTGGGAAGCTGTCTTCAGACAGACATGTTTTCTG', 'ATGGGGGGCTTCCAGAACTCCAGGCGGTGCCTATGTCTCAGCCTCTTCTCATTCCTGCTTGTGGCAGGGGCCACCACGCTCTTCTGTCTACTGAACTTCGGGGTGATCGGTCCCCAAAGGGATGAGAAGTTCCCAAATGGCCTCCCTCTCATCAGTTCTATGGCCCAGACCCTCACACTCAGATCATCTTCTCAAAATTCGAGTGACAAGCCTGTAGCCCACGTCGTAGCAAACCACCAAGTGGAGGAGCAGCTGGAGTGGCTGAGCCAGCGCGCCAACGCCCTCCTGGCCAACGGCATGGATCTCAAAGACAACCAACTAGTGGTGCCAGCCGATGGGTTGTACCTTGTCTACTCCCAGGTTCTCTTCAAGGGACAAGGCTGCCCCGACTACGTGCTCCTCACCCACACCGTCAGCCGATTTGCTATCTCATACCAGGAGAAAGTCAACCTCCTCTCTGCCGTCAAGAGCCCCTGCCCCAAGGACACCCCTGAGGGGGCTGAGCTCAAACCCTGGTATGAGCCCATATACCTGGGAGGAGTCTTCCAGCTGGAGAAGGGGGACCAACTCAGCGCTGAGGTCAATCTGCCCAAGTACTTAGACTTTGCGGAGTCCGGGCAGGTCTACTTTGGAGTCATTGCTCTG', 'ATGGCCCAGACCCTCACACTCAGATCATCTTCTCAAAATTCGAGTGACAAGCCTGTAGCCCACGTCGTAGCAAACCACCAAGTGGAGGAGCAGCTGGAGTGGCTGAGCCAGCGCGCCAACGCCCTCCTGGCCAACGGCATGGATCTCAAAGACAACCAACTAGTGGTGCCAGCCGATGGGTTGTACCTTGTCTACTCCCAGGTTCTCTTCAAGGGACAAGGCTGCCCCGACTACGTGCTCCTCACCCACACCGTCAGCCGATTTGCTATCTCATACCAGGAGAAAGTCAACCTCCTCTCTGCCGTCAAGAGCCCCTGCCCCAAGGACACCCCTGAGGGGGCTGAGCTCAAACCCTGGTATGAGCCCATATACCTGGGAGGAGTCTTCCAGCTGGAGAAGGGGGACCAACTCAGCGCTGAGGTCAATCTGCCCAAGTACTTAGACTTTGCGGAGTCCGGGCAGGTCTACTTTGGAGTCATTGCTCTG', 'ATGAGCCCATATACCTGGGAGGAGTCTTCCAGCTGGAGAAGGGGGACCAACTCAGCGCTGAGGTCAATCTGCCCAAGTACT', 'ATGTTTAAAACAAAATATTTATCTAACCCAATTGTCTTAATAACGCTGATTTGG', 'ATGGGTTGTACCTTGTCTACTCCCAGGTTCTCTTCAAGGGACAAGGCTGCCCCGACTACGTGCTCCTCACCCACACCGTCAGCCGATTTGCTATCTCATACCAGGAGAAAGTCAACCTCCTCTCTGCCGTCAAGAGCCCCTGCCCCAAGGACACCCCTGAGGGGGCTGAGCTCAAACCCTGGTATGAGCCCATATACCTGGGAGGAGTCTTCCAGCTGGAGAAGGGGGACCAACTCAGCGCTGAGGTCAATCTGCCCAAGTACT', 'ATGTCTCAGCCTCTTCTCATTCCTGCTTGTGGCAGGGGCCACCACGCTCTTCTGTCTACTGAACTTCGGGGTGATCGGTCCCCAAAGGGA', 'ATGAGCACAGAAAGCATGATCCGCGACGTGGAACTGGCAGAAGAGGCACTCCCCCAAAAGATGGGGGGCTTCCAGAACTCCAGGCGGTGCCTATGTCTCAGCCTCTTCTCATTCCTGCTTGTGGCAGGGGCCACCACGCTCTTCTGTCTACTGAACTTCGGGGTGATCGGTCCCCAAAGGGATGAGAAGTTCCCAAATGGCCTCCCTCTCATCAGTTCTATGGCCCAGACCCTCACACTCAGATCATCTTCTCAAAATTCGAGTGACAAGCCTGTAGCCCACGTCGTAGCAAACCACCAAGTGGAGGAGCAGCTGGAGTGGCTGAGCCAGCGCGCCAACGCCCTCCTGGCCAACGGCATGGATCTCAAAGACAACCAACTAGTGGTGCCAGCCGATGGGTTGTACCTTGTCTACTCCCAGGTTCTCTTCAAGGGACAAGGCTGCCCCGACTACGTGCTCCTCACCCACACCGTCAGCCGATTTGCTATCTCATACCAGGAGAAAGTCAACCTCCTCTCTGCCGTCAAGAGCCCCTGCCCCAAGGACACCCCTGAGGGGGCTGAGCTCAAACCCTGGTATGAGCCCATATACCTGGGAGGAGTCTTCCAGCTGGAGAAGGGGGACCAACTCAGCGCTGAGGTCAATCTGCCCAAGTACTTAGACTTTGCGGAGTCCGGGCAGGTCTACTTTGGAGTCATTGCTCTG', 'ATGTATTTATTTGGAAGGCCGGGGTGTCCTGGAGGACCCAGTGTGGGAAGCTGTCTTCAGACAGACATGTTTTCTGTGAAAACGGAGCTGAGCTGTCCCCACCTGGCCTCTCTACCTTGTTGCCTCCTCTTTTGCTTATGTTTAAAACAAAATATTTATCTAACCCAATTGTCT', 'ATGGCTCAGGGTCCAACTCTGTGCTCAGAGCTTTCAACAACTACTCAGAAACACAAGATGCTGGGACAG', 'ATGCTGGGACAG', 'ATGTCCATTCCTGAGTTCTGCAAAGGGAGAGTGGTCAGGTTGCCTCTGTCTCAGAATGAGGCTGGA', 'ATGGGCTTTCCGAATTCACTGGAGCCTCGAATGTCCATTCCTGAGTTCTGCAAAGGGAGAGTGGTCAGGTTGCCTCTGTCTCAGAATGAGGCTGGA', 'ATGGCCTCCCTCTCATCAGTTCTATGGCCCAGACCCTCACACTCAGATCATCTTCTCAAAATTCGAGTGACAAGCCTG', 'ATGGGTGTTCATCCATTCTCTACCCAGCCCCCACTC', 'ATGGATCTCAAAGACAACCAACTAGTGGTGCCAGCCGATGGGTTGTACCTTGTCTACTCCCAGGTTCTCTTCAAGGGACAAGGCTGCCCCGACTACGTGCTCCTCACCCACACCGTCAGCCGATTTGCTATCTCATACCAGGAGAAAGTCAACCTCCTCTCTGCCGTCAAGAGCCCCTGCCCCAAGGACACCCCTGAGGGGGCTGAGCTCAAACCCTGGTATGAGCCCATATACCTGGGAGGAGTCTTCCAGCTGGAGAAGGGGGACCAACTCAGCGCTGAGGTCAATCTGCCCAAGTACTTAGACTTTGCGGAGTCCGGGCAGGTCTACTTTGGAGTCATTGCTCTG', 'ATGAGGCTGGATAAGATCTCAGGCCTTCCTACCTTCAGACCTTTCCAGATTCTTCCC'}\n"
     ]
    }
   ],
   "source": [
    "import re\n",
    "#from string import maketrans\n",
    "\n",
    "pattern = re.compile(r'(?=(ATG(?:...)*?)(?=TAG|TGA|TAA))')\n",
    "\n",
    "def revcomp(dna_seq):\n",
    "    return dna_seq[::-1].translate(str.maketrans(\"ATGC\",\"TACG\"))\n",
    "\n",
    "def orfs(dna):\n",
    "    #return set(pattern.findall(dna) + pattern.findall(revcomp(dna)))\n",
    "    return set(pattern.findall(dna) )\n",
    "\n",
    "print (orfs('CCTCAGCGAGGACAGCAAGGGACTAGCCAGGAGGGAGAACAGAAACTCCAGAACATCTTGGAAATAGCTCCCAGAAAAGCAAGCAGCCAACCAGGCAGGTTCTGTCCCTTTCACTCACTGGCCCAAGGCGCCACATCTCCCTCCAGAAAAGACACCATGAGCACAGAAAGCATGATCCGCGACGTGGAACTGGCAGAAGAGGCACTCCCCCAAAAGATGGGGGGCTTCCAGAACTCCAGGCGGTGCCTATGTCTCAGCCTCTTCTCATTCCTGCTTGTGGCAGGGGCCACCACGCTCTTCTGTCTACTGAACTTCGGGGTGATCGGTCCCCAAAGGGATGAGAAGTTCCCAAATGGCCTCCCTCTCATCAGTTCTATGGCCCAGACCCTCACACTCAGATCATCTTCTCAAAATTCGAGTGACAAGCCTGTAGCCCACGTCGTAGCAAACCACCAAGTGGAGGAGCAGCTGGAGTGGCTGAGCCAGCGCGCCAACGCCCTCCTGGCCAACGGCATGGATCTCAAAGACAACCAACTAGTGGTGCCAGCCGATGGGTTGTACCTTGTCTACTCCCAGGTTCTCTTCAAGGGACAAGGCTGCCCCGACTACGTGCTCCTCACCCACACCGTCAGCCGATTTGCTATCTCATACCAGGAGAAAGTCAACCTCCTCTCTGCCGTCAAGAGCCCCTGCCCCAAGGACACCCCTGAGGGGGCTGAGCTCAAACCCTGGTATGAGCCCATATACCTGGGAGGAGTCTTCCAGCTGGAGAAGGGGGACCAACTCAGCGCTGAGGTCAATCTGCCCAAGTACTTAGACTTTGCGGAGTCCGGGCAGGTCTACTTTGGAGTCATTGCTCTGTGAAGGGAATGGGTGTTCATCCATTCTCTACCCAGCCCCCACTCTGACCCCTTTACTCTGACCCCTTTATTGTCTACTCCTCAGAGCCCCCAGTCTGTATCCTTCTAACTTAGAAAGGGGATTATGGCTCAGGGTCCAACTCTGTGCTCAGAGCTTTCAACAACTACTCAGAAACACAAGATGCTGGGACAGTGACCTGGACTGTGGGCCTCTCATGCACCACCATCAAGGACTCAAATGGGCTTTCCGAATTCACTGGAGCCTCGAATGTCCATTCCTGAGTTCTGCAAAGGGAGAGTGGTCAGGTTGCCTCTGTCTCAGAATGAGGCTGGATAAGATCTCAGGCCTTCCTACCTTCAGACCTTTCCAGATTCTTCCCTGAGGTGCAATGCACAGCCTTCCTCACAGAGCCAGCCCCCCTCTATTTATATTTGCACTTATTATTTATTATTTATTTATTATTTATTTATTTGCTTATGAATGTATTTATTTGGAAGGCCGGGGTGTCCTGGAGGACCCAGTGTGGGAAGCTGTCTTCAGACAGACATGTTTTCTGTGAAAACGGAGCTGAGCTGTCCCCACCTGGCCTCTCTACCTTGTTGCCTCCTCTTTTGCTTATGTTTAAAACAAAATATTTATCTAACCCAATTGTCTTAATAACGCTGATTTGGTGACCAGGCTGTCGCTACATCACTGAACCTCTGCTCCCCACGGGAGCCGTGACTGTAATCGCCCTACGGGTCATTGAGAGAAATAA'))"
   ]
  },
  {
   "cell_type": "code",
   "execution_count": 42,
   "metadata": {},
   "outputs": [],
   "source": [
    "import string"
   ]
  },
  {
   "cell_type": "code",
   "execution_count": null,
   "metadata": {},
   "outputs": [],
   "source": [
    "ATGCATG"
   ]
  },
  {
   "cell_type": "code",
   "execution_count": 7,
   "metadata": {},
   "outputs": [],
   "source": [
    "s = 'ATGAAAATGAAAAACATG'"
   ]
  },
  {
   "cell_type": "code",
   "execution_count": 8,
   "metadata": {},
   "outputs": [
    {
     "ename": "ValueError",
     "evalue": "max() arg is an empty sequence",
     "output_type": "error",
     "traceback": [
      "\u001b[0;31m---------------------------------------------------------------------------\u001b[0m",
      "\u001b[0;31mValueError\u001b[0m                                Traceback (most recent call last)",
      "\u001b[0;32m<ipython-input-8-128ee3a936ab>\u001b[0m in \u001b[0;36m<module>\u001b[0;34m\u001b[0m\n\u001b[1;32m      1\u001b[0m \u001b[0;32mimport\u001b[0m \u001b[0mre\u001b[0m\u001b[0;34m\u001b[0m\u001b[0m\n\u001b[1;32m      2\u001b[0m \u001b[0;34m\u001b[0m\u001b[0m\n\u001b[0;32m----> 3\u001b[0;31m \u001b[0mmax\u001b[0m\u001b[0;34m(\u001b[0m\u001b[0mre\u001b[0m\u001b[0;34m.\u001b[0m\u001b[0mfindall\u001b[0m\u001b[0;34m(\u001b[0m\u001b[0;34mr'ATG(?:(?!TAA|TAG|TGA)...)*(?:TAA|TAG|TGA)'\u001b[0m\u001b[0;34m,\u001b[0m\u001b[0ms\u001b[0m\u001b[0;34m)\u001b[0m\u001b[0;34m,\u001b[0m \u001b[0mkey\u001b[0m \u001b[0;34m=\u001b[0m \u001b[0mlen\u001b[0m\u001b[0;34m)\u001b[0m\u001b[0;34m\u001b[0m\u001b[0m\n\u001b[0m",
      "\u001b[0;31mValueError\u001b[0m: max() arg is an empty sequence"
     ]
    }
   ],
   "source": [
    "import re\n",
    "\n",
    "max(re.findall(r'ATG(?:(?!TAA|TAG|TGA)...)*(?:TAA|TAG|TGA)',s), key = len)"
   ]
  },
  {
   "cell_type": "code",
   "execution_count": 122,
   "metadata": {},
   "outputs": [],
   "source": [
    "from Bio import Seq\n",
    "import regex as re\n",
    "startP = re.compile('ATG')\n",
    "nuc = input_seq.replace('\\n','')\n",
    "longest = (0,)\n",
    "for m in startP.finditer(nuc, overlapped=True):\n",
    "    if len(Seq.Seq(nuc)[m.start():].translate(to_stop=True)) > longest[0]:\n",
    "        pro = Seq.Seq(nuc)[m.start():].translate(to_stop=True)\n",
    "        longest = (len(pro), \n",
    "                   m.start(), \n",
    "                   str(pro),\n",
    "                   nuc[m.start():m.start()+len(pro)*3+3])"
   ]
  },
  {
   "cell_type": "code",
   "execution_count": 121,
   "metadata": {},
   "outputs": [],
   "source": [
    "input_seq = 'ATGAAAAATAG'"
   ]
  },
  {
   "cell_type": "code",
   "execution_count": 108,
   "metadata": {},
   "outputs": [],
   "source": [
    "input_seq = 'AAAAAGGGCTTCTGTCGTGAGTGGCACACGTAGGGCAACTCGATTGCTCTGCGTGCGGAATCGACATCAAGAGATTTCGGAAGCATAATTTTTTGGTATTTGGGCAGCTGGTGATCGTTGGTCCCGGCGCC'"
   ]
  },
  {
   "cell_type": "code",
   "execution_count": 124,
   "metadata": {},
   "outputs": [
    {
     "data": {
      "text/plain": [
       "(3, 0, 'MKN', 'ATGAAAAATAG')"
      ]
     },
     "execution_count": 124,
     "metadata": {},
     "output_type": "execute_result"
    }
   ],
   "source": [
    "(longest)"
   ]
  },
  {
   "cell_type": "code",
   "execution_count": 115,
   "metadata": {},
   "outputs": [
    {
     "data": {
      "text/plain": [
       "tuple"
      ]
     },
     "execution_count": 115,
     "metadata": {},
     "output_type": "execute_result"
    }
   ],
   "source": [
    "type(longest)"
   ]
  },
  {
   "cell_type": "code",
   "execution_count": 71,
   "metadata": {},
   "outputs": [
    {
     "name": "stdout",
     "output_type": "stream",
     "text": [
      "True\n"
     ]
    }
   ],
   "source": [
    "if longest[3][-3:] == 'TAA' or 'TAG' or 'TGA':\n",
    "    print(True)"
   ]
  },
  {
   "cell_type": "code",
   "execution_count": 119,
   "metadata": {},
   "outputs": [
    {
     "data": {
      "text/plain": [
       "tuple"
      ]
     },
     "execution_count": 119,
     "metadata": {},
     "output_type": "execute_result"
    }
   ],
   "source": [
    "type(longest)"
   ]
  },
  {
   "cell_type": "code",
   "execution_count": 118,
   "metadata": {},
   "outputs": [
    {
     "name": "stdout",
     "output_type": "stream",
     "text": [
      "True\n"
     ]
    }
   ],
   "source": [
    "if longest[0] == 0:\n",
    "    print(True)"
   ]
  },
  {
   "cell_type": "code",
   "execution_count": 120,
   "metadata": {},
   "outputs": [
    {
     "data": {
      "text/plain": [
       "(0,)"
      ]
     },
     "execution_count": 120,
     "metadata": {},
     "output_type": "execute_result"
    }
   ],
   "source": [
    "longest"
   ]
  },
  {
   "cell_type": "code",
   "execution_count": null,
   "metadata": {},
   "outputs": [],
   "source": []
  }
 ],
 "metadata": {
  "kernelspec": {
   "display_name": "Python [conda env:gsoc_ensembl]",
   "language": "python",
   "name": "conda-env-gsoc_ensembl-py"
  },
  "language_info": {
   "codemirror_mode": {
    "name": "ipython",
    "version": 3
   },
   "file_extension": ".py",
   "mimetype": "text/x-python",
   "name": "python",
   "nbconvert_exporter": "python",
   "pygments_lexer": "ipython3",
   "version": "3.6.5"
  }
 },
 "nbformat": 4,
 "nbformat_minor": 2
}
