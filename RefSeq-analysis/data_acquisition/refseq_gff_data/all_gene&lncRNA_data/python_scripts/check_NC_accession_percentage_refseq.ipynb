{
 "cells": [
  {
   "cell_type": "code",
   "execution_count": 1,
   "metadata": {},
   "outputs": [],
   "source": [
    "import pandas as pd\n",
    "df = pd.read_csv('/dataset/refseq_numeric/all_gene_data/all_gene_data.csv', index_col=0)\n"
   ]
  },
  {
   "cell_type": "code",
   "execution_count": 2,
   "metadata": {},
   "outputs": [
    {
     "data": {
      "text/html": [
       "<div>\n",
       "<style scoped>\n",
       "    .dataframe tbody tr th:only-of-type {\n",
       "        vertical-align: middle;\n",
       "    }\n",
       "\n",
       "    .dataframe tbody tr th {\n",
       "        vertical-align: top;\n",
       "    }\n",
       "\n",
       "    .dataframe thead th {\n",
       "        text-align: right;\n",
       "    }\n",
       "</style>\n",
       "<table border=\"1\" class=\"dataframe\">\n",
       "  <thead>\n",
       "    <tr style=\"text-align: right;\">\n",
       "      <th></th>\n",
       "      <th>SNO</th>\n",
       "      <th>Index</th>\n",
       "      <th>RefSeq Gene ID</th>\n",
       "      <th>Dbxref</th>\n",
       "      <th>Name</th>\n",
       "      <th>gbkey</th>\n",
       "      <th>Biotype</th>\n",
       "      <th>Type</th>\n",
       "      <th>Seq_id</th>\n",
       "      <th>Strand</th>\n",
       "      <th>Start</th>\n",
       "      <th>End</th>\n",
       "      <th>No. of Transcripts</th>\n",
       "    </tr>\n",
       "  </thead>\n",
       "  <tbody>\n",
       "    <tr>\n",
       "      <th>0</th>\n",
       "      <td>1</td>\n",
       "      <td>1</td>\n",
       "      <td>gene-DDX11L1</td>\n",
       "      <td>GeneID:100287102,HGNC:HGNC:37102</td>\n",
       "      <td>DDX11L1</td>\n",
       "      <td>Gene</td>\n",
       "      <td>transcribed_pseudogene</td>\n",
       "      <td>pseudogene</td>\n",
       "      <td>NC_000001.11</td>\n",
       "      <td>1</td>\n",
       "      <td>11874</td>\n",
       "      <td>14409</td>\n",
       "      <td>1</td>\n",
       "    </tr>\n",
       "    <tr>\n",
       "      <th>1</th>\n",
       "      <td>2</td>\n",
       "      <td>6</td>\n",
       "      <td>gene-WASH7P</td>\n",
       "      <td>GeneID:653635,HGNC:HGNC:38034</td>\n",
       "      <td>WASH7P</td>\n",
       "      <td>Gene</td>\n",
       "      <td>transcribed_pseudogene</td>\n",
       "      <td>pseudogene</td>\n",
       "      <td>NC_000001.11</td>\n",
       "      <td>-1</td>\n",
       "      <td>14362</td>\n",
       "      <td>29370</td>\n",
       "      <td>1</td>\n",
       "    </tr>\n",
       "    <tr>\n",
       "      <th>2</th>\n",
       "      <td>3</td>\n",
       "      <td>19</td>\n",
       "      <td>gene-MIR6859-1</td>\n",
       "      <td>GeneID:102466751,HGNC:HGNC:50039,miRBase:MI002...</td>\n",
       "      <td>MIR6859-1</td>\n",
       "      <td>Gene</td>\n",
       "      <td>miRNA</td>\n",
       "      <td>gene</td>\n",
       "      <td>NC_000001.11</td>\n",
       "      <td>-1</td>\n",
       "      <td>17369</td>\n",
       "      <td>17436</td>\n",
       "      <td>3</td>\n",
       "    </tr>\n",
       "    <tr>\n",
       "      <th>3</th>\n",
       "      <td>4</td>\n",
       "      <td>26</td>\n",
       "      <td>gene-MIR1302-2HG</td>\n",
       "      <td>GeneID:107985730,HGNC:HGNC:52482</td>\n",
       "      <td>MIR1302-2HG</td>\n",
       "      <td>Gene</td>\n",
       "      <td>lncRNA</td>\n",
       "      <td>gene</td>\n",
       "      <td>NC_000001.11</td>\n",
       "      <td>1</td>\n",
       "      <td>29926</td>\n",
       "      <td>31295</td>\n",
       "      <td>1</td>\n",
       "    </tr>\n",
       "  </tbody>\n",
       "</table>\n",
       "</div>"
      ],
      "text/plain": [
       "   SNO  Index    RefSeq Gene ID  \\\n",
       "0    1      1      gene-DDX11L1   \n",
       "1    2      6       gene-WASH7P   \n",
       "2    3     19    gene-MIR6859-1   \n",
       "3    4     26  gene-MIR1302-2HG   \n",
       "\n",
       "                                              Dbxref         Name gbkey  \\\n",
       "0                   GeneID:100287102,HGNC:HGNC:37102      DDX11L1  Gene   \n",
       "1                      GeneID:653635,HGNC:HGNC:38034       WASH7P  Gene   \n",
       "2  GeneID:102466751,HGNC:HGNC:50039,miRBase:MI002...    MIR6859-1  Gene   \n",
       "3                   GeneID:107985730,HGNC:HGNC:52482  MIR1302-2HG  Gene   \n",
       "\n",
       "                  Biotype        Type        Seq_id  Strand  Start    End  \\\n",
       "0  transcribed_pseudogene  pseudogene  NC_000001.11       1  11874  14409   \n",
       "1  transcribed_pseudogene  pseudogene  NC_000001.11      -1  14362  29370   \n",
       "2                   miRNA        gene  NC_000001.11      -1  17369  17436   \n",
       "3                  lncRNA        gene  NC_000001.11       1  29926  31295   \n",
       "\n",
       "   No. of Transcripts  \n",
       "0                   1  \n",
       "1                   1  \n",
       "2                   3  \n",
       "3                   1  "
      ]
     },
     "execution_count": 2,
     "metadata": {},
     "output_type": "execute_result"
    }
   ],
   "source": [
    "df.head(4)"
   ]
  },
  {
   "cell_type": "code",
   "execution_count": 3,
   "metadata": {},
   "outputs": [
    {
     "data": {
      "text/plain": [
       "60959"
      ]
     },
     "execution_count": 3,
     "metadata": {},
     "output_type": "execute_result"
    }
   ],
   "source": [
    "len(df)"
   ]
  },
  {
   "cell_type": "code",
   "execution_count": 5,
   "metadata": {},
   "outputs": [],
   "source": [
    "seq_region_name = df['Seq_id'].tolist()"
   ]
  },
  {
   "cell_type": "code",
   "execution_count": 8,
   "metadata": {},
   "outputs": [
    {
     "data": {
      "text/plain": [
       "60957    NC_012920.1\n",
       "60958    NC_012920.1\n",
       "Name: Seq_id, dtype: object"
      ]
     },
     "execution_count": 8,
     "metadata": {},
     "output_type": "execute_result"
    }
   ],
   "source": [
    "df['Seq_id'][-2:][0:2]"
   ]
  },
  {
   "cell_type": "code",
   "execution_count": 9,
   "metadata": {},
   "outputs": [
    {
     "data": {
      "text/plain": [
       "60959"
      ]
     },
     "execution_count": 9,
     "metadata": {},
     "output_type": "execute_result"
    }
   ],
   "source": [
    "len(df['Seq_id'])"
   ]
  },
  {
   "cell_type": "code",
   "execution_count": 10,
   "metadata": {},
   "outputs": [
    {
     "name": "stderr",
     "output_type": "stream",
     "text": [
      "100%|██████████| 60959/60959 [00:02<00:00, 22299.65it/s]\n"
     ]
    }
   ],
   "source": [
    "from tqdm import tqdm\n",
    "seq_id_char = []\n",
    "for i in tqdm(range(len(df['Seq_id']))):\n",
    "    seq_id_char.append(df['Seq_id'][i][0:2])"
   ]
  },
  {
   "cell_type": "code",
   "execution_count": 14,
   "metadata": {},
   "outputs": [],
   "source": [
    "unique_seq_id_char = set(seq_id_char)"
   ]
  },
  {
   "cell_type": "code",
   "execution_count": 15,
   "metadata": {},
   "outputs": [
    {
     "data": {
      "text/plain": [
       "{'NC', 'NT', 'NW'}"
      ]
     },
     "execution_count": 15,
     "metadata": {},
     "output_type": "execute_result"
    }
   ],
   "source": [
    "unique_seq_id_char"
   ]
  },
  {
   "cell_type": "code",
   "execution_count": 19,
   "metadata": {},
   "outputs": [
    {
     "name": "stderr",
     "output_type": "stream",
     "text": [
      "100%|██████████| 60959/60959 [00:00<00:00, 986467.65it/s]"
     ]
    },
    {
     "name": "stdout",
     "output_type": "stream",
     "text": [
      "Percentage of NC in refseq_gene = 88.80723108974885\n",
      "Percentage of NW in refseq_gene= 3.6713200675864104\n",
      "Percentage of NT in refseq_gene= 7.521448842664742\n"
     ]
    },
    {
     "name": "stderr",
     "output_type": "stream",
     "text": [
      "\n"
     ]
    }
   ],
   "source": [
    "nc = 0\n",
    "nt = 0\n",
    "nw = 0\n",
    "for i in tqdm(range(len(seq_id_char))):\n",
    "    if seq_id_char[i] == 'NC':\n",
    "        nc = nc + 1\n",
    "    elif seq_id_char[i] == 'NW':\n",
    "        nw = nw + 1\n",
    "    elif seq_id_char[i] == 'NT':\n",
    "        nt = nt + 1\n",
    "print('Percentage of NC in refseq_gene = {}'.format(float(nc/len(seq_id_char))*100))\n",
    "print('Percentage of NW in refseq_gene = {}'.format(float(nw/len(seq_id_char))*100))\n",
    "print('Percentage of NT in refseq_gene = {}'.format(float(nt/len(seq_id_char))*100))"
   ]
  },
  {
   "cell_type": "code",
   "execution_count": 20,
   "metadata": {},
   "outputs": [],
   "source": [
    "import pandas as pd\n",
    "df1 = pd.read_csv('/dataset/refseq_numeric/all_gene_data/all_transcript_data_corrected.csv', index_col=0)\n"
   ]
  },
  {
   "cell_type": "code",
   "execution_count": 21,
   "metadata": {},
   "outputs": [
    {
     "data": {
      "text/html": [
       "<div>\n",
       "<style scoped>\n",
       "    .dataframe tbody tr th:only-of-type {\n",
       "        vertical-align: middle;\n",
       "    }\n",
       "\n",
       "    .dataframe tbody tr th {\n",
       "        vertical-align: top;\n",
       "    }\n",
       "\n",
       "    .dataframe thead th {\n",
       "        text-align: right;\n",
       "    }\n",
       "</style>\n",
       "<table border=\"1\" class=\"dataframe\">\n",
       "  <thead>\n",
       "    <tr style=\"text-align: right;\">\n",
       "      <th></th>\n",
       "      <th>SNO</th>\n",
       "      <th>Index</th>\n",
       "      <th>RefSeq Gene ID</th>\n",
       "      <th>RefSeq Transcript ID</th>\n",
       "      <th>Dbxref</th>\n",
       "      <th>Parent</th>\n",
       "      <th>gbkey</th>\n",
       "      <th>Type</th>\n",
       "      <th>Seq_id</th>\n",
       "      <th>Strand</th>\n",
       "      <th>Start</th>\n",
       "      <th>End</th>\n",
       "      <th>No. of Exons</th>\n",
       "      <th>Transcript Length</th>\n",
       "    </tr>\n",
       "  </thead>\n",
       "  <tbody>\n",
       "    <tr>\n",
       "      <th>0</th>\n",
       "      <td>1</td>\n",
       "      <td>2</td>\n",
       "      <td>gene-DDX11L1</td>\n",
       "      <td>rna-NR_046018.2</td>\n",
       "      <td>GeneID:100287102,Genbank:NR_046018.2,HGNC:HGNC...</td>\n",
       "      <td>gene-DDX11L1</td>\n",
       "      <td>misc_RNA</td>\n",
       "      <td>transcript</td>\n",
       "      <td>NC_000001.11</td>\n",
       "      <td>1</td>\n",
       "      <td>11874</td>\n",
       "      <td>14409</td>\n",
       "      <td>3</td>\n",
       "      <td>1652</td>\n",
       "    </tr>\n",
       "    <tr>\n",
       "      <th>1</th>\n",
       "      <td>2</td>\n",
       "      <td>7</td>\n",
       "      <td>gene-WASH7P</td>\n",
       "      <td>rna-NR_024540.1</td>\n",
       "      <td>GeneID:653635,Genbank:NR_024540.1,HGNC:HGNC:38034</td>\n",
       "      <td>gene-WASH7P</td>\n",
       "      <td>misc_RNA</td>\n",
       "      <td>transcript</td>\n",
       "      <td>NC_000001.11</td>\n",
       "      <td>-1</td>\n",
       "      <td>14362</td>\n",
       "      <td>29370</td>\n",
       "      <td>11</td>\n",
       "      <td>1769</td>\n",
       "    </tr>\n",
       "    <tr>\n",
       "      <th>2</th>\n",
       "      <td>3</td>\n",
       "      <td>20</td>\n",
       "      <td>gene-MIR6859-1</td>\n",
       "      <td>rna-NR_106918.1</td>\n",
       "      <td>GeneID:102466751,Genbank:NR_106918.1,HGNC:HGNC...</td>\n",
       "      <td>gene-MIR6859-1</td>\n",
       "      <td>precursor_RNA</td>\n",
       "      <td>primary_transcript</td>\n",
       "      <td>NC_000001.11</td>\n",
       "      <td>-1</td>\n",
       "      <td>17369</td>\n",
       "      <td>17436</td>\n",
       "      <td>1</td>\n",
       "      <td>68</td>\n",
       "    </tr>\n",
       "  </tbody>\n",
       "</table>\n",
       "</div>"
      ],
      "text/plain": [
       "   SNO  Index  RefSeq Gene ID RefSeq Transcript ID  \\\n",
       "0    1      2    gene-DDX11L1      rna-NR_046018.2   \n",
       "1    2      7     gene-WASH7P      rna-NR_024540.1   \n",
       "2    3     20  gene-MIR6859-1      rna-NR_106918.1   \n",
       "\n",
       "                                              Dbxref          Parent  \\\n",
       "0  GeneID:100287102,Genbank:NR_046018.2,HGNC:HGNC...    gene-DDX11L1   \n",
       "1  GeneID:653635,Genbank:NR_024540.1,HGNC:HGNC:38034     gene-WASH7P   \n",
       "2  GeneID:102466751,Genbank:NR_106918.1,HGNC:HGNC...  gene-MIR6859-1   \n",
       "\n",
       "           gbkey                Type        Seq_id  Strand  Start    End  \\\n",
       "0       misc_RNA          transcript  NC_000001.11       1  11874  14409   \n",
       "1       misc_RNA          transcript  NC_000001.11      -1  14362  29370   \n",
       "2  precursor_RNA  primary_transcript  NC_000001.11      -1  17369  17436   \n",
       "\n",
       "   No. of Exons  Transcript Length  \n",
       "0             3               1652  \n",
       "1            11               1769  \n",
       "2             1                 68  "
      ]
     },
     "execution_count": 21,
     "metadata": {},
     "output_type": "execute_result"
    }
   ],
   "source": [
    "df1.head(3)"
   ]
  },
  {
   "cell_type": "code",
   "execution_count": 23,
   "metadata": {},
   "outputs": [],
   "source": [
    "seq_region_name_transcript = df1['Seq_id'].tolist()"
   ]
  },
  {
   "cell_type": "code",
   "execution_count": 24,
   "metadata": {},
   "outputs": [
    {
     "name": "stderr",
     "output_type": "stream",
     "text": [
      "100%|██████████| 171197/171197 [00:06<00:00, 26780.62it/s]\n"
     ]
    }
   ],
   "source": [
    "from tqdm import tqdm\n",
    "seq_id_char_transcript = []\n",
    "for i in tqdm(range(len(df1['Seq_id']))):\n",
    "    seq_id_char_transcript.append(df1['Seq_id'][i][0:2])"
   ]
  },
  {
   "cell_type": "code",
   "execution_count": 25,
   "metadata": {},
   "outputs": [],
   "source": [
    "unique_seq_id_char_transcript = set(seq_id_char_transcript)"
   ]
  },
  {
   "cell_type": "code",
   "execution_count": 26,
   "metadata": {},
   "outputs": [
    {
     "data": {
      "text/plain": [
       "{'NC', 'NT', 'NW'}"
      ]
     },
     "execution_count": 26,
     "metadata": {},
     "output_type": "execute_result"
    }
   ],
   "source": [
    "unique_seq_id_char_transcript"
   ]
  },
  {
   "cell_type": "code",
   "execution_count": 28,
   "metadata": {},
   "outputs": [
    {
     "data": {
      "text/plain": [
       "171197"
      ]
     },
     "execution_count": 28,
     "metadata": {},
     "output_type": "execute_result"
    }
   ],
   "source": [
    "len(seq_id_char_transcript)"
   ]
  },
  {
   "cell_type": "code",
   "execution_count": 27,
   "metadata": {},
   "outputs": [
    {
     "name": "stderr",
     "output_type": "stream",
     "text": [
      "100%|██████████| 171197/171197 [00:00<00:00, 1129856.83it/s]"
     ]
    },
    {
     "name": "stdout",
     "output_type": "stream",
     "text": [
      "Percentage of NC in refseq_transcript = 94.12548117081491\n",
      "Percentage of NW in refseq_transcript = 2.032161778535839\n",
      "Percentage of NT in refseq_transcript = 3.8423570506492517\n"
     ]
    },
    {
     "name": "stderr",
     "output_type": "stream",
     "text": [
      "\n"
     ]
    }
   ],
   "source": [
    "nc = 0\n",
    "nt = 0\n",
    "nw = 0\n",
    "for i in tqdm(range(len(seq_id_char_transcript))):\n",
    "    if seq_id_char_transcript[i] == 'NC':\n",
    "        nc = nc + 1\n",
    "    elif seq_id_char_transcript[i] == 'NW':\n",
    "        nw = nw + 1\n",
    "    elif seq_id_char_transcript[i] == 'NT':\n",
    "        nt = nt + 1\n",
    "print('Percentage of NC in refseq_transcript = {}'.format(float(nc/len(seq_id_char_transcript))*100))\n",
    "print('Percentage of NW in refseq_transcript = {}'.format(float(nw/len(seq_id_char_transcript))*100))\n",
    "print('Percentage of NT in refseq_transcript = {}'.format(float(nt/len(seq_id_char_transcript))*100))"
   ]
  },
  {
   "cell_type": "code",
   "execution_count": 34,
   "metadata": {},
   "outputs": [
    {
     "name": "stderr",
     "output_type": "stream",
     "text": [
      "/numpy/lib/arraysetops.py:569: FutureWarning: elementwise comparison failed; returning scalar instead, but in the future will perform elementwise comparison\n",
      "  mask |= (ar1 == a)\n"
     ]
    }
   ],
   "source": [
    "import pandas as pd\n",
    "df2 = pd.read_csv('/dataset/refseq_numeric/all_gene_data/all_exon_data_corrected.csv', index_col=0)\n"
   ]
  },
  {
   "cell_type": "code",
   "execution_count": 35,
   "metadata": {},
   "outputs": [],
   "source": [
    "df2.reset_index(drop=True, inplace=True)"
   ]
  },
  {
   "cell_type": "code",
   "execution_count": 36,
   "metadata": {},
   "outputs": [
    {
     "data": {
      "text/html": [
       "<div>\n",
       "<style scoped>\n",
       "    .dataframe tbody tr th:only-of-type {\n",
       "        vertical-align: middle;\n",
       "    }\n",
       "\n",
       "    .dataframe tbody tr th {\n",
       "        vertical-align: top;\n",
       "    }\n",
       "\n",
       "    .dataframe thead th {\n",
       "        text-align: right;\n",
       "    }\n",
       "</style>\n",
       "<table border=\"1\" class=\"dataframe\">\n",
       "  <thead>\n",
       "    <tr style=\"text-align: right;\">\n",
       "      <th></th>\n",
       "      <th>SNO</th>\n",
       "      <th>Index</th>\n",
       "      <th>RefSeq Gene ID</th>\n",
       "      <th>RefSeq Transcript ID</th>\n",
       "      <th>RefSeq Exon ID</th>\n",
       "      <th>Dbxref</th>\n",
       "      <th>Parent</th>\n",
       "      <th>gbkey</th>\n",
       "      <th>Type</th>\n",
       "      <th>Seq_id</th>\n",
       "      <th>Strand</th>\n",
       "      <th>Start</th>\n",
       "      <th>End</th>\n",
       "      <th>Exon Length</th>\n",
       "    </tr>\n",
       "  </thead>\n",
       "  <tbody>\n",
       "    <tr>\n",
       "      <th>0</th>\n",
       "      <td>1</td>\n",
       "      <td>3</td>\n",
       "      <td>DDX11L1</td>\n",
       "      <td>rna-NR_046018.2</td>\n",
       "      <td>exon-NR_046018.2-1</td>\n",
       "      <td>GeneID:100287102,Genbank:NR_046018.2,HGNC:HGNC...</td>\n",
       "      <td>rna-NR_046018.2</td>\n",
       "      <td>misc_RNA</td>\n",
       "      <td>exon</td>\n",
       "      <td>NC_000001.11</td>\n",
       "      <td>1</td>\n",
       "      <td>11874</td>\n",
       "      <td>12227</td>\n",
       "      <td>354</td>\n",
       "    </tr>\n",
       "    <tr>\n",
       "      <th>1</th>\n",
       "      <td>2</td>\n",
       "      <td>4</td>\n",
       "      <td>DDX11L1</td>\n",
       "      <td>rna-NR_046018.2</td>\n",
       "      <td>exon-NR_046018.2-2</td>\n",
       "      <td>GeneID:100287102,Genbank:NR_046018.2,HGNC:HGNC...</td>\n",
       "      <td>rna-NR_046018.2</td>\n",
       "      <td>misc_RNA</td>\n",
       "      <td>exon</td>\n",
       "      <td>NC_000001.11</td>\n",
       "      <td>1</td>\n",
       "      <td>12613</td>\n",
       "      <td>12721</td>\n",
       "      <td>109</td>\n",
       "    </tr>\n",
       "  </tbody>\n",
       "</table>\n",
       "</div>"
      ],
      "text/plain": [
       "   SNO  Index RefSeq Gene ID RefSeq Transcript ID      RefSeq Exon ID  \\\n",
       "0    1      3        DDX11L1      rna-NR_046018.2  exon-NR_046018.2-1   \n",
       "1    2      4        DDX11L1      rna-NR_046018.2  exon-NR_046018.2-2   \n",
       "\n",
       "                                              Dbxref           Parent  \\\n",
       "0  GeneID:100287102,Genbank:NR_046018.2,HGNC:HGNC...  rna-NR_046018.2   \n",
       "1  GeneID:100287102,Genbank:NR_046018.2,HGNC:HGNC...  rna-NR_046018.2   \n",
       "\n",
       "      gbkey  Type        Seq_id  Strand  Start    End  Exon Length  \n",
       "0  misc_RNA  exon  NC_000001.11       1  11874  12227          354  \n",
       "1  misc_RNA  exon  NC_000001.11       1  12613  12721          109  "
      ]
     },
     "execution_count": 36,
     "metadata": {},
     "output_type": "execute_result"
    }
   ],
   "source": [
    "df2.head(2)"
   ]
  },
  {
   "cell_type": "code",
   "execution_count": 37,
   "metadata": {},
   "outputs": [],
   "source": [
    "seq_region_name_exon = df2['Seq_id'].tolist()"
   ]
  },
  {
   "cell_type": "code",
   "execution_count": 38,
   "metadata": {},
   "outputs": [
    {
     "name": "stderr",
     "output_type": "stream",
     "text": [
      "100%|██████████| 1933469/1933469 [02:48<00:00, 11442.15it/s]\n"
     ]
    }
   ],
   "source": [
    "from tqdm import tqdm\n",
    "seq_id_char_exon = []\n",
    "for i in tqdm(range(len(df2['Seq_id']))):\n",
    "    seq_id_char_exon.append(df2['Seq_id'][i][0:2])"
   ]
  },
  {
   "cell_type": "code",
   "execution_count": 39,
   "metadata": {},
   "outputs": [],
   "source": [
    "unique_seq_id_char_exon = set(seq_id_char_exon)"
   ]
  },
  {
   "cell_type": "code",
   "execution_count": 40,
   "metadata": {},
   "outputs": [
    {
     "data": {
      "text/plain": [
       "{'NC', 'NT', 'NW'}"
      ]
     },
     "execution_count": 40,
     "metadata": {},
     "output_type": "execute_result"
    }
   ],
   "source": [
    "unique_seq_id_char_exon"
   ]
  },
  {
   "cell_type": "code",
   "execution_count": 41,
   "metadata": {},
   "outputs": [
    {
     "data": {
      "text/plain": [
       "1933469"
      ]
     },
     "execution_count": 41,
     "metadata": {},
     "output_type": "execute_result"
    }
   ],
   "source": [
    "len(seq_id_char_exon)"
   ]
  },
  {
   "cell_type": "code",
   "execution_count": 42,
   "metadata": {},
   "outputs": [
    {
     "name": "stderr",
     "output_type": "stream",
     "text": [
      "100%|██████████| 1933469/1933469 [00:02<00:00, 883539.51it/s] "
     ]
    },
    {
     "name": "stdout",
     "output_type": "stream",
     "text": [
      "Percentage of NC in refseq_exon = 96.35556608355242\n",
      "Percentage of NW in refseq_exon = 1.2412404853659407\n",
      "Percentage of NT in refseq_exon = 2.4031934310816463\n"
     ]
    },
    {
     "name": "stderr",
     "output_type": "stream",
     "text": [
      "\n"
     ]
    }
   ],
   "source": [
    "nc = 0\n",
    "nt = 0\n",
    "nw = 0\n",
    "for i in tqdm(range(len(seq_id_char_exon))):\n",
    "    if seq_id_char_exon[i] == 'NC':\n",
    "        nc = nc + 1\n",
    "    elif seq_id_char_exon[i] == 'NW':\n",
    "        nw = nw + 1\n",
    "    elif seq_id_char_exon[i] == 'NT':\n",
    "        nt = nt + 1\n",
    "print('Percentage of NC in refseq_exon = {}'.format(float(nc/len(seq_id_char_exon))*100))\n",
    "print('Percentage of NW in refseq_exon = {}'.format(float(nw/len(seq_id_char_exon))*100))\n",
    "print('Percentage of NT in refseq_exon = {}'.format(float(nt/len(seq_id_char_exon))*100))"
   ]
  },
  {
   "cell_type": "code",
   "execution_count": 43,
   "metadata": {},
   "outputs": [],
   "source": [
    "import pandas as pd\n",
    "df3 = pd.read_csv('/dataset/refseq_numeric/all_type=lncRNA_data/all_lncrna_gene_data.csv', index_col=0)\n"
   ]
  },
  {
   "cell_type": "code",
   "execution_count": 44,
   "metadata": {},
   "outputs": [
    {
     "data": {
      "text/html": [
       "<div>\n",
       "<style scoped>\n",
       "    .dataframe tbody tr th:only-of-type {\n",
       "        vertical-align: middle;\n",
       "    }\n",
       "\n",
       "    .dataframe tbody tr th {\n",
       "        vertical-align: top;\n",
       "    }\n",
       "\n",
       "    .dataframe thead th {\n",
       "        text-align: right;\n",
       "    }\n",
       "</style>\n",
       "<table border=\"1\" class=\"dataframe\">\n",
       "  <thead>\n",
       "    <tr style=\"text-align: right;\">\n",
       "      <th></th>\n",
       "      <th>SNO</th>\n",
       "      <th>Index</th>\n",
       "      <th>RefSeq Gene ID</th>\n",
       "      <th>Dbxref</th>\n",
       "      <th>Name</th>\n",
       "      <th>gbkey</th>\n",
       "      <th>Biotype</th>\n",
       "      <th>Type</th>\n",
       "      <th>Seq_id</th>\n",
       "      <th>Strand</th>\n",
       "      <th>Start</th>\n",
       "      <th>End</th>\n",
       "      <th>No. of Transcripts</th>\n",
       "    </tr>\n",
       "  </thead>\n",
       "  <tbody>\n",
       "    <tr>\n",
       "      <th>0</th>\n",
       "      <td>1</td>\n",
       "      <td>26</td>\n",
       "      <td>gene-MIR1302-2HG</td>\n",
       "      <td>GeneID:107985730,HGNC:HGNC:52482</td>\n",
       "      <td>MIR1302-2HG</td>\n",
       "      <td>Gene</td>\n",
       "      <td>lncRNA</td>\n",
       "      <td>gene</td>\n",
       "      <td>NC_000001.11</td>\n",
       "      <td>1</td>\n",
       "      <td>29926</td>\n",
       "      <td>31295</td>\n",
       "      <td>1</td>\n",
       "    </tr>\n",
       "    <tr>\n",
       "      <th>1</th>\n",
       "      <td>2</td>\n",
       "      <td>36</td>\n",
       "      <td>gene-FAM138A</td>\n",
       "      <td>GeneID:645520,HGNC:HGNC:32334</td>\n",
       "      <td>FAM138A</td>\n",
       "      <td>Gene</td>\n",
       "      <td>lncRNA</td>\n",
       "      <td>gene</td>\n",
       "      <td>NC_000001.11</td>\n",
       "      <td>-1</td>\n",
       "      <td>34611</td>\n",
       "      <td>36081</td>\n",
       "      <td>1</td>\n",
       "    </tr>\n",
       "  </tbody>\n",
       "</table>\n",
       "</div>"
      ],
      "text/plain": [
       "   SNO  Index    RefSeq Gene ID                            Dbxref  \\\n",
       "0    1     26  gene-MIR1302-2HG  GeneID:107985730,HGNC:HGNC:52482   \n",
       "1    2     36      gene-FAM138A     GeneID:645520,HGNC:HGNC:32334   \n",
       "\n",
       "          Name gbkey Biotype  Type        Seq_id  Strand  Start    End  \\\n",
       "0  MIR1302-2HG  Gene  lncRNA  gene  NC_000001.11       1  29926  31295   \n",
       "1      FAM138A  Gene  lncRNA  gene  NC_000001.11      -1  34611  36081   \n",
       "\n",
       "   No. of Transcripts  \n",
       "0                   1  \n",
       "1                   1  "
      ]
     },
     "execution_count": 44,
     "metadata": {},
     "output_type": "execute_result"
    }
   ],
   "source": [
    "df3.head(2)"
   ]
  },
  {
   "cell_type": "code",
   "execution_count": 45,
   "metadata": {},
   "outputs": [],
   "source": [
    "seq_region_lncrna_gene = df3['Seq_id'].tolist()"
   ]
  },
  {
   "cell_type": "code",
   "execution_count": 46,
   "metadata": {},
   "outputs": [
    {
     "name": "stderr",
     "output_type": "stream",
     "text": [
      "100%|██████████| 15967/15967 [00:00<00:00, 35774.13it/s]\n"
     ]
    }
   ],
   "source": [
    "from tqdm import tqdm\n",
    "seq_id_char_lncrna_gene = []\n",
    "for i in tqdm(range(len(df3['Seq_id']))):\n",
    "    seq_id_char_lncrna_gene.append(df3['Seq_id'][i][0:2])"
   ]
  },
  {
   "cell_type": "code",
   "execution_count": 47,
   "metadata": {},
   "outputs": [],
   "source": [
    "unique_seq_id_char_lncrna_gene = set(seq_id_char_lncrna_gene)"
   ]
  },
  {
   "cell_type": "code",
   "execution_count": 48,
   "metadata": {},
   "outputs": [
    {
     "data": {
      "text/plain": [
       "{'NC', 'NT', 'NW'}"
      ]
     },
     "execution_count": 48,
     "metadata": {},
     "output_type": "execute_result"
    }
   ],
   "source": [
    "unique_seq_id_char_lncrna_gene"
   ]
  },
  {
   "cell_type": "code",
   "execution_count": 49,
   "metadata": {},
   "outputs": [
    {
     "data": {
      "text/plain": [
       "15967"
      ]
     },
     "execution_count": 49,
     "metadata": {},
     "output_type": "execute_result"
    }
   ],
   "source": [
    "len(seq_id_char_lncrna_gene)"
   ]
  },
  {
   "cell_type": "code",
   "execution_count": 50,
   "metadata": {},
   "outputs": [
    {
     "name": "stderr",
     "output_type": "stream",
     "text": [
      "100%|██████████| 15967/15967 [00:00<00:00, 1145009.35it/s]"
     ]
    },
    {
     "name": "stdout",
     "output_type": "stream",
     "text": [
      "Percentage of NC in refseq_lncrna_gene = 91.70163462140664\n",
      "Percentage of NW in refseq_lncrna_gene = 2.5239556585457503\n",
      "Percentage of NT in refseq_lncrna_gene = 5.774409720047599\n"
     ]
    },
    {
     "name": "stderr",
     "output_type": "stream",
     "text": [
      "\n"
     ]
    }
   ],
   "source": [
    "nc = 0\n",
    "nt = 0\n",
    "nw = 0\n",
    "for i in tqdm(range(len(seq_id_char_lncrna_gene))):\n",
    "    if seq_id_char_lncrna_gene[i] == 'NC':\n",
    "        nc = nc + 1\n",
    "    elif seq_id_char_lncrna_gene[i] == 'NW':\n",
    "        nw = nw + 1\n",
    "    elif seq_id_char_lncrna_gene[i] == 'NT':\n",
    "        nt = nt + 1\n",
    "print('Percentage of NC in refseq_lncrna_gene = {}'.format(float(nc/len(seq_id_char_lncrna_gene))*100))\n",
    "print('Percentage of NW in refseq_lncrna_gene = {}'.format(float(nw/len(seq_id_char_lncrna_gene))*100))\n",
    "print('Percentage of NT in refseq_lncrna_gene = {}'.format(float(nt/len(seq_id_char_lncrna_gene))*100))"
   ]
  },
  {
   "cell_type": "code",
   "execution_count": null,
   "metadata": {},
   "outputs": [],
   "source": []
  }
 ],
 "metadata": {
  "kernelspec": {
   "display_name": "Python [conda env:gsoc_ensembl]",
   "language": "python",
   "name": "conda-env-gsoc_ensembl-py"
  },
  "language_info": {
   "codemirror_mode": {
    "name": "ipython",
    "version": 3
   },
   "file_extension": ".py",
   "mimetype": "text/x-python",
   "name": "python",
   "nbconvert_exporter": "python",
   "pygments_lexer": "ipython3",
   "version": "3.6.5"
  }
 },
 "nbformat": 4,
 "nbformat_minor": 2
}
