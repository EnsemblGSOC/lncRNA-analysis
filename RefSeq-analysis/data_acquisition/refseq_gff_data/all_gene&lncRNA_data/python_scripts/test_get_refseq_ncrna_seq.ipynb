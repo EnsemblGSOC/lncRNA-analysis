{
 "cells": [
  {
   "cell_type": "code",
   "execution_count": 121,
   "metadata": {},
   "outputs": [],
   "source": [
    "f11 = '/refseq_sequence/fasta/GRCh38.p11/GCF_000001405.37_GRCh38.p11_rna.fna'    "
   ]
  },
  {
   "cell_type": "code",
   "execution_count": 27,
   "metadata": {},
   "outputs": [],
   "source": [
    "from tqdm import tqdm\n",
    "import csv \n",
    "import pandas as pd\n",
    "import numpy as np"
   ]
  },
  {
   "cell_type": "code",
   "execution_count": 216,
   "metadata": {},
   "outputs": [],
   "source": [
    "%%time\n",
    "# File path to your FASTA file\n",
    "path_to_file = '/fasta/GCF_000001405.38_GRCh38.p12_genomic.fna'   # <--- substitute by your local path\n",
    "\n",
    "# Open file with \"with\" statement to avoid problems with access \n",
    "# to original file (in case computer hangs\n",
    "# or there will be any other problem)\n",
    "identifier = []\n",
    "sequence = []\n",
    "with open(path_to_file, mode='r') as handle:\n",
    "\n",
    "    # Use Biopython's parse function to process individual\n",
    "    # FASTA records (thus reducing memory footprint)\n",
    "    for record in tqdm(SeqIO.parse(handle, 'fasta')):\n",
    "\n",
    "        # Extract individual parts of the FASTA record\n",
    "        identifier.append(record.id)\n",
    "        sequence.append(record.seq)\n",
    "#         description = record.description\n",
    "#         sequence = record.seq"
   ]
  },
  {
   "cell_type": "code",
   "execution_count": 154,
   "metadata": {},
   "outputs": [],
   "source": [
    "# for i in range(len(identifier)):\n",
    "#     if identifier[i][0:2] == 'NC':\n",
    "#         print(True)"
   ]
  },
  {
   "cell_type": "code",
   "execution_count": 217,
   "metadata": {},
   "outputs": [],
   "source": [
    "identifier"
   ]
  },
  {
   "cell_type": "code",
   "execution_count": 158,
   "metadata": {},
   "outputs": [],
   "source": [
    "prefix_genomic = []\n",
    "for i in range(len(identifier)):\n",
    "    prefix_genomic.append(identifier[i][0:2])"
   ]
  },
  {
   "cell_type": "code",
   "execution_count": 218,
   "metadata": {},
   "outputs": [],
   "source": [
    "len(prefix_genomic)"
   ]
  },
  {
   "cell_type": "code",
   "execution_count": 163,
   "metadata": {},
   "outputs": [],
   "source": [
    "def f3(seq):\n",
    "   # Not order preserving\n",
    "    keys = {}\n",
    "    for e in seq:\n",
    "        keys[e] = 1\n",
    "    return keys.keys()"
   ]
  },
  {
   "cell_type": "code",
   "execution_count": 167,
   "metadata": {},
   "outputs": [],
   "source": [
    "a = f3(ncrna_ids)"
   ]
  },
  {
   "cell_type": "code",
   "execution_count": 219,
   "metadata": {},
   "outputs": [],
   "source": [
    "len(a)"
   ]
  },
  {
   "cell_type": "code",
   "execution_count": 220,
   "metadata": {},
   "outputs": [],
   "source": [
    "sequence[0][1000:3000]"
   ]
  },
  {
   "cell_type": "code",
   "execution_count": 221,
   "metadata": {},
   "outputs": [],
   "source": [
    "%%time\n",
    "from Bio import SeqIO\n",
    "records11 = list(SeqIO.parse(f11, \"fasta\"))"
   ]
  },
  {
   "cell_type": "code",
   "execution_count": 222,
   "metadata": {},
   "outputs": [],
   "source": [
    "c11 = 0\n",
    "index11 = []\n",
    "nc_record11 = []\n",
    "s11 = set(ncrna_ids)\n",
    "for i in tqdm(range(len(records11))):\n",
    "       if records11[i].id in s11:\n",
    "            c11 = c11+1\n",
    "            index11.append(i)\n",
    "            nc_record11.append(records11[i].id)"
   ]
  },
  {
   "cell_type": "code",
   "execution_count": 223,
   "metadata": {},
   "outputs": [],
   "source": [
    "len(nc_record11)"
   ]
  },
  {
   "cell_type": "code",
   "execution_count": 224,
   "metadata": {},
   "outputs": [],
   "source": [
    "f12 = '/fasta/GRCh38_p12/GCF_000001405.38_GRCh38.p12_rna.fna'    "
   ]
  },
  {
   "cell_type": "code",
   "execution_count": 225,
   "metadata": {},
   "outputs": [],
   "source": [
    "%%time\n",
    "from Bio import SeqIO\n",
    "records12 = list(SeqIO.parse(f12, \"fasta\"))"
   ]
  },
  {
   "cell_type": "code",
   "execution_count": 226,
   "metadata": {},
   "outputs": [],
   "source": [
    "c12 = 0\n",
    "index12 = []\n",
    "s12 = set(ncrna_ids)\n",
    "nc_record12 = []\n",
    "for i in tqdm(range(len(records12))):\n",
    "       if records12[i].id in s12:\n",
    "            c12 = c12+1\n",
    "            index12.append(i)\n",
    "            nc_record12.append(records12[i].id)            "
   ]
  },
  {
   "cell_type": "code",
   "execution_count": 227,
   "metadata": {},
   "outputs": [],
   "source": [
    "print(len(nc_record12))"
   ]
  },
  {
   "cell_type": "code",
   "execution_count": 228,
   "metadata": {},
   "outputs": [],
   "source": [
    "%%time\n",
    "f13 = '/fasta/GRCh38.p13/GCF_000001405.39_GRCh38.p13_rna.fna'    \n",
    "\n",
    "\n",
    "from Bio import SeqIO\n",
    "records13 = list(SeqIO.parse(f13, \"fasta\"))"
   ]
  },
  {
   "cell_type": "code",
   "execution_count": 229,
   "metadata": {},
   "outputs": [],
   "source": [
    "c13 = 0\n",
    "index13 = []\n",
    "s13 = set(ncrna_ids)\n",
    "nc_record13 = []\n",
    "for i in tqdm(range(len(records13))):\n",
    "       if records13[i].id in s13:\n",
    "            c13 = c13+1\n",
    "            index13.append(i)\n",
    "            nc_record13.append(records13[i].id)"
   ]
  },
  {
   "cell_type": "code",
   "execution_count": 230,
   "metadata": {},
   "outputs": [],
   "source": [
    "print(c13)"
   ]
  },
  {
   "cell_type": "code",
   "execution_count": 146,
   "metadata": {},
   "outputs": [],
   "source": [
    "c = list(set(nc_record13).intersection(set(nc_record12)))"
   ]
  },
  {
   "cell_type": "code",
   "execution_count": 231,
   "metadata": {},
   "outputs": [],
   "source": [
    "print(len(c))"
   ]
  },
  {
   "cell_type": "code",
   "execution_count": 232,
   "metadata": {},
   "outputs": [],
   "source": [
    "test = set(nc_record12)\n",
    "test_index = 0\n",
    "for i in tqdm(range(len(nc_record11))):\n",
    "    if nc_record11[i] in test:\n",
    "        test_index = test_index + 1\n"
   ]
  },
  {
   "cell_type": "code",
   "execution_count": 233,
   "metadata": {},
   "outputs": [],
   "source": [
    "print(test_index)"
   ]
  },
  {
   "cell_type": "code",
   "execution_count": 234,
   "metadata": {},
   "outputs": [],
   "source": [
    "print(len(c))"
   ]
  },
  {
   "cell_type": "code",
   "execution_count": 235,
   "metadata": {},
   "outputs": [],
   "source": [
    "print(len(test))"
   ]
  },
  {
   "cell_type": "code",
   "execution_count": 3,
   "metadata": {},
   "outputs": [],
   "source": [
    "f = '/fasta/GRCh38_p12/GCF_000001405.38_GRCh38.p12_rna.fna'  "
   ]
  },
  {
   "cell_type": "code",
   "execution_count": 4,
   "metadata": {},
   "outputs": [
    {
     "name": "stdout",
     "output_type": "stream",
     "text": [
      "CPU times: user 9.51 s, sys: 1.37 s, total: 10.9 s\n",
      "Wall time: 12.4 s\n"
     ]
    }
   ],
   "source": [
    "%%time\n",
    "from Bio import SeqIO\n",
    "records = list(SeqIO.parse(f, \"fasta\"))"
   ]
  },
  {
   "cell_type": "code",
   "execution_count": 30,
   "metadata": {},
   "outputs": [
    {
     "name": "stderr",
     "output_type": "stream",
     "text": [
      "100%|██████████| 159998/159998 [00:00<00:00, 1213548.62it/s]\n"
     ]
    }
   ],
   "source": [
    "from tqdm import tqdm\n",
    "for i in tqdm(range(len(records))):\n",
    "    if records[i].id == 'MIR6859-1-2':\n",
    "        break"
   ]
  },
  {
   "cell_type": "code",
   "execution_count": 20,
   "metadata": {},
   "outputs": [
    {
     "data": {
      "text/plain": [
       "'NM_001005221.2'"
      ]
     },
     "execution_count": 20,
     "metadata": {},
     "output_type": "execute_result"
    }
   ],
   "source": [
    "records[i].id"
   ]
  },
  {
   "cell_type": "code",
   "execution_count": 21,
   "metadata": {},
   "outputs": [
    {
     "data": {
      "text/plain": [
       "939"
      ]
     },
     "execution_count": 21,
     "metadata": {},
     "output_type": "execute_result"
    }
   ],
   "source": [
    "len(str(records[i].seq))"
   ]
  },
  {
   "cell_type": "code",
   "execution_count": 5,
   "metadata": {},
   "outputs": [
    {
     "data": {
      "text/plain": [
       "159998"
      ]
     },
     "execution_count": 5,
     "metadata": {},
     "output_type": "execute_result"
    }
   ],
   "source": [
    "len(records)"
   ]
  },
  {
   "cell_type": "code",
   "execution_count": 6,
   "metadata": {},
   "outputs": [
    {
     "data": {
      "text/plain": [
       "'XR_953290.3'"
      ]
     },
     "execution_count": 6,
     "metadata": {},
     "output_type": "execute_result"
    }
   ],
   "source": [
    "records[-10].id"
   ]
  },
  {
   "cell_type": "code",
   "execution_count": 37,
   "metadata": {},
   "outputs": [],
   "source": [
    "path = '/all_type=lncRNA_data/all_lncrna_exon_data_corrected.csv'"
   ]
  },
  {
   "cell_type": "code",
   "execution_count": 38,
   "metadata": {},
   "outputs": [],
   "source": [
    "import pandas as pd\n",
    "df = pd.read_csv(path, index_col=0)"
   ]
  },
  {
   "cell_type": "code",
   "execution_count": 39,
   "metadata": {},
   "outputs": [],
   "source": [
    "exon_id = df['RefSeq Exon ID'].tolist()"
   ]
  },
  {
   "cell_type": "code",
   "execution_count": 40,
   "metadata": {},
   "outputs": [
    {
     "name": "stderr",
     "output_type": "stream",
     "text": [
      "100%|██████████| 104766/104766 [00:00<00:00, 638186.98it/s]\n"
     ]
    }
   ],
   "source": [
    "unique_exon_ids = []\n",
    "for i in tqdm(range(len(exon_id))):\n",
    "    if exon_id[i][0:4] == 'exon':\n",
    "        unique_exon_ids.append(exon_id[i][0:7])"
   ]
  },
  {
   "cell_type": "code",
   "execution_count": 41,
   "metadata": {},
   "outputs": [
    {
     "data": {
      "text/plain": [
       "104766"
      ]
     },
     "execution_count": 41,
     "metadata": {},
     "output_type": "execute_result"
    }
   ],
   "source": [
    "len(unique_exon_ids)"
   ]
  },
  {
   "cell_type": "code",
   "execution_count": 35,
   "metadata": {},
   "outputs": [],
   "source": [
    "mylist = list(set(unique_exon_ids))"
   ]
  },
  {
   "cell_type": "code",
   "execution_count": 36,
   "metadata": {},
   "outputs": [
    {
     "data": {
      "text/plain": [
       "['exon-XR', 'exon-NR', 'exon-id']"
      ]
     },
     "execution_count": 36,
     "metadata": {},
     "output_type": "execute_result"
    }
   ],
   "source": [
    "mylist"
   ]
  },
  {
   "cell_type": "code",
   "execution_count": 239,
   "metadata": {},
   "outputs": [],
   "source": [
    "df = pd.read_csv(path)\n",
    "transcript_ids = df['RefSeq Transcript ID'].tolist()\n",
    "trans_len = df['Transcript Length'].tolist()\n",
    "parent = df['Parent'].tolist()\n",
    "print(len(transcript_ids))\n",
    "print(len(trans_len))"
   ]
  },
  {
   "cell_type": "code",
   "execution_count": 42,
   "metadata": {},
   "outputs": [],
   "source": [
    "ncrna_ids = []\n",
    "for i in range(len(transcript_ids)):\n",
    "    ncrna_ids.append(transcript_ids[i][4:])"
   ]
  },
  {
   "cell_type": "code",
   "execution_count": 240,
   "metadata": {},
   "outputs": [],
   "source": [
    "len(ncrna_ids)"
   ]
  },
  {
   "cell_type": "code",
   "execution_count": 243,
   "metadata": {},
   "outputs": [],
   "source": [
    "c = 0\n",
    "index = []\n",
    "s = set(ncrna_ids)\n",
    "for i in tqdm(range(len(records))):\n",
    "       if records[i].id in s:\n",
    "            c = c+1\n",
    "            index.append(i)\n",
    "#     for j in range(len(records)):\n",
    "            \n",
    "#         if transcript_ids[i][4:] == records[j].id:\n",
    "#             c = c+1\n",
    "# #             sequences.append(str(records[j].seq)) \n",
    "#         else:\n",
    "#             continue"
   ]
  },
  {
   "cell_type": "code",
   "execution_count": 244,
   "metadata": {},
   "outputs": [],
   "source": [
    "print(c)\n",
    "print(len(index))"
   ]
  },
  {
   "cell_type": "code",
   "execution_count": 245,
   "metadata": {},
   "outputs": [],
   "source": [
    "transcript_ids[234][4:]"
   ]
  },
  {
   "cell_type": "code",
   "execution_count": 246,
   "metadata": {},
   "outputs": [],
   "source": [
    "records[100].id"
   ]
  },
  {
   "cell_type": "code",
   "execution_count": 247,
   "metadata": {},
   "outputs": [],
   "source": [
    "print(i)"
   ]
  },
  {
   "cell_type": "code",
   "execution_count": 248,
   "metadata": {},
   "outputs": [],
   "source": [
    "len(records)"
   ]
  },
  {
   "cell_type": "code",
   "execution_count": 67,
   "metadata": {},
   "outputs": [],
   "source": [
    "r = 0\n",
    "g = 0\n",
    "for i in range(len(parent)):\n",
    "    if parent[i][0:4] == 'rna-':\n",
    "        r = r+1\n",
    "    elif parent[i][0:5] == 'gene-':\n",
    "        g = g+1\n",
    "    "
   ]
  },
  {
   "cell_type": "code",
   "execution_count": 249,
   "metadata": {},
   "outputs": [],
   "source": [
    "print(r)\n",
    "print(g)"
   ]
  },
  {
   "cell_type": "code",
   "execution_count": 105,
   "metadata": {},
   "outputs": [],
   "source": [
    "f = '/fasta/GRCh38.p13/GCF_000001405.39_GRCh38.p13_rna_from_genomic.fna'  "
   ]
  },
  {
   "cell_type": "code",
   "execution_count": 250,
   "metadata": {},
   "outputs": [],
   "source": [
    "%%time\n",
    "from Bio import SeqIO\n",
    "records = list(SeqIO.parse(f, \"fasta\"))"
   ]
  },
  {
   "cell_type": "code",
   "execution_count": 251,
   "metadata": {},
   "outputs": [],
   "source": [
    "c = 0\n",
    "index = []\n",
    "s = set(ncrna_ids)\n",
    "for i in tqdm(range(len(records))):\n",
    "       if records[i].id in s:\n",
    "            c = c+1\n",
    "            index.append(i)"
   ]
  },
  {
   "cell_type": "code",
   "execution_count": 252,
   "metadata": {},
   "outputs": [],
   "source": [
    "print(c)"
   ]
  },
  {
   "cell_type": "code",
   "execution_count": 253,
   "metadata": {},
   "outputs": [],
   "source": [
    "len(records)"
   ]
  },
  {
   "cell_type": "code",
   "execution_count": 254,
   "metadata": {},
   "outputs": [],
   "source": [
    "records[-46].id"
   ]
  },
  {
   "cell_type": "code",
   "execution_count": 255,
   "metadata": {},
   "outputs": [],
   "source": [
    "%%time\n",
    "f = '/fasta/06:17:19_version/GCF_000001405.39_GRCh38.p13_rna.fna'  \n",
    "\n",
    "from Bio import SeqIO\n",
    "records = list(SeqIO.parse(f, \"fasta\"))"
   ]
  },
  {
   "cell_type": "code",
   "execution_count": 256,
   "metadata": {},
   "outputs": [],
   "source": [
    "s"
   ]
  },
  {
   "cell_type": "code",
   "execution_count": 257,
   "metadata": {},
   "outputs": [],
   "source": [
    "c = 0\n",
    "index = []\n",
    "nc_record = []\n",
    "s = set(ncrna_ids)\n",
    "for i in tqdm(range(len(records))):\n",
    "       if records[i].id in s:\n",
    "            c = c+1\n",
    "            index.append(i)\n",
    "            nc_record.append(records[i].id)"
   ]
  },
  {
   "cell_type": "code",
   "execution_count": 258,
   "metadata": {},
   "outputs": [],
   "source": [
    "print(c)\n",
    "print(len(index))"
   ]
  },
  {
   "cell_type": "code",
   "execution_count": 259,
   "metadata": {},
   "outputs": [],
   "source": [
    "nc_record[0]"
   ]
  },
  {
   "cell_type": "code",
   "execution_count": 97,
   "metadata": {},
   "outputs": [],
   "source": [
    "for i in range(len(records)):\n",
    "    if records[i].id == 'NR_000005.1':\n",
    "        break"
   ]
  },
  {
   "cell_type": "code",
   "execution_count": 260,
   "metadata": {},
   "outputs": [],
   "source": [
    "print(i)"
   ]
  },
  {
   "cell_type": "code",
   "execution_count": 261,
   "metadata": {},
   "outputs": [],
   "source": [
    "len(str(records[i].seq))"
   ]
  },
  {
   "cell_type": "code",
   "execution_count": 262,
   "metadata": {},
   "outputs": [],
   "source": [
    "full_name = []\n",
    "for i in range(len(trans_len)):\n",
    "    if i not in s:\n",
    "        print(True)"
   ]
  },
  {
   "cell_type": "code",
   "execution_count": null,
   "metadata": {},
   "outputs": [],
   "source": [
    "for j in rane(len(transcript_ids)):\n",
    "    "
   ]
  },
  {
   "cell_type": "code",
   "execution_count": 170,
   "metadata": {},
   "outputs": [],
   "source": [
    "import pandas as pd\n",
    "\n",
    "df = pd.read_csv('/all_gene_data/all_transcript_data.csv', index_col=0)"
   ]
  },
  {
   "cell_type": "code",
   "execution_count": 171,
   "metadata": {},
   "outputs": [],
   "source": [
    "refseq_transcript_ids = df['RefSeq Transcript ID'].tolist()\n",
    "no_of_exons = df['No. of Exons'].tolist()"
   ]
  },
  {
   "cell_type": "code",
   "execution_count": 263,
   "metadata": {},
   "outputs": [],
   "source": [
    "df1 = pd.read_csv('/refseq_numeric/all_gene_data/all_exon_data.csv', index_col=0)"
   ]
  },
  {
   "cell_type": "code",
   "execution_count": 173,
   "metadata": {},
   "outputs": [],
   "source": [
    "refseq_transcript_ids_for_exons = df1['RefSeq Transcript ID'].tolist()\n",
    "exon_len = df1['Exon Length'].tolist()"
   ]
  },
  {
   "cell_type": "code",
   "execution_count": 264,
   "metadata": {},
   "outputs": [],
   "source": [
    "print(len(refseq_transcript_ids_for_exons))\n",
    "print(len(exon_len))"
   ]
  },
  {
   "cell_type": "code",
   "execution_count": 265,
   "metadata": {},
   "outputs": [],
   "source": [
    "print(len(refseq_transcript_ids))\n",
    "print(len(no_of_exons))"
   ]
  },
  {
   "cell_type": "code",
   "execution_count": 206,
   "metadata": {},
   "outputs": [],
   "source": [
    "trans_len = []\n",
    "from tqdm import tqdm"
   ]
  },
  {
   "cell_type": "code",
   "execution_count": 266,
   "metadata": {},
   "outputs": [],
   "source": [
    "no_of_exons[0:3]"
   ]
  },
  {
   "cell_type": "code",
   "execution_count": 267,
   "metadata": {},
   "outputs": [],
   "source": [
    "%%time\n",
    "for i in tqdm(range(len(refseq_transcript_ids))):\n",
    "#     total_exon_len = 0\n",
    "    if i == 0 :\n",
    "        total_exon_len = 0\n",
    "        for j in range(0,no_of_exons[i],1):\n",
    "            total_exon_len = total_exon_len + exon_len[j]\n",
    "        trans_len.append(total_exon_len)\n",
    "        \n",
    "    elif i == 1:\n",
    "        total_exon_len = 0\n",
    "        for j in range(no_of_exons[i-1],no_of_exons[i]+no_of_exons[i-1],1):\n",
    "            total_exon_len = total_exon_len + exon_len[j]\n",
    "        trans_len.append(total_exon_len)\n",
    "        \n",
    "    else:\n",
    "        total_exon_len = 0\n",
    "        for j in range(sum(no_of_exons[0:i]),sum(no_of_exons[0:i+1]),1):\n",
    "            total_exon_len = total_exon_len + exon_len[j]\n",
    "        trans_len.append(total_exon_len)"
   ]
  },
  {
   "cell_type": "code",
   "execution_count": 268,
   "metadata": {},
   "outputs": [],
   "source": [
    "len(trans_len)"
   ]
  },
  {
   "cell_type": "code",
   "execution_count": 269,
   "metadata": {},
   "outputs": [],
   "source": [
    "trans_len[0:19]"
   ]
  },
  {
   "cell_type": "code",
   "execution_count": 211,
   "metadata": {},
   "outputs": [],
   "source": [
    "df.drop('Transcript Length', axis=1,inplace=True)"
   ]
  },
  {
   "cell_type": "code",
   "execution_count": 270,
   "metadata": {},
   "outputs": [],
   "source": [
    "df.head(2)"
   ]
  },
  {
   "cell_type": "code",
   "execution_count": 213,
   "metadata": {},
   "outputs": [],
   "source": [
    "df['Transcript Length'] = trans_len"
   ]
  },
  {
   "cell_type": "code",
   "execution_count": 271,
   "metadata": {},
   "outputs": [],
   "source": [
    "df.head(10)"
   ]
  },
  {
   "cell_type": "code",
   "execution_count": 215,
   "metadata": {},
   "outputs": [],
   "source": [
    "df.to_csv('/all_gene_data/all_transcript_data.csv')"
   ]
  },
  {
   "cell_type": "code",
   "execution_count": 57,
   "metadata": {},
   "outputs": [],
   "source": [
    "import pandas as pd\n",
    "df = pd.read_csv('/all_type=lncRNA_data/all_lncrna_transcript_data_corrected.csv', index_col=0)\n",
    "\n",
    "total_exons = df['No. of Exons'].tolist()\n",
    "\n",
    "sum(total_exons)"
   ]
  },
  {
   "cell_type": "code",
   "execution_count": 56,
   "metadata": {},
   "outputs": [],
   "source": [
    "import pandas as pd\n",
    "df = pd.read_csv('/all_gene_data/all_exon_data.csv', index_col=0)\n"
   ]
  },
  {
   "cell_type": "code",
   "execution_count": 55,
   "metadata": {},
   "outputs": [],
   "source": [
    "for i in range(2648402,2648408,1):\n",
    "    df.iloc[[]]"
   ]
  },
  {
   "cell_type": "code",
   "execution_count": 54,
   "metadata": {},
   "outputs": [],
   "source": [
    "df['Index'][2648403]"
   ]
  },
  {
   "cell_type": "code",
   "execution_count": 46,
   "metadata": {},
   "outputs": [],
   "source": [
    "for i in range(len(df['Index'])):\n",
    "    if df['Index'][i] == 2648403:\n",
    "        break"
   ]
  },
  {
   "cell_type": "code",
   "execution_count": 53,
   "metadata": {},
   "outputs": [],
   "source": [
    "df.iloc[[i]]"
   ]
  },
  {
   "cell_type": "code",
   "execution_count": null,
   "metadata": {},
   "outputs": [],
   "source": []
  }
 ],
 "metadata": {
  "kernelspec": {
   "display_name": "Python [conda env:gsoc_ensembl]",
   "language": "python",
   "name": "conda-env-gsoc_ensembl-py"
  },
  "language_info": {
   "codemirror_mode": {
    "name": "ipython",
    "version": 3
   },
   "file_extension": ".py",
   "mimetype": "text/x-python",
   "name": "python",
   "nbconvert_exporter": "python",
   "pygments_lexer": "ipython3",
   "version": "3.6.5"
  }
 },
 "nbformat": 4,
 "nbformat_minor": 2
}
