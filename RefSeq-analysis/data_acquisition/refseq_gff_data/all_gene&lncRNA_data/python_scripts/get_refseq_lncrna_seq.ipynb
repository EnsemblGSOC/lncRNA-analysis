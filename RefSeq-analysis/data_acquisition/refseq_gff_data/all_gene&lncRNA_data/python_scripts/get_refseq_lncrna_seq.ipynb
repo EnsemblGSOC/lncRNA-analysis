{
 "cells": [
  {
   "cell_type": "markdown",
   "metadata": {},
   "source": [
    "# Approach:- \n",
    "1. Get all lncRNA transcript IDs.\n",
    "2. Use _rna fasta file. \n",
    "3. Get sequence of all those whose transcript IDs lies in fasta file. "
   ]
  },
  {
   "cell_type": "code",
   "execution_count": 1,
   "metadata": {},
   "outputs": [],
   "source": [
    "from tqdm import tqdm\n",
    "import csv \n",
    "import pandas as pd\n",
    "import numpy as np"
   ]
  },
  {
   "cell_type": "code",
   "execution_count": 2,
   "metadata": {},
   "outputs": [],
   "source": [
    "path = '/Users/pankajverma/Desktop/summerInternship2k17/GSoC/Ensembl/1.lncRNA/dataset/refseq_numeric/all_type=lncRNA_data/all_lncrna_transcript_data_corrected.csv'"
   ]
  },
  {
   "cell_type": "code",
   "execution_count": 84,
   "metadata": {},
   "outputs": [],
   "source": [
    "df = pd.read_csv(path)\n",
    "transcript_ids = df['RefSeq Transcript ID'].tolist()\n",
    "trans_len = df['Transcript Length'].tolist()\n",
    "parent = df['Parent'].tolist()\n",
    "print(len(transcript_ids))\n",
    "print(len(trans_len))"
   ]
  },
  {
   "cell_type": "code",
   "execution_count": 4,
   "metadata": {},
   "outputs": [],
   "source": [
    "ncrna_ids = []\n",
    "for i in range(len(transcript_ids)):\n",
    "    ncrna_ids.append(transcript_ids[i][4:])"
   ]
  },
  {
   "cell_type": "code",
   "execution_count": 83,
   "metadata": {},
   "outputs": [],
   "source": [
    "len(ncrna_ids)"
   ]
  },
  {
   "cell_type": "code",
   "execution_count": 213,
   "metadata": {},
   "outputs": [],
   "source": [
    "ncrna_ids[0:10]"
   ]
  },
  {
   "cell_type": "code",
   "execution_count": 82,
   "metadata": {},
   "outputs": [],
   "source": [
    "%%time\n",
    "f12 = '/Users/pankajverma/Desktop/summerInternship2k17/GSoC/Ensembl/1.lncRNA/dataset/refseq_sequence/fasta/GRCh38_p12/GCF_000001405.38_GRCh38.p12_rna.fna'    \n",
    "\n",
    "from Bio import SeqIO\n",
    "records12 = list(SeqIO.parse(f12, \"fasta\"))"
   ]
  },
  {
   "cell_type": "code",
   "execution_count": 7,
   "metadata": {},
   "outputs": [],
   "source": [
    "records12_ids = []\n",
    "records12_sequences = []"
   ]
  },
  {
   "cell_type": "code",
   "execution_count": 8,
   "metadata": {},
   "outputs": [],
   "source": [
    "for i in range(len(records12)):\n",
    "    records12_ids.append(records12[i].id)\n",
    "    records12_sequences.append(records12[i].seq)"
   ]
  },
  {
   "cell_type": "code",
   "execution_count": 81,
   "metadata": {},
   "outputs": [],
   "source": [
    "len(records12_ids)\n",
    "len(records12)\n",
    "len(records12_sequences)"
   ]
  },
  {
   "cell_type": "code",
   "execution_count": 40,
   "metadata": {},
   "outputs": [],
   "source": [
    "# str(records12_sequences[10000])"
   ]
  },
  {
   "cell_type": "code",
   "execution_count": 10,
   "metadata": {},
   "outputs": [],
   "source": [
    "ncrna_sequences = []\n",
    "for i in range(len(ncrna_ids)):\n",
    "    ncrna_sequences.append('NA')"
   ]
  },
  {
   "cell_type": "code",
   "execution_count": 80,
   "metadata": {},
   "outputs": [],
   "source": [
    "print(len(ncrna_sequences))"
   ]
  },
  {
   "cell_type": "markdown",
   "metadata": {},
   "source": [
    "## Below - Extracting IDs and their sequences, from fasta file, in a list (for simplicity)"
   ]
  },
  {
   "cell_type": "code",
   "execution_count": 79,
   "metadata": {},
   "outputs": [],
   "source": [
    "lncrna_records12_index = []\n",
    "s = set(ncrna_ids)\n",
    "# records12_lncrna_ids = []\n",
    "c = 0\n",
    "for i in tqdm(range(len(records12_ids))):\n",
    "    if records12_ids[i] in s:\n",
    "        lncrna_records12_index.append(i)\n",
    "        c = c + 1\n",
    "#         records12_lncrna_ids.append"
   ]
  },
  {
   "cell_type": "code",
   "execution_count": 78,
   "metadata": {},
   "outputs": [],
   "source": [
    "c\n",
    "len(lncrna_records12_index)"
   ]
  },
  {
   "cell_type": "code",
   "execution_count": 14,
   "metadata": {},
   "outputs": [],
   "source": [
    "index_ncrna_records12 = []\n",
    "index_ncrna_ids = []"
   ]
  },
  {
   "cell_type": "code",
   "execution_count": 15,
   "metadata": {},
   "outputs": [],
   "source": [
    "from tqdm import tqdm\n",
    "\n",
    "def get_lncrna_seq():\n",
    "    \n",
    "    for i in tqdm(lncrna_records12_index):\n",
    "    \n",
    "#     for i in tqdm(range(len(records12_ids))):\n",
    "        \n",
    "        for j in range(len(ncrna_ids)):\n",
    "            \n",
    "            if records12_ids[i] == ncrna_ids[j]:\n",
    "                ncrna_sequences[j] = str(records12_sequences[i])\n",
    "                index_ncrna_ids.append(j)\n",
    "                index_ncrna_records12.append(i)\n",
    "#                 ncrna_sequences.append(str(records12_sequences[i])) \n",
    "            else:\n",
    "                continue"
   ]
  },
  {
   "cell_type": "code",
   "execution_count": 77,
   "metadata": {},
   "outputs": [],
   "source": [
    "%%time\n",
    "get_lncrna_seq()"
   ]
  },
  {
   "cell_type": "code",
   "execution_count": 76,
   "metadata": {},
   "outputs": [],
   "source": [
    "(len(ncrna_sequences))"
   ]
  },
  {
   "cell_type": "code",
   "execution_count": 160,
   "metadata": {},
   "outputs": [],
   "source": [
    "# ncrna_sequences[0:5]"
   ]
  },
  {
   "cell_type": "code",
   "execution_count": 18,
   "metadata": {},
   "outputs": [],
   "source": [
    "c = 0\n",
    "for i in range(len(ncrna_sequences)):\n",
    "    if ncrna_sequences[i] != 'NA':\n",
    "        c = c + 1"
   ]
  },
  {
   "cell_type": "code",
   "execution_count": 75,
   "metadata": {},
   "outputs": [],
   "source": [
    "print(c)"
   ]
  },
  {
   "cell_type": "code",
   "execution_count": 74,
   "metadata": {},
   "outputs": [],
   "source": [
    "print(len(index_ncrna_ids))"
   ]
  },
  {
   "cell_type": "code",
   "execution_count": 21,
   "metadata": {},
   "outputs": [],
   "source": [
    "seq_len = []\n",
    "for i in range(len(ncrna_sequences)):\n",
    "    if ncrna_sequences[i] != 'NA':\n",
    "        seq_len.append(len(ncrna_sequences[i]))\n",
    "    else:\n",
    "        seq_len.append('NA')"
   ]
  },
  {
   "cell_type": "code",
   "execution_count": 22,
   "metadata": {},
   "outputs": [],
   "source": [
    "s = set(trans_len)\n",
    "c = 0\n",
    "for i in range(len(seq_len)):\n",
    "    if seq_len[i] == 'NA':\n",
    "        continue\n",
    "    elif seq_len[i] == trans_len[i]:\n",
    "        c = c + 1"
   ]
  },
  {
   "cell_type": "code",
   "execution_count": 73,
   "metadata": {},
   "outputs": [],
   "source": [
    "print(c) #sequence length which match with trans_len"
   ]
  },
  {
   "cell_type": "code",
   "execution_count": 72,
   "metadata": {},
   "outputs": [],
   "source": [
    "len(len_match)"
   ]
  },
  {
   "cell_type": "code",
   "execution_count": 71,
   "metadata": {},
   "outputs": [],
   "source": [
    "%%time\n",
    "len_match = []\n",
    "c = 0\n",
    "na = 0\n",
    "difference = []\n",
    "for i in tqdm(range(len(seq_len))):\n",
    "    \n",
    "    if seq_len[i] == 'NA':\n",
    "        len_match.append('NA')\n",
    "        na = na + 1\n",
    "        difference.append('NA')\n",
    "        \n",
    "    elif seq_len[i] == trans_len[i]:\n",
    "        len_match.append('YES')\n",
    "        difference.append(abs(trans_len[i]-seq_len[i]))\n",
    "        \n",
    "    elif seq_len[i] != trans_len[i]:\n",
    "        len_match.append('NO')\n",
    "        difference.append(abs(trans_len[i]-seq_len[i]))\n",
    "        c = c + 1"
   ]
  },
  {
   "cell_type": "code",
   "execution_count": 70,
   "metadata": {},
   "outputs": [],
   "source": [
    "print(len(difference))"
   ]
  },
  {
   "cell_type": "code",
   "execution_count": 28,
   "metadata": {},
   "outputs": [],
   "source": [
    "import pandas as pd\n",
    "\n",
    "df = pd.read_csv('/Users/pankajverma/Desktop/summerInternship2k17/GSoC/Ensembl/1.lncRNA/dataset/refseq_numeric/all_type=lncRNA_data/all_lncrna_transcript_data_corrected.csv', index_col=0)\n",
    "\n",
    "df['Length of Sequences'] = seq_len\n",
    "df['| Seq_len - Trans_len |'] = difference\n",
    "df['Match ?'] = len_match\n",
    "df['Sequences'] = ncrna_sequences"
   ]
  },
  {
   "cell_type": "code",
   "execution_count": 69,
   "metadata": {},
   "outputs": [],
   "source": [
    "df.head(5)"
   ]
  },
  {
   "cell_type": "code",
   "execution_count": 30,
   "metadata": {},
   "outputs": [],
   "source": [
    "df.to_csv('/Users/pankajverma/Desktop/summerInternship2k17/GSoC/Ensembl/1.lncRNA/dataset/refseq_numeric/all_type=lncRNA_data/all_lncrna_transcript_data_with_sequences_corrected.csv')"
   ]
  },
  {
   "cell_type": "code",
   "execution_count": 42,
   "metadata": {},
   "outputs": [],
   "source": [
    "c = 0\n",
    "no_index = []\n",
    "for i in range(len(len_match)):\n",
    "    if len_match[i] == 'NO':\n",
    "        c = c + 1\n",
    "        no_index.append(i)"
   ]
  },
  {
   "cell_type": "code",
   "execution_count": 68,
   "metadata": {},
   "outputs": [],
   "source": [
    "c"
   ]
  },
  {
   "cell_type": "code",
   "execution_count": 44,
   "metadata": {},
   "outputs": [],
   "source": [
    "no_difference = []\n",
    "for i in (no_index):\n",
    "    no_difference.append(difference[i])"
   ]
  },
  {
   "cell_type": "code",
   "execution_count": 67,
   "metadata": {},
   "outputs": [],
   "source": [
    "len(no_difference)"
   ]
  },
  {
   "cell_type": "code",
   "execution_count": 66,
   "metadata": {},
   "outputs": [],
   "source": [
    "max(no_difference)"
   ]
  },
  {
   "cell_type": "code",
   "execution_count": 51,
   "metadata": {},
   "outputs": [],
   "source": [
    "max_difference_index = []\n",
    "for i in no_index:\n",
    "    if difference[i] == 159:\n",
    "        max_difference_index.append(i)\n",
    "        break"
   ]
  },
  {
   "cell_type": "code",
   "execution_count": 65,
   "metadata": {},
   "outputs": [],
   "source": [
    "max_difference_index\n"
   ]
  },
  {
   "cell_type": "code",
   "execution_count": 64,
   "metadata": {},
   "outputs": [],
   "source": [
    "difference[19823]"
   ]
  },
  {
   "cell_type": "code",
   "execution_count": 63,
   "metadata": {},
   "outputs": [],
   "source": [
    "df['RefSeq Transcript ID'][19823]"
   ]
  },
  {
   "cell_type": "code",
   "execution_count": 62,
   "metadata": {},
   "outputs": [],
   "source": [
    "df['Index'][19823]"
   ]
  },
  {
   "cell_type": "code",
   "execution_count": 61,
   "metadata": {},
   "outputs": [],
   "source": [
    "df.iloc[[19823]]"
   ]
  },
  {
   "cell_type": "code",
   "execution_count": 40,
   "metadata": {},
   "outputs": [],
   "source": [
    "c = 0\n",
    "na = 0\n",
    "for i in range(len(len_match)):\n",
    "    if difference[i] == 0:\n",
    "        c = c + 1\n",
    "    elif difference[i] == 'NA':\n",
    "        na = na + 1"
   ]
  }
 ],
 "metadata": {
  "kernelspec": {
   "display_name": "Python [conda env:gsoc_ensembl]",
   "language": "python",
   "name": "conda-env-gsoc_ensembl-py"
  },
  "language_info": {
   "codemirror_mode": {
    "name": "ipython",
    "version": 3
   },
   "file_extension": ".py",
   "mimetype": "text/x-python",
   "name": "python",
   "nbconvert_exporter": "python",
   "pygments_lexer": "ipython3",
   "version": "3.6.5"
  }
 },
 "nbformat": 4,
 "nbformat_minor": 2
}
